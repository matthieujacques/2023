{
 "cells": [
  {
   "cell_type": "code",
   "execution_count": 2,
   "metadata": {
    "collapsed": true
   },
   "outputs": [],
   "source": [
    "import numpy as np\n",
    "import pandas as pd\n",
    "import matplotlib.pyplot as plt\n",
    "from helpers.helper_functions import *"
   ]
  },
  {
   "cell_type": "markdown",
   "metadata": {},
   "source": [
    "# The Significant Bang Theory\n",
    "\n",
    "Attention, ADA students!\n",
    "\n",
    "The Sheldon Cooper we all know and love (OK, some of us might not know him, and some might not love him) from the TV series \"The Big Bang Theory\" has gotten into an argument with Leonard from the same TV show. Sheldon insists that he knows the show better than anyone, and keeps making various claims about the show, which neither of them know how to prove or disprove. The two of them have reached out to you ladies and gentlemen, as data scientists, to help them. You will be given the full script of the series, with information on the episode, the scene, the person saying each dialogue line, and the dialogue lines themselves.\n",
    "\n",
    "Leonard has challenged several of Sheldon's claims about the show, and throughout this exam you will see some of those and you will get to prove or disprove them, but remember: sometimes, we can neither prove a claim, nor disprove it!\n",
    "\n",
    "## Deadline\n",
    "Wednesday, January 30th, 2019; 11:15 A.M. (Swiss time)\n",
    "\n",
    "_For the deadline for extramural exams, see the submission subsection._\n",
    "\n",
    "## Important notes\n",
    "* Don't forget to add a textual description of your thought process, the assumptions you made, and your results!\n",
    "* Please write all your comments in English, and use meaningful variable names in your code.\n",
    "* As we have seen during the semester, data science is all about multiple iterations on the same dataset. Do not obsess over small details in the beginning, and try to complete as many tasks as possible during the first 2 hours. Then, go back to the obtained results, write meaningful comments, and debug your code if you have found any glaring mistake.\n",
    "* Fully read the instructions for each question before starting to solve it to avoid misunderstandings, and remember to save your notebook often!\n",
    "* The exam contains **15 questions organised into 4 tasks**, and is designed for more than 3 hours. **You do not need to solve everything in order to get a 6**, and you have some freedom is choosing the tasks you wish to solve.\n",
    "* You cannot leave the room in the first and last 15 minutes.\n",
    "* You can use all the online resources you want except for communication tools (emails, web chats, forums, phone, etc.). We will be monitoring the network for unusual activity.\n",
    "* Remember, this is not a homework assignment -- no teamwork allowed!\n",
    "\n",
    "## Submission\n",
    "* Your file has to be named as \"NameSurname_SCIPER.ipynb\".\n",
    "* Make sure you upload your Jupyter Notebook (1 file) to [this](https://goo.gl/forms/7GLvYl94uSOn54jH2) Google form at the end of the exam, with all the cells already evaluated (except for the Spark-related question, Q7). You need to sign in to Google using your EPFL credentials in order to submit the form.\n",
    "* In case of problems with the form, send your Jupyter Notebook (along with your name and SCIPER number) as a direct message to @ramtin on Mattermost. This is reserved only for those who encounter problems with the submission -- you need to have a reasonable justification for using this back-up.\n",
    "* You will have until 11:20 (strict deadline) to turn in your submission. **Late submissions will not be accepted.** This deadline is for the students taking the exam at EPFL -- students taking the exam extramurally will have their submission deadline as the starting time of the exam plus 3 hours and 5 minutes."
   ]
  },
  {
   "cell_type": "markdown",
   "metadata": {
    "collapsed": true
   },
   "source": [
    "## Task A: Picking up the shovel (10 points)\n",
    "\n",
    "**Note: You will use the data you preprocess in this task in all the subsequent ones.**\n",
    "\n",
    "Our friends' argument concerns the entire show. We have given you a file in the `data/` folder that contains the script of every single episode. New episodes are indicated by '>>', new scenes by '>', and the rest of the lines are dialogue lines. Some lines are said by multiple people (for example, lines indicated by 'All' or 'Together'); **you must discard these lines**, for the sake of simplicity. However, you do not need to do it for Q1 in this task -- you'll take care of it when you solve Q2.\n",
    "\n",
    "**Q1**. (5 points) Your first task is to extract all lines of dialogue in each scene and episode, creating a dataframe where each row has the episode and scene where a dialogue line was said, the character who said it, and the line itself. You do not need to extract the proper name of the episode (e.g. episode 1 can appear as \"Series 01 Episode 01 - Pilot Episode\", and doesn't need to appear as \"Pilot Episode\"). Then, answer the following question: In total, how many scenes are there in each season? We're not asking about unique scenes; the same location appearing in two episodes counts as two scenes. You can use a Pandas dataframe with a season column and a scene count column as the response.\n",
    "\n",
    "**Note: The data refers to seasons as \"series\".**"
   ]
  },
  {
   "cell_type": "code",
   "execution_count": 4,
   "metadata": {
    "collapsed": true
   },
   "outputs": [],
   "source": [
    "season = \"\"\n",
    "episode = \"\"\n",
    "scene = \"\"\n",
    "data = []\n",
    "with open(\"data/all_scripts.txt\") as f:\n",
    "    for line in f.readlines():\n",
    "        line = line[:-1]\n",
    "        if line.startswith(\">> \"):\n",
    "            season = int(line[10:12])\n",
    "            episode = line[3:]\n",
    "            continue\n",
    "        if line.startswith(\"> \"):\n",
    "            scene = line[2:]\n",
    "            continue\n",
    "        character, line = line.split(\": \", 1)\n",
    "        data.append([season, episode, scene, character, line])\n",
    "lines = pd.DataFrame(data, columns=[\"Season\", \"Episode\", \"Scene\", \"Character\", \"Line\"])\n"
   ]
  },
  {
   "cell_type": "code",
   "execution_count": 5,
   "metadata": {},
   "outputs": [
    {
     "data": {
      "text/html": [
       "<div>\n",
       "<style scoped>\n",
       "    .dataframe tbody tr th:only-of-type {\n",
       "        vertical-align: middle;\n",
       "    }\n",
       "\n",
       "    .dataframe tbody tr th {\n",
       "        vertical-align: top;\n",
       "    }\n",
       "\n",
       "    .dataframe thead th {\n",
       "        text-align: right;\n",
       "    }\n",
       "</style>\n",
       "<table border=\"1\" class=\"dataframe\">\n",
       "  <thead>\n",
       "    <tr style=\"text-align: right;\">\n",
       "      <th></th>\n",
       "      <th>Scene</th>\n",
       "    </tr>\n",
       "    <tr>\n",
       "      <th>Season</th>\n",
       "      <th></th>\n",
       "    </tr>\n",
       "  </thead>\n",
       "  <tbody>\n",
       "    <tr>\n",
       "      <th>1</th>\n",
       "      <td>157</td>\n",
       "    </tr>\n",
       "    <tr>\n",
       "      <th>2</th>\n",
       "      <td>205</td>\n",
       "    </tr>\n",
       "    <tr>\n",
       "      <th>3</th>\n",
       "      <td>193</td>\n",
       "    </tr>\n",
       "    <tr>\n",
       "      <th>4</th>\n",
       "      <td>219</td>\n",
       "    </tr>\n",
       "    <tr>\n",
       "      <th>5</th>\n",
       "      <td>198</td>\n",
       "    </tr>\n",
       "    <tr>\n",
       "      <th>6</th>\n",
       "      <td>211</td>\n",
       "    </tr>\n",
       "    <tr>\n",
       "      <th>7</th>\n",
       "      <td>207</td>\n",
       "    </tr>\n",
       "    <tr>\n",
       "      <th>8</th>\n",
       "      <td>191</td>\n",
       "    </tr>\n",
       "    <tr>\n",
       "      <th>9</th>\n",
       "      <td>177</td>\n",
       "    </tr>\n",
       "    <tr>\n",
       "      <th>10</th>\n",
       "      <td>189</td>\n",
       "    </tr>\n",
       "  </tbody>\n",
       "</table>\n",
       "</div>"
      ],
      "text/plain": [
       "        Scene\n",
       "Season       \n",
       "1         157\n",
       "2         205\n",
       "3         193\n",
       "4         219\n",
       "5         198\n",
       "6         211\n",
       "7         207\n",
       "8         191\n",
       "9         177\n",
       "10        189"
      ]
     },
     "execution_count": 5,
     "metadata": {},
     "output_type": "execute_result"
    }
   ],
   "source": [
    "lines.groupby([\"Season\", \"Episode\", \"Scene\"]).count().reset_index().groupby(\"Season\").count()[[\"Scene\"]]"
   ]
  },
  {
   "cell_type": "markdown",
   "metadata": {},
   "source": [
    "**Q2**. (5 points) Now, let's define two sets of characters: all the characters, and recurrent characters. Recurrent characters are those who appear in more than one episode. For the subsequent sections, you will need to have a list of recurrent characters. Assume that there are no two _named characters_ (i.e. characters who have actual names and aren't referred to generically as \"little girl\", \"grumpy grandpa\", etc.) with the same name, i.e. there are no two Sheldons, etc. Generate a list of recurrent characters who have more than 90 dialogue lines in total, and then take a look at the list you have. If you've done this correctly, you should have a list of 20 names. However, one of these is clearly not a recurrent character. Manually remove that one, and print out your list of recurrent characters. To remove that character, pay attention to the _named character_ assumption we gave you earlier on. **For all the subsequent questions, you must only keep the dialogue lines said by the recurrent characters in your list.**\n",
    "\n",
    "_Hint: \"I know all the recurrent characters because I've watched the entire series five times\" is not an acceptable argument, so you need to actually generate the list._"
   ]
  },
  {
   "cell_type": "code",
   "execution_count": 6,
   "metadata": {
    "collapsed": true
   },
   "outputs": [
    {
     "name": "stdout",
     "output_type": "stream",
     "text": [
      "Number of recurrent characters: 19\n",
      "               Line\n",
      "Character          \n",
      "Amy            3472\n",
      "Arthur          130\n",
      "Bernadette     2690\n",
      "Bert             95\n",
      "Beverley        162\n",
      "Emily           164\n",
      "Howard         5872\n",
      "Kripke          106\n",
      "Leonard        9829\n",
      "Leslie          116\n",
      "Mrs Cooper      213\n",
      "Mrs Wolowitz    136\n",
      "Penny          7677\n",
      "Priya           222\n",
      "Raj            4779\n",
      "Sheldon       11689\n",
      "Stuart          733\n",
      "Wil             126\n",
      "Zack            135\n"
     ]
    }
   ],
   "source": [
    "lines_per_chars = lines.groupby(\"Character\").count()[[\"Line\"]]\n",
    "recurrent_chars = lines_per_chars[lines_per_chars[\"Line\"] > 90]\n",
    "recurrent_chars = recurrent_chars.drop('Man', axis = 0)\n",
    "print(\"Number of recurrent characters: {}\".format(len(recurrent_chars)))\n",
    "print(recurrent_chars)"
   ]
  },
  {
   "cell_type": "code",
   "execution_count": 7,
   "metadata": {},
   "outputs": [
    {
     "ename": "KeyError",
     "evalue": "\"['Man'] not found in axis\"",
     "output_type": "error",
     "traceback": [
      "\u001b[1;31m---------------------------------------------------------------------------\u001b[0m",
      "\u001b[1;31mKeyError\u001b[0m                                  Traceback (most recent call last)",
      "Cell \u001b[1;32mIn[7], line 1\u001b[0m\n\u001b[1;32m----> 1\u001b[0m recurrent_chars \u001b[38;5;241m=\u001b[39m \u001b[43mrecurrent_chars\u001b[49m\u001b[38;5;241;43m.\u001b[39;49m\u001b[43mdrop\u001b[49m\u001b[43m(\u001b[49m\u001b[38;5;124;43m\"\u001b[39;49m\u001b[38;5;124;43mMan\u001b[39;49m\u001b[38;5;124;43m\"\u001b[39;49m\u001b[43m,\u001b[49m\u001b[43m \u001b[49m\u001b[43maxis\u001b[49m\u001b[38;5;241;43m=\u001b[39;49m\u001b[38;5;241;43m0\u001b[39;49m\u001b[43m)\u001b[49m\n\u001b[0;32m      2\u001b[0m recurrent_chars\n",
      "File \u001b[1;32mc:\\Users\\Admin\\miniconda3\\envs\\ada\\lib\\site-packages\\pandas\\core\\frame.py:5347\u001b[0m, in \u001b[0;36mDataFrame.drop\u001b[1;34m(self, labels, axis, index, columns, level, inplace, errors)\u001b[0m\n\u001b[0;32m   5199\u001b[0m \u001b[38;5;28;01mdef\u001b[39;00m \u001b[38;5;21mdrop\u001b[39m(\n\u001b[0;32m   5200\u001b[0m     \u001b[38;5;28mself\u001b[39m,\n\u001b[0;32m   5201\u001b[0m     labels: IndexLabel \u001b[38;5;241m|\u001b[39m \u001b[38;5;28;01mNone\u001b[39;00m \u001b[38;5;241m=\u001b[39m \u001b[38;5;28;01mNone\u001b[39;00m,\n\u001b[1;32m   (...)\u001b[0m\n\u001b[0;32m   5208\u001b[0m     errors: IgnoreRaise \u001b[38;5;241m=\u001b[39m \u001b[38;5;124m\"\u001b[39m\u001b[38;5;124mraise\u001b[39m\u001b[38;5;124m\"\u001b[39m,\n\u001b[0;32m   5209\u001b[0m ) \u001b[38;5;241m-\u001b[39m\u001b[38;5;241m>\u001b[39m DataFrame \u001b[38;5;241m|\u001b[39m \u001b[38;5;28;01mNone\u001b[39;00m:\n\u001b[0;32m   5210\u001b[0m \u001b[38;5;250m    \u001b[39m\u001b[38;5;124;03m\"\"\"\u001b[39;00m\n\u001b[0;32m   5211\u001b[0m \u001b[38;5;124;03m    Drop specified labels from rows or columns.\u001b[39;00m\n\u001b[0;32m   5212\u001b[0m \n\u001b[1;32m   (...)\u001b[0m\n\u001b[0;32m   5345\u001b[0m \u001b[38;5;124;03m            weight  1.0     0.8\u001b[39;00m\n\u001b[0;32m   5346\u001b[0m \u001b[38;5;124;03m    \"\"\"\u001b[39;00m\n\u001b[1;32m-> 5347\u001b[0m     \u001b[38;5;28;01mreturn\u001b[39;00m \u001b[38;5;28;43msuper\u001b[39;49m\u001b[43m(\u001b[49m\u001b[43m)\u001b[49m\u001b[38;5;241;43m.\u001b[39;49m\u001b[43mdrop\u001b[49m\u001b[43m(\u001b[49m\n\u001b[0;32m   5348\u001b[0m \u001b[43m        \u001b[49m\u001b[43mlabels\u001b[49m\u001b[38;5;241;43m=\u001b[39;49m\u001b[43mlabels\u001b[49m\u001b[43m,\u001b[49m\n\u001b[0;32m   5349\u001b[0m \u001b[43m        \u001b[49m\u001b[43maxis\u001b[49m\u001b[38;5;241;43m=\u001b[39;49m\u001b[43maxis\u001b[49m\u001b[43m,\u001b[49m\n\u001b[0;32m   5350\u001b[0m \u001b[43m        \u001b[49m\u001b[43mindex\u001b[49m\u001b[38;5;241;43m=\u001b[39;49m\u001b[43mindex\u001b[49m\u001b[43m,\u001b[49m\n\u001b[0;32m   5351\u001b[0m \u001b[43m        \u001b[49m\u001b[43mcolumns\u001b[49m\u001b[38;5;241;43m=\u001b[39;49m\u001b[43mcolumns\u001b[49m\u001b[43m,\u001b[49m\n\u001b[0;32m   5352\u001b[0m \u001b[43m        \u001b[49m\u001b[43mlevel\u001b[49m\u001b[38;5;241;43m=\u001b[39;49m\u001b[43mlevel\u001b[49m\u001b[43m,\u001b[49m\n\u001b[0;32m   5353\u001b[0m \u001b[43m        \u001b[49m\u001b[43minplace\u001b[49m\u001b[38;5;241;43m=\u001b[39;49m\u001b[43minplace\u001b[49m\u001b[43m,\u001b[49m\n\u001b[0;32m   5354\u001b[0m \u001b[43m        \u001b[49m\u001b[43merrors\u001b[49m\u001b[38;5;241;43m=\u001b[39;49m\u001b[43merrors\u001b[49m\u001b[43m,\u001b[49m\n\u001b[0;32m   5355\u001b[0m \u001b[43m    \u001b[49m\u001b[43m)\u001b[49m\n",
      "File \u001b[1;32mc:\\Users\\Admin\\miniconda3\\envs\\ada\\lib\\site-packages\\pandas\\core\\generic.py:4711\u001b[0m, in \u001b[0;36mNDFrame.drop\u001b[1;34m(self, labels, axis, index, columns, level, inplace, errors)\u001b[0m\n\u001b[0;32m   4709\u001b[0m \u001b[38;5;28;01mfor\u001b[39;00m axis, labels \u001b[38;5;129;01min\u001b[39;00m axes\u001b[38;5;241m.\u001b[39mitems():\n\u001b[0;32m   4710\u001b[0m     \u001b[38;5;28;01mif\u001b[39;00m labels \u001b[38;5;129;01mis\u001b[39;00m \u001b[38;5;129;01mnot\u001b[39;00m \u001b[38;5;28;01mNone\u001b[39;00m:\n\u001b[1;32m-> 4711\u001b[0m         obj \u001b[38;5;241m=\u001b[39m \u001b[43mobj\u001b[49m\u001b[38;5;241;43m.\u001b[39;49m\u001b[43m_drop_axis\u001b[49m\u001b[43m(\u001b[49m\u001b[43mlabels\u001b[49m\u001b[43m,\u001b[49m\u001b[43m \u001b[49m\u001b[43maxis\u001b[49m\u001b[43m,\u001b[49m\u001b[43m \u001b[49m\u001b[43mlevel\u001b[49m\u001b[38;5;241;43m=\u001b[39;49m\u001b[43mlevel\u001b[49m\u001b[43m,\u001b[49m\u001b[43m \u001b[49m\u001b[43merrors\u001b[49m\u001b[38;5;241;43m=\u001b[39;49m\u001b[43merrors\u001b[49m\u001b[43m)\u001b[49m\n\u001b[0;32m   4713\u001b[0m \u001b[38;5;28;01mif\u001b[39;00m inplace:\n\u001b[0;32m   4714\u001b[0m     \u001b[38;5;28mself\u001b[39m\u001b[38;5;241m.\u001b[39m_update_inplace(obj)\n",
      "File \u001b[1;32mc:\\Users\\Admin\\miniconda3\\envs\\ada\\lib\\site-packages\\pandas\\core\\generic.py:4753\u001b[0m, in \u001b[0;36mNDFrame._drop_axis\u001b[1;34m(self, labels, axis, level, errors, only_slice)\u001b[0m\n\u001b[0;32m   4751\u001b[0m         new_axis \u001b[38;5;241m=\u001b[39m axis\u001b[38;5;241m.\u001b[39mdrop(labels, level\u001b[38;5;241m=\u001b[39mlevel, errors\u001b[38;5;241m=\u001b[39merrors)\n\u001b[0;32m   4752\u001b[0m     \u001b[38;5;28;01melse\u001b[39;00m:\n\u001b[1;32m-> 4753\u001b[0m         new_axis \u001b[38;5;241m=\u001b[39m \u001b[43maxis\u001b[49m\u001b[38;5;241;43m.\u001b[39;49m\u001b[43mdrop\u001b[49m\u001b[43m(\u001b[49m\u001b[43mlabels\u001b[49m\u001b[43m,\u001b[49m\u001b[43m \u001b[49m\u001b[43merrors\u001b[49m\u001b[38;5;241;43m=\u001b[39;49m\u001b[43merrors\u001b[49m\u001b[43m)\u001b[49m\n\u001b[0;32m   4754\u001b[0m     indexer \u001b[38;5;241m=\u001b[39m axis\u001b[38;5;241m.\u001b[39mget_indexer(new_axis)\n\u001b[0;32m   4756\u001b[0m \u001b[38;5;66;03m# Case for non-unique axis\u001b[39;00m\n\u001b[0;32m   4757\u001b[0m \u001b[38;5;28;01melse\u001b[39;00m:\n",
      "File \u001b[1;32mc:\\Users\\Admin\\miniconda3\\envs\\ada\\lib\\site-packages\\pandas\\core\\indexes\\base.py:6992\u001b[0m, in \u001b[0;36mIndex.drop\u001b[1;34m(self, labels, errors)\u001b[0m\n\u001b[0;32m   6990\u001b[0m \u001b[38;5;28;01mif\u001b[39;00m mask\u001b[38;5;241m.\u001b[39many():\n\u001b[0;32m   6991\u001b[0m     \u001b[38;5;28;01mif\u001b[39;00m errors \u001b[38;5;241m!=\u001b[39m \u001b[38;5;124m\"\u001b[39m\u001b[38;5;124mignore\u001b[39m\u001b[38;5;124m\"\u001b[39m:\n\u001b[1;32m-> 6992\u001b[0m         \u001b[38;5;28;01mraise\u001b[39;00m \u001b[38;5;167;01mKeyError\u001b[39;00m(\u001b[38;5;124mf\u001b[39m\u001b[38;5;124m\"\u001b[39m\u001b[38;5;132;01m{\u001b[39;00mlabels[mask]\u001b[38;5;241m.\u001b[39mtolist()\u001b[38;5;132;01m}\u001b[39;00m\u001b[38;5;124m not found in axis\u001b[39m\u001b[38;5;124m\"\u001b[39m)\n\u001b[0;32m   6993\u001b[0m     indexer \u001b[38;5;241m=\u001b[39m indexer[\u001b[38;5;241m~\u001b[39mmask]\n\u001b[0;32m   6994\u001b[0m \u001b[38;5;28;01mreturn\u001b[39;00m \u001b[38;5;28mself\u001b[39m\u001b[38;5;241m.\u001b[39mdelete(indexer)\n",
      "\u001b[1;31mKeyError\u001b[0m: \"['Man'] not found in axis\""
     ]
    }
   ],
   "source": [
    "recurrent_chars = recurrent_chars.drop(\"Man\", axis=0)\n",
    "recurrent_chars"
   ]
  },
  {
   "cell_type": "markdown",
   "metadata": {},
   "source": [
    "## Task B: Read the ~~stats~~ scripts carefully (30 points)\n",
    "\n",
    "### Part 1: Don't put the shovel down just yet\n",
    "\n",
    "**Q3**. (2.5 points) From each dialogue line, replace punctuation marks (listed in the EXCLUDE_CHARS variable provided in `helpers/helper_functions.py`) with whitespaces, and lowercase all the text. **Do not remove any stopwords, leave them be for all the questions in this task.**"
   ]
  },
  {
   "cell_type": "code",
   "execution_count": 8,
   "metadata": {
    "collapsed": true
   },
   "outputs": [
    {
     "data": {
      "text/html": [
       "<div>\n",
       "<style scoped>\n",
       "    .dataframe tbody tr th:only-of-type {\n",
       "        vertical-align: middle;\n",
       "    }\n",
       "\n",
       "    .dataframe tbody tr th {\n",
       "        vertical-align: top;\n",
       "    }\n",
       "\n",
       "    .dataframe thead th {\n",
       "        text-align: right;\n",
       "    }\n",
       "</style>\n",
       "<table border=\"1\" class=\"dataframe\">\n",
       "  <thead>\n",
       "    <tr style=\"text-align: right;\">\n",
       "      <th></th>\n",
       "      <th>Season</th>\n",
       "      <th>Episode</th>\n",
       "      <th>Scene</th>\n",
       "      <th>Character</th>\n",
       "      <th>Line</th>\n",
       "    </tr>\n",
       "  </thead>\n",
       "  <tbody>\n",
       "    <tr>\n",
       "      <th>0</th>\n",
       "      <td>1</td>\n",
       "      <td>Series 01 Episode 01 – Pilot Episode</td>\n",
       "      <td>A corridor at a sperm bank.</td>\n",
       "      <td>Sheldon</td>\n",
       "      <td>so if a photon is directed through a plane wit...</td>\n",
       "    </tr>\n",
       "    <tr>\n",
       "      <th>1</th>\n",
       "      <td>1</td>\n",
       "      <td>Series 01 Episode 01 – Pilot Episode</td>\n",
       "      <td>A corridor at a sperm bank.</td>\n",
       "      <td>Leonard</td>\n",
       "      <td>agreed  what s your point</td>\n",
       "    </tr>\n",
       "    <tr>\n",
       "      <th>2</th>\n",
       "      <td>1</td>\n",
       "      <td>Series 01 Episode 01 – Pilot Episode</td>\n",
       "      <td>A corridor at a sperm bank.</td>\n",
       "      <td>Sheldon</td>\n",
       "      <td>there s no point  i just think it s a good ide...</td>\n",
       "    </tr>\n",
       "    <tr>\n",
       "      <th>3</th>\n",
       "      <td>1</td>\n",
       "      <td>Series 01 Episode 01 – Pilot Episode</td>\n",
       "      <td>A corridor at a sperm bank.</td>\n",
       "      <td>Leonard</td>\n",
       "      <td>excuse me</td>\n",
       "    </tr>\n",
       "    <tr>\n",
       "      <th>4</th>\n",
       "      <td>1</td>\n",
       "      <td>Series 01 Episode 01 – Pilot Episode</td>\n",
       "      <td>A corridor at a sperm bank.</td>\n",
       "      <td>Receptionist</td>\n",
       "      <td>hang on</td>\n",
       "    </tr>\n",
       "  </tbody>\n",
       "</table>\n",
       "</div>"
      ],
      "text/plain": [
       "   Season                               Episode                        Scene  \\\n",
       "0       1  Series 01 Episode 01 – Pilot Episode  A corridor at a sperm bank.   \n",
       "1       1  Series 01 Episode 01 – Pilot Episode  A corridor at a sperm bank.   \n",
       "2       1  Series 01 Episode 01 – Pilot Episode  A corridor at a sperm bank.   \n",
       "3       1  Series 01 Episode 01 – Pilot Episode  A corridor at a sperm bank.   \n",
       "4       1  Series 01 Episode 01 – Pilot Episode  A corridor at a sperm bank.   \n",
       "\n",
       "      Character                                               Line  \n",
       "0       Sheldon  so if a photon is directed through a plane wit...  \n",
       "1       Leonard                         agreed  what s your point   \n",
       "2       Sheldon  there s no point  i just think it s a good ide...  \n",
       "3       Leonard                                         excuse me   \n",
       "4  Receptionist                                           hang on   "
      ]
     },
     "execution_count": 8,
     "metadata": {},
     "output_type": "execute_result"
    }
   ],
   "source": [
    "def clean_line(line):\n",
    "    for char in EXCLUDE_CHARS:\n",
    "        line = line.replace(char, ' ')\n",
    "    return line.lower()\n",
    "lines[\"Line\"] = lines[\"Line\"].apply(clean_line)\n",
    "lines.head()"
   ]
  },
  {
   "cell_type": "markdown",
   "metadata": {},
   "source": [
    "**Q4**. (5 points) For each term, calculate its \"corpus frequency\", i.e. its number of occurrences in the entire series. Visualize the distribution of corpus frequency using a histogram. Explain your observations. What are the appropriate x and y scales for this plot?"
   ]
  },
  {
   "cell_type": "code",
   "execution_count": 9,
   "metadata": {
    "collapsed": true
   },
   "outputs": [
    {
     "data": {
      "text/plain": [
       "<Axes: title={'center': 'Frequency histogram (loglog scale)'}, ylabel='Frequency'>"
      ]
     },
     "execution_count": 9,
     "metadata": {},
     "output_type": "execute_result"
    },
    {
     "data": {
      "image/png": "[encoded data removed]",
      "text/plain": [
       "<Figure size 640x480 with 1 Axes>"
      ]
     },
     "metadata": {},
     "output_type": "display_data"
    }
   ],
   "source": [
    "corpus_frequency = pd.concat([pd.Series(row['Line'].split(' ')) for _, row in lines.iterrows()]).reset_index()\n",
    "corpus_frequency.columns = [\"Frequency\", \"Word\"]\n",
    "corpus_frequency = corpus_frequency.groupby(\"Word\").count()\n",
    "corpus_frequency.plot.hist(column=[\"Frequency\"], loglog=True, bins=np.logspace(0, 6, 100), title=\"Frequency histogram (loglog scale)\")\n"
   ]
  },
  {
   "cell_type": "markdown",
   "metadata": {},
   "source": [
    "### Part 2: Talkativity\n",
    "**Q5**. (2.5 points) For each of the recurrent characters, calculate their total number of words uttered across all episodes. Based on this, who seems to be the most talkative character?"
   ]
  },
  {
   "cell_type": "code",
   "execution_count": 11,
   "metadata": {
    "collapsed": true
   },
   "outputs": [
    {
     "data": {
      "text/plain": [
       "Character\n",
       "Amy              39933\n",
       "Arthur            1451\n",
       "Bernadette       27726\n",
       "Bert              1146\n",
       "Beverley          2029\n",
       "Emily             1571\n",
       "Howard           69505\n",
       "Kripke            1246\n",
       "Leonard         102496\n",
       "Leslie            1249\n",
       "Mrs Cooper        3389\n",
       "Mrs Wolowitz      1459\n",
       "Penny            79270\n",
       "Priya             1940\n",
       "Raj              60099\n",
       "Sheldon         185388\n",
       "Stuart            7955\n",
       "Wil               1678\n",
       "Zack              1427\n",
       "Name: Words, dtype: int64"
      ]
     },
     "execution_count": 11,
     "metadata": {},
     "output_type": "execute_result"
    }
   ],
   "source": [
    "lines[\"Words\"] = lines[\"Line\"].apply(lambda x: len(x.split()))\n",
    "words_per_char = lines.groupby(\"Character\").sum()[\"Words\"]\n",
    "words_per_char[recurrent_chars.index]\n"
   ]
  },
  {
   "cell_type": "code",
   "execution_count": 12,
   "metadata": {},
   "outputs": [
    {
     "name": "stdout",
     "output_type": "stream",
     "text": [
      "Most talkative character:  Sheldon\n"
     ]
    }
   ],
   "source": [
    "print(\"Most talkative character: \", words_per_char[recurrent_chars.index].idxmax())"
   ]
  },
  {
   "cell_type": "markdown",
   "metadata": {},
   "source": [
    "**Q6**. (12.5 points) For each of the recurrent characters, calculate their total number of words uttered per episode (ignoring episodes that the character does not appear in), and calculate a **robust summary statistic** for the word count distribution of each person.\n",
    "\n",
    "&nbsp;&nbsp;&nbsp;&nbsp;&nbsp;&nbsp;**i)** (2.5 points) What changes do you observe, compared to the analysis in Q5?\n",
    "\n",
    "&nbsp;&nbsp;&nbsp;&nbsp;&nbsp;&nbsp;**ii)** (2.5 points) Why is this analysis an improvement over the previous one, and how could you improve it even further? _Hint: The improvement involves making your unit for word counts even more granular - you can go further down than episodes._\n",
    "\n",
    "&nbsp;&nbsp;&nbsp;&nbsp;&nbsp;&nbsp;**iii)** (7.5 points) Incorporate that improvement. Do you still see the same results? How **confident** can you be that the \"most talkative\" person given by this twice improved method is really more talkative than the second most talkative one? _Hint: Read the question again. A good idea would be to use bootstrapping and calculate your summary statistic on each bootstrapped set._"
   ]
  },
  {
   "cell_type": "code",
   "execution_count": 15,
   "metadata": {},
   "outputs": [
    {
     "data": {
      "text/html": [
       "<div>\n",
       "<style scoped>\n",
       "    .dataframe tbody tr th:only-of-type {\n",
       "        vertical-align: middle;\n",
       "    }\n",
       "\n",
       "    .dataframe tbody tr th {\n",
       "        vertical-align: top;\n",
       "    }\n",
       "\n",
       "    .dataframe thead th {\n",
       "        text-align: right;\n",
       "    }\n",
       "</style>\n",
       "<table border=\"1\" class=\"dataframe\">\n",
       "  <thead>\n",
       "    <tr style=\"text-align: right;\">\n",
       "      <th></th>\n",
       "      <th>Season</th>\n",
       "      <th>Episode</th>\n",
       "      <th>Scene</th>\n",
       "      <th>Character</th>\n",
       "      <th>Line</th>\n",
       "      <th>Words</th>\n",
       "    </tr>\n",
       "  </thead>\n",
       "  <tbody>\n",
       "    <tr>\n",
       "      <th>0</th>\n",
       "      <td>1</td>\n",
       "      <td>Series 01 Episode 01 – Pilot Episode</td>\n",
       "      <td>A corridor at a sperm bank.</td>\n",
       "      <td>Sheldon</td>\n",
       "      <td>so if a photon is directed through a plane wit...</td>\n",
       "      <td>57</td>\n",
       "    </tr>\n",
       "    <tr>\n",
       "      <th>1</th>\n",
       "      <td>1</td>\n",
       "      <td>Series 01 Episode 01 – Pilot Episode</td>\n",
       "      <td>A corridor at a sperm bank.</td>\n",
       "      <td>Leonard</td>\n",
       "      <td>agreed  what s your point</td>\n",
       "      <td>5</td>\n",
       "    </tr>\n",
       "    <tr>\n",
       "      <th>2</th>\n",
       "      <td>1</td>\n",
       "      <td>Series 01 Episode 01 – Pilot Episode</td>\n",
       "      <td>A corridor at a sperm bank.</td>\n",
       "      <td>Sheldon</td>\n",
       "      <td>there s no point  i just think it s a good ide...</td>\n",
       "      <td>16</td>\n",
       "    </tr>\n",
       "    <tr>\n",
       "      <th>3</th>\n",
       "      <td>1</td>\n",
       "      <td>Series 01 Episode 01 – Pilot Episode</td>\n",
       "      <td>A corridor at a sperm bank.</td>\n",
       "      <td>Leonard</td>\n",
       "      <td>excuse me</td>\n",
       "      <td>2</td>\n",
       "    </tr>\n",
       "    <tr>\n",
       "      <th>4</th>\n",
       "      <td>1</td>\n",
       "      <td>Series 01 Episode 01 – Pilot Episode</td>\n",
       "      <td>A corridor at a sperm bank.</td>\n",
       "      <td>Receptionist</td>\n",
       "      <td>hang on</td>\n",
       "      <td>2</td>\n",
       "    </tr>\n",
       "  </tbody>\n",
       "</table>\n",
       "</div>"
      ],
      "text/plain": [
       "   Season                               Episode                        Scene  \\\n",
       "0       1  Series 01 Episode 01 – Pilot Episode  A corridor at a sperm bank.   \n",
       "1       1  Series 01 Episode 01 – Pilot Episode  A corridor at a sperm bank.   \n",
       "2       1  Series 01 Episode 01 – Pilot Episode  A corridor at a sperm bank.   \n",
       "3       1  Series 01 Episode 01 – Pilot Episode  A corridor at a sperm bank.   \n",
       "4       1  Series 01 Episode 01 – Pilot Episode  A corridor at a sperm bank.   \n",
       "\n",
       "      Character                                               Line  Words  \n",
       "0       Sheldon  so if a photon is directed through a plane wit...     57  \n",
       "1       Leonard                         agreed  what s your point       5  \n",
       "2       Sheldon  there s no point  i just think it s a good ide...     16  \n",
       "3       Leonard                                         excuse me       2  \n",
       "4  Receptionist                                           hang on       2  "
      ]
     },
     "execution_count": 15,
     "metadata": {},
     "output_type": "execute_result"
    }
   ],
   "source": [
    "lines.head()"
   ]
  },
  {
   "cell_type": "code",
   "execution_count": 42,
   "metadata": {
    "collapsed": true
   },
   "outputs": [
    {
     "data": {
      "text/plain": [
       "Character  Season  Episode                                            \n",
       "Amy        3       Series 03 Episode 23 – The Lunar Excitation            103\n",
       "           4       Series 04 Episode 01 – The Robotic Manipulation        143\n",
       "                   Series 04 Episode 03 – The Zazzy Substitution          473\n",
       "                   Series 04 Episode 05 – The Desperation Emanation       229\n",
       "                   Series 04 Episode 08 – The 21 Second Excitation        602\n",
       "                                                                         ... \n",
       "Zack       4       Series 04 Episode 17 – The Toast Derivation            153\n",
       "           7       Series 07 Episode 09 – The Thanksgiving Decoupling     126\n",
       "                   Series 07 Episode 11 – The Cooper Extraction            17\n",
       "           9       Series 09 Episode 22 – The Fermentation Bifurcation    218\n",
       "           10      Series 10 Episode 22 – The Cognition Regeneration      282\n",
       "Name: Words, Length: 1641, dtype: int64"
      ]
     },
     "execution_count": 42,
     "metadata": {},
     "output_type": "execute_result"
    }
   ],
   "source": [
    "filtered_lines = lines[lines[\"Character\"].isin(recurrent_chars.index)]\n",
    "\n",
    "words_per_episode = filtered_lines.groupby(['Character', 'Season', 'Episode']).sum()[\"Words\"]\n",
    "\n",
    "words_per_episode\n"
   ]
  },
  {
   "cell_type": "code",
   "execution_count": 41,
   "metadata": {},
   "outputs": [
    {
     "name": "stderr",
     "output_type": "stream",
     "text": [
      "C:\\Users\\Admin\\AppData\\Local\\Temp\\ipykernel_22720\\2618559386.py:1: FutureWarning: The provided callable <function median at 0x000001AACFAFE9D0> is currently using Series.median. In a future version of pandas, the provided callable will be used directly. To keep current behavior pass the string \"median\" instead.\n",
      "  robust_summary = words_per_episode.agg(\n",
      "C:\\Users\\Admin\\AppData\\Local\\Temp\\ipykernel_22720\\2618559386.py:1: FutureWarning: The provided callable <function mean at 0x000001AACE9F5A60> is currently using Series.mean. In a future version of pandas, the provided callable will be used directly. To keep current behavior pass the string \"mean\" instead.\n",
      "  robust_summary = words_per_episode.agg(\n",
      "C:\\Users\\Admin\\AppData\\Local\\Temp\\ipykernel_22720\\2618559386.py:1: FutureWarning: The provided callable <function std at 0x000001AACE9F5B80> is currently using Series.std. In a future version of pandas, the provided callable will be used directly. To keep current behavior pass the string \"std\" instead.\n",
      "  robust_summary = words_per_episode.agg(\n"
     ]
    },
    {
     "data": {
      "text/plain": [
       "median    292.000000\n",
       "mean      360.120049\n",
       "std       267.262431\n",
       "Name: Words, dtype: float64"
      ]
     },
     "execution_count": 41,
     "metadata": {},
     "output_type": "execute_result"
    }
   ],
   "source": [
    "robust_summary = words_per_episode.agg(\n",
    "    median=np.median,\n",
    "    mean=np.mean,\n",
    "    std=np.std\n",
    ")\n",
    "\n",
    "robust_summary\n",
    "\n"
   ]
  },
  {
   "cell_type": "markdown",
   "metadata": {
    "collapsed": true
   },
   "source": [
    "### Part 3: Obligatory Spark cameo\n",
    "**Q7**. (7.5 points) Write a Spark script that does the following: Given the raw input file and your list of recurrent characters, create an RDD containing (speaker, dialogue line) rows **only for the recurrent characters** (assume that you already have the list --  no need to calculate it using Spark), and then generate a vectorized bag of words representation for each dialogue line, thus generating an RDD with (speaker, bag of words vector) rows. Then, calculate an aggregated bag of words vector (sum of all vectors) for each person. The final output is therefore an RDD with each of its rows being (speaker, aggregated bag of words vector). For your bag of words vectors, you can use $1\\times|V|$ scipy CSR matrices (where $|V|$ is the size of the vocabulary). No filtering of the vocabulary is necessary for this part.\n",
    "\n",
    "You do not need to run this script, but you do need to use Spark logic and also, the syntax needs to be correct."
   ]
  },
  {
   "cell_type": "code",
   "execution_count": 66,
   "metadata": {
    "collapsed": true
   },
   "outputs": [
    {
     "ename": "NameError",
     "evalue": "name 'raw_input_file' is not defined",
     "output_type": "error",
     "traceback": [
      "\u001b[1;31m---------------------------------------------------------------------------\u001b[0m",
      "\u001b[1;31mNameError\u001b[0m                                 Traceback (most recent call last)",
      "Cell \u001b[1;32mIn[66], line 13\u001b[0m\n\u001b[0;32m      7\u001b[0m spark \u001b[38;5;241m=\u001b[39m SparkSession(sc)\n\u001b[0;32m      9\u001b[0m \u001b[38;5;66;03m# Assuming 'raw_input_file' is the path to the raw input file\u001b[39;00m\n\u001b[0;32m     10\u001b[0m \u001b[38;5;66;03m# and 'recurrent_characters' is a list of recurrent characters\u001b[39;00m\n\u001b[0;32m     11\u001b[0m \n\u001b[0;32m     12\u001b[0m \u001b[38;5;66;03m# Read the raw input file into an RDD\u001b[39;00m\n\u001b[1;32m---> 13\u001b[0m raw_rdd \u001b[38;5;241m=\u001b[39m sc\u001b[38;5;241m.\u001b[39mtextFile(\u001b[43mraw_input_file\u001b[49m)\n\u001b[0;32m     15\u001b[0m \u001b[38;5;66;03m# Filter lines for recurrent characters\u001b[39;00m\n\u001b[0;32m     16\u001b[0m filtered_rdd \u001b[38;5;241m=\u001b[39m raw_rdd\u001b[38;5;241m.\u001b[39mfilter(\u001b[38;5;28;01mlambda\u001b[39;00m line: \u001b[38;5;28many\u001b[39m(char \u001b[38;5;129;01min\u001b[39;00m line \u001b[38;5;28;01mfor\u001b[39;00m char \u001b[38;5;129;01min\u001b[39;00m recurrent_characters))\n",
      "\u001b[1;31mNameError\u001b[0m: name 'raw_input_file' is not defined"
     ]
    }
   ],
   "source": [
    "from pyspark import SparkContext\n",
    "from pyspark.sql import SparkSession\n",
    "from pyspark.ml.feature import CountVectorizer\n",
    "from scipy.sparse import csr_matrix\n",
    "# Initialize Spark\n",
    "sc = SparkContext(\"local\", \"BagOfWordsScript\")\n",
    "spark = SparkSession(sc)\n",
    "\n",
    "# Assuming 'raw_input_file' is the path to the raw input file\n",
    "# and 'recurrent_characters' is a list of recurrent characters\n",
    "\n",
    "# Read the raw input file into an RDD\n",
    "raw_rdd = sc.textFile(raw_input_file)\n",
    "\n",
    "# Filter lines for recurrent characters\n",
    "filtered_rdd = raw_rdd.filter(lambda line: any(char in line for char in recurrent_characters))\n",
    "\n",
    "# Split lines into (speaker, dialogue line) pairs\n",
    "speaker_dialogue_rdd = filtered_rdd.map(lambda line: (line.split('\\t')[3], line.split('\\t')[4]))\n",
    "\n",
    "# Create a DataFrame for CountVectorizer\n",
    "df = speaker_dialogue_rdd.toDF([\"Speaker\", \"Dialogue\"])\n",
    "\n",
    "# Use CountVectorizer to generate bag of words vectors\n",
    "cv = CountVectorizer(inputCol=\"Dialogue\", outputCol=\"BOW_Vector\")\n",
    "cv_model = cv.fit(df)\n",
    "df_bow = cv_model.transform(df)\n",
    "\n",
    "# Convert bag of words vectors to scipy CSR matrices\n",
    "def to_csr_matrix(row):\n",
    "    speaker, bow_vector = row\n",
    "    return speaker, csr_matrix(bow_vector.toArray())\n",
    "\n",
    "bow_rdd = df_bow.select(\"Speaker\", \"BOW_Vector\").rdd.map(to_csr_matrix)\n",
    "\n",
    "# Aggregate bag of words vectors for each speaker\n",
    "aggregated_bow_rdd = bow_rdd.reduceByKey(lambda x, y: x + y)\n",
    "\n",
    "# Collect and print the result\n",
    "result = aggregated_bow_rdd.collect()\n",
    "for speaker, aggregated_vector in result:\n",
    "    print(f\"Speaker: {speaker}, Aggregated Bag of Words Vector: {aggregated_vector}\")\n",
    "\n",
    "# Stop Spark\n",
    "sc.stop()"
   ]
  },
  {
   "cell_type": "markdown",
   "metadata": {},
   "source": [
    "## Task C: The Gossip Graph (30 points)\n",
    "\n",
    "**Note: Only for this task, discard the recurrent characters whose names are not single words, e.g. Mrs. Cooper.**\n",
    "\n",
    "Let us define _gossip_ as follows: if a dialogue line of character A mentions B by name in a scene that does not involve character B, we say that “A gossips about B” in that line. Multiple mentions of the same person in a single line are counted once, but a character can gossip about several others in the same line. For the sake of simplicity, we only consider gossips where the name of the recurrent character is mentioned as it appears in our list of characters; for example, if someone says \"Cooper\" and they mean Sheldon, we discard that.\n",
    "\n",
    "**Q8**. (12.5 points) Create the two following graphs first:\n",
    "\n",
    "1. (5 points) Create the _familiarity graph_, an undirected weighted graph, in which there is a node for each recurrent character, and an edge between two characters if they appear together in at least one scene. The weight of the edge between them is the number of scenes they appear in together. If an edge exists between two people in the familiarity graph, we say that they \"know each other\".\n",
    "2. (7.5 points) Create the _gossip graph_, which is a directed weighted graph, in which there there is a node for each recurrent character, and a directed edge from the node for A to the node for B if A has gossiped about B at least once. The weight of the edge is the number of scenes in which A has gossiped about B.\n",
    "\n",
    "_Hint: You can create each graph first as an adjacency matrix and then create a networkx graph out of that._"
   ]
  },
  {
   "cell_type": "code",
   "execution_count": 44,
   "metadata": {
    "collapsed": true
   },
   "outputs": [
    {
     "name": "stdout",
     "output_type": "stream",
     "text": [
      "            Amy_gossip  Arthur_gossip  Bernadette_gossip  Bert_gossip  \\\n",
      "Character                                                               \n",
      "Amy                 23              2                 52           15   \n",
      "Arthur               1              1                  0            0   \n",
      "Bernadette          38              0                  5            1   \n",
      "Bert                 4              0                  0            2   \n",
      "Beverley             2              0                  0            0   \n",
      "Emily                0              0                  0            0   \n",
      "Howard              21              0                102            3   \n",
      "Kripke               0              0                  0            0   \n",
      "Leonard             70              4                 32            6   \n",
      "Leslie               0              0                  0            0   \n",
      "Penny              132              2                 52            6   \n",
      "Priya                0              0                  4            0   \n",
      "Raj                 28              0                 46            5   \n",
      "Sheldon            319             18                 43           17   \n",
      "Stuart               2              0                  9            0   \n",
      "Wil                  1              0                  0            0   \n",
      "Zack                 0              0                  0            0   \n",
      "\n",
      "            Beverley_gossip  Emily_gossip  Howard_gossip  Kripke_gossip  \\\n",
      "Character                                                                 \n",
      "Amy                       0             0             21              5   \n",
      "Arthur                    0             0              0              0   \n",
      "Bernadette                0             9            102              0   \n",
      "Bert                      0             0              1              0   \n",
      "Beverley                  0             0              2              0   \n",
      "Emily                     0             1              1              0   \n",
      "Howard                    0            16             40              2   \n",
      "Kripke                    0             0              1              0   \n",
      "Leonard                   2             4            182             12   \n",
      "Leslie                    0             0              2              0   \n",
      "Penny                     1             8             87              1   \n",
      "Priya                     0             0              6              0   \n",
      "Raj                       0            46            115              4   \n",
      "Sheldon                   4             7            145             40   \n",
      "Stuart                    0             0             16              0   \n",
      "Wil                       0             0              1              0   \n",
      "Zack                      0             0              0              0   \n",
      "\n",
      "            Leonard_gossip  Leslie_gossip  Mrs Cooper_gossip  \\\n",
      "Character                                                      \n",
      "Amy                     71              0                  0   \n",
      "Arthur                   1              0                  0   \n",
      "Bernadette              38              0                  0   \n",
      "Bert                     0              0                  0   \n",
      "Beverley                13              0                  0   \n",
      "Emily                    1              0                  0   \n",
      "Howard                 106              9                  0   \n",
      "Kripke                   0              0                  0   \n",
      "Leonard                 67             22                  0   \n",
      "Leslie                  10              2                  0   \n",
      "Penny                  403              2                  0   \n",
      "Priya                   25              0                  0   \n",
      "Raj                     84              2                  0   \n",
      "Sheldon                693              8                  0   \n",
      "Stuart                  13              0                  0   \n",
      "Wil                      5              0                  0   \n",
      "Zack                     2              0                  0   \n",
      "\n",
      "            Mrs Wolowitz_gossip  Penny_gossip  Priya_gossip  Raj_gossip  \\\n",
      "Character                                                                 \n",
      "Amy                           0            88             7           4   \n",
      "Arthur                        0             0             0           0   \n",
      "Bernadette                    0            45             6          60   \n",
      "Bert                          0             0             0           0   \n",
      "Beverley                      0             2             0           0   \n",
      "Emily                         0             1             0           8   \n",
      "Howard                        0            66             4         126   \n",
      "Kripke                        0             0             0           1   \n",
      "Leonard                       0           338            26         133   \n",
      "Leslie                        0             3             0           0   \n",
      "Penny                         0            37            22          79   \n",
      "Priya                         0             4             0           2   \n",
      "Raj                           0            78             9          14   \n",
      "Sheldon                       0           403            11         102   \n",
      "Stuart                        0             9             0           7   \n",
      "Wil                           0             5             0           0   \n",
      "Zack                          0             9             0           0   \n",
      "\n",
      "            Sheldon_gossip  Stuart_gossip  Wil_gossip  Zack_gossip  \n",
      "Character                                                           \n",
      "Amy                    364             10           6           12  \n",
      "Arthur                  11              0           0            0  \n",
      "Bernadette              62             32           0            0  \n",
      "Bert                     4              0           0            0  \n",
      "Beverley                11              0           0            0  \n",
      "Emily                    1              0           0            0  \n",
      "Howard                 197             28           1            1  \n",
      "Kripke                   1              0           0            0  \n",
      "Leonard                609             42          12           14  \n",
      "Leslie                   9              0           0            0  \n",
      "Penny                  457             15           3           19  \n",
      "Priya                   16              0           0            0  \n",
      "Raj                    153             31           5            2  \n",
      "Sheldon                134             43          53            9  \n",
      "Stuart                  24              6           6            0  \n",
      "Wil                     16              0           3            0  \n",
      "Zack                     0              0           0            2  \n"
     ]
    }
   ],
   "source": [
    "import re\n",
    "\n",
    "filtered_lines = lines[lines[\"Character\"].isin(recurrent_chars.index)]\n",
    "filtered_lines = filtered_lines[filtered_lines[\"Character\"].str.split().apply(len) == 1]\n",
    "\n",
    "# Step 2: Define a function to identify if a line contains gossip\n",
    "def contains_gossip(line, character):\n",
    "    return re.search(rf'\\b{character}\\b', line, flags=re.IGNORECASE) is not None\n",
    "\n",
    "# Step 3: Apply the function to each line to create a new column indicating whether gossip occurs\n",
    "for character in recurrent_chars.index:\n",
    "    filtered_lines[f'{character}_gossip'] = filtered_lines.apply(lambda row: contains_gossip(row['Line'], character), axis=1)\n",
    "\n",
    "# Step 4: Count the number of gossips for each character\n",
    "gossip_counts = filtered_lines.groupby('Character')[[f'{character}_gossip' for character in recurrent_chars.index]].sum()\n",
    "\n",
    "# Display the result\n",
    "print(gossip_counts)"
   ]
  },
  {
   "cell_type": "code",
   "execution_count": 45,
   "metadata": {},
   "outputs": [
    {
     "name": "stdout",
     "output_type": "stream",
     "text": [
      "Nodes: ['Amy', 'Arthur', 'Bernadette', 'Bert', 'Beverley', 'Emily', 'Howard', 'Kripke', 'Leonard', 'Leslie', 'Mrs Cooper', 'Mrs Wolowitz', 'Penny', 'Priya', 'Raj', 'Sheldon', 'Stuart', 'Wil', 'Zack']\n",
      "Edges: [('Amy', 'Sheldon', {'weight': 78392}), ('Amy', 'Raj', {'weight': 15260}), ('Amy', 'Howard', {'weight': 11396}), ('Amy', 'Penny', {'weight': 51428}), ('Amy', 'Leonard', {'weight': 36194}), ('Amy', 'Bernadette', {'weight': 21870}), ('Amy', 'Zack', {'weight': 1136}), ('Amy', 'Priya', {'weight': 158}), ('Amy', 'Stuart', {'weight': 3386}), ('Amy', 'Wil', {'weight': 586}), ('Amy', 'Arthur', {'weight': 218}), ('Amy', 'Bert', {'weight': 2088}), ('Amy', 'Emily', {'weight': 318}), ('Amy', 'Kripke', {'weight': 52}), ('Amy', 'Leslie', {'weight': 36}), ('Amy', 'Beverley', {'weight': 394}), ('Arthur', 'Sheldon', {'weight': 4522}), ('Arthur', 'Leonard', {'weight': 2058}), ('Arthur', 'Penny', {'weight': 1266}), ('Arthur', 'Howard', {'weight': 96}), ('Arthur', 'Raj', {'weight': 72}), ('Bernadette', 'Howard', {'weight': 41828}), ('Bernadette', 'Leonard', {'weight': 14564}), ('Bernadette', 'Penny', {'weight': 31466}), ('Bernadette', 'Sheldon', {'weight': 15454}), ('Bernadette', 'Raj', {'weight': 18338}), ('Bernadette', 'Zack', {'weight': 246}), ('Bernadette', 'Priya', {'weight': 468}), ('Bernadette', 'Stuart', {'weight': 6158}), ('Bernadette', 'Emily', {'weight': 736}), ('Bernadette', 'Leslie', {'weight': 12}), ('Bernadette', 'Wil', {'weight': 2}), ('Bernadette', 'Beverley', {'weight': 86}), ('Bert', 'Howard', {'weight': 720}), ('Bert', 'Raj', {'weight': 940}), ('Bert', 'Penny', {'weight': 696}), ('Bert', 'Leonard', {'weight': 774}), ('Bert', 'Sheldon', {'weight': 2042}), ('Bert', 'Stuart', {'weight': 360}), ('Beverley', 'Leonard', {'weight': 3712}), ('Beverley', 'Sheldon', {'weight': 3296}), ('Beverley', 'Penny', {'weight': 2810}), ('Beverley', 'Howard', {'weight': 720}), ('Beverley', 'Raj', {'weight': 288}), ('Beverley', 'Leslie', {'weight': 24}), ('Beverley', 'Wil', {'weight': 4}), ('Beverley', 'Stuart', {'weight': 58}), ('Emily', 'Raj', {'weight': 2480}), ('Emily', 'Leonard', {'weight': 418}), ('Emily', 'Penny', {'weight': 958}), ('Emily', 'Wil', {'weight': 48}), ('Emily', 'Howard', {'weight': 1178}), ('Emily', 'Sheldon', {'weight': 624}), ('Emily', 'Stuart', {'weight': 62}), ('Howard', 'Leonard', {'weight': 75398}), ('Howard', 'Penny', {'weight': 37828}), ('Howard', 'Sheldon', {'weight': 76994}), ('Howard', 'Raj', {'weight': 65302}), ('Howard', 'Leslie', {'weight': 1782}), ('Howard', 'Kripke', {'weight': 390}), ('Howard', 'Stuart', {'weight': 7636}), ('Howard', 'Wil', {'weight': 452}), ('Howard', 'Zack', {'weight': 1406}), ('Howard', 'Priya', {'weight': 1074}), ('Kripke', 'Leonard', {'weight': 944}), ('Kripke', 'Raj', {'weight': 458}), ('Kripke', 'Sheldon', {'weight': 2880}), ('Kripke', 'Penny', {'weight': 264}), ('Kripke', 'Wil', {'weight': 20}), ('Kripke', 'Stuart', {'weight': 34}), ('Leonard', 'Sheldon', {'weight': 212320}), ('Leonard', 'Penny', {'weight': 150658}), ('Leonard', 'Raj', {'weight': 61178}), ('Leonard', 'Leslie', {'weight': 2110}), ('Leonard', 'Stuart', {'weight': 7372}), ('Leonard', 'Wil', {'weight': 3600}), ('Leonard', 'Zack', {'weight': 2546}), ('Leonard', 'Priya', {'weight': 5946}), ('Leslie', 'Penny', {'weight': 280}), ('Leslie', 'Sheldon', {'weight': 1534}), ('Leslie', 'Raj', {'weight': 646}), ('Leslie', 'Wil', {'weight': 12}), ('Leslie', 'Stuart', {'weight': 12}), ('Penny', 'Sheldon', {'weight': 151548}), ('Penny', 'Raj', {'weight': 32074}), ('Penny', 'Stuart', {'weight': 4976}), ('Penny', 'Wil', {'weight': 3134}), ('Penny', 'Zack', {'weight': 1978}), ('Penny', 'Priya', {'weight': 610}), ('Priya', 'Sheldon', {'weight': 3350}), ('Priya', 'Raj', {'weight': 1178}), ('Raj', 'Sheldon', {'weight': 63874}), ('Raj', 'Stuart', {'weight': 8318}), ('Raj', 'Wil', {'weight': 426}), ('Raj', 'Zack', {'weight': 1254}), ('Sheldon', 'Stuart', {'weight': 8554}), ('Sheldon', 'Wil', {'weight': 3538}), ('Sheldon', 'Zack', {'weight': 1542}), ('Stuart', 'Wil', {'weight': 590}), ('Stuart', 'Zack', {'weight': 202})]\n"
     ]
    }
   ],
   "source": [
    "import networkx as nx\n",
    "familiarity_graph = nx.Graph()\n",
    "\n",
    "# Step 3: Add nodes for each recurrent character\n",
    "familiarity_graph.add_nodes_from(recurrent_chars.index)\n",
    "\n",
    "# Step 4: Iterate through scenes and update the graph with edges and weights\n",
    "for scene, scene_group in filtered_lines.groupby(['Season', 'Episode', 'Scene']):\n",
    "    characters_in_scene = scene_group['Character'].tolist()\n",
    "\n",
    "    # Update the graph with edges and weights\n",
    "    for char1 in characters_in_scene:\n",
    "        for char2 in characters_in_scene:\n",
    "            if char1 != char2:\n",
    "                # Check if the edge already exists\n",
    "                if familiarity_graph.has_edge(char1, char2):\n",
    "                    # Increment the weight\n",
    "                    familiarity_graph[char1][char2]['weight'] += 1\n",
    "                else:\n",
    "                    # Add a new edge with weight 1\n",
    "                    familiarity_graph.add_edge(char1, char2, weight=1)\n",
    "\n",
    "# Display the graph\n",
    "print(\"Nodes:\", familiarity_graph.nodes())\n",
    "print(\"Edges:\", familiarity_graph.edges(data=True))"
   ]
  },
  {
   "cell_type": "code",
   "execution_count": 46,
   "metadata": {},
   "outputs": [
    {
     "data": {
      "image/png": "[encoded data removed]",
      "text/plain": [
       "<Figure size 640x480 with 1 Axes>"
      ]
     },
     "metadata": {},
     "output_type": "display_data"
    }
   ],
   "source": [
    "pos = nx.spring_layout(familiarity_graph)  # Choose a layout algorithm\n",
    "labels = nx.get_edge_attributes(familiarity_graph, 'weight')\n",
    "nx.draw(familiarity_graph, pos, with_labels=True, font_size=8, node_size=800, node_color='lightblue')\n",
    "nx.draw_networkx_edge_labels(familiarity_graph, pos, edge_labels=labels)\n",
    "\n",
    "plt.title(\"Familiarity Graph\")\n",
    "plt.show()"
   ]
  },
  {
   "cell_type": "code",
   "execution_count": 47,
   "metadata": {},
   "outputs": [
    {
     "data": {
      "image/png": "[encoded data removed]",
      "text/plain": [
       "<Figure size 640x480 with 1 Axes>"
      ]
     },
     "metadata": {},
     "output_type": "display_data"
    }
   ],
   "source": [
    "gossip_graph = nx.DiGraph()\n",
    "\n",
    "# Step 2: Add nodes for each recurrent character\n",
    "gossip_graph.add_nodes_from(recurrent_chars.index)\n",
    "\n",
    "# Step 3: Iterate through lines and update the graph with directed edges and weights\n",
    "for _, row in filtered_lines.iterrows():\n",
    "    character = row['Character']\n",
    "    \n",
    "    # Update the graph with directed edges and weights\n",
    "    for gossip_target in recurrent_chars.index:\n",
    "        if row[f'{gossip_target}_gossip']:\n",
    "            # Check if the edge already exists\n",
    "            if gossip_graph.has_edge(character, gossip_target):\n",
    "                # Increment the weight\n",
    "                gossip_graph[character][gossip_target]['weight'] += 1\n",
    "            else:\n",
    "                # Add a new directed edge with weight 1\n",
    "                gossip_graph.add_edge(character, gossip_target, weight=1)\n",
    "\n",
    "# Step 4: Display the graph\n",
    "pos = nx.spring_layout(gossip_graph)  # Choose a layout algorithm\n",
    "labels = nx.get_edge_attributes(gossip_graph, 'weight')\n",
    "nx.draw(gossip_graph, pos, with_labels=True, font_size=8, node_size=800, node_color='lightcoral', arrowsize=12)\n",
    "nx.draw_networkx_edge_labels(gossip_graph, pos, edge_labels=labels)\n",
    "\n",
    "plt.title(\"Gossip Graph\")\n",
    "plt.show()"
   ]
  },
  {
   "cell_type": "markdown",
   "metadata": {},
   "source": [
    "Now, answer the following questions:\n",
    "\n",
    "**Q9**. (5 points) Sheldon claims that every character in the show is familiar with everyone else through at most one intermediary. Based on the familiarity graph, is this true? If not, at most how many intermediaries are needed?"
   ]
  },
  {
   "cell_type": "code",
   "execution_count": 49,
   "metadata": {
    "collapsed": true
   },
   "outputs": [
    {
     "name": "stdout",
     "output_type": "stream",
     "text": [
      "The familiarity graph is not connected. Analyze connected components or take other actions.\n"
     ]
    }
   ],
   "source": [
    "    # Check if the graph is connected\n",
    "    is_connected = nx.is_connected(familiarity_graph)\n",
    "\n",
    "    if is_connected:\n",
    "        # Calculate the diameter of the familiarity graph\n",
    "        diameter = nx.diameter(familiarity_graph)\n",
    "    \n",
    "    # Check if every character is familiar with everyone else through at most one intermediary\n",
    "    is_true = diameter == 1\n",
    "\n",
    "    # Print the result\n",
    "    if is_true:\n",
    "        print(\"Sheldon's claim is true.\")\n",
    "    else:\n",
    "        print(f\"Sheldon's claim is not true. At most {diameter} intermediaries are needed.\")\n",
    "else:\n",
    "    print(\"The familiarity graph is not connected. Analyze connected components or take other actions.\")"
   ]
  },
  {
   "cell_type": "markdown",
   "metadata": {},
   "source": [
    "**Q10**. (5 points) Who is the character through whom the largest number of these indirect familiarities happen? Calculate an appropriate centrality metric on the familiarity graph to answer this question. You can use the package networkx for this section."
   ]
  },
  {
   "cell_type": "code",
   "execution_count": 50,
   "metadata": {
    "collapsed": true
   },
   "outputs": [
    {
     "name": "stdout",
     "output_type": "stream",
     "text": [
      "The character with the highest betweenness centrality is 'Amy' with a value of 0.03413217138707335.\n"
     ]
    }
   ],
   "source": [
    "betweenness_centrality = nx.betweenness_centrality(familiarity_graph)\n",
    "\n",
    "# Find the character with the highest betweenness centrality\n",
    "max_betweenness_char = max(betweenness_centrality, key=betweenness_centrality.get)\n",
    "max_betweenness_value = betweenness_centrality[max_betweenness_char]\n",
    "\n",
    "# Print the result\n",
    "print(f\"The character with the highest betweenness centrality is '{max_betweenness_char}' with a value of {max_betweenness_value}.\")"
   ]
  },
  {
   "cell_type": "markdown",
   "metadata": {},
   "source": [
    "**Q11**. (2.5 points) Another claim of Sheldon's is that every recurrent character in the show gossips about all the other recurrent characters. What property of the gossip graph would correspond to this? Does the gossip graph possess that property? If not, then is it the case that for every pair of recurrent characters, at least one gossips about the other? What property would this correspond to?"
   ]
  },
  {
   "cell_type": "code",
   "execution_count": 51,
   "metadata": {
    "collapsed": true
   },
   "outputs": [
    {
     "name": "stdout",
     "output_type": "stream",
     "text": [
      "The gossip graph does not possess the property of a complete graph.\n",
      "Not every pair of recurrent characters has at least one gossip edge. Character Amy and Emily do not have a gossip edge between them.\n",
      "Not every pair of recurrent characters has at least one gossip edge. Character Amy and Leslie do not have a gossip edge between them.\n",
      "Not every pair of recurrent characters has at least one gossip edge. Character Amy and Mrs Cooper do not have a gossip edge between them.\n",
      "Not every pair of recurrent characters has at least one gossip edge. Character Amy and Mrs Wolowitz do not have a gossip edge between them.\n",
      "Not every pair of recurrent characters has at least one gossip edge. Character Arthur and Bernadette do not have a gossip edge between them.\n",
      "Not every pair of recurrent characters has at least one gossip edge. Character Arthur and Bert do not have a gossip edge between them.\n",
      "Not every pair of recurrent characters has at least one gossip edge. Character Arthur and Beverley do not have a gossip edge between them.\n",
      "Not every pair of recurrent characters has at least one gossip edge. Character Arthur and Emily do not have a gossip edge between them.\n",
      "Not every pair of recurrent characters has at least one gossip edge. Character Arthur and Howard do not have a gossip edge between them.\n",
      "Not every pair of recurrent characters has at least one gossip edge. Character Arthur and Kripke do not have a gossip edge between them.\n",
      "Not every pair of recurrent characters has at least one gossip edge. Character Arthur and Leslie do not have a gossip edge between them.\n",
      "Not every pair of recurrent characters has at least one gossip edge. Character Arthur and Mrs Cooper do not have a gossip edge between them.\n",
      "Not every pair of recurrent characters has at least one gossip edge. Character Arthur and Mrs Wolowitz do not have a gossip edge between them.\n",
      "Not every pair of recurrent characters has at least one gossip edge. Character Arthur and Priya do not have a gossip edge between them.\n",
      "Not every pair of recurrent characters has at least one gossip edge. Character Arthur and Raj do not have a gossip edge between them.\n",
      "Not every pair of recurrent characters has at least one gossip edge. Character Arthur and Stuart do not have a gossip edge between them.\n",
      "Not every pair of recurrent characters has at least one gossip edge. Character Arthur and Wil do not have a gossip edge between them.\n",
      "Not every pair of recurrent characters has at least one gossip edge. Character Arthur and Zack do not have a gossip edge between them.\n",
      "Not every pair of recurrent characters has at least one gossip edge. Character Bernadette and Arthur do not have a gossip edge between them.\n",
      "Not every pair of recurrent characters has at least one gossip edge. Character Bernadette and Beverley do not have a gossip edge between them.\n",
      "Not every pair of recurrent characters has at least one gossip edge. Character Bernadette and Kripke do not have a gossip edge between them.\n",
      "Not every pair of recurrent characters has at least one gossip edge. Character Bernadette and Leslie do not have a gossip edge between them.\n",
      "Not every pair of recurrent characters has at least one gossip edge. Character Bernadette and Mrs Cooper do not have a gossip edge between them.\n",
      "Not every pair of recurrent characters has at least one gossip edge. Character Bernadette and Mrs Wolowitz do not have a gossip edge between them.\n",
      "Not every pair of recurrent characters has at least one gossip edge. Character Bernadette and Wil do not have a gossip edge between them.\n",
      "Not every pair of recurrent characters has at least one gossip edge. Character Bernadette and Zack do not have a gossip edge between them.\n",
      "Not every pair of recurrent characters has at least one gossip edge. Character Bert and Arthur do not have a gossip edge between them.\n",
      "Not every pair of recurrent characters has at least one gossip edge. Character Bert and Beverley do not have a gossip edge between them.\n",
      "Not every pair of recurrent characters has at least one gossip edge. Character Bert and Emily do not have a gossip edge between them.\n",
      "Not every pair of recurrent characters has at least one gossip edge. Character Bert and Kripke do not have a gossip edge between them.\n",
      "Not every pair of recurrent characters has at least one gossip edge. Character Bert and Leslie do not have a gossip edge between them.\n",
      "Not every pair of recurrent characters has at least one gossip edge. Character Bert and Mrs Cooper do not have a gossip edge between them.\n",
      "Not every pair of recurrent characters has at least one gossip edge. Character Bert and Mrs Wolowitz do not have a gossip edge between them.\n",
      "Not every pair of recurrent characters has at least one gossip edge. Character Bert and Priya do not have a gossip edge between them.\n",
      "Not every pair of recurrent characters has at least one gossip edge. Character Bert and Stuart do not have a gossip edge between them.\n",
      "Not every pair of recurrent characters has at least one gossip edge. Character Bert and Wil do not have a gossip edge between them.\n",
      "Not every pair of recurrent characters has at least one gossip edge. Character Bert and Zack do not have a gossip edge between them.\n",
      "Not every pair of recurrent characters has at least one gossip edge. Character Beverley and Arthur do not have a gossip edge between them.\n",
      "Not every pair of recurrent characters has at least one gossip edge. Character Beverley and Bernadette do not have a gossip edge between them.\n",
      "Not every pair of recurrent characters has at least one gossip edge. Character Beverley and Bert do not have a gossip edge between them.\n",
      "Not every pair of recurrent characters has at least one gossip edge. Character Beverley and Emily do not have a gossip edge between them.\n",
      "Not every pair of recurrent characters has at least one gossip edge. Character Beverley and Kripke do not have a gossip edge between them.\n",
      "Not every pair of recurrent characters has at least one gossip edge. Character Beverley and Leslie do not have a gossip edge between them.\n",
      "Not every pair of recurrent characters has at least one gossip edge. Character Beverley and Mrs Cooper do not have a gossip edge between them.\n",
      "Not every pair of recurrent characters has at least one gossip edge. Character Beverley and Mrs Wolowitz do not have a gossip edge between them.\n",
      "Not every pair of recurrent characters has at least one gossip edge. Character Beverley and Priya do not have a gossip edge between them.\n",
      "Not every pair of recurrent characters has at least one gossip edge. Character Beverley and Raj do not have a gossip edge between them.\n",
      "Not every pair of recurrent characters has at least one gossip edge. Character Beverley and Stuart do not have a gossip edge between them.\n",
      "Not every pair of recurrent characters has at least one gossip edge. Character Beverley and Wil do not have a gossip edge between them.\n",
      "Not every pair of recurrent characters has at least one gossip edge. Character Beverley and Zack do not have a gossip edge between them.\n",
      "Not every pair of recurrent characters has at least one gossip edge. Character Emily and Amy do not have a gossip edge between them.\n",
      "Not every pair of recurrent characters has at least one gossip edge. Character Emily and Arthur do not have a gossip edge between them.\n",
      "Not every pair of recurrent characters has at least one gossip edge. Character Emily and Bert do not have a gossip edge between them.\n",
      "Not every pair of recurrent characters has at least one gossip edge. Character Emily and Beverley do not have a gossip edge between them.\n",
      "Not every pair of recurrent characters has at least one gossip edge. Character Emily and Kripke do not have a gossip edge between them.\n",
      "Not every pair of recurrent characters has at least one gossip edge. Character Emily and Leslie do not have a gossip edge between them.\n",
      "Not every pair of recurrent characters has at least one gossip edge. Character Emily and Mrs Cooper do not have a gossip edge between them.\n",
      "Not every pair of recurrent characters has at least one gossip edge. Character Emily and Mrs Wolowitz do not have a gossip edge between them.\n",
      "Not every pair of recurrent characters has at least one gossip edge. Character Emily and Priya do not have a gossip edge between them.\n",
      "Not every pair of recurrent characters has at least one gossip edge. Character Emily and Stuart do not have a gossip edge between them.\n",
      "Not every pair of recurrent characters has at least one gossip edge. Character Emily and Wil do not have a gossip edge between them.\n",
      "Not every pair of recurrent characters has at least one gossip edge. Character Emily and Zack do not have a gossip edge between them.\n",
      "Not every pair of recurrent characters has at least one gossip edge. Character Howard and Arthur do not have a gossip edge between them.\n",
      "Not every pair of recurrent characters has at least one gossip edge. Character Howard and Mrs Cooper do not have a gossip edge between them.\n",
      "Not every pair of recurrent characters has at least one gossip edge. Character Howard and Mrs Wolowitz do not have a gossip edge between them.\n",
      "Not every pair of recurrent characters has at least one gossip edge. Character Kripke and Arthur do not have a gossip edge between them.\n",
      "Not every pair of recurrent characters has at least one gossip edge. Character Kripke and Bernadette do not have a gossip edge between them.\n",
      "Not every pair of recurrent characters has at least one gossip edge. Character Kripke and Bert do not have a gossip edge between them.\n",
      "Not every pair of recurrent characters has at least one gossip edge. Character Kripke and Beverley do not have a gossip edge between them.\n",
      "Not every pair of recurrent characters has at least one gossip edge. Character Kripke and Emily do not have a gossip edge between them.\n",
      "Not every pair of recurrent characters has at least one gossip edge. Character Kripke and Leslie do not have a gossip edge between them.\n",
      "Not every pair of recurrent characters has at least one gossip edge. Character Kripke and Mrs Cooper do not have a gossip edge between them.\n",
      "Not every pair of recurrent characters has at least one gossip edge. Character Kripke and Mrs Wolowitz do not have a gossip edge between them.\n",
      "Not every pair of recurrent characters has at least one gossip edge. Character Kripke and Priya do not have a gossip edge between them.\n",
      "Not every pair of recurrent characters has at least one gossip edge. Character Kripke and Stuart do not have a gossip edge between them.\n",
      "Not every pair of recurrent characters has at least one gossip edge. Character Kripke and Wil do not have a gossip edge between them.\n",
      "Not every pair of recurrent characters has at least one gossip edge. Character Kripke and Zack do not have a gossip edge between them.\n",
      "Not every pair of recurrent characters has at least one gossip edge. Character Leonard and Mrs Cooper do not have a gossip edge between them.\n",
      "Not every pair of recurrent characters has at least one gossip edge. Character Leonard and Mrs Wolowitz do not have a gossip edge between them.\n",
      "Not every pair of recurrent characters has at least one gossip edge. Character Leslie and Amy do not have a gossip edge between them.\n",
      "Not every pair of recurrent characters has at least one gossip edge. Character Leslie and Arthur do not have a gossip edge between them.\n",
      "Not every pair of recurrent characters has at least one gossip edge. Character Leslie and Bernadette do not have a gossip edge between them.\n",
      "Not every pair of recurrent characters has at least one gossip edge. Character Leslie and Bert do not have a gossip edge between them.\n",
      "Not every pair of recurrent characters has at least one gossip edge. Character Leslie and Beverley do not have a gossip edge between them.\n",
      "Not every pair of recurrent characters has at least one gossip edge. Character Leslie and Emily do not have a gossip edge between them.\n",
      "Not every pair of recurrent characters has at least one gossip edge. Character Leslie and Kripke do not have a gossip edge between them.\n",
      "Not every pair of recurrent characters has at least one gossip edge. Character Leslie and Mrs Cooper do not have a gossip edge between them.\n",
      "Not every pair of recurrent characters has at least one gossip edge. Character Leslie and Mrs Wolowitz do not have a gossip edge between them.\n",
      "Not every pair of recurrent characters has at least one gossip edge. Character Leslie and Priya do not have a gossip edge between them.\n",
      "Not every pair of recurrent characters has at least one gossip edge. Character Leslie and Stuart do not have a gossip edge between them.\n",
      "Not every pair of recurrent characters has at least one gossip edge. Character Leslie and Wil do not have a gossip edge between them.\n",
      "Not every pair of recurrent characters has at least one gossip edge. Character Leslie and Zack do not have a gossip edge between them.\n",
      "Not every pair of recurrent characters has at least one gossip edge. Character Mrs Cooper and Amy do not have a gossip edge between them.\n",
      "Not every pair of recurrent characters has at least one gossip edge. Character Mrs Cooper and Arthur do not have a gossip edge between them.\n",
      "Not every pair of recurrent characters has at least one gossip edge. Character Mrs Cooper and Bernadette do not have a gossip edge between them.\n",
      "Not every pair of recurrent characters has at least one gossip edge. Character Mrs Cooper and Bert do not have a gossip edge between them.\n",
      "Not every pair of recurrent characters has at least one gossip edge. Character Mrs Cooper and Beverley do not have a gossip edge between them.\n",
      "Not every pair of recurrent characters has at least one gossip edge. Character Mrs Cooper and Emily do not have a gossip edge between them.\n",
      "Not every pair of recurrent characters has at least one gossip edge. Character Mrs Cooper and Howard do not have a gossip edge between them.\n",
      "Not every pair of recurrent characters has at least one gossip edge. Character Mrs Cooper and Kripke do not have a gossip edge between them.\n",
      "Not every pair of recurrent characters has at least one gossip edge. Character Mrs Cooper and Leonard do not have a gossip edge between them.\n",
      "Not every pair of recurrent characters has at least one gossip edge. Character Mrs Cooper and Leslie do not have a gossip edge between them.\n",
      "Not every pair of recurrent characters has at least one gossip edge. Character Mrs Cooper and Mrs Wolowitz do not have a gossip edge between them.\n",
      "Not every pair of recurrent characters has at least one gossip edge. Character Mrs Cooper and Penny do not have a gossip edge between them.\n",
      "Not every pair of recurrent characters has at least one gossip edge. Character Mrs Cooper and Priya do not have a gossip edge between them.\n",
      "Not every pair of recurrent characters has at least one gossip edge. Character Mrs Cooper and Raj do not have a gossip edge between them.\n",
      "Not every pair of recurrent characters has at least one gossip edge. Character Mrs Cooper and Sheldon do not have a gossip edge between them.\n",
      "Not every pair of recurrent characters has at least one gossip edge. Character Mrs Cooper and Stuart do not have a gossip edge between them.\n",
      "Not every pair of recurrent characters has at least one gossip edge. Character Mrs Cooper and Wil do not have a gossip edge between them.\n",
      "Not every pair of recurrent characters has at least one gossip edge. Character Mrs Cooper and Zack do not have a gossip edge between them.\n",
      "Not every pair of recurrent characters has at least one gossip edge. Character Mrs Wolowitz and Amy do not have a gossip edge between them.\n",
      "Not every pair of recurrent characters has at least one gossip edge. Character Mrs Wolowitz and Arthur do not have a gossip edge between them.\n",
      "Not every pair of recurrent characters has at least one gossip edge. Character Mrs Wolowitz and Bernadette do not have a gossip edge between them.\n",
      "Not every pair of recurrent characters has at least one gossip edge. Character Mrs Wolowitz and Bert do not have a gossip edge between them.\n",
      "Not every pair of recurrent characters has at least one gossip edge. Character Mrs Wolowitz and Beverley do not have a gossip edge between them.\n",
      "Not every pair of recurrent characters has at least one gossip edge. Character Mrs Wolowitz and Emily do not have a gossip edge between them.\n",
      "Not every pair of recurrent characters has at least one gossip edge. Character Mrs Wolowitz and Howard do not have a gossip edge between them.\n",
      "Not every pair of recurrent characters has at least one gossip edge. Character Mrs Wolowitz and Kripke do not have a gossip edge between them.\n",
      "Not every pair of recurrent characters has at least one gossip edge. Character Mrs Wolowitz and Leonard do not have a gossip edge between them.\n",
      "Not every pair of recurrent characters has at least one gossip edge. Character Mrs Wolowitz and Leslie do not have a gossip edge between them.\n",
      "Not every pair of recurrent characters has at least one gossip edge. Character Mrs Wolowitz and Mrs Cooper do not have a gossip edge between them.\n",
      "Not every pair of recurrent characters has at least one gossip edge. Character Mrs Wolowitz and Penny do not have a gossip edge between them.\n",
      "Not every pair of recurrent characters has at least one gossip edge. Character Mrs Wolowitz and Priya do not have a gossip edge between them.\n",
      "Not every pair of recurrent characters has at least one gossip edge. Character Mrs Wolowitz and Raj do not have a gossip edge between them.\n",
      "Not every pair of recurrent characters has at least one gossip edge. Character Mrs Wolowitz and Sheldon do not have a gossip edge between them.\n",
      "Not every pair of recurrent characters has at least one gossip edge. Character Mrs Wolowitz and Stuart do not have a gossip edge between them.\n",
      "Not every pair of recurrent characters has at least one gossip edge. Character Mrs Wolowitz and Wil do not have a gossip edge between them.\n",
      "Not every pair of recurrent characters has at least one gossip edge. Character Mrs Wolowitz and Zack do not have a gossip edge between them.\n",
      "Not every pair of recurrent characters has at least one gossip edge. Character Penny and Mrs Cooper do not have a gossip edge between them.\n",
      "Not every pair of recurrent characters has at least one gossip edge. Character Penny and Mrs Wolowitz do not have a gossip edge between them.\n",
      "Not every pair of recurrent characters has at least one gossip edge. Character Priya and Arthur do not have a gossip edge between them.\n",
      "Not every pair of recurrent characters has at least one gossip edge. Character Priya and Bert do not have a gossip edge between them.\n",
      "Not every pair of recurrent characters has at least one gossip edge. Character Priya and Beverley do not have a gossip edge between them.\n",
      "Not every pair of recurrent characters has at least one gossip edge. Character Priya and Emily do not have a gossip edge between them.\n",
      "Not every pair of recurrent characters has at least one gossip edge. Character Priya and Kripke do not have a gossip edge between them.\n",
      "Not every pair of recurrent characters has at least one gossip edge. Character Priya and Leslie do not have a gossip edge between them.\n",
      "Not every pair of recurrent characters has at least one gossip edge. Character Priya and Mrs Cooper do not have a gossip edge between them.\n",
      "Not every pair of recurrent characters has at least one gossip edge. Character Priya and Mrs Wolowitz do not have a gossip edge between them.\n",
      "Not every pair of recurrent characters has at least one gossip edge. Character Priya and Stuart do not have a gossip edge between them.\n",
      "Not every pair of recurrent characters has at least one gossip edge. Character Priya and Wil do not have a gossip edge between them.\n",
      "Not every pair of recurrent characters has at least one gossip edge. Character Priya and Zack do not have a gossip edge between them.\n",
      "Not every pair of recurrent characters has at least one gossip edge. Character Raj and Arthur do not have a gossip edge between them.\n",
      "Not every pair of recurrent characters has at least one gossip edge. Character Raj and Beverley do not have a gossip edge between them.\n",
      "Not every pair of recurrent characters has at least one gossip edge. Character Raj and Mrs Cooper do not have a gossip edge between them.\n",
      "Not every pair of recurrent characters has at least one gossip edge. Character Raj and Mrs Wolowitz do not have a gossip edge between them.\n",
      "Not every pair of recurrent characters has at least one gossip edge. Character Sheldon and Mrs Cooper do not have a gossip edge between them.\n",
      "Not every pair of recurrent characters has at least one gossip edge. Character Sheldon and Mrs Wolowitz do not have a gossip edge between them.\n",
      "Not every pair of recurrent characters has at least one gossip edge. Character Stuart and Arthur do not have a gossip edge between them.\n",
      "Not every pair of recurrent characters has at least one gossip edge. Character Stuart and Bert do not have a gossip edge between them.\n",
      "Not every pair of recurrent characters has at least one gossip edge. Character Stuart and Beverley do not have a gossip edge between them.\n",
      "Not every pair of recurrent characters has at least one gossip edge. Character Stuart and Emily do not have a gossip edge between them.\n",
      "Not every pair of recurrent characters has at least one gossip edge. Character Stuart and Kripke do not have a gossip edge between them.\n",
      "Not every pair of recurrent characters has at least one gossip edge. Character Stuart and Leslie do not have a gossip edge between them.\n",
      "Not every pair of recurrent characters has at least one gossip edge. Character Stuart and Mrs Cooper do not have a gossip edge between them.\n",
      "Not every pair of recurrent characters has at least one gossip edge. Character Stuart and Mrs Wolowitz do not have a gossip edge between them.\n",
      "Not every pair of recurrent characters has at least one gossip edge. Character Stuart and Priya do not have a gossip edge between them.\n",
      "Not every pair of recurrent characters has at least one gossip edge. Character Stuart and Zack do not have a gossip edge between them.\n",
      "Not every pair of recurrent characters has at least one gossip edge. Character Wil and Arthur do not have a gossip edge between them.\n",
      "Not every pair of recurrent characters has at least one gossip edge. Character Wil and Bernadette do not have a gossip edge between them.\n",
      "Not every pair of recurrent characters has at least one gossip edge. Character Wil and Bert do not have a gossip edge between them.\n",
      "Not every pair of recurrent characters has at least one gossip edge. Character Wil and Beverley do not have a gossip edge between them.\n",
      "Not every pair of recurrent characters has at least one gossip edge. Character Wil and Emily do not have a gossip edge between them.\n",
      "Not every pair of recurrent characters has at least one gossip edge. Character Wil and Kripke do not have a gossip edge between them.\n",
      "Not every pair of recurrent characters has at least one gossip edge. Character Wil and Leslie do not have a gossip edge between them.\n",
      "Not every pair of recurrent characters has at least one gossip edge. Character Wil and Mrs Cooper do not have a gossip edge between them.\n",
      "Not every pair of recurrent characters has at least one gossip edge. Character Wil and Mrs Wolowitz do not have a gossip edge between them.\n",
      "Not every pair of recurrent characters has at least one gossip edge. Character Wil and Priya do not have a gossip edge between them.\n",
      "Not every pair of recurrent characters has at least one gossip edge. Character Wil and Zack do not have a gossip edge between them.\n",
      "Not every pair of recurrent characters has at least one gossip edge. Character Zack and Arthur do not have a gossip edge between them.\n",
      "Not every pair of recurrent characters has at least one gossip edge. Character Zack and Bernadette do not have a gossip edge between them.\n",
      "Not every pair of recurrent characters has at least one gossip edge. Character Zack and Bert do not have a gossip edge between them.\n",
      "Not every pair of recurrent characters has at least one gossip edge. Character Zack and Beverley do not have a gossip edge between them.\n",
      "Not every pair of recurrent characters has at least one gossip edge. Character Zack and Emily do not have a gossip edge between them.\n",
      "Not every pair of recurrent characters has at least one gossip edge. Character Zack and Kripke do not have a gossip edge between them.\n",
      "Not every pair of recurrent characters has at least one gossip edge. Character Zack and Leslie do not have a gossip edge between them.\n",
      "Not every pair of recurrent characters has at least one gossip edge. Character Zack and Mrs Cooper do not have a gossip edge between them.\n",
      "Not every pair of recurrent characters has at least one gossip edge. Character Zack and Mrs Wolowitz do not have a gossip edge between them.\n",
      "Not every pair of recurrent characters has at least one gossip edge. Character Zack and Priya do not have a gossip edge between them.\n",
      "Not every pair of recurrent characters has at least one gossip edge. Character Zack and Stuart do not have a gossip edge between them.\n",
      "Not every pair of recurrent characters has at least one gossip edge. Character Zack and Wil do not have a gossip edge between them.\n"
     ]
    }
   ],
   "source": [
    "# Calculate the number of nodes and edges in the gossip graph\n",
    "num_nodes = len(gossip_graph.nodes)\n",
    "num_edges = len(gossip_graph.edges)\n",
    "\n",
    "# Check if the gossip graph is complete\n",
    "is_complete = num_edges == num_nodes * (num_nodes - 1)\n",
    "\n",
    "# Print the result\n",
    "if is_complete:\n",
    "    print(\"The gossip graph possesses the property of a complete graph.\")\n",
    "else:\n",
    "    print(\"The gossip graph does not possess the property of a complete graph.\")\n",
    "\n",
    "# Check if for every pair of recurrent characters, at least one gossips about the other\n",
    "for char1 in gossip_graph.nodes:\n",
    "    for char2 in gossip_graph.nodes:\n",
    "        if char1 != char2:\n",
    "            if not gossip_graph.has_edge(char1, char2) and not gossip_graph.has_edge(char2, char1):\n",
    "                print(f\"Not every pair of recurrent characters has at least one gossip edge. Character {char1} and {char2} do not have a gossip edge between them.\")"
   ]
  },
  {
   "cell_type": "markdown",
   "metadata": {},
   "source": [
    "**Q12**. (5 points) Use the gossip graph and the familiarity graph to figure out if for every pair of recurrent characters, one of them has gossiped about the other if and only if they know each other. Explain your method - the simpler, the better."
   ]
  },
  {
   "cell_type": "code",
   "execution_count": 52,
   "metadata": {
    "collapsed": true
   },
   "outputs": [
    {
     "name": "stdout",
     "output_type": "stream",
     "text": [
      "Error: There is an edge in the familiarity graph between Amy and Beverley, but no directed edge from Amy to Beverley in the gossip graph.\n",
      "Error: There is an edge in the familiarity graph between Amy and Emily, but no directed edge from Amy to Emily in the gossip graph.\n",
      "Error: There is an edge in the familiarity graph between Amy and Leslie, but no directed edge from Amy to Leslie in the gossip graph.\n",
      "Error: There is an edge in the familiarity graph between Arthur and Howard, but no directed edge from Arthur to Howard in the gossip graph.\n",
      "Error: There is an edge in the familiarity graph between Arthur and Penny, but no directed edge from Arthur to Penny in the gossip graph.\n",
      "Error: There is an edge in the familiarity graph between Arthur and Raj, but no directed edge from Arthur to Raj in the gossip graph.\n",
      "Error: There is no edge in the familiarity graph between Bernadette and Bert, but there is a directed edge from Bernadette to Bert in the gossip graph.\n",
      "Error: There is an edge in the familiarity graph between Bernadette and Beverley, but no directed edge from Bernadette to Beverley in the gossip graph.\n",
      "Error: There is an edge in the familiarity graph between Bernadette and Leslie, but no directed edge from Bernadette to Leslie in the gossip graph.\n",
      "Error: There is an edge in the familiarity graph between Bernadette and Wil, but no directed edge from Bernadette to Wil in the gossip graph.\n",
      "Error: There is an edge in the familiarity graph between Bernadette and Zack, but no directed edge from Bernadette to Zack in the gossip graph.\n",
      "Error: There is an edge in the familiarity graph between Bert and Leonard, but no directed edge from Bert to Leonard in the gossip graph.\n",
      "Error: There is an edge in the familiarity graph between Bert and Penny, but no directed edge from Bert to Penny in the gossip graph.\n",
      "Error: There is an edge in the familiarity graph between Bert and Raj, but no directed edge from Bert to Raj in the gossip graph.\n",
      "Error: There is an edge in the familiarity graph between Bert and Stuart, but no directed edge from Bert to Stuart in the gossip graph.\n",
      "Error: There is an edge in the familiarity graph between Beverley and Bernadette, but no directed edge from Beverley to Bernadette in the gossip graph.\n",
      "Error: There is an edge in the familiarity graph between Beverley and Leslie, but no directed edge from Beverley to Leslie in the gossip graph.\n",
      "Error: There is an edge in the familiarity graph between Beverley and Raj, but no directed edge from Beverley to Raj in the gossip graph.\n",
      "Error: There is an edge in the familiarity graph between Beverley and Stuart, but no directed edge from Beverley to Stuart in the gossip graph.\n",
      "Error: There is an edge in the familiarity graph between Beverley and Wil, but no directed edge from Beverley to Wil in the gossip graph.\n",
      "Error: There is an edge in the familiarity graph between Emily and Amy, but no directed edge from Emily to Amy in the gossip graph.\n",
      "Error: There is an edge in the familiarity graph between Emily and Bernadette, but no directed edge from Emily to Bernadette in the gossip graph.\n",
      "Error: There is an edge in the familiarity graph between Emily and Stuart, but no directed edge from Emily to Stuart in the gossip graph.\n",
      "Error: There is an edge in the familiarity graph between Emily and Wil, but no directed edge from Emily to Wil in the gossip graph.\n",
      "Error: There is an edge in the familiarity graph between Howard and Arthur, but no directed edge from Howard to Arthur in the gossip graph.\n",
      "Error: There is an edge in the familiarity graph between Howard and Beverley, but no directed edge from Howard to Beverley in the gossip graph.\n",
      "Error: There is an edge in the familiarity graph between Kripke and Amy, but no directed edge from Kripke to Amy in the gossip graph.\n",
      "Error: There is an edge in the familiarity graph between Kripke and Leonard, but no directed edge from Kripke to Leonard in the gossip graph.\n",
      "Error: There is an edge in the familiarity graph between Kripke and Penny, but no directed edge from Kripke to Penny in the gossip graph.\n",
      "Error: There is an edge in the familiarity graph between Kripke and Stuart, but no directed edge from Kripke to Stuart in the gossip graph.\n",
      "Error: There is an edge in the familiarity graph between Kripke and Wil, but no directed edge from Kripke to Wil in the gossip graph.\n",
      "Error: There is an edge in the familiarity graph between Leslie and Amy, but no directed edge from Leslie to Amy in the gossip graph.\n",
      "Error: There is an edge in the familiarity graph between Leslie and Bernadette, but no directed edge from Leslie to Bernadette in the gossip graph.\n",
      "Error: There is an edge in the familiarity graph between Leslie and Beverley, but no directed edge from Leslie to Beverley in the gossip graph.\n",
      "Error: There is an edge in the familiarity graph between Leslie and Raj, but no directed edge from Leslie to Raj in the gossip graph.\n",
      "Error: There is an edge in the familiarity graph between Leslie and Stuart, but no directed edge from Leslie to Stuart in the gossip graph.\n",
      "Error: There is an edge in the familiarity graph between Leslie and Wil, but no directed edge from Leslie to Wil in the gossip graph.\n",
      "Error: There is an edge in the familiarity graph between Priya and Amy, but no directed edge from Priya to Amy in the gossip graph.\n",
      "Error: There is an edge in the familiarity graph between Raj and Arthur, but no directed edge from Raj to Arthur in the gossip graph.\n",
      "Error: There is an edge in the familiarity graph between Raj and Beverley, but no directed edge from Raj to Beverley in the gossip graph.\n",
      "Error: There is an edge in the familiarity graph between Stuart and Bert, but no directed edge from Stuart to Bert in the gossip graph.\n",
      "Error: There is an edge in the familiarity graph between Stuart and Beverley, but no directed edge from Stuart to Beverley in the gossip graph.\n",
      "Error: There is an edge in the familiarity graph between Stuart and Emily, but no directed edge from Stuart to Emily in the gossip graph.\n",
      "Error: There is an edge in the familiarity graph between Stuart and Kripke, but no directed edge from Stuart to Kripke in the gossip graph.\n",
      "Error: There is an edge in the familiarity graph between Stuart and Leslie, but no directed edge from Stuart to Leslie in the gossip graph.\n",
      "Error: There is an edge in the familiarity graph between Stuart and Zack, but no directed edge from Stuart to Zack in the gossip graph.\n",
      "Error: There is an edge in the familiarity graph between Wil and Bernadette, but no directed edge from Wil to Bernadette in the gossip graph.\n",
      "Error: There is an edge in the familiarity graph between Wil and Beverley, but no directed edge from Wil to Beverley in the gossip graph.\n",
      "Error: There is an edge in the familiarity graph between Wil and Emily, but no directed edge from Wil to Emily in the gossip graph.\n",
      "Error: There is an edge in the familiarity graph between Wil and Kripke, but no directed edge from Wil to Kripke in the gossip graph.\n",
      "Error: There is an edge in the familiarity graph between Wil and Leslie, but no directed edge from Wil to Leslie in the gossip graph.\n",
      "Error: There is an edge in the familiarity graph between Wil and Raj, but no directed edge from Wil to Raj in the gossip graph.\n",
      "Error: There is an edge in the familiarity graph between Wil and Stuart, but no directed edge from Wil to Stuart in the gossip graph.\n",
      "Error: There is an edge in the familiarity graph between Zack and Amy, but no directed edge from Zack to Amy in the gossip graph.\n",
      "Error: There is an edge in the familiarity graph between Zack and Bernadette, but no directed edge from Zack to Bernadette in the gossip graph.\n",
      "Error: There is an edge in the familiarity graph between Zack and Howard, but no directed edge from Zack to Howard in the gossip graph.\n",
      "Error: There is an edge in the familiarity graph between Zack and Raj, but no directed edge from Zack to Raj in the gossip graph.\n",
      "Error: There is an edge in the familiarity graph between Zack and Sheldon, but no directed edge from Zack to Sheldon in the gossip graph.\n",
      "Error: There is an edge in the familiarity graph between Zack and Stuart, but no directed edge from Zack to Stuart in the gossip graph.\n"
     ]
    }
   ],
   "source": [
    "for char1 in familiarity_graph.nodes:\n",
    "    for char2 in familiarity_graph.nodes:\n",
    "        if char1 != char2:\n",
    "            # Check if there is an edge in the familiarity graph\n",
    "            if familiarity_graph.has_edge(char1, char2):\n",
    "                # If there is an edge, check if there is a directed edge from char1 to char2 in the gossip graph\n",
    "                if not gossip_graph.has_edge(char1, char2):\n",
    "                    print(f\"Error: There is an edge in the familiarity graph between {char1} and {char2}, but no directed edge from {char1} to {char2} in the gossip graph.\")\n",
    "            else:\n",
    "                # If there is no edge, make sure there is no directed edge from char1 to char2 in the gossip graph\n",
    "                if gossip_graph.has_edge(char1, char2):\n",
    "                    print(f\"Error: There is no edge in the familiarity graph between {char1} and {char2}, but there is a directed edge from {char1} to {char2} in the gossip graph.\")"
   ]
  },
  {
   "cell_type": "markdown",
   "metadata": {},
   "source": [
    "## Task D: The Detective's Hat (30 points)\n",
    "\n",
    "Sheldon claims that given a dialogue line, he can, with an accuracy of above 70%, say whether it's by himself or by someone else. Leonard contests this claim, since he believes that this claimed accuracy is too high. Leonard also suspects that it's easier for Sheldon to distinguish the lines that _aren't_ his, rather than those that _are_. We want you to put on the (proverbial) detective's hat and to investigate this claim.\n",
    "\n",
    "**Q13**. (7.5 points) Divide the set of all dialogue lines into two subsets: the training set, consisting of all the seasons except the last two, and the test set, consisting of the last two seasons. Each of your data points (which is one row of your matrix) is one **dialogue line**. Now, use the scikit-learn class **TfIdfVectorizer** to create TF-IDF representations for the data points in your training and test sets. Note that since you're going to train a machine learning model, everything used in the training needs to be independent of the test set. As a preprocessing step, remove stopwords and words that appear only once from your vocabulary. Use the simple tokenizer provided in `helpers/helper_functions.py` as an input to the TfidfVectorizer class, and use the words provided in `helpers/stopwords.txt` as your stopwords."
   ]
  },
  {
   "cell_type": "code",
   "execution_count": 57,
   "metadata": {
    "collapsed": true
   },
   "outputs": [
    {
     "data": {
      "text/html": [
       "<div>\n",
       "<style scoped>\n",
       "    .dataframe tbody tr th:only-of-type {\n",
       "        vertical-align: middle;\n",
       "    }\n",
       "\n",
       "    .dataframe tbody tr th {\n",
       "        vertical-align: top;\n",
       "    }\n",
       "\n",
       "    .dataframe thead th {\n",
       "        text-align: right;\n",
       "    }\n",
       "</style>\n",
       "<table border=\"1\" class=\"dataframe\">\n",
       "  <thead>\n",
       "    <tr style=\"text-align: right;\">\n",
       "      <th></th>\n",
       "      <th>Season</th>\n",
       "      <th>Episode</th>\n",
       "      <th>Scene</th>\n",
       "      <th>Character</th>\n",
       "      <th>Line</th>\n",
       "      <th>Words</th>\n",
       "    </tr>\n",
       "  </thead>\n",
       "  <tbody>\n",
       "    <tr>\n",
       "      <th>0</th>\n",
       "      <td>1</td>\n",
       "      <td>Series 01 Episode 01 – Pilot Episode</td>\n",
       "      <td>A corridor at a sperm bank.</td>\n",
       "      <td>Sheldon</td>\n",
       "      <td>so if a photon is directed through a plane wit...</td>\n",
       "      <td>57</td>\n",
       "    </tr>\n",
       "    <tr>\n",
       "      <th>1</th>\n",
       "      <td>1</td>\n",
       "      <td>Series 01 Episode 01 – Pilot Episode</td>\n",
       "      <td>A corridor at a sperm bank.</td>\n",
       "      <td>Leonard</td>\n",
       "      <td>agreed  what s your point</td>\n",
       "      <td>5</td>\n",
       "    </tr>\n",
       "    <tr>\n",
       "      <th>2</th>\n",
       "      <td>1</td>\n",
       "      <td>Series 01 Episode 01 – Pilot Episode</td>\n",
       "      <td>A corridor at a sperm bank.</td>\n",
       "      <td>Sheldon</td>\n",
       "      <td>there s no point  i just think it s a good ide...</td>\n",
       "      <td>16</td>\n",
       "    </tr>\n",
       "    <tr>\n",
       "      <th>3</th>\n",
       "      <td>1</td>\n",
       "      <td>Series 01 Episode 01 – Pilot Episode</td>\n",
       "      <td>A corridor at a sperm bank.</td>\n",
       "      <td>Leonard</td>\n",
       "      <td>excuse me</td>\n",
       "      <td>2</td>\n",
       "    </tr>\n",
       "    <tr>\n",
       "      <th>4</th>\n",
       "      <td>1</td>\n",
       "      <td>Series 01 Episode 01 – Pilot Episode</td>\n",
       "      <td>A corridor at a sperm bank.</td>\n",
       "      <td>Receptionist</td>\n",
       "      <td>hang on</td>\n",
       "      <td>2</td>\n",
       "    </tr>\n",
       "  </tbody>\n",
       "</table>\n",
       "</div>"
      ],
      "text/plain": [
       "   Season                               Episode                        Scene  \\\n",
       "0       1  Series 01 Episode 01 – Pilot Episode  A corridor at a sperm bank.   \n",
       "1       1  Series 01 Episode 01 – Pilot Episode  A corridor at a sperm bank.   \n",
       "2       1  Series 01 Episode 01 – Pilot Episode  A corridor at a sperm bank.   \n",
       "3       1  Series 01 Episode 01 – Pilot Episode  A corridor at a sperm bank.   \n",
       "4       1  Series 01 Episode 01 – Pilot Episode  A corridor at a sperm bank.   \n",
       "\n",
       "      Character                                               Line  Words  \n",
       "0       Sheldon  so if a photon is directed through a plane wit...     57  \n",
       "1       Leonard                         agreed  what s your point       5  \n",
       "2       Sheldon  there s no point  i just think it s a good ide...     16  \n",
       "3       Leonard                                         excuse me       2  \n",
       "4  Receptionist                                           hang on       2  "
      ]
     },
     "execution_count": 57,
     "metadata": {},
     "output_type": "execute_result"
    }
   ],
   "source": [
    "train_set = lines[lines[\"Season\"] <= lines[\"Season\"].max() - 2]\n",
    "train_set.head()"
   ]
  },
  {
   "cell_type": "code",
   "execution_count": 58,
   "metadata": {},
   "outputs": [
    {
     "data": {
      "text/html": [
       "<div>\n",
       "<style scoped>\n",
       "    .dataframe tbody tr th:only-of-type {\n",
       "        vertical-align: middle;\n",
       "    }\n",
       "\n",
       "    .dataframe tbody tr th {\n",
       "        vertical-align: top;\n",
       "    }\n",
       "\n",
       "    .dataframe thead th {\n",
       "        text-align: right;\n",
       "    }\n",
       "</style>\n",
       "<table border=\"1\" class=\"dataframe\">\n",
       "  <thead>\n",
       "    <tr style=\"text-align: right;\">\n",
       "      <th></th>\n",
       "      <th>Season</th>\n",
       "      <th>Episode</th>\n",
       "      <th>Scene</th>\n",
       "      <th>Character</th>\n",
       "      <th>Line</th>\n",
       "      <th>Words</th>\n",
       "    </tr>\n",
       "  </thead>\n",
       "  <tbody>\n",
       "    <tr>\n",
       "      <th>40354</th>\n",
       "      <td>9</td>\n",
       "      <td>Series 09 Episode 01 – The Matrimonial Momentum</td>\n",
       "      <td>A Wedding Chapel.</td>\n",
       "      <td>Penny</td>\n",
       "      <td>so  what package are you thinking</td>\n",
       "      <td>6</td>\n",
       "    </tr>\n",
       "    <tr>\n",
       "      <th>40355</th>\n",
       "      <td>9</td>\n",
       "      <td>Series 09 Episode 01 – The Matrimonial Momentum</td>\n",
       "      <td>A Wedding Chapel.</td>\n",
       "      <td>Leonard</td>\n",
       "      <td>mm  this one comes with music and flowers  oh ...</td>\n",
       "      <td>19</td>\n",
       "    </tr>\n",
       "    <tr>\n",
       "      <th>40356</th>\n",
       "      <td>9</td>\n",
       "      <td>Series 09 Episode 01 – The Matrimonial Momentum</td>\n",
       "      <td>A Wedding Chapel.</td>\n",
       "      <td>Penny</td>\n",
       "      <td>why would we want that</td>\n",
       "      <td>5</td>\n",
       "    </tr>\n",
       "    <tr>\n",
       "      <th>40357</th>\n",
       "      <td>9</td>\n",
       "      <td>Series 09 Episode 01 – The Matrimonial Momentum</td>\n",
       "      <td>A Wedding Chapel.</td>\n",
       "      <td>Leonard</td>\n",
       "      <td>‘cause there s a lot of gorgeous blondes out t...</td>\n",
       "      <td>26</td>\n",
       "    </tr>\n",
       "    <tr>\n",
       "      <th>40358</th>\n",
       "      <td>9</td>\n",
       "      <td>Series 09 Episode 01 – The Matrimonial Momentum</td>\n",
       "      <td>A Wedding Chapel.</td>\n",
       "      <td>Penny</td>\n",
       "      <td>whatever  put us on the internet  i ve always ...</td>\n",
       "      <td>16</td>\n",
       "    </tr>\n",
       "  </tbody>\n",
       "</table>\n",
       "</div>"
      ],
      "text/plain": [
       "       Season                                          Episode  \\\n",
       "40354       9  Series 09 Episode 01 – The Matrimonial Momentum   \n",
       "40355       9  Series 09 Episode 01 – The Matrimonial Momentum   \n",
       "40356       9  Series 09 Episode 01 – The Matrimonial Momentum   \n",
       "40357       9  Series 09 Episode 01 – The Matrimonial Momentum   \n",
       "40358       9  Series 09 Episode 01 – The Matrimonial Momentum   \n",
       "\n",
       "                   Scene Character  \\\n",
       "40354  A Wedding Chapel.     Penny   \n",
       "40355  A Wedding Chapel.   Leonard   \n",
       "40356  A Wedding Chapel.     Penny   \n",
       "40357  A Wedding Chapel.   Leonard   \n",
       "40358  A Wedding Chapel.     Penny   \n",
       "\n",
       "                                                    Line  Words  \n",
       "40354                 so  what package are you thinking       6  \n",
       "40355  mm  this one comes with music and flowers  oh ...     19  \n",
       "40356                            why would we want that       5  \n",
       "40357  ‘cause there s a lot of gorgeous blondes out t...     26  \n",
       "40358  whatever  put us on the internet  i ve always ...     16  "
      ]
     },
     "execution_count": 58,
     "metadata": {},
     "output_type": "execute_result"
    }
   ],
   "source": [
    "test_set = lines[lines[\"Season\"] > lines[\"Season\"].max() - 2]\n",
    "test_set.head()"
   ]
  },
  {
   "cell_type": "markdown",
   "metadata": {},
   "source": [
    "**Q14**. (5 points) Find the set of all words in the training set that are only uttered by Sheldon. Is it possible for Sheldon to identify himself only based on these? Use the test set to assess this possibility, and explain your method."
   ]
  },
  {
   "cell_type": "code",
   "execution_count": 59,
   "metadata": {
    "collapsed": true
   },
   "outputs": [],
   "source": [
    "words_for_chars = pd.concat([pd.Series(row[\"Character\"], row['Line'].split())\n",
    "                             for _, row in train_set.iterrows()]).reset_index()\n",
    "words_for_chars.columns = [\"Word\", \"Character\"]\n",
    "\n",
    "words_for_chars = words_for_chars.groupby(\"Word\")[\"Character\"].apply(set)\n",
    "sheldon_words = words_for_chars[words_for_chars.apply(lambda x: (\"Sheldon\" in x) and (len(x) == 1))].index"
   ]
  },
  {
   "cell_type": "code",
   "execution_count": 60,
   "metadata": {},
   "outputs": [],
   "source": [
    "def contains_sheldon_words(line):\n",
    "    for word in sheldon_words:\n",
    "        if word in line.split():\n",
    "            return True\n",
    "    return False\n",
    "test_pred = test_set[\"Line\"].apply(contains_sheldon_words)\n",
    "test_true = test_set[\"Character\"] == \"Sheldon\""
   ]
  },
  {
   "cell_type": "code",
   "execution_count": 61,
   "metadata": {},
   "outputs": [
    {
     "name": "stdout",
     "output_type": "stream",
     "text": [
      "Accuracy:  0.7825013713658804\n"
     ]
    }
   ],
   "source": [
    "print(\"Accuracy: \", (test_true == test_pred).sum() / len(test_true))"
   ]
  },
  {
   "cell_type": "markdown",
   "metadata": {},
   "source": [
    "**Q15**. (17.5 points) Now, perform singular value decomposition (SVD) on the training TF-IDF matrix, and calculate a **25-dimensional approximation** for both the training and test TF-IDF matrices (you can do this using scikit-learn's **TruncatedSVD** class). Then, train a logistic regression classifier with 10-fold cross-validation (using the scikit-learn **LogisticRegressionCV** class) on the output of the SVD that given a dialogue line, tells you whether it's by Sheldon or by someone else.\n",
    "\n",
    "&nbsp;&nbsp;&nbsp;&nbsp;&nbsp;&nbsp;**i)** (7.5 points) Report precision, recall and F1-score for both classes (Sheldon and not-Sheldon), as well as accuracy, of your classifier on the training set and the test set. You need to implement the calculation of the evaluation measures (precision, etc.) yourself -- using the scikit-learn functions for them is not allowed.\n",
    "\n",
    "&nbsp;&nbsp;&nbsp;&nbsp;&nbsp;&nbsp;**ii)** (5 points) What difference do you observe between the model's scores on the training and test sets? What could you infer from the amount of difference you see? What about the difference between scores on the two classes? Given the performance of your classifier, is Leonard right that the accuracy Sheldon claims is unattainable? What about his suspicions about the lines that Sheldon can and cannot distinguish?\n",
    "    \n",
    "&nbsp;&nbsp;&nbsp;&nbsp;&nbsp;&nbsp;**iii)** (2.5 points) List 10 of the most extreme false positives and 10 of the most extreme false negatives, in terms of the probabilities predicted by the logistic regression model. What are common features of false positives? What about the false negatives?\n",
    "    \n",
    "&nbsp;&nbsp;&nbsp;&nbsp;&nbsp;&nbsp;**iv)** (2.5 points) What is the most important feature in the model? What are the 5 most important words in this feature? _Hint: Think of the definition of an SVD, and that you did an SVD on the TF-IDF matrix with dialogue lines as rows and words as columns. You have projected the original data points onto a 25-dimensional subspace -- you need to look at the unit vectors you used for the projection._"
   ]
  },
  {
   "cell_type": "code",
   "execution_count": 62,
   "metadata": {
    "collapsed": true
   },
   "outputs": [
    {
     "name": "stderr",
     "output_type": "stream",
     "text": [
      "c:\\Users\\Admin\\miniconda3\\envs\\ada\\lib\\site-packages\\sklearn\\feature_extraction\\text.py:525: UserWarning: The parameter 'token_pattern' will not be used since 'tokenizer' is not None'\n",
      "  warnings.warn(\n"
     ]
    },
    {
     "name": "stdout",
     "output_type": "stream",
     "text": [
      "Training Set Evaluation:\n",
      "Accuracy: 0.7658\n",
      "Precision: 0.6154\n",
      "Recall: 0.0008\n",
      "F1-Score: 0.0017\n",
      "\n",
      "Test Set Evaluation:\n",
      "Accuracy: 0.7955\n",
      "Precision: 0.0000\n",
      "Recall: 0.0000\n",
      "F1-Score: 0.0000\n"
     ]
    },
    {
     "name": "stderr",
     "output_type": "stream",
     "text": [
      "c:\\Users\\Admin\\miniconda3\\envs\\ada\\lib\\site-packages\\sklearn\\metrics\\_classification.py:1469: UndefinedMetricWarning: Precision is ill-defined and being set to 0.0 due to no predicted samples. Use `zero_division` parameter to control this behavior.\n",
      "  _warn_prf(average, modifier, msg_start, len(result))\n"
     ]
    }
   ],
   "source": [
    "from sklearn.feature_extraction.text import TfidfVectorizer\n",
    "from sklearn.decomposition import TruncatedSVD\n",
    "from sklearn.linear_model import LogisticRegressionCV\n",
    "from sklearn.model_selection import cross_val_predict\n",
    "from sklearn.metrics import accuracy_score, precision_score, recall_score, f1_score\n",
    "\n",
    "def simple_tokenizer(text):\n",
    "    return text.split()\n",
    "\n",
    "def remove_stopwords(text):\n",
    "    stop_words = set(open(\"helpers/stopwords.txt\").read().split())\n",
    "    return \" \".join([word for word in text.split() if word not in stop_words])\n",
    "\n",
    "# Create TF-IDF vectorizer\n",
    "vectorizer = TfidfVectorizer(tokenizer=simple_tokenizer, preprocessor=remove_stopwords, min_df=2)\n",
    "\n",
    "# Fit and transform the TF-IDF matrix for the training set\n",
    "X_train_tfidf = vectorizer.fit_transform(train_set[\"Line\"])\n",
    "\n",
    "# Perform singular value decomposition (SVD) and calculate a 25-dimensional approximation\n",
    "svd = TruncatedSVD(n_components=25)\n",
    "X_train_svd = svd.fit_transform(X_train_tfidf)\n",
    "\n",
    "# Train a logistic regression classifier with 10-fold cross-validation\n",
    "clf = LogisticRegressionCV(cv=10)\n",
    "y_train = (train_set[\"Character\"] == \"Sheldon\").astype(int)\n",
    "y_train_pred = cross_val_predict(clf, X_train_svd, y_train, cv=10, method='predict_proba')[:, 1]\n",
    "\n",
    "# Evaluate the classifier on the training set\n",
    "y_train_pred_binary = (y_train_pred > 0.5).astype(int)\n",
    "accuracy_train = accuracy_score(y_train, y_train_pred_binary)\n",
    "precision_train = precision_score(y_train, y_train_pred_binary)\n",
    "recall_train = recall_score(y_train, y_train_pred_binary)\n",
    "f1_train = f1_score(y_train, y_train_pred_binary)\n",
    "\n",
    "# Transform the TF-IDF matrix for the test set using the same vectorizer\n",
    "X_test_tfidf = vectorizer.transform(test_set[\"Line\"])\n",
    "\n",
    "# Perform SVD on the test set\n",
    "X_test_svd = svd.transform(X_test_tfidf)\n",
    "\n",
    "# Train the logistic regression classifier on the entire training set\n",
    "clf.fit(X_train_svd, y_train)\n",
    "\n",
    "# Predict the probabilities on the test set\n",
    "y_test_pred = clf.predict_proba(X_test_svd)[:, 1]\n",
    "\n",
    "# Evaluate the classifier on the test set\n",
    "y_test = (test_set[\"Character\"] == \"Sheldon\").astype(int)\n",
    "y_test_pred_binary = (y_test_pred > 0.5).astype(int)\n",
    "accuracy_test = accuracy_score(y_test, y_test_pred_binary)\n",
    "precision_test = precision_score(y_test, y_test_pred_binary)\n",
    "recall_test = recall_score(y_test, y_test_pred_binary)\n",
    "f1_test = f1_score(y_test, y_test_pred_binary)\n",
    "\n",
    "# Print the results\n",
    "print(\"Training Set Evaluation:\")\n",
    "print(f\"Accuracy: {accuracy_train:.4f}\")\n",
    "print(f\"Precision: {precision_train:.4f}\")\n",
    "print(f\"Recall: {recall_train:.4f}\")\n",
    "print(f\"F1-Score: {f1_train:.4f}\")\n",
    "\n",
    "print(\"\\nTest Set Evaluation:\")\n",
    "print(f\"Accuracy: {accuracy_test:.4f}\")\n",
    "print(f\"Precision: {precision_test:.4f}\")\n",
    "print(f\"Recall: {recall_test:.4f}\")\n",
    "print(f\"F1-Score: {f1_test:.4f}\")"
   ]
  },
  {
   "cell_type": "code",
   "execution_count": null,
   "metadata": {},
   "outputs": [],
   "source": []
  },
  {
   "cell_type": "code",
   "execution_count": 63,
   "metadata": {},
   "outputs": [
    {
     "name": "stdout",
     "output_type": "stream",
     "text": [
      "Most Extreme False Positives:\n",
      "Empty DataFrame\n",
      "Columns: [Line, True_Label, Predicted_Probability]\n",
      "Index: []\n",
      "\n",
      "Most Extreme False Negatives:\n",
      "                                                    Line  True_Label  \\\n",
      "47332                                           leonard            1   \n",
      "40923                                           leonard            1   \n",
      "45772                                  leonard  leonard            1   \n",
      "43385   knock  knock  knock  leonard and penny   knoc...           1   \n",
      "48427  you re right  i have leonard and howard and ra...           1   \n",
      "45016   knock  knock  knock  leonard   knock  knock  ...           1   \n",
      "42179                                             hello            1   \n",
      "42722                                             hello            1   \n",
      "41415                                             hello            1   \n",
      "47441                                             hello            1   \n",
      "\n",
      "       Predicted_Probability  \n",
      "47332               0.235598  \n",
      "40923               0.235598  \n",
      "45772               0.235598  \n",
      "43385               0.235177  \n",
      "48427               0.235042  \n",
      "45016               0.234983  \n",
      "42179               0.234959  \n",
      "42722               0.234959  \n",
      "41415               0.234959  \n",
      "47441               0.234959  \n"
     ]
    }
   ],
   "source": [
    "results_df = pd.DataFrame({\n",
    "    'Line': test_set['Line'],\n",
    "    'True_Label': y_test,\n",
    "    'Predicted_Probability': y_test_pred\n",
    "})\n",
    "\n",
    "# Add a column for predicted labels based on a threshold (e.g., 0.5)\n",
    "threshold = 0.5\n",
    "results_df['Predicted_Label'] = (results_df['Predicted_Probability'] > threshold).astype(int)\n",
    "\n",
    "# Identify false positives and false negatives\n",
    "false_positives = results_df[(results_df['Predicted_Label'] == 1) & (results_df['True_Label'] == 0)].sort_values(by='Predicted_Probability', ascending=False).head(10)\n",
    "false_negatives = results_df[(results_df['Predicted_Label'] == 0) & (results_df['True_Label'] == 1)].sort_values(by='Predicted_Probability', ascending=False).head(10)\n",
    "\n",
    "# Print the most extreme false positives and false negatives\n",
    "print(\"Most Extreme False Positives:\")\n",
    "print(false_positives[['Line', 'True_Label', 'Predicted_Probability']])\n",
    "\n",
    "print(\"\\nMost Extreme False Negatives:\")\n",
    "print(false_negatives[['Line', 'True_Label', 'Predicted_Probability']])"
   ]
  },
  {
   "cell_type": "code",
   "execution_count": 64,
   "metadata": {},
   "outputs": [
    {
     "name": "stdout",
     "output_type": "stream",
     "text": [
      "Most Important Feature:\n",
      "[0.00042248 0.00023005 0.00116    ... 0.00031526 0.00481825 0.00010243]\n",
      "\n",
      "Top 5 Words in the Most Important Feature:\n",
      "['hey', 'sheldon', 'know', 'well', 'right']\n"
     ]
    }
   ],
   "source": [
    "unit_vectors = svd.components_\n",
    "\n",
    "# Find the most important feature (dominant singular vector)\n",
    "most_important_feature = unit_vectors[0]\n",
    "\n",
    "# Get the indices of the top 5 words in the most important feature\n",
    "top_words_indices = most_important_feature.argsort()[-5:][::-1]\n",
    "\n",
    "# Get the words associated with the top 5 indices\n",
    "feature_words = vectorizer.get_feature_names_out()\n",
    "top_words = [feature_words[i] for i in top_words_indices]\n",
    "\n",
    "# Print the most important feature and the top 5 words\n",
    "print(\"Most Important Feature:\")\n",
    "print(most_important_feature)\n",
    "\n",
    "print(\"\\nTop 5 Words in the Most Important Feature:\")\n",
    "print(top_words)"
   ]
  },
  {
   "cell_type": "markdown",
   "metadata": {},
   "source": [
    "In the context of Singular Value Decomposition (SVD) on the TF-IDF matrix, the most important feature in the model corresponds to the dominant singular vector associated with the highest singular value. "
   ]
  }
 ],
 "metadata": {
  "kernelspec": {
   "display_name": "ada",
   "language": "python",
   "name": "python3"
  },
  "language_info": {
   "codemirror_mode": {
    "name": "ipython",
    "version": 3
   },
   "file_extension": ".py",
   "mimetype": "text/x-python",
   "name": "python",
   "nbconvert_exporter": "python",
   "pygments_lexer": "ipython3",
   "version": "3.9.18"
  }
 },
 "nbformat": 4,
 "nbformat_minor": 2
}

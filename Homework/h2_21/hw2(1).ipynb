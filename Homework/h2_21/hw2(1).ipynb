{
 "cells": [
  {
   "cell_type": "markdown",
   "metadata": {
    "collapsed": true,
    "pycharm": {
     "name": "#%% md\n"
    }
   },
   "source": [
    "# Homework 2 (HW2)\n",
    "\n",
    "---\n",
    "By the end of this homework we expect you to be able to:\n",
    "1. Preprocess data and make it amenable to statistical analysis and machine learning models;\n",
    "2. Train and test out-of-the-box machine learning models in Python;\n",
    "3. Carry out statistical hypothesis testing;\n",
    "4. Carry out simple multivariate regression analyses;\n",
    "5. Use techniques to control for covariates;\n",
    "\n",
    "---\n",
    "\n",
    "## Important Dates\n",
    "\n",
    "- Homework release: Fri 12 Nov 2021\n",
    "- **Homework due**: Fri 26 Nov 2021, 23:59\n",
    "- Grade release: Fri 03 Dec 2021\n",
    "\n",
    "---\n",
    "\n",
    "##  Some rules\n",
    "\n",
    "1. You are allowed to use any built-in Python library that comes with Anaconda. If you want to use an external library, \n",
    "you may do so, but must justify your choice.\n",
    "2. Make sure you use the `data` folder provided in the repository in read-only mode. (Or alternatively, be sure you \n",
    "don’t change any of the files.)\n",
    "3. Be sure to provide a textual description of your thought process, the assumptions you made, the solution you \n",
    "implemented, and explanations for your answers. A notebook that only has code cells will not suffice.\n",
    "4. For questions containing the **/Discuss:/** prefix, answer not with code, but with a textual explanation\n",
    " (**in markdown**).\n",
    "5. Back up any hypotheses and claims with data, since this is an important aspect of the course.\n",
    "6. Please write all your comments in English, and use meaningful variable names in your code. Your repo should have a \n",
    "single notebook (plus the required data files) in the *master/main* branch. If there are multiple notebooks present, \n",
    "we will **not grade** anything.\n",
    "7. We will **not run your notebook for you**! Rather, we will grade it as is, which means that only the results \n",
    "contained in your evaluated code cells will be considered, and we will not see the results in unevaluated code cells. \n",
    "Thus, be sure to hand in a **fully-run and evaluated notebook**. In order to check whether everything looks as intended, you can check the rendered notebook on the GitHub website once you have pushed your solution there.\n",
    "8. In continuation to the previous point, interactive plots, such as those generated using `plotly`, should be **strictly avoided**!\n",
    "9. Make sure to print results or dataframes that confirm you have properly addressed the task.\n",
    "\n",
    "---\n",
    "\n",
    "## Context\n",
    "\n",
    "Congratulations! You have just been hired as a data scientist at *Piccardi Music,* a promising new music label created by a mysterious Italian disc jockey \"*Signor Piccardi*\". The company hired you to carry out a variety of data-related tasks, which will be explained in further detail below.\n",
    "\n",
    "---\n",
    "\n",
    "## The data\n",
    "\n",
    "For this homework you will use a dataset of 18,403 music reviews scraped from Pitchfork¹, including relevant metadata such as review author, review date, record release year, review score, and genre, along with the respective album's audio features pulled from Spotify's API. The data consists of the following columns:\n",
    "\n",
    "| Column   | Description  |\n",
    "|----------|:-------------|\n",
    "| `artist`           | The name of the artist who created the album being reviewed. |\n",
    "| `album`            | The name of the album being reviewed. |\n",
    "| `recordlabel`      | The name of the record label(s) who published the album. |\n",
    "| `releaseyear`      | The year that the album was released. |\n",
    "| `score`            | The score given to the album by the reviewer on a scale of 0.0 to 10.0. |\n",
    "| `reviewauthor`     | The name of the author who reviewed the album. |\n",
    "| `genre`            | The genre assigned to the album by Pitchfork. |\n",
    "| `reviewdate`       | The date that the review was published.  |\n",
    "| `key` | The estimated overall musical key of the track. Integers map to pitches using standard Pitch Class notation (e.g., 0 = C, 2 = D, and so on) |\n",
    "| `acousticness` | A confidence measure from 0.0 to 1.0 of whether an album is acoustic. 1.0 represents high confidencethat the album is acoustic. |\n",
    "| `danceability` | How suitable an album is for dancing based on a combination of musical elements including tempo, rhythm stability, beat strength, and overall regularity. A value of 1.0 is most danceable.\n",
    "| `energy` | A perceptual measure of intensity and activity, from 0.0 to 1.0, where 1.0 represents high energy. Metal is often high energy. |\n",
    "| `instrumentalness` | Predicts whether an album contains no vocals, from 0.0 to 1.0. The closer to 1.0, the more likely the album contains no vocals. |\n",
    "| `liveness` | Detects the presence of an audience, from 0.0 to 1.0. Scores greater than 0.8 indicate a strong likelihood the album is live. |\n",
    "| `loudness` | The overall loudness of the album in decibels (dB). |\n",
    "| `speechiness` | Measures the presence of spoken words in an album on a scale from 0.0 to 1.0. Scores higher than 0.66 indicate an album made entirely of spoken words, while scores below 0.33 indicate music and other non-speech-like elements. |\n",
    "| `valence` | A measure from 0.0 to 1.0 describing the musical positiveness conveyed by an album, where values closer to 1.0 indicate more positive sounds. |\n",
    "| `tempo` | The overall estimated tempo of an album in beats per minute (BPM). |\n",
    "\n",
    "¹Pinter, Anthony T., et al. \"P4KxSpotify: A Dataset of Pitchfork Music Reviews and Spotify Musical Features.\" Proceedings of the International AAAI Conference on Web and Social Media. Vol. 14. 2020."
   ]
  },
  {
   "cell_type": "code",
   "execution_count": 1,
   "metadata": {},
   "outputs": [],
   "source": [
    "# CHANGE THIS IF YOU NEED/WANT TOO\n",
    "\n",
    "# pandas / numpy\n",
    "import pandas as pd\n",
    "import numpy as np\n",
    "\n",
    "# plotting\n",
    "import matplotlib.pyplot as plt\n",
    "import seaborn as sns\n",
    "\n",
    "# datetime operations\n",
    "from datetime import datetime\n",
    "\n",
    "# ttest and euclidean distance\n",
    "from scipy.stats import ttest_ind\n",
    "from scipy.spatial.distance import seuclidean\n",
    "\n",
    "# linear fit using statsmodels\n",
    "import statsmodels.api as sm\n",
    "import statsmodels.formula.api as smf\n",
    "\n",
    "# good ole sklearn\n",
    "from sklearn.metrics import euclidean_distances, r2_score\n",
    "from sklearn.linear_model import LinearRegression\n",
    "from sklearn.ensemble import GradientBoostingRegressor\n",
    "\n",
    "# displaying markdown strings\n",
    "# multiprocessing\n",
    "from joblib import Parallel, delayed\n",
    "\n",
    "# ttest and euclidean distance\n",
    "from scipy.stats import ttest_ind\n",
    "from scipy.spatial.distance import seuclidean\n",
    "\n",
    "# linear fit using statsmodels\n",
    "import statsmodels.api as sm\n",
    "import statsmodels.formula.api as smf\n",
    "from IPython.display import display, Markdown, Latex"
   ]
  },
  {
   "cell_type": "markdown",
   "metadata": {
    "pycharm": {
     "name": "#%% md\n"
    }
   },
   "source": [
    "## Part 1: Will this album be a hit?\n",
    "\n",
    "The first project you embark on in your new job is to build a regressor to predict whether an album will be well received or not. According to *Signor Piccardi* (your boss), this algorithm may eventually be helpful in forecasting the success of albums produced by *Piccardi Music*."
   ]
  },
  {
   "cell_type": "markdown",
   "metadata": {},
   "source": [
    "**Task 1 (Initial analyses — 10 pts)**\n",
    "\n",
    "As a good data scientist, the first thing you do is to have a good look at the data that was handed to you.\n",
    "\n",
    "1. Load the data using `pandas`. Identify and remove duplicate reviews, i.e., two reviews with albums by the same band with the same name (keep the first occurrence). Print the number of rows in your dataframe.\n"
   ]
  },
  {
   "cell_type": "code",
   "execution_count": 2,
   "metadata": {},
   "outputs": [
    {
     "name": "stdout",
     "output_type": "stream",
     "text": [
      "16738\n"
     ]
    }
   ],
   "source": [
    "df = pd.read_csv('./pitchfork.csv.gz')\n",
    "df = df.drop_duplicates(subset = ['album','artist'], keep = 'first')\n",
    "print(len(df))"
   ]
  },
  {
   "cell_type": "markdown",
   "metadata": {},
   "source": [
    "\n",
    "2. Plot the distribution of album release years and the average score of albums per year.\n"
   ]
  },
  {
   "cell_type": "code",
   "execution_count": 3,
   "metadata": {},
   "outputs": [
    {
     "name": "stderr",
     "output_type": "stream",
     "text": [
      "c:\\Users\\Admin\\miniconda3\\envs\\ada\\lib\\site-packages\\seaborn\\_oldcore.py:1498: FutureWarning: is_categorical_dtype is deprecated and will be removed in a future version. Use isinstance(dtype, CategoricalDtype) instead\n",
      "  if pd.api.types.is_categorical_dtype(vector):\n",
      "c:\\Users\\Admin\\miniconda3\\envs\\ada\\lib\\site-packages\\seaborn\\_oldcore.py:1498: FutureWarning: is_categorical_dtype is deprecated and will be removed in a future version. Use isinstance(dtype, CategoricalDtype) instead\n",
      "  if pd.api.types.is_categorical_dtype(vector):\n",
      "c:\\Users\\Admin\\miniconda3\\envs\\ada\\lib\\site-packages\\seaborn\\_oldcore.py:1498: FutureWarning: is_categorical_dtype is deprecated and will be removed in a future version. Use isinstance(dtype, CategoricalDtype) instead\n",
      "  if pd.api.types.is_categorical_dtype(vector):\n"
     ]
    },
    {
     "data": {
      "text/plain": [
       "<Axes: xlabel='releaseyear', ylabel='count'>"
      ]
     },
     "execution_count": 3,
     "metadata": {},
     "output_type": "execute_result"
    },
    {
     "data": {
      "image/png": "[encoded data removed]",
      "text/plain": [
       "<Figure size 640x480 with 1 Axes>"
      ]
     },
     "metadata": {},
     "output_type": "display_data"
    }
   ],
   "source": [
    "df.head(1)\n",
    "\n",
    "sns.countplot(data = df, x ='releaseyear')"
   ]
  },
  {
   "cell_type": "code",
   "execution_count": 14,
   "metadata": {},
   "outputs": [
    {
     "data": {
      "text/html": [
       "<div>\n",
       "<style scoped>\n",
       "    .dataframe tbody tr th:only-of-type {\n",
       "        vertical-align: middle;\n",
       "    }\n",
       "\n",
       "    .dataframe tbody tr th {\n",
       "        vertical-align: top;\n",
       "    }\n",
       "\n",
       "    .dataframe thead th {\n",
       "        text-align: right;\n",
       "    }\n",
       "</style>\n",
       "<table border=\"1\" class=\"dataframe\">\n",
       "  <thead>\n",
       "    <tr style=\"text-align: right;\">\n",
       "      <th></th>\n",
       "      <th>artist</th>\n",
       "      <th>album</th>\n",
       "      <th>reviewauthor</th>\n",
       "      <th>score</th>\n",
       "      <th>releaseyear</th>\n",
       "      <th>reviewdate</th>\n",
       "      <th>recordlabel</th>\n",
       "      <th>genre</th>\n",
       "      <th>danceability</th>\n",
       "      <th>energy</th>\n",
       "      <th>key</th>\n",
       "      <th>loudness</th>\n",
       "      <th>speechiness</th>\n",
       "      <th>acousticness</th>\n",
       "      <th>instrumentalness</th>\n",
       "      <th>liveness</th>\n",
       "      <th>valence</th>\n",
       "      <th>tempo</th>\n",
       "    </tr>\n",
       "  </thead>\n",
       "  <tbody>\n",
       "    <tr>\n",
       "      <th>0</th>\n",
       "      <td>Studio 1</td>\n",
       "      <td>Studio 1</td>\n",
       "      <td>Andy Battaglia</td>\n",
       "      <td>8.5</td>\n",
       "      <td>2009.0</td>\n",
       "      <td>February 18 2009</td>\n",
       "      <td>Studio</td>\n",
       "      <td>Electronic</td>\n",
       "      <td>0.511917</td>\n",
       "      <td>0.499667</td>\n",
       "      <td>5.25</td>\n",
       "      <td>-5.626583</td>\n",
       "      <td>0.031983</td>\n",
       "      <td>0.724917</td>\n",
       "      <td>0.024493</td>\n",
       "      <td>0.165367</td>\n",
       "      <td>0.555083</td>\n",
       "      <td>101.395167</td>\n",
       "    </tr>\n",
       "  </tbody>\n",
       "</table>\n",
       "</div>"
      ],
      "text/plain": [
       "     artist     album    reviewauthor  score  releaseyear        reviewdate  \\\n",
       "0  Studio 1  Studio 1  Andy Battaglia    8.5       2009.0  February 18 2009   \n",
       "\n",
       "  recordlabel       genre  danceability    energy   key  loudness  \\\n",
       "0      Studio  Electronic      0.511917  0.499667  5.25 -5.626583   \n",
       "\n",
       "   speechiness  acousticness  instrumentalness  liveness   valence       tempo  \n",
       "0     0.031983      0.724917          0.024493  0.165367  0.555083  101.395167  "
      ]
     },
     "execution_count": 14,
     "metadata": {},
     "output_type": "execute_result"
    }
   ],
   "source": [
    "df.head(1)"
   ]
  },
  {
   "cell_type": "code",
   "execution_count": 16,
   "metadata": {},
   "outputs": [
    {
     "data": {
      "text/plain": [
       "[<matplotlib.lines.Line2D at 0x25abe19fc40>]"
      ]
     },
     "execution_count": 16,
     "metadata": {},
     "output_type": "execute_result"
    },
    {
     "data": {
      "image/png": "[encoded data removed]",
      "text/plain": [
       "<Figure size 640x480 with 1 Axes>"
      ]
     },
     "metadata": {},
     "output_type": "display_data"
    }
   ],
   "source": [
    "df_temp = df.groupby('releaseyear')['score'].mean()\n",
    "plt.plot(df_temp)"
   ]
  },
  {
   "cell_type": "markdown",
   "metadata": {},
   "source": [
    "\n",
    "3. For numerical columns, calculate the mean, median, minimum value and maximum value. Additionally, plot the distribution for all the numerical columns in a single image (possibly with multiple subplots). Your image should be at most 14 inches wide by 14 inches long.\n"
   ]
  },
  {
   "cell_type": "code",
   "execution_count": 17,
   "metadata": {},
   "outputs": [
    {
     "data": {
      "text/html": [
       "<div>\n",
       "<style scoped>\n",
       "    .dataframe tbody tr th:only-of-type {\n",
       "        vertical-align: middle;\n",
       "    }\n",
       "\n",
       "    .dataframe tbody tr th {\n",
       "        vertical-align: top;\n",
       "    }\n",
       "\n",
       "    .dataframe thead th {\n",
       "        text-align: right;\n",
       "    }\n",
       "</style>\n",
       "<table border=\"1\" class=\"dataframe\">\n",
       "  <thead>\n",
       "    <tr style=\"text-align: right;\">\n",
       "      <th></th>\n",
       "      <th>artist</th>\n",
       "      <th>album</th>\n",
       "      <th>reviewauthor</th>\n",
       "      <th>score</th>\n",
       "      <th>releaseyear</th>\n",
       "      <th>reviewdate</th>\n",
       "      <th>recordlabel</th>\n",
       "      <th>genre</th>\n",
       "      <th>danceability</th>\n",
       "      <th>energy</th>\n",
       "      <th>key</th>\n",
       "      <th>loudness</th>\n",
       "      <th>speechiness</th>\n",
       "      <th>acousticness</th>\n",
       "      <th>instrumentalness</th>\n",
       "      <th>liveness</th>\n",
       "      <th>valence</th>\n",
       "      <th>tempo</th>\n",
       "    </tr>\n",
       "  </thead>\n",
       "  <tbody>\n",
       "    <tr>\n",
       "      <th>0</th>\n",
       "      <td>Studio 1</td>\n",
       "      <td>Studio 1</td>\n",
       "      <td>Andy Battaglia</td>\n",
       "      <td>8.5</td>\n",
       "      <td>2009.0</td>\n",
       "      <td>February 18 2009</td>\n",
       "      <td>Studio</td>\n",
       "      <td>Electronic</td>\n",
       "      <td>0.511917</td>\n",
       "      <td>0.499667</td>\n",
       "      <td>5.25</td>\n",
       "      <td>-5.626583</td>\n",
       "      <td>0.031983</td>\n",
       "      <td>0.724917</td>\n",
       "      <td>0.024493</td>\n",
       "      <td>0.165367</td>\n",
       "      <td>0.555083</td>\n",
       "      <td>101.395167</td>\n",
       "    </tr>\n",
       "  </tbody>\n",
       "</table>\n",
       "</div>"
      ],
      "text/plain": [
       "     artist     album    reviewauthor  score  releaseyear        reviewdate  \\\n",
       "0  Studio 1  Studio 1  Andy Battaglia    8.5       2009.0  February 18 2009   \n",
       "\n",
       "  recordlabel       genre  danceability    energy   key  loudness  \\\n",
       "0      Studio  Electronic      0.511917  0.499667  5.25 -5.626583   \n",
       "\n",
       "   speechiness  acousticness  instrumentalness  liveness   valence       tempo  \n",
       "0     0.031983      0.724917          0.024493  0.165367  0.555083  101.395167  "
      ]
     },
     "execution_count": 17,
     "metadata": {},
     "output_type": "execute_result"
    }
   ],
   "source": [
    "df.head(1)"
   ]
  },
  {
   "cell_type": "code",
   "execution_count": 21,
   "metadata": {},
   "outputs": [
    {
     "name": "stderr",
     "output_type": "stream",
     "text": [
      "c:\\Users\\Admin\\miniconda3\\envs\\ada\\lib\\site-packages\\seaborn\\_oldcore.py:1498: FutureWarning: is_categorical_dtype is deprecated and will be removed in a future version. Use isinstance(dtype, CategoricalDtype) instead\n",
      "  if pd.api.types.is_categorical_dtype(vector):\n",
      "c:\\Users\\Admin\\miniconda3\\envs\\ada\\lib\\site-packages\\seaborn\\_oldcore.py:1119: FutureWarning: use_inf_as_na option is deprecated and will be removed in a future version. Convert inf values to NaN before operating instead.\n",
      "  with pd.option_context('mode.use_inf_as_na', True):\n",
      "c:\\Users\\Admin\\miniconda3\\envs\\ada\\lib\\site-packages\\seaborn\\_oldcore.py:1498: FutureWarning: is_categorical_dtype is deprecated and will be removed in a future version. Use isinstance(dtype, CategoricalDtype) instead\n",
      "  if pd.api.types.is_categorical_dtype(vector):\n",
      "c:\\Users\\Admin\\miniconda3\\envs\\ada\\lib\\site-packages\\seaborn\\_oldcore.py:1119: FutureWarning: use_inf_as_na option is deprecated and will be removed in a future version. Convert inf values to NaN before operating instead.\n",
      "  with pd.option_context('mode.use_inf_as_na', True):\n",
      "c:\\Users\\Admin\\miniconda3\\envs\\ada\\lib\\site-packages\\seaborn\\_oldcore.py:1498: FutureWarning: is_categorical_dtype is deprecated and will be removed in a future version. Use isinstance(dtype, CategoricalDtype) instead\n",
      "  if pd.api.types.is_categorical_dtype(vector):\n",
      "c:\\Users\\Admin\\miniconda3\\envs\\ada\\lib\\site-packages\\seaborn\\_oldcore.py:1119: FutureWarning: use_inf_as_na option is deprecated and will be removed in a future version. Convert inf values to NaN before operating instead.\n",
      "  with pd.option_context('mode.use_inf_as_na', True):\n",
      "c:\\Users\\Admin\\miniconda3\\envs\\ada\\lib\\site-packages\\seaborn\\_oldcore.py:1498: FutureWarning: is_categorical_dtype is deprecated and will be removed in a future version. Use isinstance(dtype, CategoricalDtype) instead\n",
      "  if pd.api.types.is_categorical_dtype(vector):\n",
      "c:\\Users\\Admin\\miniconda3\\envs\\ada\\lib\\site-packages\\seaborn\\_oldcore.py:1119: FutureWarning: use_inf_as_na option is deprecated and will be removed in a future version. Convert inf values to NaN before operating instead.\n",
      "  with pd.option_context('mode.use_inf_as_na', True):\n",
      "c:\\Users\\Admin\\miniconda3\\envs\\ada\\lib\\site-packages\\seaborn\\_oldcore.py:1498: FutureWarning: is_categorical_dtype is deprecated and will be removed in a future version. Use isinstance(dtype, CategoricalDtype) instead\n",
      "  if pd.api.types.is_categorical_dtype(vector):\n",
      "c:\\Users\\Admin\\miniconda3\\envs\\ada\\lib\\site-packages\\seaborn\\_oldcore.py:1119: FutureWarning: use_inf_as_na option is deprecated and will be removed in a future version. Convert inf values to NaN before operating instead.\n",
      "  with pd.option_context('mode.use_inf_as_na', True):\n",
      "c:\\Users\\Admin\\miniconda3\\envs\\ada\\lib\\site-packages\\seaborn\\_oldcore.py:1498: FutureWarning: is_categorical_dtype is deprecated and will be removed in a future version. Use isinstance(dtype, CategoricalDtype) instead\n",
      "  if pd.api.types.is_categorical_dtype(vector):\n",
      "c:\\Users\\Admin\\miniconda3\\envs\\ada\\lib\\site-packages\\seaborn\\_oldcore.py:1119: FutureWarning: use_inf_as_na option is deprecated and will be removed in a future version. Convert inf values to NaN before operating instead.\n",
      "  with pd.option_context('mode.use_inf_as_na', True):\n",
      "c:\\Users\\Admin\\miniconda3\\envs\\ada\\lib\\site-packages\\seaborn\\_oldcore.py:1498: FutureWarning: is_categorical_dtype is deprecated and will be removed in a future version. Use isinstance(dtype, CategoricalDtype) instead\n",
      "  if pd.api.types.is_categorical_dtype(vector):\n",
      "c:\\Users\\Admin\\miniconda3\\envs\\ada\\lib\\site-packages\\seaborn\\_oldcore.py:1119: FutureWarning: use_inf_as_na option is deprecated and will be removed in a future version. Convert inf values to NaN before operating instead.\n",
      "  with pd.option_context('mode.use_inf_as_na', True):\n",
      "c:\\Users\\Admin\\miniconda3\\envs\\ada\\lib\\site-packages\\seaborn\\_oldcore.py:1498: FutureWarning: is_categorical_dtype is deprecated and will be removed in a future version. Use isinstance(dtype, CategoricalDtype) instead\n",
      "  if pd.api.types.is_categorical_dtype(vector):\n",
      "c:\\Users\\Admin\\miniconda3\\envs\\ada\\lib\\site-packages\\seaborn\\_oldcore.py:1119: FutureWarning: use_inf_as_na option is deprecated and will be removed in a future version. Convert inf values to NaN before operating instead.\n",
      "  with pd.option_context('mode.use_inf_as_na', True):\n",
      "c:\\Users\\Admin\\miniconda3\\envs\\ada\\lib\\site-packages\\seaborn\\_oldcore.py:1498: FutureWarning: is_categorical_dtype is deprecated and will be removed in a future version. Use isinstance(dtype, CategoricalDtype) instead\n",
      "  if pd.api.types.is_categorical_dtype(vector):\n",
      "c:\\Users\\Admin\\miniconda3\\envs\\ada\\lib\\site-packages\\seaborn\\_oldcore.py:1119: FutureWarning: use_inf_as_na option is deprecated and will be removed in a future version. Convert inf values to NaN before operating instead.\n",
      "  with pd.option_context('mode.use_inf_as_na', True):\n",
      "c:\\Users\\Admin\\miniconda3\\envs\\ada\\lib\\site-packages\\seaborn\\_oldcore.py:1498: FutureWarning: is_categorical_dtype is deprecated and will be removed in a future version. Use isinstance(dtype, CategoricalDtype) instead\n",
      "  if pd.api.types.is_categorical_dtype(vector):\n",
      "c:\\Users\\Admin\\miniconda3\\envs\\ada\\lib\\site-packages\\seaborn\\_oldcore.py:1119: FutureWarning: use_inf_as_na option is deprecated and will be removed in a future version. Convert inf values to NaN before operating instead.\n",
      "  with pd.option_context('mode.use_inf_as_na', True):\n",
      "c:\\Users\\Admin\\miniconda3\\envs\\ada\\lib\\site-packages\\seaborn\\_oldcore.py:1498: FutureWarning: is_categorical_dtype is deprecated and will be removed in a future version. Use isinstance(dtype, CategoricalDtype) instead\n",
      "  if pd.api.types.is_categorical_dtype(vector):\n",
      "c:\\Users\\Admin\\miniconda3\\envs\\ada\\lib\\site-packages\\seaborn\\_oldcore.py:1119: FutureWarning: use_inf_as_na option is deprecated and will be removed in a future version. Convert inf values to NaN before operating instead.\n",
      "  with pd.option_context('mode.use_inf_as_na', True):\n"
     ]
    },
    {
     "data": {
      "image/png": "[encoded data removed]",
      "text/plain": [
       "<Figure size 1000x1000 with 12 Axes>"
      ]
     },
     "metadata": {},
     "output_type": "display_data"
    }
   ],
   "source": [
    "numerical_columns = ['score', 'danceability', 'energy', 'key', 'loudness', 'speechiness', 'acousticness', 'instrumentalness', 'liveness', 'valence', 'tempo']\n",
    "\n",
    "\n",
    "\n",
    "\n",
    "fig, axs = plt.subplots(nrows=4, ncols=3, figsize=(10,10))\n",
    "for i,(col,ax) in enumerate(zip(numerical_columns, axs.flatten())):\n",
    "    sns.histplot(data=df[col],ax=ax, bins=20, kde=True, color=f'C{i}')\n",
    "    ax.set(title=f'Distribution of {col}')\n",
    "\n"
   ]
  },
  {
   "cell_type": "code",
   "execution_count": 23,
   "metadata": {},
   "outputs": [
    {
     "data": {
      "text/html": [
       "<div>\n",
       "<style scoped>\n",
       "    .dataframe tbody tr th:only-of-type {\n",
       "        vertical-align: middle;\n",
       "    }\n",
       "\n",
       "    .dataframe tbody tr th {\n",
       "        vertical-align: top;\n",
       "    }\n",
       "\n",
       "    .dataframe thead th {\n",
       "        text-align: right;\n",
       "    }\n",
       "</style>\n",
       "<table border=\"1\" class=\"dataframe\">\n",
       "  <thead>\n",
       "    <tr style=\"text-align: right;\">\n",
       "      <th></th>\n",
       "      <th>score</th>\n",
       "      <th>danceability</th>\n",
       "      <th>energy</th>\n",
       "      <th>key</th>\n",
       "      <th>loudness</th>\n",
       "      <th>speechiness</th>\n",
       "      <th>acousticness</th>\n",
       "      <th>instrumentalness</th>\n",
       "      <th>liveness</th>\n",
       "      <th>valence</th>\n",
       "      <th>tempo</th>\n",
       "    </tr>\n",
       "  </thead>\n",
       "  <tbody>\n",
       "    <tr>\n",
       "      <th>count</th>\n",
       "      <td>16738.000000</td>\n",
       "      <td>16738.000000</td>\n",
       "      <td>16738.000000</td>\n",
       "      <td>16738.000000</td>\n",
       "      <td>16738.000000</td>\n",
       "      <td>16738.000000</td>\n",
       "      <td>16738.000000</td>\n",
       "      <td>16738.000000</td>\n",
       "      <td>16738.000000</td>\n",
       "      <td>16738.000000</td>\n",
       "      <td>16738.000000</td>\n",
       "    </tr>\n",
       "    <tr>\n",
       "      <th>mean</th>\n",
       "      <td>7.048596</td>\n",
       "      <td>0.512334</td>\n",
       "      <td>0.601276</td>\n",
       "      <td>5.216501</td>\n",
       "      <td>-9.283268</td>\n",
       "      <td>0.090742</td>\n",
       "      <td>0.301914</td>\n",
       "      <td>0.274748</td>\n",
       "      <td>0.196402</td>\n",
       "      <td>0.405268</td>\n",
       "      <td>120.326487</td>\n",
       "    </tr>\n",
       "    <tr>\n",
       "      <th>std</th>\n",
       "      <td>1.247027</td>\n",
       "      <td>0.158859</td>\n",
       "      <td>0.203196</td>\n",
       "      <td>1.613841</td>\n",
       "      <td>4.238371</td>\n",
       "      <td>0.090126</td>\n",
       "      <td>0.262392</td>\n",
       "      <td>0.298907</td>\n",
       "      <td>0.104933</td>\n",
       "      <td>0.182293</td>\n",
       "      <td>15.482320</td>\n",
       "    </tr>\n",
       "    <tr>\n",
       "      <th>min</th>\n",
       "      <td>0.000000</td>\n",
       "      <td>-1.000000</td>\n",
       "      <td>-1.000000</td>\n",
       "      <td>-1.000000</td>\n",
       "      <td>-51.728750</td>\n",
       "      <td>-1.000000</td>\n",
       "      <td>-1.000000</td>\n",
       "      <td>-1.000000</td>\n",
       "      <td>-1.000000</td>\n",
       "      <td>-1.000000</td>\n",
       "      <td>-1.000000</td>\n",
       "    </tr>\n",
       "    <tr>\n",
       "      <th>25%</th>\n",
       "      <td>6.500000</td>\n",
       "      <td>0.408900</td>\n",
       "      <td>0.474000</td>\n",
       "      <td>4.333333</td>\n",
       "      <td>-11.217535</td>\n",
       "      <td>0.040633</td>\n",
       "      <td>0.091104</td>\n",
       "      <td>0.009597</td>\n",
       "      <td>0.134517</td>\n",
       "      <td>0.274267</td>\n",
       "      <td>111.240000</td>\n",
       "    </tr>\n",
       "    <tr>\n",
       "      <th>50%</th>\n",
       "      <td>7.300000</td>\n",
       "      <td>0.511348</td>\n",
       "      <td>0.624722</td>\n",
       "      <td>5.230769</td>\n",
       "      <td>-8.444263</td>\n",
       "      <td>0.056665</td>\n",
       "      <td>0.228844</td>\n",
       "      <td>0.149363</td>\n",
       "      <td>0.174261</td>\n",
       "      <td>0.406288</td>\n",
       "      <td>120.397346</td>\n",
       "    </tr>\n",
       "    <tr>\n",
       "      <th>75%</th>\n",
       "      <td>7.800000</td>\n",
       "      <td>0.622625</td>\n",
       "      <td>0.749714</td>\n",
       "      <td>6.100000</td>\n",
       "      <td>-6.392496</td>\n",
       "      <td>0.100211</td>\n",
       "      <td>0.460500</td>\n",
       "      <td>0.497283</td>\n",
       "      <td>0.228338</td>\n",
       "      <td>0.531720</td>\n",
       "      <td>129.141008</td>\n",
       "    </tr>\n",
       "    <tr>\n",
       "      <th>max</th>\n",
       "      <td>10.000000</td>\n",
       "      <td>0.974000</td>\n",
       "      <td>0.999000</td>\n",
       "      <td>11.000000</td>\n",
       "      <td>4.078000</td>\n",
       "      <td>0.958000</td>\n",
       "      <td>0.996000</td>\n",
       "      <td>0.982000</td>\n",
       "      <td>0.978000</td>\n",
       "      <td>0.971000</td>\n",
       "      <td>215.972000</td>\n",
       "    </tr>\n",
       "  </tbody>\n",
       "</table>\n",
       "</div>"
      ],
      "text/plain": [
       "              score  danceability        energy           key      loudness  \\\n",
       "count  16738.000000  16738.000000  16738.000000  16738.000000  16738.000000   \n",
       "mean       7.048596      0.512334      0.601276      5.216501     -9.283268   \n",
       "std        1.247027      0.158859      0.203196      1.613841      4.238371   \n",
       "min        0.000000     -1.000000     -1.000000     -1.000000    -51.728750   \n",
       "25%        6.500000      0.408900      0.474000      4.333333    -11.217535   \n",
       "50%        7.300000      0.511348      0.624722      5.230769     -8.444263   \n",
       "75%        7.800000      0.622625      0.749714      6.100000     -6.392496   \n",
       "max       10.000000      0.974000      0.999000     11.000000      4.078000   \n",
       "\n",
       "        speechiness  acousticness  instrumentalness      liveness  \\\n",
       "count  16738.000000  16738.000000      16738.000000  16738.000000   \n",
       "mean       0.090742      0.301914          0.274748      0.196402   \n",
       "std        0.090126      0.262392          0.298907      0.104933   \n",
       "min       -1.000000     -1.000000         -1.000000     -1.000000   \n",
       "25%        0.040633      0.091104          0.009597      0.134517   \n",
       "50%        0.056665      0.228844          0.149363      0.174261   \n",
       "75%        0.100211      0.460500          0.497283      0.228338   \n",
       "max        0.958000      0.996000          0.982000      0.978000   \n",
       "\n",
       "            valence         tempo  \n",
       "count  16738.000000  16738.000000  \n",
       "mean       0.405268    120.326487  \n",
       "std        0.182293     15.482320  \n",
       "min       -1.000000     -1.000000  \n",
       "25%        0.274267    111.240000  \n",
       "50%        0.406288    120.397346  \n",
       "75%        0.531720    129.141008  \n",
       "max        0.971000    215.972000  "
      ]
     },
     "execution_count": 23,
     "metadata": {},
     "output_type": "execute_result"
    }
   ],
   "source": [
    "df[numerical_columns].describe()"
   ]
  },
  {
   "cell_type": "markdown",
   "metadata": {},
   "source": [
    "\n",
    "3. For categorical columns, list how many different values there are in each column. If there are less than 10 distinct values for a category, print them all. For the `genre` column, assign the value `'Other'` for albums where the value is either `'none'` or `NaN`.\n"
   ]
  },
  {
   "cell_type": "code",
   "execution_count": 26,
   "metadata": {},
   "outputs": [
    {
     "data": {
      "text/html": [
       "<div>\n",
       "<style scoped>\n",
       "    .dataframe tbody tr th:only-of-type {\n",
       "        vertical-align: middle;\n",
       "    }\n",
       "\n",
       "    .dataframe tbody tr th {\n",
       "        vertical-align: top;\n",
       "    }\n",
       "\n",
       "    .dataframe thead th {\n",
       "        text-align: right;\n",
       "    }\n",
       "</style>\n",
       "<table border=\"1\" class=\"dataframe\">\n",
       "  <thead>\n",
       "    <tr style=\"text-align: right;\">\n",
       "      <th></th>\n",
       "      <th>artist</th>\n",
       "      <th>album</th>\n",
       "      <th>reviewauthor</th>\n",
       "      <th>score</th>\n",
       "      <th>releaseyear</th>\n",
       "      <th>reviewdate</th>\n",
       "      <th>recordlabel</th>\n",
       "      <th>genre</th>\n",
       "      <th>danceability</th>\n",
       "      <th>energy</th>\n",
       "      <th>key</th>\n",
       "      <th>loudness</th>\n",
       "      <th>speechiness</th>\n",
       "      <th>acousticness</th>\n",
       "      <th>instrumentalness</th>\n",
       "      <th>liveness</th>\n",
       "      <th>valence</th>\n",
       "      <th>tempo</th>\n",
       "    </tr>\n",
       "  </thead>\n",
       "  <tbody>\n",
       "    <tr>\n",
       "      <th>0</th>\n",
       "      <td>Studio 1</td>\n",
       "      <td>Studio 1</td>\n",
       "      <td>Andy Battaglia</td>\n",
       "      <td>8.5</td>\n",
       "      <td>2009.0</td>\n",
       "      <td>February 18 2009</td>\n",
       "      <td>Studio</td>\n",
       "      <td>Electronic</td>\n",
       "      <td>0.511917</td>\n",
       "      <td>0.499667</td>\n",
       "      <td>5.25</td>\n",
       "      <td>-5.626583</td>\n",
       "      <td>0.031983</td>\n",
       "      <td>0.724917</td>\n",
       "      <td>0.024493</td>\n",
       "      <td>0.165367</td>\n",
       "      <td>0.555083</td>\n",
       "      <td>101.395167</td>\n",
       "    </tr>\n",
       "  </tbody>\n",
       "</table>\n",
       "</div>"
      ],
      "text/plain": [
       "     artist     album    reviewauthor score releaseyear        reviewdate  \\\n",
       "0  Studio 1  Studio 1  Andy Battaglia   8.5      2009.0  February 18 2009   \n",
       "\n",
       "  recordlabel       genre danceability    energy   key  loudness speechiness  \\\n",
       "0      Studio  Electronic     0.511917  0.499667  5.25 -5.626583    0.031983   \n",
       "\n",
       "  acousticness instrumentalness  liveness   valence       tempo  \n",
       "0     0.724917         0.024493  0.165367  0.555083  101.395167  "
      ]
     },
     "execution_count": 26,
     "metadata": {},
     "output_type": "execute_result"
    }
   ],
   "source": [
    "df.head(1)"
   ]
  },
  {
   "cell_type": "code",
   "execution_count": 48,
   "metadata": {},
   "outputs": [],
   "source": [
    "df['genre'] = df['genre'].where(\n",
    "    ~((pd.isnull(df['genre']) | (df['genre'] == 'none'))), \n",
    "    other='Other'\n",
    ")"
   ]
  },
  {
   "cell_type": "code",
   "execution_count": 49,
   "metadata": {},
   "outputs": [
    {
     "name": "stdout",
     "output_type": "stream",
     "text": [
      "colonne et ses valeurs uniques:  artist ['Studio 1' 'John Fahey' 'Reigning Sound' ... 'Nadia Tehran'\n",
      " 'Amyl and the Sniffers' 'D√¢m-Funk'] il y a 7883 valeurs uniques\n",
      "colonne et ses valeurs uniques:  album ['Studio 1' 'The Great Santa Barbara Oil Slick' 'Too Much Guitar' ...\n",
      " '4REAL 4REAL' 'We Get By' 'Amyl and the Sniffers'] il y a 16174 valeurs uniques\n",
      "colonne et ses valeurs uniques:  reviewauthor ['Andy Battaglia' 'Mark Richardson' 'Stephen M. Deusner' 'Chris Dahlen'\n",
      " 'Evan Rytlewski' 'Roque Strew' 'Matt LeMay' 'Sam Sodomsky' 'Ian Cohen'\n",
      " 'Brandon Stosuy' 'Cameron Macdonald' 'Camilo Arturo Leslie'\n",
      " 'Paul Thompson' 'William Bowers' 'Angus Finlayson' 'John Dark'\n",
      " 'Mike Powell' 'Nate Patrin' 'Ryan Schreiber' 'Paul Cooper'\n",
      " 'Stuart Berman' 'Matthew Murphy' 'Rob Mitchum' 'Joe Tangari'\n",
      " 'Laura Snapes' 'Eric Harvey' 'Reed Jackson' 'Adam Moerder' 'Sasha Geffen'\n",
      " 'Stephen  M. Deusner' 'Sheldon Pearce' 'Lakin Starling' 'Joshua Love'\n",
      " 'Amanda Petrusich' 'Marc Hogan' 'Andy Beta' 'Saby Reyes-Kulkarni'\n",
      " 'D. Shawn Bosler' 'David Raposa' 'Jenn Pelly' 'Cory D. Byrom'\n",
      " 'Rollie Pemberton' 'Jessica Hopper' 'Jayson Greene' 'Zach Kelly'\n",
      " 'Brent DiCrescenzo' 'Brian Howe' 'John Everhart' 'Jay Balfour'\n",
      " 'Jason Crock' 'Grayson Currin' 'Louis Pattison' 'Miles Bowe'\n",
      " 'Larry Fitzmaurice' 'Lindsay Zoladz' 'Michelle Kim'\n",
      " 'Matthew  Ismael Ruiz' 'Jonah Bromwich' 'Mia Lily Clarke'\n",
      " 'Rebecca Haithcoat' 'Jess Harvell' 'Matthew Ismael Ruiz' 'Tom Ewing'\n",
      " 'Matthew Perpetua' 'Israel Daramola' 'Dominique Leone' 'Briana Younger'\n",
      " 'Craig Jenkins' 'Benjamin Scheim' 'Philip Sherburne' 'Scott Plagenhoef'\n",
      " 'Quinn Moreland' 'Evan Minsker' 'Marc Masters' 'Sam Ubl' 'Andrew Ryce'\n",
      " 'Tal Rosenberg' 'Joe Colly' 'Tim Finney' 'Nitsuh Abebe' 'Mark Pytlik'\n",
      " 'Nick Sylvester' 'Ben Cardew' 'Miles Raymer' 'Rebecca Raber'\n",
      " 'Nathan Reese' 'Mike Orme' 'Taylor M. Clark' 'Spencer Owen'\n",
      " \"Andy O'Connor\" 'Stephen Troussé' 'Ryan Dombal' 'Grayson Haver Currin'\n",
      " 'Hari Ashurst' 'Jeremy Gordon' 'Steven Arroyo' 'Matthew Strauss'\n",
      " 'Harley Brown' 'Colin Joyce' 'Andrew Gaerig' 'Daniel Martin-McCormick'\n",
      " 'Tom Breihan' 'Jason Nickey' 'Britt Julious' 'Raymond Cummings'\n",
      " 'Mehan Jayasuriya' 'David M. Pecoraro' 'Nick Neyland' 'Thea Ballard'\n",
      " 'Stephen Trouss' 'Joel Oliphint' 'Phillip Mlynar' 'John Motley'\n",
      " 'Erin MacLeod' 'Eric Grandy' 'Steven Hyden' 'Zach Baron'\n",
      " 'Christopher Dare' 'Will Bryant' 'Aaron Leitko' 'Jazz Monroe'\n",
      " 'Douglas Wolk' 'Kevin Lozano' 'Isaiah Violante' 'Calum Marsh'\n",
      " 'Dan Gardopee' 'Marcus J. Moore' 'Kim Kelly' 'Pat Healy' 'Brian James'\n",
      " 'Alexander Lloyd Linhardt' 'Sean Fennessey' 'Elias Leight' 'Derek Miller'\n",
      " 'Jes Skolnik' 'Claire Lobenfeld' 'Jordan Sargent' 'Peter Macia'\n",
      " 'Kevin Adickes' 'Arielle Gordon' 'Eric Carr' 'Jascha Hoffman' 'Dan Lett'\n",
      " 'Puja Patel' 'Winston Cook-Wilson' 'Katherine St. Asaph' 'Jamieson Cox'\n",
      " 'Joshua Klein' 'Meaghan Garvey' 'Seth Colter Walls' 'Jonathan Zwickel'\n",
      " 'Alison Fields' 'Mark Martelli' 'David Drake' 'Allison Hussey'\n",
      " 'Shuja Haider' 'Matthew Ramirez' 'Barry Walters' 'Patrick St. Michel'\n",
      " 'Shannon J. Effinger' 'Brendan Reid' 'David Bevan' 'Ruth Saxelby'\n",
      " 'David Moore' 'Brent S. Sirota' 'Erin Vanderhoof' 'Brad Haywood'\n",
      " 'Sam Lefebvre' 'Martin Douglas' 'Zoe Camp' 'Paul A. Thompson'\n",
      " 'Hazel Cills' 'Zach Hooker' 'Brad Shoup' 'Lisa Blanning' 'Anupa Mistry'\n",
      " 'Anna Gaca' 'Emilie Friedlander' 'Sam Chennault' 'Andi Rowlands'\n",
      " 'Chal Ravens' 'Amy Granzin' 'Stephen Thomas Erlewine' 'PJ Gallagher'\n",
      " 'Julianne Escobedo Shepherd' 'Renato Pagnani' 'Jillian Mapes'\n",
      " 'Ned Raggett' 'Jason Heller' 'Michael Idov' 'Corban Goble'\n",
      " 'Abigail Covington' 'Alphonse Pierre' 'T. Cole Rachel' 'Hank Shteamer'\n",
      " 'Nina Corcoran' 'Rawiya Kameir' 'Zach Vowell' 'Corbin Reiff'\n",
      " 'Jesse Weiss' 'Eric Torres' 'Christopher F. Schiel' 'David Turner'\n",
      " 'Cosmo Lee' 'Philip Cosores' 'Brad Nelson' 'Olivia Horn '\n",
      " 'Dean Van Nguyen' 'Patrick Sisson' 'Jamin Warren' 'Nathan Smith'\n",
      " 'Michael Sandlin' 'Rachael Maddux' 'Lindsay Hood' \"Da'Shan Smith\"\n",
      " 'Eve Barlow' 'Natalie Weiner' 'Gabriel Szatan' 'Molly Beauchemin'\n",
      " 'Margaret Farrell' 'Kathy Iandoli' 'Amy Phillips' 'Katherine St Asaph'\n",
      " 'Michael J. Agovino' 'Ernest Wilkins' 'Vanessa Okoth-Obbo'\n",
      " 'Johnny Loftus' 'kris ex' 'Rachel Khong' 'Liz Colville'\n",
      " 'Jason P. Woodbury' 'Devon Maloney' 'Erin Osmon' 'Cameron Cook'\n",
      " 'Paula Mejia' 'Scott Hreha' 'Ryan Leas' 'Jackson Howard'\n",
      " 'Max Savage Levenson' 'Chris O’Leary' 'Patric Fallon' 'Ben Hewitt'\n",
      " 'Samir Khan' 'Jesse Jarnow' 'Ron Hart' 'Ilana Kaplan' 'Robbie Mackey'\n",
      " 'Rich Juzwiak' 'Stacey Anderson' 'Chris Randle' 'Ben Ratliff'\n",
      " 'Jeff Weiss' 'Alex Linhardt' 'Liam Singer' 'Andrew Bryant'\n",
      " 'Felipe Delerme' 'Rachel Hahn' 'Alfred Soto' 'James P. Wisdom'\n",
      " 'Mike Madden' 'Jonathan Patrick' 'Kasia Galazka' 'Ryan Kearney'\n",
      " 'Will Schube' 'Nicholas B. Sylvester' 'Jeremy D. Larson' 'Madison Bloom'\n",
      " 'Amanda Wicks' 'Melody Lau' 'Jia Tolentino' 'Jeff Leven'\n",
      " 'Matthew Trammell' 'Sam Hockley-Smith' 'Neil Robertson' 'Carrie Battan'\n",
      " 'Dr. Andy Beta' 'Dan Kilian' 'Caryn Rose' 'Whitney  Wei'\n",
      " 'Matthew Solarski' 'Jonathan K. Dick' 'Mosi Reeves' 'Hanif Abdurraqib'\n",
      " 'Philip Shelley' 'Hartley Goldstein' 'Nick Mirov' 'Daphne Carr'\n",
      " 'Mia Clarke' 'Stephen Deusner' 'Sophie Kemp ' 'Alexander Iadarola'\n",
      " 'Brandon Wall' 'Max Mertens' 'Maura Johnston' 'Patrick Bowman'\n",
      " 'Malcolm Seymour III' 'The Pitchfork Staff' 'Stephen Kearse'\n",
      " 'Choppa Moussaoui, with help from Mullah Omar, Ethan P, and '\n",
      " 'Sam Eccleston' 'Josh Love' 'Chris Drabick' 'Luke Buckman'\n",
      " 'Evan McGarvey' 'Fred Thomas' 'Michael Bernstein' 'Kristin Corry'\n",
      " 'Robert Ham' 'Marcus K. Dowling' 'NM Mashurov' 'Ryan Burleson'\n",
      " 'H. Drew Blackburn' 'Brad Hurst' 'Abby Jones' 'Timmhotep Aku'\n",
      " 'Ciaran Thapar' 'Jessica Suarez' 'Ryan H. Walsh' 'Tess Duncan'\n",
      " 'Brandon Soderberg' 'Chris Dahlen, Dominique Leone & Joe Tangari'\n",
      " 'Sean T. Collins' 'Jonathan Bernstein' 'Maria Sherman' 'Catherine Lewis'\n",
      " 'S. Murray' 'Jesse Fahnestock' 'Jesse Dorris'\n",
      " 'Brian Howe & Brandon Stosuy' 'William Morris' 'Jonathan Garrett'\n",
      " 'Vrinda Jagota' 'Judy Berman' 'Rollie Pemberton & Nick Sylvester'\n",
      " 'Matt Stephens' 'Meg Zamula' 'Julian Kimble' 'Maggie Lange'\n",
      " 'Hilary Hughes' 'Brian Josephs' 'Jason Diamond' 'Torii MacAdams'\n",
      " 'Sarah Zupko' 'Dani Blum ' 'Chris Weber' 'Savy Reyes-Kulkarni'\n",
      " 'Steve Kandell' 'Neil Lieberman' 'Matthew Schnipper' 'Ben Westhoff'\n",
      " 'Taylor Crumpton' 'Abby Garnett' 'Kristin Sage Rockermann'\n",
      " 'Shaad D’Souza' 'Owen Myers ' 'Safy-Hallan Farah' 'Alex Lindhart'\n",
      " 'Annie Fell' 'Kyle Kramer' 'Aimee Cliff' 'Austin Brown' 'Piotr Orlov'\n",
      " 'Kim Shannon' 'Sean Fennessy' 'Khalia Russell' 'Mike McGonigal'\n",
      " 'Eric R. Danton' 'JT Ramsay' 'Martin Clark' 'Vivien Goldman' 'Jason King'\n",
      " 'John S.W. MacDonald' 'Pete Nicholson' 'Daphne A. Brooks' 'Jake Cleland'\n",
      " 'Zach Schonfeld' 'Maya-Roisin Slater' 'Peyton Thomas' 'Jason Josephes'\n",
      " 'Alex Frank' 'Marcus Moore' 'Megan Buerger' 'Kyle Reiter' 'Judson Picco'\n",
      " 'Ethan P.' 'Hannah Giorgis' 'Stephen Haag' 'Maud Deitch' 'Cory Byrom'\n",
      " 'Mychal Denzel Smith' 'Andrew Goldman' 'Nathan Rooney' 'Joshua Copperman'\n",
      " 'Kyle Chayka' 'Matthew Kassel' 'Shan Fowler' 'Jedediah Gilchrist'\n",
      " 'Mike Bernstein' 'Noah Sutcliffe' 'Austin Gaines'\n",
      " 'Dan Kilian & Ryan Schreiber' 'Pat Levy' 'Steven Byrd' 'Rebecca Bengal'\n",
      " 'Colin St. John' 'Matthew Wellins' 'Lawrence Burney' 'Duncan Cooper'\n",
      " 'Karas Lamb' 'Ray Suzuki' 'Minna Zhou' 'Nelson George' 'Jeremy Schneyer'\n",
      " 'Simon Reynolds' 'Melissa Giannini' 'Abigail Garnett' 'Natalie Moore'\n",
      " 'Kaleb Horton' 'David Glickman' 'Dale W Eisinger' 'Christine Kakaire'\n",
      " \"John O'Connor\" 'Rebecca  Haithcoat' 'J.H. Tompkins' 'Joshua Minsoo Kim'\n",
      " 'Carvell Wallace' 'Dan Miron' 'Rohan Samarth' 'Matthew Grosinger'\n",
      " 'Leonard Pierce' 'Brock Kappers' 'Edwin \"STATS\" Houghton' 'Dan Brooks'\n",
      " 'Stephen May' 'Bob Stanley' 'J. Edward Keyes' 'Ezra Marcus' 'Noah Yoo'\n",
      " 'Dave Stelfox' 'Sean Stanley' 'Drew Gaerig' 'Clayton Purdom'\n",
      " 'B. David Zarley' 'Dorian Lynskey' 'Edwin “STATS” Houghton'\n",
      " 'Brendan Frederick' 'Casey Rea' 'Estelle Tang' 'Matthew Stephens'\n",
      " 'Michael A.  Gonzales' 'Naomi Zeichner' 'Daniel Crumb' 'Chip Chanko'\n",
      " 'Trey Alston' 'Jakob Dorof' 'Sarah Sahim' 'Bruce Tiffee'\n",
      " 'Christopher Sebela' 'Sasha Frere-Jones' 'Matt Grosinger' 'Shane Barnes'\n",
      " 'Owen Pallett' 'Brad Haywood & Ryan Schreiber' 'Ben Scheim' 'Jeff Ihaza'\n",
      " 'David Chiu' 'D. Erik Kempke' 'Michael E. Veal' 'Frankie Caracciolo'\n",
      " 'Dayna Evans' 'Finn Cohen' 'B Michael Payne' 'Maggie Serota'\n",
      " 'Edwn \"STATS\" Houghton' 'Oliver Wang' 'Ann-Derrick Gaillot'\n",
      " 'Mark Richard-San & Ryan Schreiber' 'Michael Hann' 'Beatty & Garrett'\n",
      " 'Nate Chinen' 'Josephine Livingstone' 'Brian Burlage' 'Carl Wilson'\n",
      " 'Susan Elizabeth Shepard' 'Rob Harvilla' 'Al Shipley' 'Rahawa Haile'\n",
      " 'Brendan Mattox' 'Andy Emitt' 'Tom Hawking' 'Sara Sherr'\n",
      " 'Andrew Nosnitsky' 'Vish Khanna' 'Kristin Sage Rockermann & Chip Chanko'\n",
      " 'Adam Dlugacz' 'Liz Pelly' \"Luke O'Neil\" \"Andy O' Connor\" 'Nick Marino'\n",
      " 'Alan Smithee' 'Will Dukes' 'Chris Dahlen & Ryan Schreiber'\n",
      " 'Stosh \"Piz\" Piznarski' 'Vanessa  Okoth-Obbo' 'Christopher Weber'\n",
      " 'Matt Kallman' 'Emma Madden' 'P.J. Gallagher' 'Saby Reyes Kulkarni'\n",
      " 'Leor Galil' 'Ryan Schreiber & Alison Fields'\n",
      " 'Loren Ludwig & Jascha Hoffman' 'Steven J. Horowitz' 'Alan Light'\n",
      " 'Craig Rostron' 'Craig Griffith' 'Marty Sartini Garner' 'Jeff Chang'\n",
      " 'Jonathan Williger' 'Braudie Blais-Billie' 'Oliver Lache' 'Simon Goddard'\n",
      " 'Luc Sante' 'Bill Morris' 'Judnick Mayard' 'Hefner Macauley'\n",
      " 'Pete Tosiello' 'Will Pritchard' 'Shawn Reynaldo' 'Mina Tavakoli'\n",
      " 'Stefanie Fern√°ndez' 'Colin Lodewick' 'Ben Dandridge-Lemco' 'Andy Cush'\n",
      " 'Other' 'Thomas Hobbs' 'Daniel Felsenthal' 'Alex Pappademas' 'Cat Zhang'\n",
      " 'Adlan Jackson' 'Linnie Greene' 'Nathan Taylor Pemberton' 'Leah Mandel '\n",
      " 'Thora Siemsen' 'Brady Gerber' 'Rob Tannenbaum' \"Chris O'Connell\"\n",
      " 'Shaad D‚ÄôSouza' 'Graeme Thomson' 'John Lingan' 'Brodie Lancaster'\n",
      " 'Wayne Marshall' 'Nazuk Kochhar' 'Zoe Dubno' 'Beverly Bryan'] il y a 555 valeurs uniques\n",
      "colonne et ses valeurs uniques:  recordlabel ['Studio' 'Water' 'In the Red' ... 'Disco Halal' 'none' 'Other'] il y a 3033 valeurs uniques\n",
      "colonne et ses valeurs uniques:  genre ['Electronic' 'Folk/Country' 'Rock' 'Rap' 'Global' 'Experimental' 'Metal'\n",
      " 'Pop/R&B' 'Jazz' 'Other'] il y a 10 valeurs uniques\n"
     ]
    }
   ],
   "source": [
    "categorical_columns = ['artist', 'album', 'reviewauthor', 'recordlabel', 'genre']\n",
    "for col in categorical_columns:\n",
    "    print('colonne et ses valeurs uniques: ', col, df[col].unique(), 'il y a', len(df[col].unique()), 'valeurs uniques')"
   ]
  },
  {
   "cell_type": "markdown",
   "metadata": {},
   "source": [
    "\n",
    "5. **Discuss:** This dataset was built with *found data*—i.e., the Pitchfork reviews were not made with the goal of training a machine learning model. Grounded on the previous analyses and in Pitchfork's [Wikipedia page](https://en.wikipedia.org/wiki/Pitchfork_(website)), point **three** (exactly!) ways in which this data may not be representative of music albums in general due to the way the data was collected. \n",
    "\n",
    "---"
   ]
  },
  {
   "cell_type": "code",
   "execution_count": null,
   "metadata": {},
   "outputs": [],
   "source": []
  },
  {
   "cell_type": "markdown",
   "metadata": {
    "pycharm": {
     "name": "#%% md\n"
    }
   },
   "source": [
    "#### **Task 2 (Pre-processing and pipeline code — 12 pts)**\n",
    "\n",
    "Next, you decide to prepare the code that will help you in training your machine learning models. Also, you implement a simple baseline. For this task, **unless otherwise stated** you must implement functions yourself, instead of relying on `scikit-learn` (you can use `numpy` or `pandas`, though!).\n",
    "\n",
    "1. For each possible value in the `genre` column, create a new column called `{genre}_onehot` (e.g., for `genre=jazz`, create `jazz_onehot`). Collectively, these new columns should \"one hot-encode\" the genre column—for instance, if for a given album the `genre` is filled with the value `jazz`, the `jazz_onehot` column should equal 1 and all other `{genre}_onehot` columns should equal 0. \n"
   ]
  },
  {
   "cell_type": "code",
   "execution_count": 50,
   "metadata": {},
   "outputs": [
    {
     "ename": "ValueError",
     "evalue": "columns overlap but no suffix specified: Index(['Electronic_onehot', 'Experimental_onehot', 'Folk/Country_onehot',\n       'Global_onehot', 'Jazz_onehot', 'Metal_onehot', 'Other_onehot',\n       'Pop/R&B_onehot', 'Rap_onehot', 'Rock_onehot'],\n      dtype='object')",
     "output_type": "error",
     "traceback": [
      "\u001b[1;31m---------------------------------------------------------------------------\u001b[0m",
      "\u001b[1;31mValueError\u001b[0m                                Traceback (most recent call last)",
      "Cell \u001b[1;32mIn[50], line 1\u001b[0m\n\u001b[1;32m----> 1\u001b[0m df \u001b[38;5;241m=\u001b[39m \u001b[43mdf\u001b[49m\u001b[38;5;241;43m.\u001b[39;49m\u001b[43mjoin\u001b[49m\u001b[43m(\u001b[49m\u001b[43mpd\u001b[49m\u001b[38;5;241;43m.\u001b[39;49m\u001b[43mget_dummies\u001b[49m\u001b[43m(\u001b[49m\u001b[43mdf\u001b[49m\u001b[43m[\u001b[49m\u001b[38;5;124;43m'\u001b[39;49m\u001b[38;5;124;43mgenre\u001b[39;49m\u001b[38;5;124;43m'\u001b[39;49m\u001b[43m]\u001b[49m\u001b[43m)\u001b[49m\u001b[38;5;241;43m.\u001b[39;49m\u001b[43mrename\u001b[49m\u001b[43m(\u001b[49m\u001b[43mcolumns\u001b[49m\u001b[38;5;241;43m=\u001b[39;49m\u001b[38;5;28;43;01mlambda\u001b[39;49;00m\u001b[43m \u001b[49m\u001b[43mx\u001b[49m\u001b[43m \u001b[49m\u001b[43m:\u001b[49m\u001b[43m \u001b[49m\u001b[38;5;124;43mf\u001b[39;49m\u001b[38;5;124;43m'\u001b[39;49m\u001b[38;5;132;43;01m{\u001b[39;49;00m\u001b[43mx\u001b[49m\u001b[38;5;132;43;01m}\u001b[39;49;00m\u001b[38;5;124;43m_onehot\u001b[39;49m\u001b[38;5;124;43m'\u001b[39;49m\u001b[43m)\u001b[49m\u001b[43m)\u001b[49m\n",
      "File \u001b[1;32mc:\\Users\\Admin\\miniconda3\\envs\\ada\\lib\\site-packages\\pandas\\core\\frame.py:10415\u001b[0m, in \u001b[0;36mDataFrame.join\u001b[1;34m(self, other, on, how, lsuffix, rsuffix, sort, validate)\u001b[0m\n\u001b[0;32m  10405\u001b[0m     \u001b[38;5;28;01mif\u001b[39;00m how \u001b[38;5;241m==\u001b[39m \u001b[38;5;124m\"\u001b[39m\u001b[38;5;124mcross\u001b[39m\u001b[38;5;124m\"\u001b[39m:\n\u001b[0;32m  10406\u001b[0m         \u001b[38;5;28;01mreturn\u001b[39;00m merge(\n\u001b[0;32m  10407\u001b[0m             \u001b[38;5;28mself\u001b[39m,\n\u001b[0;32m  10408\u001b[0m             other,\n\u001b[1;32m   (...)\u001b[0m\n\u001b[0;32m  10413\u001b[0m             validate\u001b[38;5;241m=\u001b[39mvalidate,\n\u001b[0;32m  10414\u001b[0m         )\n\u001b[1;32m> 10415\u001b[0m     \u001b[38;5;28;01mreturn\u001b[39;00m \u001b[43mmerge\u001b[49m\u001b[43m(\u001b[49m\n\u001b[0;32m  10416\u001b[0m \u001b[43m        \u001b[49m\u001b[38;5;28;43mself\u001b[39;49m\u001b[43m,\u001b[49m\n\u001b[0;32m  10417\u001b[0m \u001b[43m        \u001b[49m\u001b[43mother\u001b[49m\u001b[43m,\u001b[49m\n\u001b[0;32m  10418\u001b[0m \u001b[43m        \u001b[49m\u001b[43mleft_on\u001b[49m\u001b[38;5;241;43m=\u001b[39;49m\u001b[43mon\u001b[49m\u001b[43m,\u001b[49m\n\u001b[0;32m  10419\u001b[0m \u001b[43m        \u001b[49m\u001b[43mhow\u001b[49m\u001b[38;5;241;43m=\u001b[39;49m\u001b[43mhow\u001b[49m\u001b[43m,\u001b[49m\n\u001b[0;32m  10420\u001b[0m \u001b[43m        \u001b[49m\u001b[43mleft_index\u001b[49m\u001b[38;5;241;43m=\u001b[39;49m\u001b[43mon\u001b[49m\u001b[43m \u001b[49m\u001b[38;5;129;43;01mis\u001b[39;49;00m\u001b[43m \u001b[49m\u001b[38;5;28;43;01mNone\u001b[39;49;00m\u001b[43m,\u001b[49m\n\u001b[0;32m  10421\u001b[0m \u001b[43m        \u001b[49m\u001b[43mright_index\u001b[49m\u001b[38;5;241;43m=\u001b[39;49m\u001b[38;5;28;43;01mTrue\u001b[39;49;00m\u001b[43m,\u001b[49m\n\u001b[0;32m  10422\u001b[0m \u001b[43m        \u001b[49m\u001b[43msuffixes\u001b[49m\u001b[38;5;241;43m=\u001b[39;49m\u001b[43m(\u001b[49m\u001b[43mlsuffix\u001b[49m\u001b[43m,\u001b[49m\u001b[43m \u001b[49m\u001b[43mrsuffix\u001b[49m\u001b[43m)\u001b[49m\u001b[43m,\u001b[49m\n\u001b[0;32m  10423\u001b[0m \u001b[43m        \u001b[49m\u001b[43msort\u001b[49m\u001b[38;5;241;43m=\u001b[39;49m\u001b[43msort\u001b[49m\u001b[43m,\u001b[49m\n\u001b[0;32m  10424\u001b[0m \u001b[43m        \u001b[49m\u001b[43mvalidate\u001b[49m\u001b[38;5;241;43m=\u001b[39;49m\u001b[43mvalidate\u001b[49m\u001b[43m,\u001b[49m\n\u001b[0;32m  10425\u001b[0m \u001b[43m    \u001b[49m\u001b[43m)\u001b[49m\n\u001b[0;32m  10426\u001b[0m \u001b[38;5;28;01melse\u001b[39;00m:\n\u001b[0;32m  10427\u001b[0m     \u001b[38;5;28;01mif\u001b[39;00m on \u001b[38;5;129;01mis\u001b[39;00m \u001b[38;5;129;01mnot\u001b[39;00m \u001b[38;5;28;01mNone\u001b[39;00m:\n",
      "File \u001b[1;32mc:\\Users\\Admin\\miniconda3\\envs\\ada\\lib\\site-packages\\pandas\\core\\reshape\\merge.py:183\u001b[0m, in \u001b[0;36mmerge\u001b[1;34m(left, right, how, on, left_on, right_on, left_index, right_index, sort, suffixes, copy, indicator, validate)\u001b[0m\n\u001b[0;32m    168\u001b[0m \u001b[38;5;28;01melse\u001b[39;00m:\n\u001b[0;32m    169\u001b[0m     op \u001b[38;5;241m=\u001b[39m _MergeOperation(\n\u001b[0;32m    170\u001b[0m         left_df,\n\u001b[0;32m    171\u001b[0m         right_df,\n\u001b[1;32m   (...)\u001b[0m\n\u001b[0;32m    181\u001b[0m         validate\u001b[38;5;241m=\u001b[39mvalidate,\n\u001b[0;32m    182\u001b[0m     )\n\u001b[1;32m--> 183\u001b[0m     \u001b[38;5;28;01mreturn\u001b[39;00m \u001b[43mop\u001b[49m\u001b[38;5;241;43m.\u001b[39;49m\u001b[43mget_result\u001b[49m\u001b[43m(\u001b[49m\u001b[43mcopy\u001b[49m\u001b[38;5;241;43m=\u001b[39;49m\u001b[43mcopy\u001b[49m\u001b[43m)\u001b[49m\n",
      "File \u001b[1;32mc:\\Users\\Admin\\miniconda3\\envs\\ada\\lib\\site-packages\\pandas\\core\\reshape\\merge.py:885\u001b[0m, in \u001b[0;36m_MergeOperation.get_result\u001b[1;34m(self, copy)\u001b[0m\n\u001b[0;32m    881\u001b[0m     \u001b[38;5;28mself\u001b[39m\u001b[38;5;241m.\u001b[39mleft, \u001b[38;5;28mself\u001b[39m\u001b[38;5;241m.\u001b[39mright \u001b[38;5;241m=\u001b[39m \u001b[38;5;28mself\u001b[39m\u001b[38;5;241m.\u001b[39m_indicator_pre_merge(\u001b[38;5;28mself\u001b[39m\u001b[38;5;241m.\u001b[39mleft, \u001b[38;5;28mself\u001b[39m\u001b[38;5;241m.\u001b[39mright)\n\u001b[0;32m    883\u001b[0m join_index, left_indexer, right_indexer \u001b[38;5;241m=\u001b[39m \u001b[38;5;28mself\u001b[39m\u001b[38;5;241m.\u001b[39m_get_join_info()\n\u001b[1;32m--> 885\u001b[0m result \u001b[38;5;241m=\u001b[39m \u001b[38;5;28;43mself\u001b[39;49m\u001b[38;5;241;43m.\u001b[39;49m\u001b[43m_reindex_and_concat\u001b[49m\u001b[43m(\u001b[49m\n\u001b[0;32m    886\u001b[0m \u001b[43m    \u001b[49m\u001b[43mjoin_index\u001b[49m\u001b[43m,\u001b[49m\u001b[43m \u001b[49m\u001b[43mleft_indexer\u001b[49m\u001b[43m,\u001b[49m\u001b[43m \u001b[49m\u001b[43mright_indexer\u001b[49m\u001b[43m,\u001b[49m\u001b[43m \u001b[49m\u001b[43mcopy\u001b[49m\u001b[38;5;241;43m=\u001b[39;49m\u001b[43mcopy\u001b[49m\n\u001b[0;32m    887\u001b[0m \u001b[43m\u001b[49m\u001b[43m)\u001b[49m\n\u001b[0;32m    888\u001b[0m result \u001b[38;5;241m=\u001b[39m result\u001b[38;5;241m.\u001b[39m__finalize__(\u001b[38;5;28mself\u001b[39m, method\u001b[38;5;241m=\u001b[39m\u001b[38;5;28mself\u001b[39m\u001b[38;5;241m.\u001b[39m_merge_type)\n\u001b[0;32m    890\u001b[0m \u001b[38;5;28;01mif\u001b[39;00m \u001b[38;5;28mself\u001b[39m\u001b[38;5;241m.\u001b[39mindicator:\n",
      "File \u001b[1;32mc:\\Users\\Admin\\miniconda3\\envs\\ada\\lib\\site-packages\\pandas\\core\\reshape\\merge.py:837\u001b[0m, in \u001b[0;36m_MergeOperation._reindex_and_concat\u001b[1;34m(self, join_index, left_indexer, right_indexer, copy)\u001b[0m\n\u001b[0;32m    834\u001b[0m left \u001b[38;5;241m=\u001b[39m \u001b[38;5;28mself\u001b[39m\u001b[38;5;241m.\u001b[39mleft[:]\n\u001b[0;32m    835\u001b[0m right \u001b[38;5;241m=\u001b[39m \u001b[38;5;28mself\u001b[39m\u001b[38;5;241m.\u001b[39mright[:]\n\u001b[1;32m--> 837\u001b[0m llabels, rlabels \u001b[38;5;241m=\u001b[39m \u001b[43m_items_overlap_with_suffix\u001b[49m\u001b[43m(\u001b[49m\n\u001b[0;32m    838\u001b[0m \u001b[43m    \u001b[49m\u001b[38;5;28;43mself\u001b[39;49m\u001b[38;5;241;43m.\u001b[39;49m\u001b[43mleft\u001b[49m\u001b[38;5;241;43m.\u001b[39;49m\u001b[43m_info_axis\u001b[49m\u001b[43m,\u001b[49m\u001b[43m \u001b[49m\u001b[38;5;28;43mself\u001b[39;49m\u001b[38;5;241;43m.\u001b[39;49m\u001b[43mright\u001b[49m\u001b[38;5;241;43m.\u001b[39;49m\u001b[43m_info_axis\u001b[49m\u001b[43m,\u001b[49m\u001b[43m \u001b[49m\u001b[38;5;28;43mself\u001b[39;49m\u001b[38;5;241;43m.\u001b[39;49m\u001b[43msuffixes\u001b[49m\n\u001b[0;32m    839\u001b[0m \u001b[43m\u001b[49m\u001b[43m)\u001b[49m\n\u001b[0;32m    841\u001b[0m \u001b[38;5;28;01mif\u001b[39;00m left_indexer \u001b[38;5;129;01mis\u001b[39;00m \u001b[38;5;129;01mnot\u001b[39;00m \u001b[38;5;28;01mNone\u001b[39;00m \u001b[38;5;129;01mand\u001b[39;00m \u001b[38;5;129;01mnot\u001b[39;00m is_range_indexer(left_indexer, \u001b[38;5;28mlen\u001b[39m(left)):\n\u001b[0;32m    842\u001b[0m     \u001b[38;5;66;03m# Pinning the index here (and in the right code just below) is not\u001b[39;00m\n\u001b[0;32m    843\u001b[0m     \u001b[38;5;66;03m#  necessary, but makes the `.take` more performant if we have e.g.\u001b[39;00m\n\u001b[0;32m    844\u001b[0m     \u001b[38;5;66;03m#  a MultiIndex for left.index.\u001b[39;00m\n\u001b[0;32m    845\u001b[0m     lmgr \u001b[38;5;241m=\u001b[39m left\u001b[38;5;241m.\u001b[39m_mgr\u001b[38;5;241m.\u001b[39mreindex_indexer(\n\u001b[0;32m    846\u001b[0m         join_index,\n\u001b[0;32m    847\u001b[0m         left_indexer,\n\u001b[1;32m   (...)\u001b[0m\n\u001b[0;32m    852\u001b[0m         use_na_proxy\u001b[38;5;241m=\u001b[39m\u001b[38;5;28;01mTrue\u001b[39;00m,\n\u001b[0;32m    853\u001b[0m     )\n",
      "File \u001b[1;32mc:\\Users\\Admin\\miniconda3\\envs\\ada\\lib\\site-packages\\pandas\\core\\reshape\\merge.py:2655\u001b[0m, in \u001b[0;36m_items_overlap_with_suffix\u001b[1;34m(left, right, suffixes)\u001b[0m\n\u001b[0;32m   2652\u001b[0m lsuffix, rsuffix \u001b[38;5;241m=\u001b[39m suffixes\n\u001b[0;32m   2654\u001b[0m \u001b[38;5;28;01mif\u001b[39;00m \u001b[38;5;129;01mnot\u001b[39;00m lsuffix \u001b[38;5;129;01mand\u001b[39;00m \u001b[38;5;129;01mnot\u001b[39;00m rsuffix:\n\u001b[1;32m-> 2655\u001b[0m     \u001b[38;5;28;01mraise\u001b[39;00m \u001b[38;5;167;01mValueError\u001b[39;00m(\u001b[38;5;124mf\u001b[39m\u001b[38;5;124m\"\u001b[39m\u001b[38;5;124mcolumns overlap but no suffix specified: \u001b[39m\u001b[38;5;132;01m{\u001b[39;00mto_rename\u001b[38;5;132;01m}\u001b[39;00m\u001b[38;5;124m\"\u001b[39m)\n\u001b[0;32m   2657\u001b[0m \u001b[38;5;28;01mdef\u001b[39;00m \u001b[38;5;21mrenamer\u001b[39m(x, suffix: \u001b[38;5;28mstr\u001b[39m \u001b[38;5;241m|\u001b[39m \u001b[38;5;28;01mNone\u001b[39;00m):\n\u001b[0;32m   2658\u001b[0m \u001b[38;5;250m    \u001b[39m\u001b[38;5;124;03m\"\"\"\u001b[39;00m\n\u001b[0;32m   2659\u001b[0m \u001b[38;5;124;03m    Rename the left and right indices.\u001b[39;00m\n\u001b[0;32m   2660\u001b[0m \n\u001b[1;32m   (...)\u001b[0m\n\u001b[0;32m   2671\u001b[0m \u001b[38;5;124;03m    x : renamed column name\u001b[39;00m\n\u001b[0;32m   2672\u001b[0m \u001b[38;5;124;03m    \"\"\"\u001b[39;00m\n",
      "\u001b[1;31mValueError\u001b[0m: columns overlap but no suffix specified: Index(['Electronic_onehot', 'Experimental_onehot', 'Folk/Country_onehot',\n       'Global_onehot', 'Jazz_onehot', 'Metal_onehot', 'Other_onehot',\n       'Pop/R&B_onehot', 'Rap_onehot', 'Rock_onehot'],\n      dtype='object')"
     ]
    }
   ],
   "source": [
    "df = df.join(pd.get_dummies(df['genre']).rename(columns=lambda x : f'{x}_onehot'))"
   ]
  },
  {
   "cell_type": "markdown",
   "metadata": {},
   "source": [
    "\n",
    "2. Create a function `numpy_helper(df, cols)` to obtain a `numpy.array` out of your `dataframe`. The function should receive a dataframe `df` with N rows and a list of M columns `cols`, and should return a `np.array` of dimension (NxM).\n"
   ]
  },
  {
   "cell_type": "code",
   "execution_count": 51,
   "metadata": {},
   "outputs": [],
   "source": [
    "def numpy_helper(df, cols):\n",
    "    return df[cols].values"
   ]
  },
  {
   "cell_type": "code",
   "execution_count": 52,
   "metadata": {},
   "outputs": [],
   "source": [
    "\n",
    "numpy_helper = lambda df, cols : df[cols].values"
   ]
  },
  {
   "cell_type": "markdown",
   "metadata": {},
   "source": [
    "\n",
    "3. For each album, build an array of features `X` containing all genre-related one-hot features, and an array of outcomes `y` containing scores. Using the function [`sklearn.model_selection.train_test_split`](https://scikit-learn.org/stable/modules/generated/sklearn.model_selection.train_test_split.html) with `random_state=123`, split the data into a train set containing 70% of all data, and a test set containing the remaining 30%.\n"
   ]
  },
  {
   "cell_type": "code",
   "execution_count": 53,
   "metadata": {},
   "outputs": [],
   "source": [
    "from sklearn.model_selection import train_test_split\n",
    "genre_cols = list(filter(lambda x : x.endswith('_onehot'), df.columns))\n",
    "X = numpy_helper(df, genre_cols)\n",
    "y = np.ravel(numpy_helper(df, ['score']))\n",
    "\n",
    "X_train, X_test, y_train, y_test = train_test_split(\n",
    "     X, y, test_size=0.3, random_state=123)"
   ]
  },
  {
   "cell_type": "markdown",
   "metadata": {},
   "source": [
    "\n",
    "4. Create your own baseline regressor. Using the training data (in the training stage), your regressor should estimate the average score for all albums. Then, for the test data (in the prediction stage), your classifier should always output the average score (computed on the training data).\n"
   ]
  },
  {
   "cell_type": "code",
   "execution_count": 54,
   "metadata": {},
   "outputs": [
    {
     "ename": "TypeError",
     "evalue": "unsupported operand type(s) for +: 'float' and 'str'",
     "output_type": "error",
     "traceback": [
      "\u001b[1;31m---------------------------------------------------------------------------\u001b[0m",
      "\u001b[1;31mTypeError\u001b[0m                                 Traceback (most recent call last)",
      "Cell \u001b[1;32mIn[54], line 21\u001b[0m\n\u001b[0;32m     16\u001b[0m         \u001b[38;5;28;01mreturn\u001b[39;00m np\u001b[38;5;241m.\u001b[39marray([\u001b[38;5;28mself\u001b[39m\u001b[38;5;241m.\u001b[39mbaselines_] \u001b[38;5;241m*\u001b[39m \u001b[38;5;28mlen\u001b[39m(X))\n\u001b[0;32m     19\u001b[0m clf \u001b[38;5;241m=\u001b[39m BaselineRegressor()\n\u001b[1;32m---> 21\u001b[0m \u001b[43mclf\u001b[49m\u001b[38;5;241;43m.\u001b[39;49m\u001b[43mfit\u001b[49m\u001b[43m(\u001b[49m\u001b[43mX_train\u001b[49m\u001b[43m,\u001b[49m\u001b[43m \u001b[49m\u001b[43my_train\u001b[49m\u001b[43m)\u001b[49m\n\u001b[0;32m     23\u001b[0m preds \u001b[38;5;241m=\u001b[39m clf\u001b[38;5;241m.\u001b[39mpredict(X_test)\n\u001b[0;32m     25\u001b[0m preds\n",
      "Cell \u001b[1;32mIn[54], line 8\u001b[0m, in \u001b[0;36mBaselineRegressor.fit\u001b[1;34m(self, X, y)\u001b[0m\n\u001b[0;32m      6\u001b[0m \u001b[38;5;28;01mdef\u001b[39;00m \u001b[38;5;21mfit\u001b[39m(\u001b[38;5;28mself\u001b[39m, X, y):\n\u001b[1;32m----> 8\u001b[0m     \u001b[38;5;28mself\u001b[39m\u001b[38;5;241m.\u001b[39mbaselines_ \u001b[38;5;241m=\u001b[39m \u001b[43my\u001b[49m\u001b[38;5;241;43m.\u001b[39;49m\u001b[43mmean\u001b[49m\u001b[43m(\u001b[49m\u001b[43m)\u001b[49m\n\u001b[0;32m     10\u001b[0m     \u001b[38;5;66;03m# Return the classifier\u001b[39;00m\n\u001b[0;32m     11\u001b[0m     \u001b[38;5;28;01mreturn\u001b[39;00m \u001b[38;5;28mself\u001b[39m\n",
      "File \u001b[1;32mc:\\Users\\Admin\\miniconda3\\envs\\ada\\lib\\site-packages\\numpy\\core\\_methods.py:118\u001b[0m, in \u001b[0;36m_mean\u001b[1;34m(a, axis, dtype, out, keepdims, where)\u001b[0m\n\u001b[0;32m    115\u001b[0m         dtype \u001b[38;5;241m=\u001b[39m mu\u001b[38;5;241m.\u001b[39mdtype(\u001b[38;5;124m'\u001b[39m\u001b[38;5;124mf4\u001b[39m\u001b[38;5;124m'\u001b[39m)\n\u001b[0;32m    116\u001b[0m         is_float16_result \u001b[38;5;241m=\u001b[39m \u001b[38;5;28;01mTrue\u001b[39;00m\n\u001b[1;32m--> 118\u001b[0m ret \u001b[38;5;241m=\u001b[39m \u001b[43mumr_sum\u001b[49m\u001b[43m(\u001b[49m\u001b[43marr\u001b[49m\u001b[43m,\u001b[49m\u001b[43m \u001b[49m\u001b[43maxis\u001b[49m\u001b[43m,\u001b[49m\u001b[43m \u001b[49m\u001b[43mdtype\u001b[49m\u001b[43m,\u001b[49m\u001b[43m \u001b[49m\u001b[43mout\u001b[49m\u001b[43m,\u001b[49m\u001b[43m \u001b[49m\u001b[43mkeepdims\u001b[49m\u001b[43m,\u001b[49m\u001b[43m \u001b[49m\u001b[43mwhere\u001b[49m\u001b[38;5;241;43m=\u001b[39;49m\u001b[43mwhere\u001b[49m\u001b[43m)\u001b[49m\n\u001b[0;32m    119\u001b[0m \u001b[38;5;28;01mif\u001b[39;00m \u001b[38;5;28misinstance\u001b[39m(ret, mu\u001b[38;5;241m.\u001b[39mndarray):\n\u001b[0;32m    120\u001b[0m     \u001b[38;5;28;01mwith\u001b[39;00m _no_nep50_warning():\n",
      "\u001b[1;31mTypeError\u001b[0m: unsupported operand type(s) for +: 'float' and 'str'"
     ]
    }
   ],
   "source": [
    "class BaselineRegressor():\n",
    "\n",
    "    def __init__(self):\n",
    "        self.baselines_ = None\n",
    "\n",
    "    def fit(self, X, y):\n",
    "\n",
    "        self.baselines_ = y.mean()\n",
    "        \n",
    "        # Return the classifier\n",
    "        return self\n",
    "\n",
    "    def predict(self, X):\n",
    "\n",
    "\n",
    "        return np.array([self.baselines_] * len(X))\n",
    "    \n",
    "\n",
    "clf = BaselineRegressor()\n",
    "\n",
    "clf.fit(X_train, y_train)\n",
    "\n",
    "preds = clf.predict(X_test)\n",
    "\n",
    "preds"
   ]
  },
  {
   "cell_type": "markdown",
   "metadata": {},
   "source": [
    "\n",
    "5. Calculate the [coefficient of determination ($R^2$)](https://scikit-learn.org/stable/modules/generated/sklearn.metrics.r2_score.html) of your baseline on the test data. **You are allowed to use the `sklearn` implementation here.**\n"
   ]
  },
  {
   "cell_type": "code",
   "execution_count": 55,
   "metadata": {},
   "outputs": [
    {
     "ename": "NameError",
     "evalue": "name 'preds' is not defined",
     "output_type": "error",
     "traceback": [
      "\u001b[1;31m---------------------------------------------------------------------------\u001b[0m",
      "\u001b[1;31mNameError\u001b[0m                                 Traceback (most recent call last)",
      "Cell \u001b[1;32mIn[55], line 1\u001b[0m\n\u001b[1;32m----> 1\u001b[0m r2_score(y_test, \u001b[43mpreds\u001b[49m)\n",
      "\u001b[1;31mNameError\u001b[0m: name 'preds' is not defined"
     ]
    }
   ],
   "source": [
    "r2_score(y_test, preds)"
   ]
  },
  {
   "cell_type": "markdown",
   "metadata": {},
   "source": [
    "\n",
    "6. **Discuss:** Your train-test split randomly selected 70% of all data for the training set. Why is this a problem for the broader task of predicting whether a future album will be successful or not?\n",
    "\n",
    "---"
   ]
  },
  {
   "cell_type": "code",
   "execution_count": null,
   "metadata": {},
   "outputs": [],
   "source": []
  },
  {
   "cell_type": "markdown",
   "metadata": {},
   "source": [
    "**Task 3 (Regression — 14 pts)**\n",
    "\n",
    "Finally, you get down to business and train your regression models.\n",
    "\n",
    "1. Build a Linear Regression model (use `sklearn`) that predicts the outcome `score` using the features \"releaseyear\",  \"key\", \"acousticness\", \"danceability\", \"energy\", \"instrumentalness\", \"liveness\", \"loudness\", \"speechiness\", \"valence\", \"tempo\" and the one-hot encoded genre-related columns.  Using a 70/30 train-test split similar to what you did in task two (hereinafter referred to as \"the random split\", use the same random seed, `random_state=123`), report the $R^2$ for the testing set.\n"
   ]
  },
  {
   "cell_type": "code",
   "execution_count": 56,
   "metadata": {},
   "outputs": [
    {
     "ename": "ValueError",
     "evalue": "could not convert string to float: 'Other'",
     "output_type": "error",
     "traceback": [
      "\u001b[1;31m---------------------------------------------------------------------------\u001b[0m",
      "\u001b[1;31mValueError\u001b[0m                                Traceback (most recent call last)",
      "Cell \u001b[1;32mIn[56], line 11\u001b[0m\n\u001b[0;32m      6\u001b[0m X_train_r, X_test_r, y_train_r, y_test_r \u001b[38;5;241m=\u001b[39m train_test_split(\n\u001b[0;32m      7\u001b[0m      X, y, test_size\u001b[38;5;241m=\u001b[39m\u001b[38;5;241m0.3\u001b[39m, random_state\u001b[38;5;241m=\u001b[39m\u001b[38;5;241m123\u001b[39m)\n\u001b[0;32m      9\u001b[0m reg \u001b[38;5;241m=\u001b[39m LinearRegression()\n\u001b[1;32m---> 11\u001b[0m \u001b[43mreg\u001b[49m\u001b[38;5;241;43m.\u001b[39;49m\u001b[43mfit\u001b[49m\u001b[43m(\u001b[49m\u001b[43mX_train_r\u001b[49m\u001b[43m,\u001b[49m\u001b[43m \u001b[49m\u001b[43my_train_r\u001b[49m\u001b[43m)\u001b[49m\n\u001b[0;32m     13\u001b[0m preds \u001b[38;5;241m=\u001b[39m reg\u001b[38;5;241m.\u001b[39mpredict(X_test_r)\n\u001b[0;32m     15\u001b[0m \u001b[38;5;28mprint\u001b[39m(r2_score(y_test_r, preds))\n",
      "File \u001b[1;32mc:\\Users\\Admin\\miniconda3\\envs\\ada\\lib\\site-packages\\sklearn\\base.py:1152\u001b[0m, in \u001b[0;36m_fit_context.<locals>.decorator.<locals>.wrapper\u001b[1;34m(estimator, *args, **kwargs)\u001b[0m\n\u001b[0;32m   1145\u001b[0m     estimator\u001b[38;5;241m.\u001b[39m_validate_params()\n\u001b[0;32m   1147\u001b[0m \u001b[38;5;28;01mwith\u001b[39;00m config_context(\n\u001b[0;32m   1148\u001b[0m     skip_parameter_validation\u001b[38;5;241m=\u001b[39m(\n\u001b[0;32m   1149\u001b[0m         prefer_skip_nested_validation \u001b[38;5;129;01mor\u001b[39;00m global_skip_validation\n\u001b[0;32m   1150\u001b[0m     )\n\u001b[0;32m   1151\u001b[0m ):\n\u001b[1;32m-> 1152\u001b[0m     \u001b[38;5;28;01mreturn\u001b[39;00m fit_method(estimator, \u001b[38;5;241m*\u001b[39margs, \u001b[38;5;241m*\u001b[39m\u001b[38;5;241m*\u001b[39mkwargs)\n",
      "File \u001b[1;32mc:\\Users\\Admin\\miniconda3\\envs\\ada\\lib\\site-packages\\sklearn\\linear_model\\_base.py:678\u001b[0m, in \u001b[0;36mLinearRegression.fit\u001b[1;34m(self, X, y, sample_weight)\u001b[0m\n\u001b[0;32m    674\u001b[0m n_jobs_ \u001b[38;5;241m=\u001b[39m \u001b[38;5;28mself\u001b[39m\u001b[38;5;241m.\u001b[39mn_jobs\n\u001b[0;32m    676\u001b[0m accept_sparse \u001b[38;5;241m=\u001b[39m \u001b[38;5;28;01mFalse\u001b[39;00m \u001b[38;5;28;01mif\u001b[39;00m \u001b[38;5;28mself\u001b[39m\u001b[38;5;241m.\u001b[39mpositive \u001b[38;5;28;01melse\u001b[39;00m [\u001b[38;5;124m\"\u001b[39m\u001b[38;5;124mcsr\u001b[39m\u001b[38;5;124m\"\u001b[39m, \u001b[38;5;124m\"\u001b[39m\u001b[38;5;124mcsc\u001b[39m\u001b[38;5;124m\"\u001b[39m, \u001b[38;5;124m\"\u001b[39m\u001b[38;5;124mcoo\u001b[39m\u001b[38;5;124m\"\u001b[39m]\n\u001b[1;32m--> 678\u001b[0m X, y \u001b[38;5;241m=\u001b[39m \u001b[38;5;28;43mself\u001b[39;49m\u001b[38;5;241;43m.\u001b[39;49m\u001b[43m_validate_data\u001b[49m\u001b[43m(\u001b[49m\n\u001b[0;32m    679\u001b[0m \u001b[43m    \u001b[49m\u001b[43mX\u001b[49m\u001b[43m,\u001b[49m\u001b[43m \u001b[49m\u001b[43my\u001b[49m\u001b[43m,\u001b[49m\u001b[43m \u001b[49m\u001b[43maccept_sparse\u001b[49m\u001b[38;5;241;43m=\u001b[39;49m\u001b[43maccept_sparse\u001b[49m\u001b[43m,\u001b[49m\u001b[43m \u001b[49m\u001b[43my_numeric\u001b[49m\u001b[38;5;241;43m=\u001b[39;49m\u001b[38;5;28;43;01mTrue\u001b[39;49;00m\u001b[43m,\u001b[49m\u001b[43m \u001b[49m\u001b[43mmulti_output\u001b[49m\u001b[38;5;241;43m=\u001b[39;49m\u001b[38;5;28;43;01mTrue\u001b[39;49;00m\n\u001b[0;32m    680\u001b[0m \u001b[43m\u001b[49m\u001b[43m)\u001b[49m\n\u001b[0;32m    682\u001b[0m has_sw \u001b[38;5;241m=\u001b[39m sample_weight \u001b[38;5;129;01mis\u001b[39;00m \u001b[38;5;129;01mnot\u001b[39;00m \u001b[38;5;28;01mNone\u001b[39;00m\n\u001b[0;32m    683\u001b[0m \u001b[38;5;28;01mif\u001b[39;00m has_sw:\n",
      "File \u001b[1;32mc:\\Users\\Admin\\miniconda3\\envs\\ada\\lib\\site-packages\\sklearn\\base.py:622\u001b[0m, in \u001b[0;36mBaseEstimator._validate_data\u001b[1;34m(self, X, y, reset, validate_separately, cast_to_ndarray, **check_params)\u001b[0m\n\u001b[0;32m    620\u001b[0m         y \u001b[38;5;241m=\u001b[39m check_array(y, input_name\u001b[38;5;241m=\u001b[39m\u001b[38;5;124m\"\u001b[39m\u001b[38;5;124my\u001b[39m\u001b[38;5;124m\"\u001b[39m, \u001b[38;5;241m*\u001b[39m\u001b[38;5;241m*\u001b[39mcheck_y_params)\n\u001b[0;32m    621\u001b[0m     \u001b[38;5;28;01melse\u001b[39;00m:\n\u001b[1;32m--> 622\u001b[0m         X, y \u001b[38;5;241m=\u001b[39m check_X_y(X, y, \u001b[38;5;241m*\u001b[39m\u001b[38;5;241m*\u001b[39mcheck_params)\n\u001b[0;32m    623\u001b[0m     out \u001b[38;5;241m=\u001b[39m X, y\n\u001b[0;32m    625\u001b[0m \u001b[38;5;28;01mif\u001b[39;00m \u001b[38;5;129;01mnot\u001b[39;00m no_val_X \u001b[38;5;129;01mand\u001b[39;00m check_params\u001b[38;5;241m.\u001b[39mget(\u001b[38;5;124m\"\u001b[39m\u001b[38;5;124mensure_2d\u001b[39m\u001b[38;5;124m\"\u001b[39m, \u001b[38;5;28;01mTrue\u001b[39;00m):\n",
      "File \u001b[1;32mc:\\Users\\Admin\\miniconda3\\envs\\ada\\lib\\site-packages\\sklearn\\utils\\validation.py:1146\u001b[0m, in \u001b[0;36mcheck_X_y\u001b[1;34m(X, y, accept_sparse, accept_large_sparse, dtype, order, copy, force_all_finite, ensure_2d, allow_nd, multi_output, ensure_min_samples, ensure_min_features, y_numeric, estimator)\u001b[0m\n\u001b[0;32m   1141\u001b[0m         estimator_name \u001b[38;5;241m=\u001b[39m _check_estimator_name(estimator)\n\u001b[0;32m   1142\u001b[0m     \u001b[38;5;28;01mraise\u001b[39;00m \u001b[38;5;167;01mValueError\u001b[39;00m(\n\u001b[0;32m   1143\u001b[0m         \u001b[38;5;124mf\u001b[39m\u001b[38;5;124m\"\u001b[39m\u001b[38;5;132;01m{\u001b[39;00mestimator_name\u001b[38;5;132;01m}\u001b[39;00m\u001b[38;5;124m requires y to be passed, but the target y is None\u001b[39m\u001b[38;5;124m\"\u001b[39m\n\u001b[0;32m   1144\u001b[0m     )\n\u001b[1;32m-> 1146\u001b[0m X \u001b[38;5;241m=\u001b[39m \u001b[43mcheck_array\u001b[49m\u001b[43m(\u001b[49m\n\u001b[0;32m   1147\u001b[0m \u001b[43m    \u001b[49m\u001b[43mX\u001b[49m\u001b[43m,\u001b[49m\n\u001b[0;32m   1148\u001b[0m \u001b[43m    \u001b[49m\u001b[43maccept_sparse\u001b[49m\u001b[38;5;241;43m=\u001b[39;49m\u001b[43maccept_sparse\u001b[49m\u001b[43m,\u001b[49m\n\u001b[0;32m   1149\u001b[0m \u001b[43m    \u001b[49m\u001b[43maccept_large_sparse\u001b[49m\u001b[38;5;241;43m=\u001b[39;49m\u001b[43maccept_large_sparse\u001b[49m\u001b[43m,\u001b[49m\n\u001b[0;32m   1150\u001b[0m \u001b[43m    \u001b[49m\u001b[43mdtype\u001b[49m\u001b[38;5;241;43m=\u001b[39;49m\u001b[43mdtype\u001b[49m\u001b[43m,\u001b[49m\n\u001b[0;32m   1151\u001b[0m \u001b[43m    \u001b[49m\u001b[43morder\u001b[49m\u001b[38;5;241;43m=\u001b[39;49m\u001b[43morder\u001b[49m\u001b[43m,\u001b[49m\n\u001b[0;32m   1152\u001b[0m \u001b[43m    \u001b[49m\u001b[43mcopy\u001b[49m\u001b[38;5;241;43m=\u001b[39;49m\u001b[43mcopy\u001b[49m\u001b[43m,\u001b[49m\n\u001b[0;32m   1153\u001b[0m \u001b[43m    \u001b[49m\u001b[43mforce_all_finite\u001b[49m\u001b[38;5;241;43m=\u001b[39;49m\u001b[43mforce_all_finite\u001b[49m\u001b[43m,\u001b[49m\n\u001b[0;32m   1154\u001b[0m \u001b[43m    \u001b[49m\u001b[43mensure_2d\u001b[49m\u001b[38;5;241;43m=\u001b[39;49m\u001b[43mensure_2d\u001b[49m\u001b[43m,\u001b[49m\n\u001b[0;32m   1155\u001b[0m \u001b[43m    \u001b[49m\u001b[43mallow_nd\u001b[49m\u001b[38;5;241;43m=\u001b[39;49m\u001b[43mallow_nd\u001b[49m\u001b[43m,\u001b[49m\n\u001b[0;32m   1156\u001b[0m \u001b[43m    \u001b[49m\u001b[43mensure_min_samples\u001b[49m\u001b[38;5;241;43m=\u001b[39;49m\u001b[43mensure_min_samples\u001b[49m\u001b[43m,\u001b[49m\n\u001b[0;32m   1157\u001b[0m \u001b[43m    \u001b[49m\u001b[43mensure_min_features\u001b[49m\u001b[38;5;241;43m=\u001b[39;49m\u001b[43mensure_min_features\u001b[49m\u001b[43m,\u001b[49m\n\u001b[0;32m   1158\u001b[0m \u001b[43m    \u001b[49m\u001b[43mestimator\u001b[49m\u001b[38;5;241;43m=\u001b[39;49m\u001b[43mestimator\u001b[49m\u001b[43m,\u001b[49m\n\u001b[0;32m   1159\u001b[0m \u001b[43m    \u001b[49m\u001b[43minput_name\u001b[49m\u001b[38;5;241;43m=\u001b[39;49m\u001b[38;5;124;43m\"\u001b[39;49m\u001b[38;5;124;43mX\u001b[39;49m\u001b[38;5;124;43m\"\u001b[39;49m\u001b[43m,\u001b[49m\n\u001b[0;32m   1160\u001b[0m \u001b[43m\u001b[49m\u001b[43m)\u001b[49m\n\u001b[0;32m   1162\u001b[0m y \u001b[38;5;241m=\u001b[39m _check_y(y, multi_output\u001b[38;5;241m=\u001b[39mmulti_output, y_numeric\u001b[38;5;241m=\u001b[39my_numeric, estimator\u001b[38;5;241m=\u001b[39mestimator)\n\u001b[0;32m   1164\u001b[0m check_consistent_length(X, y)\n",
      "File \u001b[1;32mc:\\Users\\Admin\\miniconda3\\envs\\ada\\lib\\site-packages\\sklearn\\utils\\validation.py:915\u001b[0m, in \u001b[0;36mcheck_array\u001b[1;34m(array, accept_sparse, accept_large_sparse, dtype, order, copy, force_all_finite, ensure_2d, allow_nd, ensure_min_samples, ensure_min_features, estimator, input_name)\u001b[0m\n\u001b[0;32m    913\u001b[0m         array \u001b[38;5;241m=\u001b[39m xp\u001b[38;5;241m.\u001b[39mastype(array, dtype, copy\u001b[38;5;241m=\u001b[39m\u001b[38;5;28;01mFalse\u001b[39;00m)\n\u001b[0;32m    914\u001b[0m     \u001b[38;5;28;01melse\u001b[39;00m:\n\u001b[1;32m--> 915\u001b[0m         array \u001b[38;5;241m=\u001b[39m \u001b[43m_asarray_with_order\u001b[49m\u001b[43m(\u001b[49m\u001b[43marray\u001b[49m\u001b[43m,\u001b[49m\u001b[43m \u001b[49m\u001b[43morder\u001b[49m\u001b[38;5;241;43m=\u001b[39;49m\u001b[43morder\u001b[49m\u001b[43m,\u001b[49m\u001b[43m \u001b[49m\u001b[43mdtype\u001b[49m\u001b[38;5;241;43m=\u001b[39;49m\u001b[43mdtype\u001b[49m\u001b[43m,\u001b[49m\u001b[43m \u001b[49m\u001b[43mxp\u001b[49m\u001b[38;5;241;43m=\u001b[39;49m\u001b[43mxp\u001b[49m\u001b[43m)\u001b[49m\n\u001b[0;32m    916\u001b[0m \u001b[38;5;28;01mexcept\u001b[39;00m ComplexWarning \u001b[38;5;28;01mas\u001b[39;00m complex_warning:\n\u001b[0;32m    917\u001b[0m     \u001b[38;5;28;01mraise\u001b[39;00m \u001b[38;5;167;01mValueError\u001b[39;00m(\n\u001b[0;32m    918\u001b[0m         \u001b[38;5;124m\"\u001b[39m\u001b[38;5;124mComplex data not supported\u001b[39m\u001b[38;5;130;01m\\n\u001b[39;00m\u001b[38;5;132;01m{}\u001b[39;00m\u001b[38;5;130;01m\\n\u001b[39;00m\u001b[38;5;124m\"\u001b[39m\u001b[38;5;241m.\u001b[39mformat(array)\n\u001b[0;32m    919\u001b[0m     ) \u001b[38;5;28;01mfrom\u001b[39;00m \u001b[38;5;21;01mcomplex_warning\u001b[39;00m\n",
      "File \u001b[1;32mc:\\Users\\Admin\\miniconda3\\envs\\ada\\lib\\site-packages\\sklearn\\utils\\_array_api.py:380\u001b[0m, in \u001b[0;36m_asarray_with_order\u001b[1;34m(array, dtype, order, copy, xp)\u001b[0m\n\u001b[0;32m    378\u001b[0m     array \u001b[38;5;241m=\u001b[39m numpy\u001b[38;5;241m.\u001b[39marray(array, order\u001b[38;5;241m=\u001b[39morder, dtype\u001b[38;5;241m=\u001b[39mdtype)\n\u001b[0;32m    379\u001b[0m \u001b[38;5;28;01melse\u001b[39;00m:\n\u001b[1;32m--> 380\u001b[0m     array \u001b[38;5;241m=\u001b[39m \u001b[43mnumpy\u001b[49m\u001b[38;5;241;43m.\u001b[39;49m\u001b[43masarray\u001b[49m\u001b[43m(\u001b[49m\u001b[43marray\u001b[49m\u001b[43m,\u001b[49m\u001b[43m \u001b[49m\u001b[43morder\u001b[49m\u001b[38;5;241;43m=\u001b[39;49m\u001b[43morder\u001b[49m\u001b[43m,\u001b[49m\u001b[43m \u001b[49m\u001b[43mdtype\u001b[49m\u001b[38;5;241;43m=\u001b[39;49m\u001b[43mdtype\u001b[49m\u001b[43m)\u001b[49m\n\u001b[0;32m    382\u001b[0m \u001b[38;5;66;03m# At this point array is a NumPy ndarray. We convert it to an array\u001b[39;00m\n\u001b[0;32m    383\u001b[0m \u001b[38;5;66;03m# container that is consistent with the input's namespace.\u001b[39;00m\n\u001b[0;32m    384\u001b[0m \u001b[38;5;28;01mreturn\u001b[39;00m xp\u001b[38;5;241m.\u001b[39masarray(array)\n",
      "\u001b[1;31mValueError\u001b[0m: could not convert string to float: 'Other'"
     ]
    }
   ],
   "source": [
    "features_cols = ['releaseyear', 'key', 'acousticness', 'danceability','energy', 'instrumentalness','liveness', 'loudness', 'speechiness', 'valence', 'tempo'] + genre_cols\n",
    "\n",
    "X = numpy_helper(df, features_cols)\n",
    "y = np.ravel(numpy_helper(df, ['score']))\n",
    "\n",
    "X_train_r, X_test_r, y_train_r, y_test_r = train_test_split(\n",
    "     X, y, test_size=0.3, random_state=123)\n",
    "\n",
    "reg = LinearRegression()\n",
    "\n",
    "reg.fit(X_train_r, y_train_r)\n",
    "\n",
    "preds = reg.predict(X_test_r)\n",
    "\n",
    "print(r2_score(y_test_r, preds))"
   ]
  },
  {
   "cell_type": "markdown",
   "metadata": {},
   "source": [
    "\n",
    "2. Create an alternate train-test split (hereinafter referred to as \"the longitudinal split\") where you train with data from albums released before 2000 and test with data from 2003 and after. Report the $R^2$ for the testing set using the same model you developed for the previous question. **Discuss:** give the correct interpretation of $R^2$ value for the longitudinal split.\n"
   ]
  },
  {
   "cell_type": "code",
   "execution_count": 57,
   "metadata": {},
   "outputs": [
    {
     "ename": "TypeError",
     "evalue": "'<=' not supported between instances of 'float' and 'datetime.datetime'",
     "output_type": "error",
     "traceback": [
      "\u001b[1;31m---------------------------------------------------------------------------\u001b[0m",
      "\u001b[1;31mTypeError\u001b[0m                                 Traceback (most recent call last)",
      "Cell \u001b[1;32mIn[57], line 3\u001b[0m\n\u001b[0;32m      1\u001b[0m dt_2000 \u001b[38;5;241m=\u001b[39m datetime(\u001b[38;5;241m2000\u001b[39m,\u001b[38;5;241m1\u001b[39m,\u001b[38;5;241m1\u001b[39m)\n\u001b[0;32m      2\u001b[0m dt_2003 \u001b[38;5;241m=\u001b[39m datetime(\u001b[38;5;241m2003\u001b[39m,\u001b[38;5;241m1\u001b[39m,\u001b[38;5;241m1\u001b[39m)\n\u001b[1;32m----> 3\u001b[0m long_df_train \u001b[38;5;241m=\u001b[39m df[\u001b[43mdf\u001b[49m\u001b[43m[\u001b[49m\u001b[38;5;124;43m'\u001b[39;49m\u001b[38;5;124;43mreleaseyear\u001b[39;49m\u001b[38;5;124;43m'\u001b[39;49m\u001b[43m]\u001b[49m\u001b[43m \u001b[49m\u001b[38;5;241;43m<\u001b[39;49m\u001b[38;5;241;43m=\u001b[39;49m\u001b[43m \u001b[49m\u001b[43mdt_2000\u001b[49m]\n\u001b[0;32m      4\u001b[0m long_df_test  \u001b[38;5;241m=\u001b[39m df[df[\u001b[38;5;124m'\u001b[39m\u001b[38;5;124mreleaseyear\u001b[39m\u001b[38;5;124m'\u001b[39m] \u001b[38;5;241m>\u001b[39m\u001b[38;5;241m=\u001b[39m dt_2003]\n\u001b[0;32m      6\u001b[0m X_train_l \u001b[38;5;241m=\u001b[39m numpy_helper(long_df_train, features_cols)\n",
      "File \u001b[1;32mc:\\Users\\Admin\\miniconda3\\envs\\ada\\lib\\site-packages\\pandas\\core\\ops\\common.py:76\u001b[0m, in \u001b[0;36m_unpack_zerodim_and_defer.<locals>.new_method\u001b[1;34m(self, other)\u001b[0m\n\u001b[0;32m     72\u001b[0m             \u001b[38;5;28;01mreturn\u001b[39;00m \u001b[38;5;28mNotImplemented\u001b[39m\n\u001b[0;32m     74\u001b[0m other \u001b[38;5;241m=\u001b[39m item_from_zerodim(other)\n\u001b[1;32m---> 76\u001b[0m \u001b[38;5;28;01mreturn\u001b[39;00m \u001b[43mmethod\u001b[49m\u001b[43m(\u001b[49m\u001b[38;5;28;43mself\u001b[39;49m\u001b[43m,\u001b[49m\u001b[43m \u001b[49m\u001b[43mother\u001b[49m\u001b[43m)\u001b[49m\n",
      "File \u001b[1;32mc:\\Users\\Admin\\miniconda3\\envs\\ada\\lib\\site-packages\\pandas\\core\\arraylike.py:52\u001b[0m, in \u001b[0;36mOpsMixin.__le__\u001b[1;34m(self, other)\u001b[0m\n\u001b[0;32m     50\u001b[0m \u001b[38;5;129m@unpack_zerodim_and_defer\u001b[39m(\u001b[38;5;124m\"\u001b[39m\u001b[38;5;124m__le__\u001b[39m\u001b[38;5;124m\"\u001b[39m)\n\u001b[0;32m     51\u001b[0m \u001b[38;5;28;01mdef\u001b[39;00m \u001b[38;5;21m__le__\u001b[39m(\u001b[38;5;28mself\u001b[39m, other):\n\u001b[1;32m---> 52\u001b[0m     \u001b[38;5;28;01mreturn\u001b[39;00m \u001b[38;5;28;43mself\u001b[39;49m\u001b[38;5;241;43m.\u001b[39;49m\u001b[43m_cmp_method\u001b[49m\u001b[43m(\u001b[49m\u001b[43mother\u001b[49m\u001b[43m,\u001b[49m\u001b[43m \u001b[49m\u001b[43moperator\u001b[49m\u001b[38;5;241;43m.\u001b[39;49m\u001b[43mle\u001b[49m\u001b[43m)\u001b[49m\n",
      "File \u001b[1;32mc:\\Users\\Admin\\miniconda3\\envs\\ada\\lib\\site-packages\\pandas\\core\\series.py:5799\u001b[0m, in \u001b[0;36mSeries._cmp_method\u001b[1;34m(self, other, op)\u001b[0m\n\u001b[0;32m   5796\u001b[0m lvalues \u001b[38;5;241m=\u001b[39m \u001b[38;5;28mself\u001b[39m\u001b[38;5;241m.\u001b[39m_values\n\u001b[0;32m   5797\u001b[0m rvalues \u001b[38;5;241m=\u001b[39m extract_array(other, extract_numpy\u001b[38;5;241m=\u001b[39m\u001b[38;5;28;01mTrue\u001b[39;00m, extract_range\u001b[38;5;241m=\u001b[39m\u001b[38;5;28;01mTrue\u001b[39;00m)\n\u001b[1;32m-> 5799\u001b[0m res_values \u001b[38;5;241m=\u001b[39m \u001b[43mops\u001b[49m\u001b[38;5;241;43m.\u001b[39;49m\u001b[43mcomparison_op\u001b[49m\u001b[43m(\u001b[49m\u001b[43mlvalues\u001b[49m\u001b[43m,\u001b[49m\u001b[43m \u001b[49m\u001b[43mrvalues\u001b[49m\u001b[43m,\u001b[49m\u001b[43m \u001b[49m\u001b[43mop\u001b[49m\u001b[43m)\u001b[49m\n\u001b[0;32m   5801\u001b[0m \u001b[38;5;28;01mreturn\u001b[39;00m \u001b[38;5;28mself\u001b[39m\u001b[38;5;241m.\u001b[39m_construct_result(res_values, name\u001b[38;5;241m=\u001b[39mres_name)\n",
      "File \u001b[1;32mc:\\Users\\Admin\\miniconda3\\envs\\ada\\lib\\site-packages\\pandas\\core\\ops\\array_ops.py:346\u001b[0m, in \u001b[0;36mcomparison_op\u001b[1;34m(left, right, op)\u001b[0m\n\u001b[0;32m    343\u001b[0m     \u001b[38;5;28;01mreturn\u001b[39;00m invalid_comparison(lvalues, rvalues, op)\n\u001b[0;32m    345\u001b[0m \u001b[38;5;28;01melif\u001b[39;00m lvalues\u001b[38;5;241m.\u001b[39mdtype \u001b[38;5;241m==\u001b[39m \u001b[38;5;28mobject\u001b[39m \u001b[38;5;129;01mor\u001b[39;00m \u001b[38;5;28misinstance\u001b[39m(rvalues, \u001b[38;5;28mstr\u001b[39m):\n\u001b[1;32m--> 346\u001b[0m     res_values \u001b[38;5;241m=\u001b[39m \u001b[43mcomp_method_OBJECT_ARRAY\u001b[49m\u001b[43m(\u001b[49m\u001b[43mop\u001b[49m\u001b[43m,\u001b[49m\u001b[43m \u001b[49m\u001b[43mlvalues\u001b[49m\u001b[43m,\u001b[49m\u001b[43m \u001b[49m\u001b[43mrvalues\u001b[49m\u001b[43m)\u001b[49m\n\u001b[0;32m    348\u001b[0m \u001b[38;5;28;01melse\u001b[39;00m:\n\u001b[0;32m    349\u001b[0m     res_values \u001b[38;5;241m=\u001b[39m _na_arithmetic_op(lvalues, rvalues, op, is_cmp\u001b[38;5;241m=\u001b[39m\u001b[38;5;28;01mTrue\u001b[39;00m)\n",
      "File \u001b[1;32mc:\\Users\\Admin\\miniconda3\\envs\\ada\\lib\\site-packages\\pandas\\core\\ops\\array_ops.py:131\u001b[0m, in \u001b[0;36mcomp_method_OBJECT_ARRAY\u001b[1;34m(op, x, y)\u001b[0m\n\u001b[0;32m    129\u001b[0m     result \u001b[38;5;241m=\u001b[39m libops\u001b[38;5;241m.\u001b[39mvec_compare(x\u001b[38;5;241m.\u001b[39mravel(), y\u001b[38;5;241m.\u001b[39mravel(), op)\n\u001b[0;32m    130\u001b[0m \u001b[38;5;28;01melse\u001b[39;00m:\n\u001b[1;32m--> 131\u001b[0m     result \u001b[38;5;241m=\u001b[39m \u001b[43mlibops\u001b[49m\u001b[38;5;241;43m.\u001b[39;49m\u001b[43mscalar_compare\u001b[49m\u001b[43m(\u001b[49m\u001b[43mx\u001b[49m\u001b[38;5;241;43m.\u001b[39;49m\u001b[43mravel\u001b[49m\u001b[43m(\u001b[49m\u001b[43m)\u001b[49m\u001b[43m,\u001b[49m\u001b[43m \u001b[49m\u001b[43my\u001b[49m\u001b[43m,\u001b[49m\u001b[43m \u001b[49m\u001b[43mop\u001b[49m\u001b[43m)\u001b[49m\n\u001b[0;32m    132\u001b[0m \u001b[38;5;28;01mreturn\u001b[39;00m result\u001b[38;5;241m.\u001b[39mreshape(x\u001b[38;5;241m.\u001b[39mshape)\n",
      "File \u001b[1;32mops.pyx:107\u001b[0m, in \u001b[0;36mpandas._libs.ops.scalar_compare\u001b[1;34m()\u001b[0m\n",
      "\u001b[1;31mTypeError\u001b[0m: '<=' not supported between instances of 'float' and 'datetime.datetime'"
     ]
    }
   ],
   "source": [
    "dt_2000 = datetime(2000,1,1)\n",
    "dt_2003 = datetime(2003,1,1)\n",
    "long_df_train = df[df['releaseyear'] <= dt_2000]\n",
    "long_df_test  = df[df['releaseyear'] >= dt_2003]\n",
    "\n",
    "X_train_l = numpy_helper(long_df_train, features_cols)\n",
    "y_train_l = np.ravel(numpy_helper(long_df_train, ['score']))\n",
    "X_test_l  = numpy_helper(long_df_test, features_cols)\n",
    "y_test_l  = np.ravel(numpy_helper(long_df_test, ['score']))\n",
    "\n",
    "X_train_l.shape, y_train_l.shape, X_test_l.shape, y_test_l.shape\n",
    "\n",
    "reg = LinearRegression()\n",
    "\n",
    "reg.fit(X_train_l, y_train_l)\n",
    "\n",
    "preds = reg.predict(X_test_l)\n",
    "\n",
    "print(r2_score(y_test_l, preds))"
   ]
  },
  {
   "cell_type": "markdown",
   "metadata": {},
   "source": [
    "\n",
    "3. For a given entry $X$ your model outputs a predicted score $Y'$. The difference between the real score $Y$ and the predicted score $Y'$ is called the \"residual\". Considering the model trained in 3.2, plot the distribution of your residuals for the test set. Additionally, estimate what is the probability that your score prediction (from 3.2) is off by more than 2-points? Provide bootstrapped confidence intervals for your answer.\n"
   ]
  },
  {
   "cell_type": "code",
   "execution_count": 58,
   "metadata": {},
   "outputs": [
    {
     "ename": "NameError",
     "evalue": "name 'y_test_l' is not defined",
     "output_type": "error",
     "traceback": [
      "\u001b[1;31m---------------------------------------------------------------------------\u001b[0m",
      "\u001b[1;31mNameError\u001b[0m                                 Traceback (most recent call last)",
      "Cell \u001b[1;32mIn[58], line 3\u001b[0m\n\u001b[0;32m      1\u001b[0m \u001b[38;5;28;01mfrom\u001b[39;00m \u001b[38;5;21;01mscipy\u001b[39;00m\u001b[38;5;21;01m.\u001b[39;00m\u001b[38;5;21;01mstats\u001b[39;00m \u001b[38;5;28;01mimport\u001b[39;00m stats\n\u001b[0;32m      2\u001b[0m \u001b[38;5;66;03m# Computing the residuals\u001b[39;00m\n\u001b[1;32m----> 3\u001b[0m resid \u001b[38;5;241m=\u001b[39m \u001b[43my_test_l\u001b[49m \u001b[38;5;241m-\u001b[39m preds\n\u001b[0;32m      6\u001b[0m \u001b[38;5;66;03m# Plotting the residuals\u001b[39;00m\n\u001b[0;32m      8\u001b[0m hist, bins \u001b[38;5;241m=\u001b[39m np\u001b[38;5;241m.\u001b[39mhistogram(resid, bins\u001b[38;5;241m=\u001b[39m\u001b[38;5;241m100\u001b[39m)\n",
      "\u001b[1;31mNameError\u001b[0m: name 'y_test_l' is not defined"
     ]
    }
   ],
   "source": [
    "from scipy.stats import stats\n",
    "# Computing the residuals\n",
    "resid = y_test_l - preds\n",
    "\n",
    "\n",
    "# Plotting the residuals\n",
    "\n",
    "hist, bins = np.histogram(resid, bins=100)\n",
    "\n",
    "sns.histplot(data=resid, kde=True, bins=bins)\n",
    "\n",
    "plt.gca().set(title='Distribution of residuals', xlabel='Value')\n",
    "\n",
    "# bootstrapping\n",
    "\n",
    "def bootstrap_samples(random_samples,seed):\n",
    "    \n",
    "    np.random.seed(seed)\n",
    "    \n",
    "    rand_arr = np.random.choice(random_samples, len(random_samples))\n",
    "    \n",
    "    return (rand_arr >= 2).mean()\n",
    "\n",
    "# create a single distribution\n",
    "rv_hist = scipy.stats.rv_histogram((hist, bins))\n",
    "\n",
    "# sampling from the distribution\n",
    "random_samples = [abs(rv_hist.rvs()) for _ in range(10_000)]\n",
    "\n",
    "# bootstrap_sampling probas\n",
    "probas = np.array([bootstrap_samples(random_samples, i) for i in range(1_000)])\n",
    "\n",
    "# quantiles\n",
    "np.quantile(probas, 0.025), np.quantile(probas, 0.975)"
   ]
  },
  {
   "cell_type": "markdown",
   "metadata": {},
   "source": [
    "\n",
    "4. Experiment with training a different regressor, a Gradient Boosting Regressor. This regressor is related to the Boosted decision trees that you have seen in class. This model performs extremely well for a variety of tasks and is often used in machine learning competitions for tabular data (e.g., on Kaggle). Train the regressor using the longitudinal split and the same features as in 3.2, use the default hyperparameters. Report the $R^2$ for the testing set. \n"
   ]
  },
  {
   "cell_type": "code",
   "execution_count": 59,
   "metadata": {},
   "outputs": [
    {
     "ename": "NameError",
     "evalue": "name 'X_train_l' is not defined",
     "output_type": "error",
     "traceback": [
      "\u001b[1;31m---------------------------------------------------------------------------\u001b[0m",
      "\u001b[1;31mNameError\u001b[0m                                 Traceback (most recent call last)",
      "Cell \u001b[1;32mIn[59], line 3\u001b[0m\n\u001b[0;32m      1\u001b[0m reg \u001b[38;5;241m=\u001b[39m GradientBoostingRegressor()\n\u001b[1;32m----> 3\u001b[0m reg\u001b[38;5;241m.\u001b[39mfit(\u001b[43mX_train_l\u001b[49m, y_train_l)\n\u001b[0;32m      5\u001b[0m preds \u001b[38;5;241m=\u001b[39m reg\u001b[38;5;241m.\u001b[39mpredict(X_test_l)\n\u001b[0;32m      7\u001b[0m \u001b[38;5;28mprint\u001b[39m(r2_score(y_test_l, preds))\n",
      "\u001b[1;31mNameError\u001b[0m: name 'X_train_l' is not defined"
     ]
    }
   ],
   "source": [
    "reg = GradientBoostingRegressor()\n",
    "\n",
    "reg.fit(X_train_l, y_train_l)\n",
    "\n",
    "preds = reg.predict(X_test_l)\n",
    "\n",
    "print(r2_score(y_test_l, preds))"
   ]
  },
  {
   "cell_type": "markdown",
   "metadata": {},
   "source": [
    "\n",
    "5. **Discuss:** Hypothesize a reason for the difference in performance between the Linear regression and the Gradient Boosting Regressor.\n",
    "\n",
    "---"
   ]
  },
  {
   "cell_type": "code",
   "execution_count": null,
   "metadata": {},
   "outputs": [],
   "source": []
  },
  {
   "cell_type": "markdown",
   "metadata": {},
   "source": [
    "**Task 4 (Are we solving the correct problem? — 16 pts)**\n",
    "\n",
    "All your efforts so far have assumed that decisions are taken at the \"album\" level, which is often not the case for bands with multiple albums. In those cases, it could be interesting to predict what is the success of a given band album given the features of the album **and of previous albums**.\n",
    "\n",
    "1. Create a new dataframe that contains one row per band with more than 1 album. This dataframe should have the same columns as the data provided to you, considering the latest album of the respective band (note that this is determined by the release year of the album, not the date when it was reviewed). Additionally, for each feature considered in Task 3.1 (including the one-hot encoded features), create an additional column post-fixed with `_previous` (e.g., `danceability_previous`). These columns should contain the average values for all of the band's previous albums. Also, create a column `score_previous` with the average score of previous albums. Print the number of rows in the dataframe as well as the name of the columns.\n"
   ]
  },
  {
   "cell_type": "code",
   "execution_count": 60,
   "metadata": {},
   "outputs": [
    {
     "ename": "TypeError",
     "evalue": "'<' not supported between instances of 'float' and 'str'",
     "output_type": "error",
     "traceback": [
      "\u001b[1;31m---------------------------------------------------------------------------\u001b[0m",
      "\u001b[1;31mTypeError\u001b[0m                                 Traceback (most recent call last)",
      "Cell \u001b[1;32mIn[60], line 21\u001b[0m\n\u001b[0;32m     18\u001b[0m only_artists \u001b[38;5;241m=\u001b[39m df[df\u001b[38;5;241m.\u001b[39martist\u001b[38;5;241m.\u001b[39misin(filtered_artists)]\n\u001b[0;32m     20\u001b[0m \u001b[38;5;66;03m# per artist, drop last and take mean\u001b[39;00m\n\u001b[1;32m---> 21\u001b[0m previous_df \u001b[38;5;241m=\u001b[39m (\u001b[43monly_artists\u001b[49m\n\u001b[0;32m     22\u001b[0m \u001b[43m               \u001b[49m\u001b[38;5;241;43m.\u001b[39;49m\u001b[43msort_values\u001b[49m\u001b[43m(\u001b[49m\u001b[43mby\u001b[49m\u001b[38;5;241;43m=\u001b[39;49m\u001b[38;5;124;43m'\u001b[39;49m\u001b[38;5;124;43mreleaseyear\u001b[39;49m\u001b[38;5;124;43m'\u001b[39;49m\u001b[43m)\u001b[49m\n\u001b[0;32m     23\u001b[0m                \u001b[38;5;241m.\u001b[39mgroupby(\u001b[38;5;124m'\u001b[39m\u001b[38;5;124martist\u001b[39m\u001b[38;5;124m'\u001b[39m)\n\u001b[0;32m     24\u001b[0m                \u001b[38;5;241m.\u001b[39mapply(\u001b[38;5;28;01mlambda\u001b[39;00m x : x\u001b[38;5;241m.\u001b[39miloc[:\u001b[38;5;241m-\u001b[39m\u001b[38;5;241m1\u001b[39m][features_no_onehot \u001b[38;5;241m+\u001b[39m [\u001b[38;5;124m'\u001b[39m\u001b[38;5;124mscore\u001b[39m\u001b[38;5;124m'\u001b[39m]]\n\u001b[0;32m     25\u001b[0m                       \u001b[38;5;241m.\u001b[39mmean(axis\u001b[38;5;241m=\u001b[39m\u001b[38;5;241m0\u001b[39m))\n\u001b[0;32m     26\u001b[0m                \u001b[38;5;241m.\u001b[39mrename(columns\u001b[38;5;241m=\u001b[39m\u001b[38;5;28;01mlambda\u001b[39;00m x : \u001b[38;5;124mf\u001b[39m\u001b[38;5;124m'\u001b[39m\u001b[38;5;132;01m{\u001b[39;00mx\u001b[38;5;132;01m}\u001b[39;00m\u001b[38;5;124m_previous\u001b[39m\u001b[38;5;124m'\u001b[39m))\n\u001b[0;32m     28\u001b[0m \u001b[38;5;66;03m# per artist, only take last\u001b[39;00m\n\u001b[0;32m     29\u001b[0m artist_df \u001b[38;5;241m=\u001b[39m (only_artists\n\u001b[0;32m     30\u001b[0m              \u001b[38;5;241m.\u001b[39msort_values(by\u001b[38;5;241m=\u001b[39m\u001b[38;5;124m'\u001b[39m\u001b[38;5;124mreleaseyear\u001b[39m\u001b[38;5;124m'\u001b[39m)\n\u001b[0;32m     31\u001b[0m              \u001b[38;5;241m.\u001b[39mgroupby(\u001b[38;5;124m'\u001b[39m\u001b[38;5;124martist\u001b[39m\u001b[38;5;124m'\u001b[39m)\n\u001b[0;32m     32\u001b[0m              \u001b[38;5;241m.\u001b[39mapply(\u001b[38;5;28;01mlambda\u001b[39;00m x : x\u001b[38;5;241m.\u001b[39miloc[\u001b[38;5;241m-\u001b[39m\u001b[38;5;241m1\u001b[39m]))\n",
      "File \u001b[1;32mc:\\Users\\Admin\\miniconda3\\envs\\ada\\lib\\site-packages\\pandas\\core\\frame.py:6958\u001b[0m, in \u001b[0;36mDataFrame.sort_values\u001b[1;34m(self, by, axis, ascending, inplace, kind, na_position, ignore_index, key)\u001b[0m\n\u001b[0;32m   6955\u001b[0m     \u001b[38;5;28;01mif\u001b[39;00m \u001b[38;5;28misinstance\u001b[39m(ascending, (\u001b[38;5;28mtuple\u001b[39m, \u001b[38;5;28mlist\u001b[39m)):\n\u001b[0;32m   6956\u001b[0m         ascending \u001b[38;5;241m=\u001b[39m ascending[\u001b[38;5;241m0\u001b[39m]\n\u001b[1;32m-> 6958\u001b[0m     indexer \u001b[38;5;241m=\u001b[39m \u001b[43mnargsort\u001b[49m\u001b[43m(\u001b[49m\n\u001b[0;32m   6959\u001b[0m \u001b[43m        \u001b[49m\u001b[43mk\u001b[49m\u001b[43m,\u001b[49m\u001b[43m \u001b[49m\u001b[43mkind\u001b[49m\u001b[38;5;241;43m=\u001b[39;49m\u001b[43mkind\u001b[49m\u001b[43m,\u001b[49m\u001b[43m \u001b[49m\u001b[43mascending\u001b[49m\u001b[38;5;241;43m=\u001b[39;49m\u001b[43mascending\u001b[49m\u001b[43m,\u001b[49m\u001b[43m \u001b[49m\u001b[43mna_position\u001b[49m\u001b[38;5;241;43m=\u001b[39;49m\u001b[43mna_position\u001b[49m\u001b[43m,\u001b[49m\u001b[43m \u001b[49m\u001b[43mkey\u001b[49m\u001b[38;5;241;43m=\u001b[39;49m\u001b[43mkey\u001b[49m\n\u001b[0;32m   6960\u001b[0m \u001b[43m    \u001b[49m\u001b[43m)\u001b[49m\n\u001b[0;32m   6961\u001b[0m \u001b[38;5;28;01melse\u001b[39;00m:\n\u001b[0;32m   6962\u001b[0m     \u001b[38;5;28;01mif\u001b[39;00m inplace:\n",
      "File \u001b[1;32mc:\\Users\\Admin\\miniconda3\\envs\\ada\\lib\\site-packages\\pandas\\core\\sorting.py:498\u001b[0m, in \u001b[0;36mnargsort\u001b[1;34m(items, kind, ascending, na_position, key, mask)\u001b[0m\n\u001b[0;32m    496\u001b[0m     non_nans \u001b[38;5;241m=\u001b[39m non_nans[::\u001b[38;5;241m-\u001b[39m\u001b[38;5;241m1\u001b[39m]\n\u001b[0;32m    497\u001b[0m     non_nan_idx \u001b[38;5;241m=\u001b[39m non_nan_idx[::\u001b[38;5;241m-\u001b[39m\u001b[38;5;241m1\u001b[39m]\n\u001b[1;32m--> 498\u001b[0m indexer \u001b[38;5;241m=\u001b[39m non_nan_idx[\u001b[43mnon_nans\u001b[49m\u001b[38;5;241;43m.\u001b[39;49m\u001b[43margsort\u001b[49m\u001b[43m(\u001b[49m\u001b[43mkind\u001b[49m\u001b[38;5;241;43m=\u001b[39;49m\u001b[43mkind\u001b[49m\u001b[43m)\u001b[49m]\n\u001b[0;32m    499\u001b[0m \u001b[38;5;28;01mif\u001b[39;00m \u001b[38;5;129;01mnot\u001b[39;00m ascending:\n\u001b[0;32m    500\u001b[0m     indexer \u001b[38;5;241m=\u001b[39m indexer[::\u001b[38;5;241m-\u001b[39m\u001b[38;5;241m1\u001b[39m]\n",
      "\u001b[1;31mTypeError\u001b[0m: '<' not supported between instances of 'float' and 'str'"
     ]
    }
   ],
   "source": [
    "features_no_onehot = ['key',\n",
    " 'acousticness',\n",
    " 'danceability',\n",
    " 'energy',\n",
    " 'instrumentalness',\n",
    " 'liveness',\n",
    " 'loudness',\n",
    " 'speechiness',\n",
    " 'valence',\n",
    " 'tempo'] + genre_cols\n",
    "\n",
    "# Creating two dataframes:\n",
    "# - one where we select all except the last album and compute the mean (which will become the _previous columns), \n",
    "# - and the second where we select only the last album, and then join them back together.\n",
    "\n",
    "# keep only artists\n",
    "filtered_artists = df.groupby('artist').size().loc[lambda x : x > 1].index\n",
    "only_artists = df[df.artist.isin(filtered_artists)]\n",
    "\n",
    "# per artist, drop last and take mean\n",
    "previous_df = (only_artists\n",
    "               .sort_values(by='releaseyear')\n",
    "               .groupby('artist')\n",
    "               .apply(lambda x : x.iloc[:-1][features_no_onehot + ['score']]\n",
    "                      .mean(axis=0))\n",
    "               .rename(columns=lambda x : f'{x}_previous'))\n",
    "\n",
    "# per artist, only take last\n",
    "artist_df = (only_artists\n",
    "             .sort_values(by='releaseyear')\n",
    "             .groupby('artist')\n",
    "             .apply(lambda x : x.iloc[-1]))\n",
    "\n",
    "# join the two dfs back together\n",
    "new_df = artist_df.join(previous_df)"
   ]
  },
  {
   "cell_type": "markdown",
   "metadata": {},
   "source": [
    "\n",
    "2. Train a Gradient Boosting Regressor considering all features created in Task 4.1 (note that `score` is the outcome and everything else is a feature, including `score_previous`). Use the 70/30 random train-test split, the default hyperparameters, and report the $R^2$ for the testing set. \n"
   ]
  },
  {
   "cell_type": "code",
   "execution_count": 61,
   "metadata": {},
   "outputs": [
    {
     "ename": "NameError",
     "evalue": "name 'new_df' is not defined",
     "output_type": "error",
     "traceback": [
      "\u001b[1;31m---------------------------------------------------------------------------\u001b[0m",
      "\u001b[1;31mNameError\u001b[0m                                 Traceback (most recent call last)",
      "Cell \u001b[1;32mIn[61], line 1\u001b[0m\n\u001b[1;32m----> 1\u001b[0m previous_cols \u001b[38;5;241m=\u001b[39m \u001b[43mnew_df\u001b[49m\u001b[38;5;241m.\u001b[39mcolumns[new_df\u001b[38;5;241m.\u001b[39mcolumns\u001b[38;5;241m.\u001b[39mstr\u001b[38;5;241m.\u001b[39mendswith(\u001b[38;5;124m'\u001b[39m\u001b[38;5;124m_previous\u001b[39m\u001b[38;5;124m'\u001b[39m)]\n\u001b[0;32m      2\u001b[0m new_features \u001b[38;5;241m=\u001b[39m features_cols \u001b[38;5;241m+\u001b[39m \u001b[38;5;28mlist\u001b[39m(previous_cols)\n\u001b[0;32m      5\u001b[0m X_new \u001b[38;5;241m=\u001b[39m numpy_helper(new_df, new_features)\n",
      "\u001b[1;31mNameError\u001b[0m: name 'new_df' is not defined"
     ]
    }
   ],
   "source": [
    "previous_cols = new_df.columns[new_df.columns.str.endswith('_previous')]\n",
    "new_features = features_cols + list(previous_cols)\n",
    "\n",
    "\n",
    "X_new = numpy_helper(new_df, new_features)\n",
    "y_new = np.ravel(numpy_helper(new_df, ['score']))\n",
    "\n",
    "X_train_n, X_test_n, y_train_n, y_test_n = train_test_split(\n",
    "     X_new, y_new, test_size=0.3, random_state=123)\n",
    "\n",
    "reg = GradientBoostingRegressor()\n",
    "\n",
    "reg.fit(X_train_n, y_train_n)\n",
    "\n",
    "preds = reg.predict(X_test_n)\n",
    "\n",
    "r2_score(y_test_n, preds)"
   ]
  },
  {
   "cell_type": "markdown",
   "metadata": {},
   "source": [
    "\n",
    "3. Can hyperparameter tuning improve your model? Write modular code (i.e., a function) to divide your training data into $N$ folds and perform cross-validation. Experiment tuning two hyperparameters of the Gradient Boosting Regressor: `n_estimators` and `learning_rate`. For each possible combination of the two hyperparameters (see below for the range of values that you should try for each hyperparameter), train your model in a cross-validation setup with $N=20$ folds. Report the mean  $R^2$ along with the 90% CI for each scenario. \n",
    "    - n_estimators $ \\in  \\{ 100, 200, 300, 400\\}$\n",
    "    - learning_rate $ \\in  \\{ 0.1, 0.05, 0.01\\}$.\n",
    " \n",
    " With the best hyperparameters obtained, train your model with the entire training set and report the $R^2$ on the testing set.\n",
    " \n"
   ]
  },
  {
   "cell_type": "code",
   "execution_count": 62,
   "metadata": {},
   "outputs": [
    {
     "ename": "NameError",
     "evalue": "name 'X_train_n' is not defined",
     "output_type": "error",
     "traceback": [
      "\u001b[1;31m---------------------------------------------------------------------------\u001b[0m",
      "\u001b[1;31mNameError\u001b[0m                                 Traceback (most recent call last)",
      "Cell \u001b[1;32mIn[62], line 53\u001b[0m\n\u001b[0;32m     48\u001b[0m     scores \u001b[38;5;241m=\u001b[39m Parallel(n_jobs\u001b[38;5;241m=\u001b[39mn_jobs, verbose\u001b[38;5;241m=\u001b[39m\u001b[38;5;241m10\u001b[39m)(delayed(cross_val_single_param)(X,y,param,kfold) \n\u001b[0;32m     49\u001b[0m                                                  \u001b[38;5;28;01mfor\u001b[39;00m param \u001b[38;5;129;01min\u001b[39;00m params_list)\n\u001b[0;32m     51\u001b[0m     \u001b[38;5;28;01mreturn\u001b[39;00m scores\n\u001b[1;32m---> 53\u001b[0m scores \u001b[38;5;241m=\u001b[39m cross_val(\u001b[43mX_train_n\u001b[49m, y_train_n, params)\n\u001b[0;32m     55\u001b[0m \u001b[38;5;28;01mdef\u001b[39;00m \u001b[38;5;21mbootstrap_ci\u001b[39m(x):\n\u001b[0;32m     56\u001b[0m     mean_vals \u001b[38;5;241m=\u001b[39m [np\u001b[38;5;241m.\u001b[39mrandom\u001b[38;5;241m.\u001b[39mchoice(x,\u001b[38;5;28mlen\u001b[39m(x))\u001b[38;5;241m.\u001b[39mmean() \u001b[38;5;28;01mfor\u001b[39;00m _ \u001b[38;5;129;01min\u001b[39;00m \u001b[38;5;28mrange\u001b[39m(\u001b[38;5;241m1000\u001b[39m)]\n",
      "\u001b[1;31mNameError\u001b[0m: name 'X_train_n' is not defined"
     ]
    }
   ],
   "source": [
    "from sklearn.base import BaseEstimator, ClassifierMixin, RegressorMixin\n",
    "from sklearn.utils.validation import check_X_y, check_array, check_is_fitted\n",
    "from sklearn.utils.multiclass import unique_labels\n",
    "from sklearn.metrics import euclidean_distances, r2_score\n",
    "from sklearn.model_selection import train_test_split, KFold\n",
    "from sklearn.preprocessing import StandardScaler\n",
    "from sklearn.linear_model import LinearRegression\n",
    "from sklearn.ensemble import GradientBoostingRegressor\n",
    "import itertools\n",
    "params = {\n",
    "    'n_estimators':[100, 200, 300 ,400],\n",
    "    'learning_rate':[0.1,0.05,0.01]\n",
    "}\n",
    "\n",
    "def cross_val_single_param(X,y,param,kfold,reg_class=GradientBoostingRegressor):\n",
    "    r2s = []\n",
    "        \n",
    "    for train_ind, test_ind in kfold.split(X):\n",
    "        \n",
    "        # train indices\n",
    "        X_train = X[train_ind]\n",
    "        y_train = y[train_ind]\n",
    "        \n",
    "        # test indices\n",
    "        X_test = X[test_ind]\n",
    "        y_test = y[test_ind]\n",
    "        \n",
    "        # create classifier, fit, predict\n",
    "        reg = reg_class(**param)\n",
    "        \n",
    "        reg.fit(X_train, y_train)\n",
    "        preds = reg.predict(X_test)\n",
    "        \n",
    "        # add r2 score to array\n",
    "        r2s += [r2_score(y_test, preds)]\n",
    "        \n",
    "    return r2s\n",
    "\n",
    "def cross_val(X,y,params,N=20, n_jobs=4):\n",
    "    \n",
    "    # generate list of params\n",
    "    params_list = [{name:y for name,y in zip(params.keys(),x)} for x in list(itertools.product(*params.values()))]\n",
    "        \n",
    "    # create kfold splitter\n",
    "    kfold = KFold(N)\n",
    "    \n",
    "    # apply cross_val score function for each param set we have\n",
    "    scores = Parallel(n_jobs=n_jobs, verbose=10)(delayed(cross_val_single_param)(X,y,param,kfold) \n",
    "                                                 for param in params_list)\n",
    "    \n",
    "    return scores\n",
    "\n",
    "scores = cross_val(X_train_n, y_train_n, params)\n",
    "\n",
    "def bootstrap_ci(x):\n",
    "    mean_vals = [np.random.choice(x,len(x)).mean() for _ in range(1000)]\n",
    "    return np.quantile(mean_vals, 0.05), np.quantile(mean_vals, 0.95)\n",
    "\n",
    "scores_reshaped = np.array([bootstrap_ci(x) for x in scores]).reshape([len(x) for x in params.values()] + [-1])\n",
    "\n",
    "fig, axs = plt.subplots(ncols=2, figsize=(15,5))\n",
    "\n",
    "manual_params = dict(\n",
    "    yticklabels=params['n_estimators'],\n",
    "    xticklabels=params['learning_rate'],\n",
    "    vmin=0.08,\n",
    "    vmax=0.2,\n",
    "    annot=True,\n",
    "    fmt='.3f'\n",
    ")\n",
    "\n",
    "sns.heatmap(data=scores_reshaped[:,:,0], ax=axs[0], **manual_params)\n",
    "sns.heatmap(data=scores_reshaped[:,:,1], ax=axs[1], **manual_params)\n",
    "\n",
    "axs[0].set(title='Lower bound of 90% CI')\n",
    "axs[1].set(title='Upper bound of 90% CI')\n",
    "\n",
    "for i in range(2):\n",
    "    axs[i].set(ylabel='#estimators', xlabel='Learning rate')\n",
    "    \n",
    "plt.suptitle('Scores obtained on grid search');\n",
    "\n",
    "reg = GradientBoostingRegressor(n_estimators=400, learning_rate=0.01)\n",
    "\n",
    "reg.fit(X_train_n, y_train_n)\n",
    "\n",
    "preds = reg.predict(X_test_n)\n",
    "\n",
    "r2_score(y_test_n, preds)"
   ]
  },
  {
   "cell_type": "markdown",
   "metadata": {},
   "source": [
    "4. **Discuss:** How do these results compare with the previous setup (the scenario considered in **Task 3.4**)? Point out two reasons why it is hard to compare the results obtained in 4.3 and 3.4 at face value? How would you fairly compare the two different setups?\n",
    "\n",
    "---"
   ]
  },
  {
   "cell_type": "code",
   "execution_count": null,
   "metadata": {},
   "outputs": [],
   "source": []
  },
  {
   "cell_type": "markdown",
   "metadata": {},
   "source": [
    "## Part 2: Second Album Syndrome\n",
    "\n",
    "Your second project at *Piccardi Music* is to shed light on one of the business's oldest enigmas: the \"second album syndrome.\" In a nutshell, the \"second album syndrome\" is a theory that states that the second album of a band always sucks. ([Related read](https://tvtropes.org/pmwiki/pmwiki.php/Main/SophomoreSlump))\n",
    "\n",
    "Assume—for the purpose of this task—that the Pitchfork data contains all albums for all artists it covers (even though this might not be true in reality)."
   ]
  },
  {
   "cell_type": "markdown",
   "metadata": {
    "pycharm": {
     "name": "#%% md\n"
    }
   },
   "source": [
    "**Task 5 (Preliminary analyses — 8 pts)**\n",
    "\n",
    "You begin by carrying out some preliminary data processing and analyses.\n",
    "\n",
    "1. Create a new dataframe (from the original data with duplicates dropped, the same as you obtained after finishing Task 1.1) containing only albums from artists with two or more albums and where the release year is not empty.\n"
   ]
  },
  {
   "cell_type": "code",
   "execution_count": 64,
   "metadata": {},
   "outputs": [],
   "source": [
    "pitchfork = pd.read_csv('./pitchfork.csv.gz')\n",
    "pitchfork = pitchfork.drop_duplicates(subset=[\"album\", \"artist\"], keep=\"first\")\n",
    "pitchfork['reviewdate'] = pd.to_datetime(pitchfork['reviewdate'], format='%B %d %Y')\n",
    "pitchfork['releaseyear'] = pd.to_datetime(pitchfork['releaseyear'], format='%Y')\n",
    "pitchfork['releaseyear_notutc'] = pitchfork.releaseyear.dt.year"
   ]
  },
  {
   "cell_type": "code",
   "execution_count": 65,
   "metadata": {},
   "outputs": [],
   "source": [
    "filtered_artists = pitchfork.groupby('artist').size().loc[lambda x : x > 1].index"
   ]
  },
  {
   "cell_type": "code",
   "execution_count": 66,
   "metadata": {},
   "outputs": [],
   "source": [
    "df2 = pitchfork[pitchfork.artist.isin(filtered_artists)]"
   ]
  },
  {
   "cell_type": "markdown",
   "metadata": {},
   "source": [
    "\n",
    "2. Create a new column `album_number` which indicates how many albums the artist has produced before this one (before the second album, the artist has already produced one album).\n"
   ]
  },
  {
   "cell_type": "code",
   "execution_count": 67,
   "metadata": {},
   "outputs": [
    {
     "name": "stderr",
     "output_type": "stream",
     "text": [
      "C:\\Users\\Admin\\AppData\\Local\\Temp\\ipykernel_29764\\1089208178.py:1: SettingWithCopyWarning: \n",
      "A value is trying to be set on a copy of a slice from a DataFrame.\n",
      "Try using .loc[row_indexer,col_indexer] = value instead\n",
      "\n",
      "See the caveats in the documentation: https://pandas.pydata.org/pandas-docs/stable/user_guide/indexing.html#returning-a-view-versus-a-copy\n",
      "  df2.loc[:,'album_number'] = (df2\n"
     ]
    }
   ],
   "source": [
    "df2.loc[:,'album_number'] = (df2\n",
    "                              .sort_values(by=['releaseyear', 'reviewdate'])\n",
    "                              .groupby('artist')['album']\n",
    "                              .transform(lambda x : range(len(x))))"
   ]
  },
  {
   "cell_type": "markdown",
   "metadata": {},
   "source": [
    "\n",
    "3. Calculate the mean and the standard error fo the mean of the scores of the first and second albums in the dataset. Additionally, plot the two distributions. \n"
   ]
  },
  {
   "cell_type": "code",
   "execution_count": 68,
   "metadata": {},
   "outputs": [
    {
     "data": {
      "text/html": [
       "<div>\n",
       "<style scoped>\n",
       "    .dataframe tbody tr th:only-of-type {\n",
       "        vertical-align: middle;\n",
       "    }\n",
       "\n",
       "    .dataframe tbody tr th {\n",
       "        vertical-align: top;\n",
       "    }\n",
       "\n",
       "    .dataframe thead th {\n",
       "        text-align: right;\n",
       "    }\n",
       "</style>\n",
       "<table border=\"1\" class=\"dataframe\">\n",
       "  <thead>\n",
       "    <tr style=\"text-align: right;\">\n",
       "      <th></th>\n",
       "      <th>mean</th>\n",
       "      <th>sem</th>\n",
       "    </tr>\n",
       "    <tr>\n",
       "      <th>album_number</th>\n",
       "      <th></th>\n",
       "      <th></th>\n",
       "    </tr>\n",
       "  </thead>\n",
       "  <tbody>\n",
       "    <tr>\n",
       "      <th>0</th>\n",
       "      <td>7.303002</td>\n",
       "      <td>0.020686</td>\n",
       "    </tr>\n",
       "    <tr>\n",
       "      <th>1</th>\n",
       "      <td>7.038468</td>\n",
       "      <td>0.021327</td>\n",
       "    </tr>\n",
       "  </tbody>\n",
       "</table>\n",
       "</div>"
      ],
      "text/plain": [
       "                  mean       sem\n",
       "album_number                    \n",
       "0             7.303002  0.020686\n",
       "1             7.038468  0.021327"
      ]
     },
     "metadata": {},
     "output_type": "display_data"
    },
    {
     "name": "stderr",
     "output_type": "stream",
     "text": [
      "c:\\Users\\Admin\\miniconda3\\envs\\ada\\lib\\site-packages\\seaborn\\_oldcore.py:1498: FutureWarning: is_categorical_dtype is deprecated and will be removed in a future version. Use isinstance(dtype, CategoricalDtype) instead\n",
      "  if pd.api.types.is_categorical_dtype(vector):\n",
      "c:\\Users\\Admin\\miniconda3\\envs\\ada\\lib\\site-packages\\seaborn\\_oldcore.py:1119: FutureWarning: use_inf_as_na option is deprecated and will be removed in a future version. Convert inf values to NaN before operating instead.\n",
      "  with pd.option_context('mode.use_inf_as_na', True):\n",
      "c:\\Users\\Admin\\miniconda3\\envs\\ada\\lib\\site-packages\\seaborn\\_oldcore.py:1498: FutureWarning: is_categorical_dtype is deprecated and will be removed in a future version. Use isinstance(dtype, CategoricalDtype) instead\n",
      "  if pd.api.types.is_categorical_dtype(vector):\n",
      "c:\\Users\\Admin\\miniconda3\\envs\\ada\\lib\\site-packages\\seaborn\\_oldcore.py:1119: FutureWarning: use_inf_as_na option is deprecated and will be removed in a future version. Convert inf values to NaN before operating instead.\n",
      "  with pd.option_context('mode.use_inf_as_na', True):\n",
      "c:\\Users\\Admin\\miniconda3\\envs\\ada\\lib\\site-packages\\seaborn\\_oldcore.py:1498: FutureWarning: is_categorical_dtype is deprecated and will be removed in a future version. Use isinstance(dtype, CategoricalDtype) instead\n",
      "  if pd.api.types.is_categorical_dtype(vector):\n",
      "c:\\Users\\Admin\\miniconda3\\envs\\ada\\lib\\site-packages\\seaborn\\_oldcore.py:1119: FutureWarning: use_inf_as_na option is deprecated and will be removed in a future version. Convert inf values to NaN before operating instead.\n",
      "  with pd.option_context('mode.use_inf_as_na', True):\n",
      "c:\\Users\\Admin\\miniconda3\\envs\\ada\\lib\\site-packages\\seaborn\\_oldcore.py:1498: FutureWarning: is_categorical_dtype is deprecated and will be removed in a future version. Use isinstance(dtype, CategoricalDtype) instead\n",
      "  if pd.api.types.is_categorical_dtype(vector):\n",
      "c:\\Users\\Admin\\miniconda3\\envs\\ada\\lib\\site-packages\\seaborn\\_oldcore.py:1119: FutureWarning: use_inf_as_na option is deprecated and will be removed in a future version. Convert inf values to NaN before operating instead.\n",
      "  with pd.option_context('mode.use_inf_as_na', True):\n"
     ]
    },
    {
     "data": {
      "image/png": "[encoded data removed]",
      "text/plain": [
       "<Figure size 1500x500 with 2 Axes>"
      ]
     },
     "metadata": {},
     "output_type": "display_data"
    }
   ],
   "source": [
    "display(df2.groupby('album_number')['score'].agg(['mean', 'sem']).loc[[0,1]])\n",
    "\n",
    "zeros, ones = df2.loc[df2['album_number'].isin([0,1])].groupby('album_number')['score'].apply(list)\n",
    "fig, axs = plt.subplots(ncols=2, figsize=(15,5))\n",
    "\n",
    "sns.ecdfplot(zeros, label='First album', ax=axs[0])\n",
    "sns.ecdfplot(ones, label='Second album', ax=axs[0])\n",
    "\n",
    "axs[0].legend()\n",
    "axs[0].set(title='Empirical cumulative distribution of scores for first and second album')\n",
    "\n",
    "sns.histplot(zeros, kde=True, alpha=0.5, label='First album', ax=axs[1])\n",
    "sns.histplot(ones,kde=True, alpha=0.5, label='Second album', color='C8', ax=axs[1])\n",
    "\n",
    "axs[1].legend()\n",
    "axs[1].set(title='Distribution of scores for first and second album');"
   ]
  },
  {
   "cell_type": "markdown",
   "metadata": {},
   "source": [
    "\n",
    "4. Use an appropriate method to determine if the difference in means of 1st and 2nd albums is statistically significant?\n",
    "5. **Discuss:** Do these analyses suggest that the \"second album syndrome\" exists?\n",
    "\n",
    "---"
   ]
  },
  {
   "cell_type": "code",
   "execution_count": 70,
   "metadata": {},
   "outputs": [
    {
     "data": {
      "text/plain": [
       "TtestResult(statistic=8.903441019634526, pvalue=6.775768621489928e-19, df=7126.0)"
      ]
     },
     "execution_count": 70,
     "metadata": {},
     "output_type": "execute_result"
    }
   ],
   "source": [
    "zeros, ones = df2.loc[df2['album_number'].isin([0,1])].groupby('album_number')['score'].apply(list)\n",
    "\n",
    "ttest_ind(zeros, ones)"
   ]
  },
  {
   "cell_type": "markdown",
   "metadata": {},
   "source": [
    "**Task 6 (Regression analysis — 20 pts)**\n",
    "\n",
    "Next, you proceed to examine some hypotheses about the \"second album syndrome\" using a regression framework. Namely:\n",
    "\n",
    "- The **time spent hypothesis:**  the first album usually has a couple of years of development under its belt and plenty of trial and error from live concerts to help the band determine what does or doesn't work. The second album, on the other hand, is often made in a rush.\n",
    "\n",
    "- The **style change hypothesis:** bands often try to change their style after their first album. This change is not always welcomed by the listeners.\n",
    "\n",
    "1. Create a new dataframe containing one row per 1st-2nd album pair. The dataframe should contain rows:\n",
    "    - `score_diff`: the difference in scores between the second and the first album (second - first).\n",
    "    - `time_diff`: the number of days elapsed between the first and the second album.\n",
    "    - `did_style_change`: a dummy variable that indicates whether the style of the music has changed. To obtain it, first, calculate the [standardized euclidean distance](https://docs.scipy.org/doc/scipy/reference/generated/scipy.spatial.distance.seuclidean.html) of music-related numerical features¹ between the second and the first album. Second, assign 1 to the 20% most distant 1st-2nd album pairs and 0 to all others.\n",
    "\n"
   ]
  },
  {
   "cell_type": "code",
   "execution_count": 71,
   "metadata": {},
   "outputs": [],
   "source": [
    "music_features = [\"key\", \"acousticness\", \"danceability\", \"energy\", \"instrumentalness\", \"liveness\", \n",
    "                  \"loudness\", \"speechiness\", \"valence\", \"tempo\"]\n",
    "\n",
    "first_two = df2[df2.album_number.isin((0,1))]\n",
    "\n",
    "variances = first_two[music_features].var()\n",
    "\n",
    "def agg_func(x):\n",
    "    \n",
    "    assert len(x) == 2\n",
    "    \n",
    "    # get the two parts of the df\n",
    "    first, second = x.iloc[0], x.iloc[1]\n",
    "    \n",
    "    \n",
    "    \n",
    "    # compute the 3 features\n",
    "    score_d = second['score'] - first['score']\n",
    "    time_d  = abs(first['releaseyear'] - second['releaseyear'])\n",
    "    dist    = seuclidean(first[music_features], second[music_features], variances)\n",
    "    \n",
    "    # return the 3 features as columns\n",
    "    return pd.Series([score_d, time_d, dist], index =['score_diff', 'time_diff', 'dist'])\n",
    "\n",
    "# apply our aggregation function\n",
    "pair_df = first_two.sort_values(by='releaseyear').groupby('artist').apply(agg_func)\n",
    "\n",
    "# get the cut value for highest 20%\n",
    "quantile_8th = pair_df['dist'].quantile(q=0.8)\n",
    "\n",
    "pair_df['time_diff'] = pair_df['time_diff'].dt.days \n",
    "\n",
    "# assign style change to 1 if in the 20% highest\n",
    "pair_df.loc[:,'did_style_change'] = 0\n",
    "pair_df.loc[pair_df['dist'] >= quantile_8th,'did_style_change'] = 1"
   ]
  },
  {
   "cell_type": "code",
   "execution_count": 72,
   "metadata": {},
   "outputs": [],
   "source": [
    "\n",
    "\n",
    "pair_df = pair_df[pair_df.time_diff != 0]\n",
    "\n"
   ]
  },
  {
   "cell_type": "markdown",
   "metadata": {},
   "source": [
    "\n",
    "2. Fit a linear regression using `statsmodels` with this dataframe. Your regression should consider only an intercept, i.e., `\"score_diff ~ 1\"`.\n",
    "\n"
   ]
  },
  {
   "cell_type": "code",
   "execution_count": 73,
   "metadata": {},
   "outputs": [
    {
     "name": "stdout",
     "output_type": "stream",
     "text": [
      "                            OLS Regression Results                            \n",
      "==============================================================================\n",
      "Dep. Variable:             score_diff   R-squared:                       0.000\n",
      "Model:                            OLS   Adj. R-squared:                  0.000\n",
      "Method:                 Least Squares   F-statistic:                       nan\n",
      "Date:                Sun, 14 Jan 2024   Prob (F-statistic):                nan\n",
      "Time:                        17:23:29   Log-Likelihood:                -5888.2\n",
      "No. Observations:                3389   AIC:                         1.178e+04\n",
      "Df Residuals:                    3388   BIC:                         1.178e+04\n",
      "Df Model:                           0                                         \n",
      "Covariance Type:            nonrobust                                         \n",
      "==============================================================================\n",
      "                 coef    std err          t      P>|t|      [0.025      0.975]\n",
      "------------------------------------------------------------------------------\n",
      "Intercept     -0.2747      0.024    -11.628      0.000      -0.321      -0.228\n",
      "==============================================================================\n",
      "Omnibus:                      358.407   Durbin-Watson:                   1.975\n",
      "Prob(Omnibus):                  0.000   Jarque-Bera (JB):             1938.189\n",
      "Skew:                          -0.355   Prob(JB):                         0.00\n",
      "Kurtosis:                       6.636   Cond. No.                         1.00\n",
      "==============================================================================\n",
      "\n",
      "Notes:\n",
      "[1] Standard Errors assume that the covariance matrix of the errors is correctly specified.\n"
     ]
    }
   ],
   "source": [
    "mod = smf.ols(formula='score_diff ~ 1', data=pair_df)\n",
    "res = mod.fit()\n",
    "\n",
    "print(res.summary())"
   ]
  },
  {
   "cell_type": "markdown",
   "metadata": {},
   "source": [
    "\n",
    "3. **Discuss:** Interpret the $R^2$ in your regression here. Does this analysis confirm what you observed in Task 5? Why?\n",
    "\n"
   ]
  },
  {
   "cell_type": "code",
   "execution_count": null,
   "metadata": {},
   "outputs": [],
   "source": []
  },
  {
   "cell_type": "markdown",
   "metadata": {},
   "source": [
    "\n",
    "4. Include the `time_diff` and `did_style_change` as covariates in your model. Fit the regression again and report the summary of your model. \n"
   ]
  },
  {
   "cell_type": "code",
   "execution_count": 74,
   "metadata": {},
   "outputs": [
    {
     "name": "stdout",
     "output_type": "stream",
     "text": [
      "                            OLS Regression Results                            \n",
      "==============================================================================\n",
      "Dep. Variable:             score_diff   R-squared:                       0.017\n",
      "Model:                            OLS   Adj. R-squared:                  0.017\n",
      "Method:                 Least Squares   F-statistic:                     29.80\n",
      "Date:                Sun, 14 Jan 2024   Prob (F-statistic):           1.48e-13\n",
      "Time:                        17:23:39   Log-Likelihood:                -5858.7\n",
      "No. Observations:                3389   AIC:                         1.172e+04\n",
      "Df Residuals:                    3386   BIC:                         1.174e+04\n",
      "Df Model:                           2                                         \n",
      "Covariance Type:            nonrobust                                         \n",
      "====================================================================================\n",
      "                       coef    std err          t      P>|t|      [0.025      0.975]\n",
      "------------------------------------------------------------------------------------\n",
      "Intercept           -0.1485      0.030     -4.902      0.000      -0.208      -0.089\n",
      "time_diff        -8.711e-05   1.13e-05     -7.686      0.000      -0.000   -6.49e-05\n",
      "did_style_change    -0.0298      0.059     -0.505      0.613      -0.145       0.086\n",
      "==============================================================================\n",
      "Omnibus:                      327.621   Durbin-Watson:                   1.972\n",
      "Prob(Omnibus):                  0.000   Jarque-Bera (JB):             1782.660\n",
      "Skew:                          -0.290   Prob(JB):                         0.00\n",
      "Kurtosis:                       6.505   Cond. No.                     6.40e+03\n",
      "==============================================================================\n",
      "\n",
      "Notes:\n",
      "[1] Standard Errors assume that the covariance matrix of the errors is correctly specified.\n",
      "[2] The condition number is large, 6.4e+03. This might indicate that there are\n",
      "strong multicollinearity or other numerical problems.\n"
     ]
    }
   ],
   "source": [
    "pair_df[\"time_diff_standardized\"] = (pair_df[\"time_diff\"] - pair_df[\"time_diff\"].mean()) / pair_df[\"time_diff\"].std()\n",
    "mod = smf.ols(formula='score_diff ~ 1 + time_diff + did_style_change', data=pair_df)\n",
    "res = mod.fit()\n",
    "\n",
    "print(res.summary())"
   ]
  },
  {
   "cell_type": "markdown",
   "metadata": {},
   "source": [
    "\n",
    "5. **Discuss:** Interpret the coefficients `time_diff` and `did_style_change`. Carefully explain whether they provide evidence towards each of the aforementioned hypotheses? Do they rule out other reasons that may cause the \"second album syndrome effect\"?\n",
    "\n"
   ]
  },
  {
   "cell_type": "code",
   "execution_count": null,
   "metadata": {},
   "outputs": [],
   "source": []
  },
  {
   "cell_type": "markdown",
   "metadata": {},
   "source": [
    "\n",
    "6. Create a new column called `time_diff_standardized`. It should be a standardized version of the `time_diff` column. Repeat the regression done in 6.4 using the `time_diff_standardized` column instead of the `time_diff` column.\n"
   ]
  },
  {
   "cell_type": "code",
   "execution_count": 75,
   "metadata": {},
   "outputs": [
    {
     "name": "stdout",
     "output_type": "stream",
     "text": [
      "                            OLS Regression Results                            \n",
      "==============================================================================\n",
      "Dep. Variable:             score_diff   R-squared:                       0.017\n",
      "Model:                            OLS   Adj. R-squared:                  0.017\n",
      "Method:                 Least Squares   F-statistic:                     29.80\n",
      "Date:                Sun, 14 Jan 2024   Prob (F-statistic):           1.48e-13\n",
      "Time:                        17:23:46   Log-Likelihood:                -5858.7\n",
      "No. Observations:                3389   AIC:                         1.172e+04\n",
      "Df Residuals:                    3386   BIC:                         1.174e+04\n",
      "Df Model:                           2                                         \n",
      "Covariance Type:            nonrobust                                         \n",
      "==========================================================================================\n",
      "                             coef    std err          t      P>|t|      [0.025      0.975]\n",
      "------------------------------------------------------------------------------------------\n",
      "Intercept                 -0.2689      0.026    -10.287      0.000      -0.320      -0.218\n",
      "time_diff_standardized    -0.1802      0.023     -7.686      0.000      -0.226      -0.134\n",
      "did_style_change          -0.0298      0.059     -0.505      0.613      -0.145       0.086\n",
      "==============================================================================\n",
      "Omnibus:                      327.621   Durbin-Watson:                   1.972\n",
      "Prob(Omnibus):                  0.000   Jarque-Bera (JB):             1782.660\n",
      "Skew:                          -0.290   Prob(JB):                         0.00\n",
      "Kurtosis:                       6.505   Cond. No.                         2.63\n",
      "==============================================================================\n",
      "\n",
      "Notes:\n",
      "[1] Standard Errors assume that the covariance matrix of the errors is correctly specified.\n"
     ]
    }
   ],
   "source": [
    "pair_df[\"time_diff_standardized\"] = (pair_df[\"time_diff\"] - pair_df[\"time_diff\"].mean()) / pair_df[\"time_diff\"].std()\n",
    "mod = smf.ols(formula='score_diff ~ 1 + time_diff_standardized + did_style_change', data=pair_df)\n",
    "res = mod.fit()\n",
    "\n",
    "print(res.summary())"
   ]
  },
  {
   "cell_type": "markdown",
   "metadata": {},
   "source": [
    "\n",
    "7. **Discuss:** Explain how the interpretation of the coefficients associated with this new column `time_diff_standardized` differ from its non-standardized version \n",
    "`time_diff`?\n",
    "\n",
    "--- \n",
    "\n",
    "**¹** Music related numerical features are:  \"key\", \"acousticness\", \"danceability\", \"energy\", \"instrumentalness\", \"liveness\", \"loudness\", \"speechiness\", \"valence\", and \"tempo\".\n"
   ]
  },
  {
   "cell_type": "code",
   "execution_count": null,
   "metadata": {},
   "outputs": [],
   "source": []
  },
  {
   "cell_type": "markdown",
   "metadata": {
    "pycharm": {
     "name": "#%% md\n"
    }
   },
   "source": [
    "**Task 7 (Sanity checks — 6 pts)**\n",
    "\n",
    "You decide to perform a few last sanity checks for your analysis.\n",
    "\n",
    "1.  **Discuss:** If the Second Album Syndrome existed, i.e., something was special about the second album (as in if it was bad for a very particular reason that afflicted album number 2 more than all others), what would you expect to happen to the mean score of the third album?\n",
    "\n"
   ]
  },
  {
   "cell_type": "code",
   "execution_count": null,
   "metadata": {},
   "outputs": [],
   "source": []
  },
  {
   "cell_type": "markdown",
   "metadata": {},
   "source": [
    "\n",
    "2. Using the dataset you created in Task 5, calculate the mean and the standard error of the mean for the 1st, 2nd, 3rd, and 4th albums. Test whether the difference between the average score of the second and the third album is statistically significant.\n"
   ]
  },
  {
   "cell_type": "code",
   "execution_count": 77,
   "metadata": {},
   "outputs": [
    {
     "data": {
      "text/html": [
       "<div>\n",
       "<style scoped>\n",
       "    .dataframe tbody tr th:only-of-type {\n",
       "        vertical-align: middle;\n",
       "    }\n",
       "\n",
       "    .dataframe tbody tr th {\n",
       "        vertical-align: top;\n",
       "    }\n",
       "\n",
       "    .dataframe thead th {\n",
       "        text-align: right;\n",
       "    }\n",
       "</style>\n",
       "<table border=\"1\" class=\"dataframe\">\n",
       "  <thead>\n",
       "    <tr style=\"text-align: right;\">\n",
       "      <th></th>\n",
       "      <th>mean</th>\n",
       "      <th>sem</th>\n",
       "    </tr>\n",
       "    <tr>\n",
       "      <th>album_number</th>\n",
       "      <th></th>\n",
       "      <th></th>\n",
       "    </tr>\n",
       "  </thead>\n",
       "  <tbody>\n",
       "    <tr>\n",
       "      <th>0</th>\n",
       "      <td>7.303002</td>\n",
       "      <td>0.020686</td>\n",
       "    </tr>\n",
       "    <tr>\n",
       "      <th>1</th>\n",
       "      <td>7.038468</td>\n",
       "      <td>0.021327</td>\n",
       "    </tr>\n",
       "    <tr>\n",
       "      <th>2</th>\n",
       "      <td>7.044410</td>\n",
       "      <td>0.027617</td>\n",
       "    </tr>\n",
       "    <tr>\n",
       "      <th>3</th>\n",
       "      <td>7.040662</td>\n",
       "      <td>0.036123</td>\n",
       "    </tr>\n",
       "  </tbody>\n",
       "</table>\n",
       "</div>"
      ],
      "text/plain": [
       "                  mean       sem\n",
       "album_number                    \n",
       "0             7.303002  0.020686\n",
       "1             7.038468  0.021327\n",
       "2             7.044410  0.027617\n",
       "3             7.040662  0.036123"
      ]
     },
     "metadata": {},
     "output_type": "display_data"
    },
    {
     "data": {
      "text/plain": [
       "TtestResult(statistic=0.16816255372281083, pvalue=0.8664615688260937, df=5512.0)"
      ]
     },
     "execution_count": 77,
     "metadata": {},
     "output_type": "execute_result"
    }
   ],
   "source": [
    "ones, twos = df2.loc[df2['album_number'].isin([1,2])].groupby('album_number')['score'].apply(list)\n",
    "display(df2.groupby('album_number')['score'].agg(['mean', 'sem']).loc[[0, 1, 2, 3, ]])\n",
    "\n",
    "ttest_ind(twos, ones)"
   ]
  },
  {
   "cell_type": "markdown",
   "metadata": {},
   "source": [
    "\n",
    "3. **Discuss:** Does this suggest that the Second Album Syndrome exists?\n",
    "\n",
    "---\n"
   ]
  },
  {
   "cell_type": "code",
   "execution_count": null,
   "metadata": {},
   "outputs": [],
   "source": []
  },
  {
   "cell_type": "markdown",
   "metadata": {},
   "source": [
    "**Task 8 (Eureka — 14 pts)**\n",
    "\n",
    "Your boss, *Signor Piccardi*, proposes that you carry out a simulation to make things clearer. Assuming that:\n",
    "\n",
    "\n",
    "- Each band $i$ has a \"talent\" $\\mu_i$ , which is uniformally distributed between 2 and 8, i.e., $\\mu_i \\sim U_{[2,8]}$.\n",
    "- When a band $i$ produces an album $j$, it has quality $s_j$. This score is normally distributed with mean $\\mu_i$ and standard deviation $1$, i.e., $s_j \\sim N(\\mu_i, 1)$\n",
    "- Talents are independent and identically distributed random variables.\n",
    " \n",
    "Carry out the following simulation:\n",
    "\n",
    "- Create 1000 hypothetical bands with intrinsic talents $\\mu_i \\sim U_{[2,8]}$ for $i \\in [1,1000]$.\n",
    "- Have each hypothetical band create a hypothetical album.\n",
    "- Discard all bands whose albums received a score smaller than 6.\n",
    "- For each of the remaining bands, create two additional albums.\n",
    "\n",
    "Analyzing the scores obtained in this simulation, provide a coherent explanation for the  scores obtained in Task 7.2. \n",
    "\n",
    "--- \n",
    "\n",
    "**Hint:** You can use numpy to sample random variables (e.g. [numpy.random.normal](https://numpy.org/doc/stable/reference/random/generated/numpy.random.normal.html))"
   ]
  },
  {
   "cell_type": "code",
   "execution_count": 79,
   "metadata": {},
   "outputs": [
    {
     "name": "stdout",
     "output_type": "stream",
     "text": [
      "1st albums: 7.24894838265554\n",
      "2nd albums: 6.789013313230578\n",
      "3rd albums: 6.719605990479997\n"
     ]
    }
   ],
   "source": [
    "\n",
    "\n",
    "import numpy.random as rdm\n",
    "talents = rdm.uniform(2, 8, 1000)\n",
    "\n",
    "albums1 = np.array([rdm.normal(talent, 1) for talent in talents])\n",
    "\n",
    "# filtered bands\n",
    "talents_filtered = talents[albums1 >= 6] \n",
    "albums_filtered = albums1[albums1 >= 6]\n",
    "\n",
    "albums2 = np.array([rdm.normal(talent, 1) for talent in talents_filtered])\n",
    "albums3 = np.array([rdm.normal(talent, 1) for talent in talents_filtered])\n",
    "\n",
    "print(\"1st albums:\", albums_filtered.mean())\n",
    "print(\"2nd albums:\", albums2.mean())\n",
    "print(\"3rd albums:\", albums3.mean())"
   ]
  }
 ],
 "metadata": {
  "kernelspec": {
   "display_name": "Python 3",
   "language": "python",
   "name": "python3"
  },
  "language_info": {
   "codemirror_mode": {
    "name": "ipython",
    "version": 3
   },
   "file_extension": ".py",
   "mimetype": "text/x-python",
   "name": "python",
   "nbconvert_exporter": "python",
   "pygments_lexer": "ipython3",
   "version": "3.9.18"
  },
  "pycharm": {
   "stem_cell": {
    "cell_type": "raw",
    "metadata": {
     "collapsed": false
    },
    "source": []
   }
  }
 },
 "nbformat": 4,
 "nbformat_minor": 1
}

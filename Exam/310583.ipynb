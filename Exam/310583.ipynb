{
 "cells": [
  {
   "cell_type": "markdown",
   "id": "e4fc29c0d30afb83",
   "metadata": {},
   "source": [
    "# ADA final exam (Fall 2023)\n",
    "\n",
    "This exam consists of 2 parts. Parts are independent from each other.\n",
    "\n",
    "## Dataset\n",
    "\n",
    "\n",
    "\"Friends\" is an American television sitcom that originally aired on NBC from September 22, 1994, to May 6, 2004. Created by David Crane and Marta Kauffman, the show gained immense popularity and has since become a classic in the world of television. The series is set in New York City and revolves around a group of six friends: Ross Geller (David Schwimmer), Rachel Green (Jennifer Aniston), Monica Geller (Courteney Cox), Chandler Bing (Matthew Perry), Joey Tribbiani (Matt LeBlanc), and Phoebe Buffay (Lisa Kudrow). The show explores their personal and professional lives as they navigate the ups and downs of relationships, careers, and the challenges of adulthood.\n",
    "\n",
    "In this exam, we will use a dataset containing all the conversations that occurred over 10 seasons of Friends. We refer to each row in the dataset as an 'utterance.\" The data format of the dataset is as follows\n",
    "\n",
    "- id: `<str>`, the index of the utterance in the format sAA_eBB_cCC_uDDD, where AA is the season number, BB is the episode number, CC is the scene/conversation number, and DDD is the number of the utterance in the scene (e.g. s01_e18_c05_u021).\n",
    "- speaker: `<str>`, the speaker who made the utterance, e.g. Monica Geller\n",
    "- conversation_id: `<str>`, the id of the first utterance in the conversation this utterance belongs. We assume conversations begin at the start of a new scene.\n",
    "- reply_to: `<str>`, the id of the utterance to which this utterance replies. None if the utterance is the first in a conversation.\n",
    "- text: `<str>`, the textual content of the utterance.\n"
   ]
  },
  {
   "cell_type": "code",
   "execution_count": 346,
   "id": "b039cc2f",
   "metadata": {},
   "outputs": [],
   "source": [
    "# First, let's import some required libraries!\n",
    "import statsmodels.formula.api as smf\n",
    "import pandas as pd\n",
    "from collections import Counter\n",
    "import networkx as nx\n",
    "import seaborn as sns\n",
    "import matplotlib.pyplot as plt\n",
    "import itertools\n",
    "import numpy as np\n",
    "import json"
   ]
  },
  {
   "cell_type": "code",
   "execution_count": 347,
   "id": "0a06a364",
   "metadata": {},
   "outputs": [],
   "source": [
    "import numpy as np\n",
    "import pandas as pd\n",
    "import matplotlib.pyplot as plt\n",
    "import networkx as nx\n",
    "import seaborn as sns\n",
    "from sklearn.metrics import roc_auc_score\n",
    "from sklearn.feature_extraction.text import TfidfVectorizer\n",
    "from sklearn.linear_model import SGDClassifier\n",
    "from sklearn.model_selection import train_test_split\n",
    "import statsmodels.formula.api as smf\n",
    "import scipy.stats as stats\n",
    "import statsmodels.stats\n",
    "from sklearn import linear_model as lm\n",
    "from sklearn.metrics import accuracy_score\n",
    "import random\n",
    "import gzip\n",
    "import operator\n",
    "import time\n",
    "from urllib.parse import unquote\n",
    "from IPython.display import Image\n",
    "%matplotlib inline\n",
    "from sklearn.feature_extraction.text import CountVectorizer, TfidfTransformer\n",
    "from sklearn.model_selection import train_test_split, GridSearchCV\n",
    "from sklearn.linear_model import SGDClassifier\n",
    "from sklearn.pipeline import Pipeline\n",
    "from sklearn.metrics import classification_report, confusion_matrix, roc_auc_score, average_precision_score, balanced_accuracy_score\n",
    "from sklearn.linear_model import Ridge, LinearRegression, LogisticRegressionCV\n",
    "from sklearn.metrics import mean_squared_error, mean_absolute_error\n",
    "import json\n",
    "from pyspark import SparkContext\n",
    "from pyspark.sql import SparkSession\n",
    "from pyspark.ml.feature import CountVectorizer\n",
    "from scipy.sparse import csr_matrix\n",
    "import re\n",
    "from sklearn.feature_extraction.text import TfidfVectorizer\n",
    "from sklearn.decomposition import TruncatedSVD\n",
    "from sklearn.linear_model import LogisticRegressionCV\n",
    "from pyspark.sql import functions as F\n",
    "from sklearn.preprocessing import LabelEncoder\n",
    "from sklearn.ensemble import RandomForestClassifier\n",
    "from sklearn.metrics import accuracy_score, precision_score, recall_score, f1_score\n",
    "from sklearn.model_selection import cross_val_score\n",
    "from sklearn.model_selection import cross_validate\n",
    "from sklearn.ensemble import GradientBoostingClassifier\n",
    "from sklearn.preprocessing import OneHotEncoder\n",
    "from IPython.display import YouTubeVideo\n",
    "import warnings\n",
    "# warnings.filterwarnings(\"ignore\")\n"
   ]
  },
  {
   "cell_type": "markdown",
   "id": "77be188a",
   "metadata": {},
   "source": [
    "\n",
    "## Part 1: The one where you find the protagonist (60 pts)\n",
    "\n",
    "A big debate among Friends fans is: who is the show's main character? In this task, your goal is to provide a data-driven answer to this question.\n",
    "\n",
    "\n",
    "--- \n",
    "\n",
    "**1.1 —** Load the data from the jsonl file `exam1.jsonl` into a pandas dataframe. Then\n",
    " \n",
    " A. Calculate and display the number of distinct speakers in the dataframe.\n",
    " \n",
    " B. Calculate and display the number of conversations (see `conversation_id`).\n",
    " \n",
    " C. Remove all utterances from the dataframe where the `speaker` is \"TRANSCRIPT_NOTE\" or \"#ALL#\". Print the number of rows in the dataframe.\n",
    " \n",
    " D. Create additional columns corresponding to the season (`season`, e.g., season 1 should contain `s01`) and the episode (`episode`, e.g., episode 5 of season 4 should contain `s04_e05`) of each utterance. Print the season and the episode associated with utterance `s10_e18_c11_u019`.\n",
    " \n",
    " E. Create an additional column corresponding to the length of each utterance in terms of the number of characters (`length`). Print the length associated with utterance `s10_e18_c11_u019`.\n"
   ]
  },
  {
   "cell_type": "code",
   "execution_count": 348,
   "id": "d4daa420",
   "metadata": {},
   "outputs": [
    {
     "data": {
      "text/html": [
       "<div>\n",
       "<style scoped>\n",
       "    .dataframe tbody tr th:only-of-type {\n",
       "        vertical-align: middle;\n",
       "    }\n",
       "\n",
       "    .dataframe tbody tr th {\n",
       "        vertical-align: top;\n",
       "    }\n",
       "\n",
       "    .dataframe thead th {\n",
       "        text-align: right;\n",
       "    }\n",
       "</style>\n",
       "<table border=\"1\" class=\"dataframe\">\n",
       "  <thead>\n",
       "    <tr style=\"text-align: right;\">\n",
       "      <th></th>\n",
       "      <th>id</th>\n",
       "      <th>conversation_id</th>\n",
       "      <th>text</th>\n",
       "      <th>speaker</th>\n",
       "      <th>reply-to</th>\n",
       "    </tr>\n",
       "  </thead>\n",
       "  <tbody>\n",
       "    <tr>\n",
       "      <th>0</th>\n",
       "      <td>s01_e01_c01_u001</td>\n",
       "      <td>s01_e01_c01_u001</td>\n",
       "      <td>There's nothing to tell! He's just some guy I ...</td>\n",
       "      <td>Monica Geller</td>\n",
       "      <td>None</td>\n",
       "    </tr>\n",
       "    <tr>\n",
       "      <th>1</th>\n",
       "      <td>s01_e01_c01_u002</td>\n",
       "      <td>s01_e01_c01_u001</td>\n",
       "      <td>C'mon, you're going out with the guy! There's ...</td>\n",
       "      <td>Joey Tribbiani</td>\n",
       "      <td>s01_e01_c01_u001</td>\n",
       "    </tr>\n",
       "    <tr>\n",
       "      <th>2</th>\n",
       "      <td>s01_e01_c01_u003</td>\n",
       "      <td>s01_e01_c01_u001</td>\n",
       "      <td>All right Joey, be nice. So does he have a hum...</td>\n",
       "      <td>Chandler Bing</td>\n",
       "      <td>s01_e01_c01_u002</td>\n",
       "    </tr>\n",
       "    <tr>\n",
       "      <th>3</th>\n",
       "      <td>s01_e01_c01_u004</td>\n",
       "      <td>s01_e01_c01_u001</td>\n",
       "      <td>Wait, does he eat chalk?</td>\n",
       "      <td>Phoebe Buffay</td>\n",
       "      <td>s01_e01_c01_u003</td>\n",
       "    </tr>\n",
       "    <tr>\n",
       "      <th>4</th>\n",
       "      <td>s01_e01_c01_u005</td>\n",
       "      <td>s01_e01_c01_u001</td>\n",
       "      <td></td>\n",
       "      <td>TRANSCRIPT_NOTE</td>\n",
       "      <td>s01_e01_c01_u004</td>\n",
       "    </tr>\n",
       "    <tr>\n",
       "      <th>...</th>\n",
       "      <td>...</td>\n",
       "      <td>...</td>\n",
       "      <td>...</td>\n",
       "      <td>...</td>\n",
       "      <td>...</td>\n",
       "    </tr>\n",
       "    <tr>\n",
       "      <th>67368</th>\n",
       "      <td>s10_e18_c11_u017</td>\n",
       "      <td>s10_e18_c11_u000</td>\n",
       "      <td>Oh, it's gonna be okay.</td>\n",
       "      <td>Chandler Bing</td>\n",
       "      <td>s10_e18_c11_u016</td>\n",
       "    </tr>\n",
       "    <tr>\n",
       "      <th>67369</th>\n",
       "      <td>s10_e18_c11_u018</td>\n",
       "      <td>s10_e18_c11_u000</td>\n",
       "      <td>Do you guys have to go to the new house right ...</td>\n",
       "      <td>Rachel Green</td>\n",
       "      <td>s10_e18_c11_u017</td>\n",
       "    </tr>\n",
       "    <tr>\n",
       "      <th>67370</th>\n",
       "      <td>s10_e18_c11_u019</td>\n",
       "      <td>s10_e18_c11_u000</td>\n",
       "      <td>We got some time.</td>\n",
       "      <td>Monica Geller</td>\n",
       "      <td>s10_e18_c11_u018</td>\n",
       "    </tr>\n",
       "    <tr>\n",
       "      <th>67371</th>\n",
       "      <td>s10_e18_c11_u020</td>\n",
       "      <td>s10_e18_c11_u000</td>\n",
       "      <td>Okay, should we get some coffee?</td>\n",
       "      <td>Rachel Green</td>\n",
       "      <td>s10_e18_c11_u019</td>\n",
       "    </tr>\n",
       "    <tr>\n",
       "      <th>67372</th>\n",
       "      <td>s10_e18_c11_u021</td>\n",
       "      <td>s10_e18_c11_u000</td>\n",
       "      <td>Sure. Where?</td>\n",
       "      <td>Chandler Bing</td>\n",
       "      <td>s10_e18_c11_u020</td>\n",
       "    </tr>\n",
       "  </tbody>\n",
       "</table>\n",
       "<p>67373 rows × 5 columns</p>\n",
       "</div>"
      ],
      "text/plain": [
       "                     id   conversation_id  \\\n",
       "0      s01_e01_c01_u001  s01_e01_c01_u001   \n",
       "1      s01_e01_c01_u002  s01_e01_c01_u001   \n",
       "2      s01_e01_c01_u003  s01_e01_c01_u001   \n",
       "3      s01_e01_c01_u004  s01_e01_c01_u001   \n",
       "4      s01_e01_c01_u005  s01_e01_c01_u001   \n",
       "...                 ...               ...   \n",
       "67368  s10_e18_c11_u017  s10_e18_c11_u000   \n",
       "67369  s10_e18_c11_u018  s10_e18_c11_u000   \n",
       "67370  s10_e18_c11_u019  s10_e18_c11_u000   \n",
       "67371  s10_e18_c11_u020  s10_e18_c11_u000   \n",
       "67372  s10_e18_c11_u021  s10_e18_c11_u000   \n",
       "\n",
       "                                                    text          speaker  \\\n",
       "0      There's nothing to tell! He's just some guy I ...    Monica Geller   \n",
       "1      C'mon, you're going out with the guy! There's ...   Joey Tribbiani   \n",
       "2      All right Joey, be nice. So does he have a hum...    Chandler Bing   \n",
       "3                               Wait, does he eat chalk?    Phoebe Buffay   \n",
       "4                                                         TRANSCRIPT_NOTE   \n",
       "...                                                  ...              ...   \n",
       "67368                            Oh, it's gonna be okay.    Chandler Bing   \n",
       "67369  Do you guys have to go to the new house right ...     Rachel Green   \n",
       "67370                                  We got some time.    Monica Geller   \n",
       "67371                   Okay, should we get some coffee?     Rachel Green   \n",
       "67372                                       Sure. Where?    Chandler Bing   \n",
       "\n",
       "               reply-to  \n",
       "0                  None  \n",
       "1      s01_e01_c01_u001  \n",
       "2      s01_e01_c01_u002  \n",
       "3      s01_e01_c01_u003  \n",
       "4      s01_e01_c01_u004  \n",
       "...                 ...  \n",
       "67368  s10_e18_c11_u016  \n",
       "67369  s10_e18_c11_u017  \n",
       "67370  s10_e18_c11_u018  \n",
       "67371  s10_e18_c11_u019  \n",
       "67372  s10_e18_c11_u020  \n",
       "\n",
       "[67373 rows x 5 columns]"
      ]
     },
     "execution_count": 348,
     "metadata": {},
     "output_type": "execute_result"
    }
   ],
   "source": [
    "# loading: \n",
    "path_exam1 = './data/exam1.jsonl'\n",
    "path_exam2 = './data/exam2.graphml'\n",
    "path_exam3 = './data/exam3.jsonl'\n",
    "\n",
    "exam1 = pd.read_json(path_exam1, lines = True)\n",
    "exam1"
   ]
  },
  {
   "cell_type": "code",
   "execution_count": 349,
   "id": "e820dff5",
   "metadata": {},
   "outputs": [
    {
     "name": "stdout",
     "output_type": "stream",
     "text": [
      "number of distinct speakers : 700\n"
     ]
    }
   ],
   "source": [
    "# A \n",
    "print('number of distinct speakers :', len(exam1['speaker'].unique()))"
   ]
  },
  {
   "cell_type": "code",
   "execution_count": 350,
   "id": "64930aa0",
   "metadata": {},
   "outputs": [
    {
     "name": "stdout",
     "output_type": "stream",
     "text": [
      "number of conversations 3107\n"
     ]
    }
   ],
   "source": [
    "# B \n",
    "print('number of conversations', len(exam1['conversation_id'].unique()))"
   ]
  },
  {
   "cell_type": "code",
   "execution_count": 351,
   "id": "3d0a3de0",
   "metadata": {},
   "outputs": [
    {
     "name": "stdout",
     "output_type": "stream",
     "text": [
      "number of rows in the datafram:  60985\n"
     ]
    }
   ],
   "source": [
    "# C \n",
    "exam1 = exam1[(exam1['speaker'] != 'TRANSCRIPT_NOTE') & (exam1['speaker'] != '#ALL#')] \n",
    "print('number of rows in the datafram: ', len(exam1))"
   ]
  },
  {
   "cell_type": "code",
   "execution_count": 352,
   "id": "63725c83",
   "metadata": {},
   "outputs": [
    {
     "name": "stderr",
     "output_type": "stream",
     "text": [
      "C:\\Users\\Admin\\AppData\\Local\\Temp\\ipykernel_13448\\3104783364.py:3: SettingWithCopyWarning: \n",
      "A value is trying to be set on a copy of a slice from a DataFrame.\n",
      "Try using .loc[row_indexer,col_indexer] = value instead\n",
      "\n",
      "See the caveats in the documentation: https://pandas.pydata.org/pandas-docs/stable/user_guide/indexing.html#returning-a-view-versus-a-copy\n",
      "  exam1['season'] = exam1.id.apply(lambda r: 's01' if 's01' in r else 's02' if 's02' in r else 's03' if 's03' in r else 's04' if 's04' in r else 's05' if 's05' in r else 's06' if 's06' in r else 's07' if 's07' in r else 's08' if 's08' in r else 's09' if 's09' in r else 's10' if 's10' in r else 0)\n",
      "C:\\Users\\Admin\\AppData\\Local\\Temp\\ipykernel_13448\\3104783364.py:4: SettingWithCopyWarning: \n",
      "A value is trying to be set on a copy of a slice from a DataFrame.\n",
      "Try using .loc[row_indexer,col_indexer] = value instead\n",
      "\n",
      "See the caveats in the documentation: https://pandas.pydata.org/pandas-docs/stable/user_guide/indexing.html#returning-a-view-versus-a-copy\n",
      "  exam1['episode'] = exam1.id.apply(lambda r: 1 if 'e01' in r else 2 if 'e02' in r else 3 if 'e03' in r else 4 if 'e04' in r else 5 if 'e05' in r else 6 if 'e06' in r else 7 if 'e07' in r else 8 if 'e08' in r else 9 if 'e09' in r else 10 if 'e10' in r else 11 if 'e11' in r else 12 if 'e12' in r else 13 if 'e13' in r else 14 if 'e14' in r else 15 if 'e15' in r else 16 if 'e16' in r else 17 if 'e17' in r else 18 if 'e18' in r else 0)\n"
     ]
    },
    {
     "data": {
      "text/html": [
       "<div>\n",
       "<style scoped>\n",
       "    .dataframe tbody tr th:only-of-type {\n",
       "        vertical-align: middle;\n",
       "    }\n",
       "\n",
       "    .dataframe tbody tr th {\n",
       "        vertical-align: top;\n",
       "    }\n",
       "\n",
       "    .dataframe thead th {\n",
       "        text-align: right;\n",
       "    }\n",
       "</style>\n",
       "<table border=\"1\" class=\"dataframe\">\n",
       "  <thead>\n",
       "    <tr style=\"text-align: right;\">\n",
       "      <th></th>\n",
       "      <th>episode</th>\n",
       "      <th>season</th>\n",
       "    </tr>\n",
       "  </thead>\n",
       "  <tbody>\n",
       "    <tr>\n",
       "      <th>67370</th>\n",
       "      <td>18</td>\n",
       "      <td>s10</td>\n",
       "    </tr>\n",
       "  </tbody>\n",
       "</table>\n",
       "</div>"
      ],
      "text/plain": [
       "       episode season\n",
       "67370       18    s10"
      ]
     },
     "execution_count": 352,
     "metadata": {},
     "output_type": "execute_result"
    }
   ],
   "source": [
    "# D\n",
    "#exam1_season_1 = exam1[exam1['id'].apply(lambda x: (\"s01\" in x))].index\n",
    "exam1['season'] = exam1.id.apply(lambda r: 's01' if 's01' in r else 's02' if 's02' in r else 's03' if 's03' in r else 's04' if 's04' in r else 's05' if 's05' in r else 's06' if 's06' in r else 's07' if 's07' in r else 's08' if 's08' in r else 's09' if 's09' in r else 's10' if 's10' in r else 0)\n",
    "exam1['episode'] = exam1.id.apply(lambda r: 1 if 'e01' in r else 2 if 'e02' in r else 3 if 'e03' in r else 4 if 'e04' in r else 5 if 'e05' in r else 6 if 'e06' in r else 7 if 'e07' in r else 8 if 'e08' in r else 9 if 'e09' in r else 10 if 'e10' in r else 11 if 'e11' in r else 12 if 'e12' in r else 13 if 'e13' in r else 14 if 'e14' in r else 15 if 'e15' in r else 16 if 'e16' in r else 17 if 'e17' in r else 18 if 'e18' in r else 0)\n",
    "exam1[exam1['id'] == 's10_e18_c11_u019'][['episode', 'season']]\n"
   ]
  },
  {
   "cell_type": "code",
   "execution_count": 353,
   "id": "679f3545",
   "metadata": {},
   "outputs": [
    {
     "name": "stderr",
     "output_type": "stream",
     "text": [
      "C:\\Users\\Admin\\AppData\\Local\\Temp\\ipykernel_13448\\2328141663.py:2: SettingWithCopyWarning: \n",
      "A value is trying to be set on a copy of a slice from a DataFrame.\n",
      "Try using .loc[row_indexer,col_indexer] = value instead\n",
      "\n",
      "See the caveats in the documentation: https://pandas.pydata.org/pandas-docs/stable/user_guide/indexing.html#returning-a-view-versus-a-copy\n",
      "  exam1['length'] = exam1.text.apply(lambda x: len(x))\n"
     ]
    },
    {
     "data": {
      "text/plain": [
       "67370    17\n",
       "Name: length, dtype: int64"
      ]
     },
     "execution_count": 353,
     "metadata": {},
     "output_type": "execute_result"
    }
   ],
   "source": [
    "# E\n",
    "exam1['length'] = exam1.text.apply(lambda x: len(x))\n",
    "exam1[exam1['id'] == 's10_e18_c11_u019']['length']"
   ]
  },
  {
   "cell_type": "markdown",
   "id": "60d3bdc7",
   "metadata": {},
   "source": [
    "**1.2** Next, you conduct some basic analyses:\n",
    "\n",
    " A. With `statsmodels`, fit a linear regression `length ~ C(season, Treatment(reference=\"s01\"))`, where length is an integer and season is a categorical variable. Print the regression summary.\n",
    " \n",
    " B. /**Discuss:/** Considering the regression summary:\n",
    "   - What does the intercept in this regression represent? \n",
    "   - What does the coefficient `C(season, Treatment(reference=\"s01\"))[T.s09]` represent? \n",
    "   - Does the average utterance in season 9 contain significantly more characters than in season 1 at the 0.05 significance level? Justify with the regression summary **only**. \n",
    "   - Does the average utterance in season 10 contain significantly more characters than in season 1 at the 0.05 significance level? Justify with the regression summary  **only** .\n",
    "\n",
    " C. Argue visually (i.e., with a plot) that there are 6 main characters in the show."
   ]
  },
  {
   "cell_type": "code",
   "execution_count": 354,
   "id": "bf0b3c34",
   "metadata": {},
   "outputs": [
    {
     "name": "stdout",
     "output_type": "stream",
     "text": [
      "                            OLS Regression Results                            \n",
      "==============================================================================\n",
      "Dep. Variable:                 length   R-squared:                       0.001\n",
      "Model:                            OLS   Adj. R-squared:                  0.001\n",
      "Method:                 Least Squares   F-statistic:                     8.058\n",
      "Date:                Tue, 16 Jan 2024   Prob (F-statistic):           4.96e-12\n",
      "Time:                        19:17:33   Log-Likelihood:            -3.2981e+05\n",
      "No. Observations:               60985   AIC:                         6.596e+05\n",
      "Df Residuals:                   60975   BIC:                         6.597e+05\n",
      "Df Model:                           9                                         \n",
      "Covariance Type:            nonrobust                                         \n",
      "================================================================================================================\n",
      "                                                   coef    std err          t      P>|t|      [0.025      0.975]\n",
      "----------------------------------------------------------------------------------------------------------------\n",
      "Intercept                                       51.0190      0.704     72.464      0.000      49.639      52.399\n",
      "C(season, Treatment(reference=\"s01\"))[T.s02]     2.2764      1.004      2.268      0.023       0.309       4.243\n",
      "C(season, Treatment(reference=\"s01\"))[T.s03]     1.1906      0.974      1.222      0.222      -0.718       3.100\n",
      "C(season, Treatment(reference=\"s01\"))[T.s04]     0.6674      0.980      0.681      0.496      -1.253       2.588\n",
      "C(season, Treatment(reference=\"s01\"))[T.s05]    -0.3185      0.984     -0.324      0.746      -2.247       1.610\n",
      "C(season, Treatment(reference=\"s01\"))[T.s06]     1.9612      0.974      2.013      0.044       0.052       3.871\n",
      "C(season, Treatment(reference=\"s01\"))[T.s07]     0.3712      0.979      0.379      0.705      -1.548       2.290\n",
      "C(season, Treatment(reference=\"s01\"))[T.s08]     1.1265      0.982      1.147      0.251      -0.799       3.052\n",
      "C(season, Treatment(reference=\"s01\"))[T.s09]     6.0889      0.979      6.222      0.000       4.171       8.007\n",
      "C(season, Treatment(reference=\"s01\"))[T.s10]    -0.8470      1.026     -0.825      0.409      -2.858       1.164\n",
      "==============================================================================\n",
      "Omnibus:                    39360.499   Durbin-Watson:                   1.966\n",
      "Prob(Omnibus):                  0.000   Jarque-Bera (JB):           721113.209\n",
      "Skew:                           2.832   Prob(JB):                         0.00\n",
      "Kurtosis:                      18.865   Cond. No.                         11.1\n",
      "==============================================================================\n",
      "\n",
      "Notes:\n",
      "[1] Standard Errors assume that the covariance matrix of the errors is correctly specified.\n"
     ]
    }
   ],
   "source": [
    "mod = smf.ols('length ~ C(season, Treatment(reference=\"s01\"))', data = exam1)\n",
    "res = mod.fit()\n",
    "print(res.summary())"
   ]
  },
  {
   "cell_type": "markdown",
   "id": "cd26bc3d",
   "metadata": {},
   "source": [
    "the intercept represent the value at the origin (x = 0), it corresponds to the original length of the episode, the length of the episode in the first season\n",
    "\n",
    "the coefficient `C(season, Treatment(reference=\"s01\"))[T.s09]` represent the difference from the intercept of the first season, it represent by how many the lenght of the episode has varyied between the season 1 and the season 9\n",
    "\n",
    "we are looking at the P > |t|, here the pvalue is less than 0.05 so we can reject the null hypothesis and say that on average, the utterance in season 9 contains more  words than the utterance in season 1 (the difference is statistically significant)\n",
    "\n",
    "we are looking at the P > |t|, here the pvalue is greater than 0.05 so we can't reject the null hypothesis and we can't say that the average utterance in season 10 contain significantly more characters than in season 1 \n"
   ]
  },
  {
   "cell_type": "markdown",
   "id": "eeb47cab",
   "metadata": {},
   "source": [
    "--- \n",
    "**1.3 —** Using `networkx` \n",
    "\n",
    "A. Create a `MultiDiGraph` (directed graph with self loops and parallel edges) where:\n",
    "- Each node $u$ is a character uniquely identified by the `speaker` field.\n",
    "- There is an edge between nodes $u$ and $v$ if $u$ replied to $v$. If an utterance (a row in the dataframe) is said in reply to nobody, then it will not correspond to an edge. Each edge should contain two attributes. Each edge should have two attributes: `season` and `episode`.\n",
    "\n",
    "B. Print the number of nodes and edges in your graph.\n",
    "\n",
    "C. **/Discuss:/** Instead of using multi-edges, what would be another way in which you could capture the number of replies associated with each node pair?\n"
   ]
  },
  {
   "cell_type": "code",
   "execution_count": 355,
   "id": "6fb07e5c",
   "metadata": {},
   "outputs": [
    {
     "data": {
      "text/html": [
       "<div>\n",
       "<style scoped>\n",
       "    .dataframe tbody tr th:only-of-type {\n",
       "        vertical-align: middle;\n",
       "    }\n",
       "\n",
       "    .dataframe tbody tr th {\n",
       "        vertical-align: top;\n",
       "    }\n",
       "\n",
       "    .dataframe thead th {\n",
       "        text-align: right;\n",
       "    }\n",
       "</style>\n",
       "<table border=\"1\" class=\"dataframe\">\n",
       "  <thead>\n",
       "    <tr style=\"text-align: right;\">\n",
       "      <th></th>\n",
       "      <th>id</th>\n",
       "      <th>conversation_id</th>\n",
       "      <th>text</th>\n",
       "      <th>speaker</th>\n",
       "      <th>reply-to</th>\n",
       "      <th>season</th>\n",
       "      <th>episode</th>\n",
       "      <th>length</th>\n",
       "    </tr>\n",
       "  </thead>\n",
       "  <tbody>\n",
       "    <tr>\n",
       "      <th>0</th>\n",
       "      <td>s01_e01_c01_u001</td>\n",
       "      <td>s01_e01_c01_u001</td>\n",
       "      <td>There's nothing to tell! He's just some guy I ...</td>\n",
       "      <td>Monica Geller</td>\n",
       "      <td>None</td>\n",
       "      <td>s01</td>\n",
       "      <td>1</td>\n",
       "      <td>56</td>\n",
       "    </tr>\n",
       "    <tr>\n",
       "      <th>1</th>\n",
       "      <td>s01_e01_c01_u002</td>\n",
       "      <td>s01_e01_c01_u001</td>\n",
       "      <td>C'mon, you're going out with the guy! There's ...</td>\n",
       "      <td>Joey Tribbiani</td>\n",
       "      <td>s01_e01_c01_u001</td>\n",
       "      <td>s01</td>\n",
       "      <td>1</td>\n",
       "      <td>80</td>\n",
       "    </tr>\n",
       "    <tr>\n",
       "      <th>2</th>\n",
       "      <td>s01_e01_c01_u003</td>\n",
       "      <td>s01_e01_c01_u001</td>\n",
       "      <td>All right Joey, be nice. So does he have a hum...</td>\n",
       "      <td>Chandler Bing</td>\n",
       "      <td>s01_e01_c01_u002</td>\n",
       "      <td>s01</td>\n",
       "      <td>1</td>\n",
       "      <td>72</td>\n",
       "    </tr>\n",
       "  </tbody>\n",
       "</table>\n",
       "</div>"
      ],
      "text/plain": [
       "                 id   conversation_id  \\\n",
       "0  s01_e01_c01_u001  s01_e01_c01_u001   \n",
       "1  s01_e01_c01_u002  s01_e01_c01_u001   \n",
       "2  s01_e01_c01_u003  s01_e01_c01_u001   \n",
       "\n",
       "                                                text         speaker  \\\n",
       "0  There's nothing to tell! He's just some guy I ...   Monica Geller   \n",
       "1  C'mon, you're going out with the guy! There's ...  Joey Tribbiani   \n",
       "2  All right Joey, be nice. So does he have a hum...   Chandler Bing   \n",
       "\n",
       "           reply-to season  episode  length  \n",
       "0              None    s01        1      56  \n",
       "1  s01_e01_c01_u001    s01        1      80  \n",
       "2  s01_e01_c01_u002    s01        1      72  "
      ]
     },
     "execution_count": 355,
     "metadata": {},
     "output_type": "execute_result"
    }
   ],
   "source": [
    "exam1.head(3)"
   ]
  },
  {
   "cell_type": "code",
   "execution_count": 356,
   "id": "9f362612",
   "metadata": {},
   "outputs": [
    {
     "name": "stderr",
     "output_type": "stream",
     "text": [
      "C:\\Users\\Admin\\AppData\\Local\\Temp\\ipykernel_13448\\3965885004.py:12: SettingWithCopyWarning: \n",
      "A value is trying to be set on a copy of a slice from a DataFrame.\n",
      "Try using .loc[row_indexer,col_indexer] = value instead\n",
      "\n",
      "See the caveats in the documentation: https://pandas.pydata.org/pandas-docs/stable/user_guide/indexing.html#returning-a-view-versus-a-copy\n",
      "  edge_list['speaker2'] = edge_list[edge_list['reply-to'] == edge_list['id']]['speaker']\n"
     ]
    },
    {
     "data": {
      "text/html": [
       "<div>\n",
       "<style scoped>\n",
       "    .dataframe tbody tr th:only-of-type {\n",
       "        vertical-align: middle;\n",
       "    }\n",
       "\n",
       "    .dataframe tbody tr th {\n",
       "        vertical-align: top;\n",
       "    }\n",
       "\n",
       "    .dataframe thead th {\n",
       "        text-align: right;\n",
       "    }\n",
       "</style>\n",
       "<table border=\"1\" class=\"dataframe\">\n",
       "  <thead>\n",
       "    <tr style=\"text-align: right;\">\n",
       "      <th></th>\n",
       "      <th>speaker</th>\n",
       "      <th>id</th>\n",
       "      <th>reply-to</th>\n",
       "      <th>season</th>\n",
       "      <th>episode</th>\n",
       "      <th>speaker2</th>\n",
       "    </tr>\n",
       "  </thead>\n",
       "  <tbody>\n",
       "    <tr>\n",
       "      <th>0</th>\n",
       "      <td>Monica Geller</td>\n",
       "      <td>s01_e01_c01_u001</td>\n",
       "      <td>None</td>\n",
       "      <td>s01</td>\n",
       "      <td>1</td>\n",
       "      <td>NaN</td>\n",
       "    </tr>\n",
       "    <tr>\n",
       "      <th>1</th>\n",
       "      <td>Joey Tribbiani</td>\n",
       "      <td>s01_e01_c01_u002</td>\n",
       "      <td>s01_e01_c01_u001</td>\n",
       "      <td>s01</td>\n",
       "      <td>1</td>\n",
       "      <td>NaN</td>\n",
       "    </tr>\n",
       "    <tr>\n",
       "      <th>2</th>\n",
       "      <td>Chandler Bing</td>\n",
       "      <td>s01_e01_c01_u003</td>\n",
       "      <td>s01_e01_c01_u002</td>\n",
       "      <td>s01</td>\n",
       "      <td>1</td>\n",
       "      <td>NaN</td>\n",
       "    </tr>\n",
       "    <tr>\n",
       "      <th>3</th>\n",
       "      <td>Phoebe Buffay</td>\n",
       "      <td>s01_e01_c01_u004</td>\n",
       "      <td>s01_e01_c01_u003</td>\n",
       "      <td>s01</td>\n",
       "      <td>1</td>\n",
       "      <td>NaN</td>\n",
       "    </tr>\n",
       "    <tr>\n",
       "      <th>5</th>\n",
       "      <td>Phoebe Buffay</td>\n",
       "      <td>s01_e01_c01_u006</td>\n",
       "      <td>s01_e01_c01_u005</td>\n",
       "      <td>s01</td>\n",
       "      <td>1</td>\n",
       "      <td>NaN</td>\n",
       "    </tr>\n",
       "  </tbody>\n",
       "</table>\n",
       "</div>"
      ],
      "text/plain": [
       "          speaker                id          reply-to season  episode speaker2\n",
       "0   Monica Geller  s01_e01_c01_u001              None    s01        1      NaN\n",
       "1  Joey Tribbiani  s01_e01_c01_u002  s01_e01_c01_u001    s01        1      NaN\n",
       "2   Chandler Bing  s01_e01_c01_u003  s01_e01_c01_u002    s01        1      NaN\n",
       "3   Phoebe Buffay  s01_e01_c01_u004  s01_e01_c01_u003    s01        1      NaN\n",
       "5   Phoebe Buffay  s01_e01_c01_u006  s01_e01_c01_u005    s01        1      NaN"
      ]
     },
     "execution_count": 356,
     "metadata": {},
     "output_type": "execute_result"
    }
   ],
   "source": [
    "G = nx.MultiDiGraph()\n",
    "\n",
    "col = ['speaker']\n",
    "nodes = pd.DataFrame(exam1['speaker'].unique())\n",
    "# we consider each speaker value as unique so no need to put everything lower case, remove the space blank\n",
    "\n",
    "\n",
    "nodes.columns = ['speaker']\n",
    "nodes.head()\n",
    "\n",
    "edge_list = exam1[['speaker','id', 'reply-to', 'season', 'episode']]\n",
    "edge_list['speaker2'] = edge_list[edge_list['reply-to'] == edge_list['id']]['speaker']\n",
    "edge_list.head()\n"
   ]
  },
  {
   "cell_type": "code",
   "execution_count": 357,
   "id": "57a09517",
   "metadata": {},
   "outputs": [],
   "source": [
    "for _, node in nodes.iterrows():\n",
    "    node = dict(node)\n",
    "    G.add_node(node['speaker'], name = node['speaker'])\n",
    "#for _, edge in edge.iterrows():\n",
    "    #edge = dict(edge)\n",
    "    #G.add_edge(edge['u'], edge['v'], season = edge['season'], episode = edge['episode'])\n"
   ]
  },
  {
   "cell_type": "code",
   "execution_count": 358,
   "id": "01458813",
   "metadata": {},
   "outputs": [
    {
     "name": "stdout",
     "output_type": "stream",
     "text": [
      "number of nodes 698 number of edges 0\n"
     ]
    }
   ],
   "source": [
    "print('number of nodes', len(G.nodes()), 'number of edges', len(G.edges()))"
   ]
  },
  {
   "cell_type": "markdown",
   "id": "ad0ef8cf",
   "metadata": {},
   "source": [
    "to capture the number of replies associated with each node pair we could use a weighted directed graph"
   ]
  },
  {
   "cell_type": "markdown",
   "id": "130a16f1",
   "metadata": {},
   "source": [
    "---\n",
    "With the graph ready, you set out to investigate who is the true protagonist of Friends.\n",
    "\n",
    "Ignore the graph you generated previously and instead use the graph provided in `exam2.graphml`. Note that this graph may be slightly different from what you generated, but treat it as the ground truth. We provide you with code to load the graph below.\n"
   ]
  },
  {
   "cell_type": "code",
   "execution_count": 359,
   "id": "a917d360",
   "metadata": {},
   "outputs": [],
   "source": [
    "import networkx as nx\n",
    "\n",
    "G = nx.read_graphml(\"./data/exam2.graphml\")"
   ]
  },
  {
   "cell_type": "markdown",
   "id": "6ad04b50",
   "metadata": {},
   "source": [
    "---"
   ]
  },
  {
   "cell_type": "markdown",
   "id": "53ee10e7",
   "metadata": {},
   "source": [
    "**1.4 —** Using the provided MultiDiGraph $G$:\n",
    "\n",
    "A. Calculate the out-degree of each node (also known as out-degree centrality). Please do not use the `nx.out_degree_centrality` function here, as it normalizes the degree. (E.g., if a node has 5 outgoing edges, it should have out-degree 5 according to your code.)\n",
    "\n",
    "B. Calculate the PageRank centrality of each node in $G$. Use the default parameters.\n",
    "\n",
    "C. Print both centrality metrics calculated above for the six main characters of Friends.\n",
    "\n",
    "D. **/Discuss:/** According to the metrics, who is the most important character in Friends?"
   ]
  },
  {
   "cell_type": "code",
   "execution_count": 360,
   "id": "aa8407dd",
   "metadata": {},
   "outputs": [],
   "source": [
    "def out_degree_centrality(G) :\n",
    "    centrality = []\n",
    "    for i in len(G.nodes()):\n",
    "        for j in len(G.nodes()):\n",
    "            if i != j: \n",
    "                tmp = G.number_of_edges(i,j)\n",
    "                centrality[i] = G \n",
    "    return centrality"
   ]
  },
  {
   "cell_type": "code",
   "execution_count": 361,
   "id": "61103ac6",
   "metadata": {},
   "outputs": [
    {
     "ename": "TypeError",
     "evalue": "'int' object is not iterable",
     "output_type": "error",
     "traceback": [
      "\u001b[1;31m---------------------------------------------------------------------------\u001b[0m",
      "\u001b[1;31mTypeError\u001b[0m                                 Traceback (most recent call last)",
      "Cell \u001b[1;32mIn[361], line 1\u001b[0m\n\u001b[1;32m----> 1\u001b[0m \u001b[43mout_degree_centrality\u001b[49m\u001b[43m(\u001b[49m\u001b[43mG\u001b[49m\u001b[43m)\u001b[49m\n",
      "Cell \u001b[1;32mIn[360], line 3\u001b[0m, in \u001b[0;36mout_degree_centrality\u001b[1;34m(G)\u001b[0m\n\u001b[0;32m      1\u001b[0m \u001b[38;5;28;01mdef\u001b[39;00m \u001b[38;5;21mout_degree_centrality\u001b[39m(G) :\n\u001b[0;32m      2\u001b[0m     centrality \u001b[38;5;241m=\u001b[39m []\n\u001b[1;32m----> 3\u001b[0m     \u001b[38;5;28;01mfor\u001b[39;00m i \u001b[38;5;129;01min\u001b[39;00m \u001b[38;5;28mlen\u001b[39m(G\u001b[38;5;241m.\u001b[39mnodes()):\n\u001b[0;32m      4\u001b[0m         \u001b[38;5;28;01mfor\u001b[39;00m j \u001b[38;5;129;01min\u001b[39;00m \u001b[38;5;28mlen\u001b[39m(G\u001b[38;5;241m.\u001b[39mnodes()):\n\u001b[0;32m      5\u001b[0m             \u001b[38;5;28;01mif\u001b[39;00m i \u001b[38;5;241m!=\u001b[39m j: \n",
      "\u001b[1;31mTypeError\u001b[0m: 'int' object is not iterable"
     ]
    }
   ],
   "source": [
    "out_degree_centrality(G)"
   ]
  },
  {
   "cell_type": "code",
   "execution_count": null,
   "id": "b8ccd987",
   "metadata": {},
   "outputs": [
    {
     "name": "stdout",
     "output_type": "stream",
     "text": [
      "page rank centrality for the 6 main characters in friends:  [('Rachel Green', 0.12684259753919158), ('Ross Geller', 0.12561115738701217), ('Chandler Bing', 0.1145352324808736), ('Monica Geller', 0.1134500759232524), ('Joey Tribbiani', 0.11283519639878972), ('Phoebe Buffay', 0.10206929426008514)]\n",
      "out degree centrality for the 6 main characters in friends:  [('Rachel Green', 12.257597684515195), ('Ross Geller', 11.916063675832126), ('Chandler Bing', 11.14616497829233), ('Monica Geller', 11.028943560057886), ('Joey Tribbiani', 10.701881331403762), ('Phoebe Buffay', 9.836468885672938)]\n"
     ]
    }
   ],
   "source": [
    "pr = nx.pagerank(G)\n",
    "out = nx.out_degree_centrality(G)\n",
    "\n",
    "top_6_pr = sorted(pr.items(), key=lambda x:x[1], reverse= True)\n",
    "print('page rank centrality for the 6 main characters in friends: ',top_6_pr[:6])\n",
    "top_6_out = sorted(out.items(), key=lambda x:x[1], reverse= True)\n",
    "print('out degree centrality for the 6 main characters in friends: ', top_6_out[:6])"
   ]
  },
  {
   "cell_type": "markdown",
   "id": "03cfcff8",
   "metadata": {},
   "source": [
    "according to my metrics, it is Rachel Green that is the most important character in friends"
   ]
  },
  {
   "cell_type": "markdown",
   "id": "fe9f1601",
   "metadata": {},
   "source": [
    "---\n",
    "\n",
    "**1.5 —** **/True or false:/** Considering your answer in **1.4**, are the following statements true or false? Justify your answers. \n",
    "\n",
    "A. \"If we inverted all  edges in the graph such that an edge $(u,v)$ becomes an edge $(v,u)$, the PageRank centrality would remain unchanged.\"\n",
    "\n",
    "B. \"If we removed all outgoing edges from Rachel Green, her PageRank centrality would remain unchanged.\"\n",
    "\n",
    "C. \"If a new node was introduced in the graph, with 1,000 outgoing edges towards each other node, but no incoming edge, it would have the highest PageRank centrality.\"\n"
   ]
  },
  {
   "cell_type": "markdown",
   "id": "1ad96be6",
   "metadata": {},
   "source": [
    "A. False, pagerank centrality calculation is based on the number of incoming links, if we revert, the incoming links are now outcoming links so this would change the value \n",
    "\n",
    "B. True, pagerank centrality calculation is only based on the number of incoming links, it does not take care of the number of outgoing edges\n",
    "\n",
    "C. False, it would have the lowest pagerank centrality because it has no incoming nodes"
   ]
  },
  {
   "cell_type": "markdown",
   "id": "6e47355c",
   "metadata": {},
   "source": [
    "---\n",
    "\n",
    "**1.6 —** Next, you consider how these centrality metrics vary over the course of the seasons.\n",
    "\n",
    "A. Calculate the PageRank and out-degree centrality of the 6 main characters per episode, i.e., for each episode, create a graph containing only the utterances of that episode and calculate the PageRank centrality for this new graph. Print the PageRank and the out-degree of Rachel Green for the first episode of the first season.\n",
    "\n",
    "B. Considering the episode-level out-degree centrality of Phoebe Buffay in season 1 and in season 10, print the mean and the standard error of the mean.\n",
    "\n",
    "C. Create a single plot with 10 inches of width and 4 inches of height. The plot should contain two panels, containing the average PageRank centrality per season of Rachel Green and Ross Geller (Panel A), and the average out-degree per season of Rachel Green and Ross Geller (Panel B). Show 95% confidence intervals in your plot (calculated over the episodes in each season).\n",
    "\n",
    "D. **/Discuss:/** Does the plot support the hypothesis that Rachel was the show's protagonist in all 10 seasons? Explain why."
   ]
  },
  {
   "cell_type": "code",
   "execution_count": null,
   "id": "373aae7b",
   "metadata": {},
   "outputs": [
    {
     "data": {
      "text/html": [
       "<div>\n",
       "<style scoped>\n",
       "    .dataframe tbody tr th:only-of-type {\n",
       "        vertical-align: middle;\n",
       "    }\n",
       "\n",
       "    .dataframe tbody tr th {\n",
       "        vertical-align: top;\n",
       "    }\n",
       "\n",
       "    .dataframe thead th {\n",
       "        text-align: right;\n",
       "    }\n",
       "</style>\n",
       "<table border=\"1\" class=\"dataframe\">\n",
       "  <thead>\n",
       "    <tr style=\"text-align: right;\">\n",
       "      <th></th>\n",
       "      <th>id</th>\n",
       "      <th>conversation_id</th>\n",
       "      <th>text</th>\n",
       "      <th>speaker</th>\n",
       "      <th>reply-to</th>\n",
       "      <th>season</th>\n",
       "      <th>episode</th>\n",
       "      <th>length</th>\n",
       "    </tr>\n",
       "  </thead>\n",
       "  <tbody>\n",
       "    <tr>\n",
       "      <th>0</th>\n",
       "      <td>s01_e01_c01_u001</td>\n",
       "      <td>s01_e01_c01_u001</td>\n",
       "      <td>There's nothing to tell! He's just some guy I ...</td>\n",
       "      <td>Monica Geller</td>\n",
       "      <td>None</td>\n",
       "      <td>s01</td>\n",
       "      <td>1</td>\n",
       "      <td>56</td>\n",
       "    </tr>\n",
       "  </tbody>\n",
       "</table>\n",
       "</div>"
      ],
      "text/plain": [
       "                 id   conversation_id  \\\n",
       "0  s01_e01_c01_u001  s01_e01_c01_u001   \n",
       "\n",
       "                                                text        speaker reply-to  \\\n",
       "0  There's nothing to tell! He's just some guy I ...  Monica Geller     None   \n",
       "\n",
       "  season  episode  length  \n",
       "0    s01        1      56  "
      ]
     },
     "execution_count": 98,
     "metadata": {},
     "output_type": "execute_result"
    }
   ],
   "source": [
    "exam1.head(1)"
   ]
  },
  {
   "cell_type": "code",
   "execution_count": null,
   "id": "4e09a998",
   "metadata": {},
   "outputs": [
    {
     "ename": "TypeError",
     "evalue": "get_edge_attributes() takes 2 positional arguments but 3 were given",
     "output_type": "error",
     "traceback": [
      "\u001b[1;31m---------------------------------------------------------------------------\u001b[0m",
      "\u001b[1;31mTypeError\u001b[0m                                 Traceback (most recent call last)",
      "Cell \u001b[1;32mIn[324], line 7\u001b[0m\n\u001b[0;32m      3\u001b[0m episode \u001b[38;5;241m=\u001b[39m exam1\u001b[38;5;241m.\u001b[39mgroupby([\u001b[38;5;124m'\u001b[39m\u001b[38;5;124mseason\u001b[39m\u001b[38;5;124m'\u001b[39m, \u001b[38;5;124m'\u001b[39m\u001b[38;5;124mepisode\u001b[39m\u001b[38;5;124m'\u001b[39m])\n\u001b[0;32m      4\u001b[0m episode\u001b[38;5;241m.\u001b[39mhead()\n\u001b[1;32m----> 7\u001b[0m nodess1e1 \u001b[38;5;241m=\u001b[39m [i \u001b[38;5;28;01mfor\u001b[39;00m i, v,w \u001b[38;5;129;01min\u001b[39;00m \u001b[43mnx\u001b[49m\u001b[38;5;241;43m.\u001b[39;49m\u001b[43mget_edge_attributes\u001b[49m\u001b[43m(\u001b[49m\u001b[43mG\u001b[49m\u001b[43m,\u001b[49m\u001b[43m \u001b[49m\u001b[38;5;124;43m\"\u001b[39;49m\u001b[38;5;124;43mseason\u001b[39;49m\u001b[38;5;124;43m\"\u001b[39;49m\u001b[43m,\u001b[49m\u001b[43m \u001b[49m\u001b[38;5;124;43m\"\u001b[39;49m\u001b[38;5;124;43mepisode\u001b[39;49m\u001b[38;5;124;43m\"\u001b[39;49m\u001b[43m)\u001b[49m\u001b[38;5;241m.\u001b[39mitems() \u001b[38;5;28;01mif\u001b[39;00m v \u001b[38;5;241m==\u001b[39m \u001b[38;5;124m'\u001b[39m\u001b[38;5;124ms01\u001b[39m\u001b[38;5;124m'\u001b[39m \u001b[38;5;129;01mand\u001b[39;00m w \u001b[38;5;241m==\u001b[39m \u001b[38;5;241m1\u001b[39m]\n\u001b[0;32m      8\u001b[0m G_s1 \u001b[38;5;241m=\u001b[39m G\u001b[38;5;241m.\u001b[39medge_subgraph(nodess1e1)\n\u001b[0;32m      9\u001b[0m \u001b[38;5;66;03m#nodess1e1 = [i for i, v in nx.get_edge_attributes(G_s1, \"episode\").items() if v ==  1]\u001b[39;00m\n\u001b[0;32m     10\u001b[0m \u001b[38;5;66;03m#G_s1e1 = G_s1.edge_subgraph(nodess1e1)\u001b[39;00m\n",
      "\u001b[1;31mTypeError\u001b[0m: get_edge_attributes() takes 2 positional arguments but 3 were given"
     ]
    }
   ],
   "source": [
    "# A: \n",
    "\n",
    "episode = exam1.groupby(['season', 'episode'])\n",
    "episode.head()\n",
    "\n",
    "\n",
    "nodess1e1 = [i for i, v,w in nx.get_edge_attributes(G, \"season\", \"episode\").items() if v == 's01' and w == 1]\n",
    "G_s1 = G.edge_subgraph(nodess1e1)\n",
    "#nodess1e1 = [i for i, v in nx.get_edge_attributes(G_s1, \"episode\").items() if v ==  1]\n",
    "#G_s1e1 = G_s1.edge_subgraph(nodess1e1)\n",
    "\n",
    "nx.draw(G_s1)"
   ]
  },
  {
   "cell_type": "markdown",
   "id": "7f9bd601",
   "metadata": {},
   "source": [
    "I cannot do this for episode for season so i would only consider for the different season "
   ]
  },
  {
   "cell_type": "code",
   "execution_count": null,
   "id": "b23fa4a8",
   "metadata": {},
   "outputs": [],
   "source": [
    "\n",
    "nodess1 = [i for i, v in nx.get_edge_attributes(G, \"season\").items() if v == 's01']\n",
    "G_s1 = G.edge_subgraph(nodess1)\n",
    "\n",
    "\n",
    "nodess2 = [i for i, v in nx.get_edge_attributes(G, \"season\").items() if v == 's02']\n",
    "G_s2 = G.edge_subgraph(nodess2)\n",
    "\n",
    "\n",
    "nodess3 = [i for i, v in nx.get_edge_attributes(G, \"season\").items() if v == 's03']\n",
    "G_s3 = G.edge_subgraph(nodess3)\n",
    "\n",
    "\n",
    "nodess4 = [i for i, v in nx.get_edge_attributes(G, \"season\").items() if v == 's04']\n",
    "G_s4 = G.edge_subgraph(nodess4)\n",
    "\n",
    "\n",
    "nodess5 = [i for i, v in nx.get_edge_attributes(G, \"season\").items() if v == 's05']\n",
    "G_s5 = G.edge_subgraph(nodess5)\n",
    "\n",
    "\n",
    "nodess6 = [i for i, v in nx.get_edge_attributes(G, \"season\").items() if v == 's06']\n",
    "G_s6 = G.edge_subgraph(nodess6)\n",
    "\n",
    "\n",
    "nodess7 = [i for i, v in nx.get_edge_attributes(G, \"season\").items() if v == 's07']\n",
    "G_s7 = G.edge_subgraph(nodess7)\n",
    "\n",
    "\n",
    "nodess8 = [i for i, v in nx.get_edge_attributes(G, \"season\").items() if v == 's08']\n",
    "G_s8 = G.edge_subgraph(nodess8)\n",
    "\n",
    "\n",
    "nodess9 = [i for i, v in nx.get_edge_attributes(G, \"season\").items() if v == 's09']\n",
    "G_s9 = G.edge_subgraph(nodess9)\n",
    "\n",
    "\n",
    "nodess10 = [i for i, v in nx.get_edge_attributes(G, \"season\").items() if v == 's10']\n",
    "G_s10 = G.edge_subgraph(nodess10)\n"
   ]
  },
  {
   "cell_type": "code",
   "execution_count": null,
   "id": "a5cd3eaa",
   "metadata": {},
   "outputs": [
    {
     "name": "stdout",
     "output_type": "stream",
     "text": [
      "top 6 character and pagerank centrality for the season 1:  [('Ross Geller', 0.13467973483665796), ('Rachel Green', 0.13117984349655953), ('Monica Geller', 0.1279252892780325), ('Chandler Bing', 0.11497089048084644), ('Joey Tribbiani', 0.0925328650353182), ('Phoebe Buffay', 0.09059491877219554)]\n",
      "top 6 character and pagerank centrality for the season 2:  [('Ross Geller', 0.13338170738934207), ('Rachel Green', 0.12034468034190324), ('Chandler Bing', 0.11815992225986538), ('Monica Geller', 0.11343210389751834), ('Joey Tribbiani', 0.10057550141748385), ('Phoebe Buffay', 0.09830829252317785)]\n",
      "top 6 character and pagerank centrality for the season 3:  [('Ross Geller', 0.14373663840250175), ('Rachel Green', 0.11951236097637184), ('Monica Geller', 0.11198378600569836), ('Chandler Bing', 0.10927584536925945), ('Phoebe Buffay', 0.1010007608465369), ('Joey Tribbiani', 0.09681824203358846)]\n",
      "top 6 character and pagerank centrality for the season 4:  [('Chandler Bing', 0.13218561213466049), ('Rachel Green', 0.12803299581391994), ('Joey Tribbiani', 0.11788146385310654), ('Ross Geller', 0.11754337601781005), ('Monica Geller', 0.11208692291097164), ('Phoebe Buffay', 0.09832243662129471)]\n",
      "top 6 character and pagerank centrality for the season 5:  [('Rachel Green', 0.13077187981643976), ('Joey Tribbiani', 0.12895046923171394), ('Ross Geller', 0.12393503004976247), ('Monica Geller', 0.12089408516767317), ('Phoebe Buffay', 0.11892463277539542), ('Chandler Bing', 0.11686438427104641)]\n",
      "top 6 character and pagerank centrality for the season 6:  [('Joey Tribbiani', 0.12762143971837378), ('Chandler Bing', 0.12483080670578794), ('Rachel Green', 0.11849103268397869), ('Ross Geller', 0.1154896941152985), ('Monica Geller', 0.11321994112417569), ('Phoebe Buffay', 0.0993502108035243)]\n",
      "top 6 character and pagerank centrality for the season 7:  [('Rachel Green', 0.13689843332127058), ('Joey Tribbiani', 0.11840298449301484), ('Monica Geller', 0.11688138042078232), ('Ross Geller', 0.10806001765676285), ('Phoebe Buffay', 0.10698256000927801), ('Chandler Bing', 0.10607810014223956)]\n",
      "top 6 character and pagerank centrality for the season 8:  [('Rachel Green', 0.15781990114368866), ('Ross Geller', 0.1408391975959333), ('Joey Tribbiani', 0.11860505108543892), ('Monica Geller', 0.10264528731841291), ('Phoebe Buffay', 0.10003153412621288), ('Chandler Bing', 0.09014001448925023)]\n",
      "top 6 character and pagerank centrality for the season 9:  [('Ross Geller', 0.12529658104839728), ('Chandler Bing', 0.12381761630904195), ('Rachel Green', 0.12379343930262741), ('Joey Tribbiani', 0.11497719753137015), ('Monica Geller', 0.11441112574888167), ('Phoebe Buffay', 0.10107423040196427)]\n",
      "top 6 character and pagerank centrality for the season 10:  [('Ross Geller', 0.13802398842692293), ('Joey Tribbiani', 0.12362721331731857), ('Rachel Green', 0.1212101776248261), ('Phoebe Buffay', 0.11467266133156842), ('Monica Geller', 0.10819530673555708), ('Chandler Bing', 0.10673921154728529)]\n"
     ]
    }
   ],
   "source": [
    "pr1 = nx.pagerank(G_s1)\n",
    "pr2 = nx.pagerank(G_s2)\n",
    "pr3 = nx.pagerank(G_s3)\n",
    "pr4 = nx.pagerank(G_s4)\n",
    "pr5 = nx.pagerank(G_s5)\n",
    "pr6 = nx.pagerank(G_s6)\n",
    "pr7 = nx.pagerank(G_s7)\n",
    "pr8 = nx.pagerank(G_s8)\n",
    "pr9 = nx.pagerank(G_s9)\n",
    "pr10 = nx.pagerank(G_s10)\n",
    "\n",
    "out1 = nx.out_degree_centrality(G_s1)\n",
    "out2 = nx.out_degree_centrality(G_s2)\n",
    "out3 = nx.out_degree_centrality(G_s3)\n",
    "out4 = nx.out_degree_centrality(G_s4)\n",
    "out5 = nx.out_degree_centrality(G_s5)\n",
    "out6 = nx.out_degree_centrality(G_s6)\n",
    "out7 = nx.out_degree_centrality(G_s7)\n",
    "out8 = nx.out_degree_centrality(G_s8)\n",
    "out9 = nx.out_degree_centrality(G_s9)\n",
    "out10 = nx.out_degree_centrality(G_s10)\n",
    "\n",
    "\n",
    "print('top 6 character and pagerank centrality for the season 1: ', sorted(pr1.items(), key=lambda x:x[1], reverse= True)[:6])\n",
    "print('top 6 character and pagerank centrality for the season 2: ', sorted(pr2.items(), key=lambda x:x[1], reverse= True)[:6])\n",
    "print('top 6 character and pagerank centrality for the season 3: ', sorted(pr3.items(), key=lambda x:x[1], reverse= True)[:6])\n",
    "print('top 6 character and pagerank centrality for the season 4: ', sorted(pr4.items(), key=lambda x:x[1], reverse= True)[:6])\n",
    "print('top 6 character and pagerank centrality for the season 5: ', sorted(pr5.items(), key=lambda x:x[1], reverse= True)[:6])\n",
    "print('top 6 character and pagerank centrality for the season 6: ', sorted(pr6.items(), key=lambda x:x[1], reverse= True)[:6])\n",
    "print('top 6 character and pagerank centrality for the season 7: ', sorted(pr7.items(), key=lambda x:x[1], reverse= True)[:6])\n",
    "print('top 6 character and pagerank centrality for the season 8: ', sorted(pr8.items(), key=lambda x:x[1], reverse= True)[:6])\n",
    "print('top 6 character and pagerank centrality for the season 9: ', sorted(pr9.items(), key=lambda x:x[1], reverse= True)[:6])\n",
    "print('top 6 character and pagerank centrality for the season 10: ', sorted(pr10.items(), key=lambda x:x[1], reverse= True)[:6])\n"
   ]
  },
  {
   "cell_type": "code",
   "execution_count": 364,
   "id": "5bed5f35",
   "metadata": {},
   "outputs": [],
   "source": [
    "pr_rachel = [0.13117984349655953, 0.12034468034190324, 0.11951236097637184, 0.12803299581391994, 0.13077187981643976, 0.11849103268397869, 0.13689843332127058, 0.15781990114368866, 0.12379343930262741, 0.1212101776248261]\n",
    "pr_ross = [0.13467973483665796, 0.13338170738934207,0.14373663840250175, 0.11754337601781005, 0.12393503004976247, 0.1154896941152985, 0.10806001765676285, 0.1408391975959333, 0.12529658104839728, 0.13802398842692293]"
   ]
  },
  {
   "cell_type": "code",
   "execution_count": null,
   "id": "99409027",
   "metadata": {},
   "outputs": [
    {
     "name": "stdout",
     "output_type": "stream",
     "text": [
      "top 6 character and out degree centrality for the season 1:  [('Ross Geller', 7.921568627450981), ('Monica Geller', 7.166666666666667), ('Rachel Green', 6.980392156862745), ('Chandler Bing', 6.588235294117647), ('Phoebe Buffay', 5.490196078431373), ('Joey Tribbiani', 5.313725490196078)]\n",
      "top 6 character and out degree centrality for the season 2:  [('Ross Geller', 8.192307692307693), ('Rachel Green', 7.509615384615385), ('Monica Geller', 7.163461538461539), ('Chandler Bing', 7.0673076923076925), ('Phoebe Buffay', 5.913461538461539), ('Joey Tribbiani', 5.846153846153847)]\n",
      "top 6 character and out degree centrality for the season 3:  [('Ross Geller', 9.26923076923077), ('Rachel Green', 8.009615384615385), ('Monica Geller', 7.298076923076923), ('Chandler Bing', 7.115384615384616), ('Joey Tribbiani', 6.7019230769230775), ('Phoebe Buffay', 6.653846153846154)]\n",
      "top 6 character and out degree centrality for the season 4:  [('Chandler Bing', 9.051546391752577), ('Rachel Green', 8.752577319587628), ('Ross Geller', 7.804123711340206), ('Joey Tribbiani', 7.793814432989691), ('Monica Geller', 7.422680412371134), ('Phoebe Buffay', 6.597938144329897)]\n",
      "top 6 character and out degree centrality for the season 5:  [('Chandler Bing', 8.087378640776699), ('Rachel Green', 7.893203883495145), ('Joey Tribbiani', 7.883495145631067), ('Monica Geller', 7.825242718446601), ('Ross Geller', 7.300970873786407), ('Phoebe Buffay', 6.912621359223301)]\n",
      "top 6 character and out degree centrality for the season 6:  [('Chandler Bing', 8.5), ('Rachel Green', 8.194444444444445), ('Monica Geller', 7.481481481481481), ('Joey Tribbiani', 7.435185185185185), ('Ross Geller', 7.379629629629629), ('Phoebe Buffay', 6.685185185185185)]\n",
      "top 6 character and out degree centrality for the season 7:  [('Rachel Green', 10.771739130434783), ('Joey Tribbiani', 9.16304347826087), ('Monica Geller', 8.706521739130434), ('Chandler Bing', 8.380434782608695), ('Phoebe Buffay', 7.989130434782608), ('Ross Geller', 7.782608695652174)]\n",
      "top 6 character and out degree centrality for the season 8:  [('Rachel Green', 9.634615384615385), ('Ross Geller', 8.76923076923077), ('Joey Tribbiani', 7.875), ('Monica Geller', 7.096153846153847), ('Phoebe Buffay', 6.798076923076923), ('Chandler Bing', 5.875)]\n",
      "top 6 character and out degree centrality for the season 9:  [('Chandler Bing', 8.989690721649485), ('Monica Geller', 8.907216494845361), ('Rachel Green', 8.876288659793815), ('Ross Geller', 8.690721649484535), ('Joey Tribbiani', 8.422680412371134), ('Phoebe Buffay', 7.721649484536083)]\n",
      "top 6 character and out degree centrality for the season 10:  [('Ross Geller', 10.960526315789473), ('Rachel Green', 9.776315789473683), ('Joey Tribbiani', 9.18421052631579), ('Chandler Bing', 8.842105263157894), ('Phoebe Buffay', 8.75), ('Monica Geller', 8.539473684210526)]\n"
     ]
    }
   ],
   "source": [
    "print('top 6 character and out degree centrality for the season 1: ', sorted(out1.items(), key=lambda x:x[1], reverse= True)[:6])\n",
    "print('top 6 character and out degree centrality for the season 2: ', sorted(out2.items(), key=lambda x:x[1], reverse= True)[:6])\n",
    "print('top 6 character and out degree centrality for the season 3: ', sorted(out3.items(), key=lambda x:x[1], reverse= True)[:6])\n",
    "print('top 6 character and out degree centrality for the season 4: ', sorted(out4.items(), key=lambda x:x[1], reverse= True)[:6])\n",
    "print('top 6 character and out degree centrality for the season 5: ', sorted(out5.items(), key=lambda x:x[1], reverse= True)[:6])\n",
    "print('top 6 character and out degree centrality for the season 6: ', sorted(out6.items(), key=lambda x:x[1], reverse= True)[:6])\n",
    "print('top 6 character and out degree centrality for the season 7: ', sorted(out7.items(), key=lambda x:x[1], reverse= True)[:6])\n",
    "print('top 6 character and out degree centrality for the season 8: ', sorted(out8.items(), key=lambda x:x[1], reverse= True)[:6])\n",
    "print('top 6 character and out degree centrality for the season 9: ', sorted(out9.items(), key=lambda x:x[1], reverse= True)[:6])\n",
    "print('top 6 character and out degree centrality for the season 10: ', sorted(out10.items(), key=lambda x:x[1], reverse= True)[:6])"
   ]
  },
  {
   "cell_type": "code",
   "execution_count": 363,
   "id": "c06b98e4",
   "metadata": {},
   "outputs": [],
   "source": [
    "out_rachel = [6.980392156862745, 7.509615384615385, 8.009615384615385, 8.752577319587628, 7.893203883495145, 8.194444444444445, 10.771739130434783, 9.634615384615385, 8.876288659793815, 9.776315789473683, ]\n",
    "out_ross = [7.921568627450981, 8.192307692307693, 9.26923076923077, 7.804123711340206, 7.300970873786407, 7.379629629629629, 7.782608695652174, 8.76923076923077, 8.690721649484535, 10.960526315789473]"
   ]
  },
  {
   "cell_type": "code",
   "execution_count": null,
   "id": "14d197da",
   "metadata": {},
   "outputs": [
    {
     "name": "stdout",
     "output_type": "stream",
     "text": [
      "pagerank centrality of Rachel Green for the first season:  [('Rachel Green', 0.13117984349655953)]\n",
      "out degree centrality of Rachel Green for the first season:  [('Rachel Green', 6.980392156862745)]\n"
     ]
    }
   ],
   "source": [
    "print('pagerank centrality of Rachel Green for the first season: ', sorted(pr1.items(), key=lambda x:x[1], reverse= True)[1:2])\n",
    "print('out degree centrality of Rachel Green for the first season: ', sorted(out1.items(), key=lambda x:x[1], reverse= True)[2:3])"
   ]
  },
  {
   "cell_type": "code",
   "execution_count": null,
   "id": "4876b19f",
   "metadata": {},
   "outputs": [
    {
     "name": "stdout",
     "output_type": "stream",
     "text": [
      "mean for the out degree centrality for Phoebe Buffay for the season 1:  5.490196078431373\n",
      "mean for the out degree centrality for Phoebe Buffay for the season 10:  8.75\n",
      "standard error of the mean for the out degree centrality for Phoebe Buffay for the season 1:  nan\n",
      "standard error of the mean for the out degree centrality for Phoebe Buffay for the season 10:  nan\n"
     ]
    },
    {
     "name": "stderr",
     "output_type": "stream",
     "text": [
      "c:\\Users\\Admin\\miniconda3\\envs\\ada\\lib\\site-packages\\numpy\\core\\_methods.py:206: RuntimeWarning: Degrees of freedom <= 0 for slice\n",
      "  ret = _var(a, axis=axis, dtype=dtype, out=out, ddof=ddof,\n",
      "c:\\Users\\Admin\\miniconda3\\envs\\ada\\lib\\site-packages\\numpy\\core\\_methods.py:198: RuntimeWarning: invalid value encountered in scalar divide\n",
      "  ret = ret.dtype.type(ret / rcount)\n"
     ]
    }
   ],
   "source": [
    "from scipy.stats import sem\n",
    "out1_mean_phoebe = sorted(out1.items(), key=lambda x:x[1], reverse= True)[4:5]\n",
    "out1_mean_phoebe = 5.490196078431373\n",
    "\n",
    "out10_mean_phoebe = sorted(out10.items(), key=lambda x:x[1], reverse= True)[4:5]\n",
    "out10_mean_phoebe = 8.75\n",
    "\n",
    "print('mean for the out degree centrality for Phoebe Buffay for the season 1: ', np.mean(out1_mean_phoebe))\n",
    "print('mean for the out degree centrality for Phoebe Buffay for the season 10: ', np.mean(out10_mean_phoebe))\n",
    "\n",
    "# use scipy.stats to calculate the standard error of the mean \n",
    "print('standard error of the mean for the out degree centrality for Phoebe Buffay for the season 1: ', sem(out1_mean_phoebe))\n",
    "print('standard error of the mean for the out degree centrality for Phoebe Buffay for the season 10: ', sem(out10_mean_phoebe))\n"
   ]
  },
  {
   "cell_type": "code",
   "execution_count": 365,
   "id": "433b2c7f",
   "metadata": {},
   "outputs": [
    {
     "data": {
      "image/png": "[encoded data removed]",
      "text/plain": [
       "<Figure size 1000x400 with 2 Axes>"
      ]
     },
     "metadata": {},
     "output_type": "display_data"
    }
   ],
   "source": [
    "years = np.arange(1,11,1)\n",
    "fig, ax = plt.subplots(1,2, figsize = (10,4))\n",
    "ax[0].set_title('average PageRank centrality per season')\n",
    "ax[1].set_title('average out-degree per season')\n",
    "\n",
    "ax[0].plot(years, pr_rachel, label = 'Rachel')\n",
    "ax[0].plot(years, pr_ross, label = 'Ross')\n",
    "ax[0].set_xlabel('season')\n",
    "ax[0].set_ylabel('average PageRank centrality')\n",
    "ax[1].plot(years, out_rachel)\n",
    "ax[1].plot(years, out_ross)\n",
    "ax[1].set_xlabel('season')\n",
    "ax[1].set_ylabel('average out degree centrality')\n",
    "\n",
    "\n",
    "# to add the confidence intervals: \n",
    "#mean_out_rachel = exam1_rachel['out'].mean()\n",
    "#scale_out_rachel = stats.sem(exam1_rachel['out'], nan_policy='omit')\n",
    "#mean_out_ross = exam1_rachel['out'].mean()\n",
    "#scale_out_ross = stats.sem(exam1_ross['out'], nan_policy='omit')\n",
    "#mean_pr_rachel = exam1_rachel['pr'].mean()\n",
    "#scale_pr_rachel = stats.sem(exam1_rachel['pr'], nan_policy='omit')\n",
    "#mean_pr_ross = exam1_rachel['pr'].mean()\n",
    "#scale_pr_ross = stats.sem(exam1_ross['pr'], nan_policy='omit')\n",
    "\n",
    "\n",
    "#ax[1].errorbar(x = years, y = mean_out_rachel, yerr = 1.96*scale_out_rachel, color = 'blue',capsize=5)\n",
    "#ax[1].errorbar(x = years, y = mean_out_ross, yerr = 1.96*scale_out_ross, color = 'orange',capsize=5)\n",
    "\n",
    "#ax[0].errorbar(x = years, y = mean_pr_rachel, yerr = 1.96*scale_pr_rachel, color = 'blue',capsize=5)\n",
    "#ax[0].errorbar(x = years, y = mean_pr_ross, yerr = 1.96*scale_pr_ross, color = 'orange',capsize=5)\n",
    "\n",
    "\n",
    "fig.legend()\n",
    "fig.tight_layout()\n",
    "plt.show()"
   ]
  },
  {
   "cell_type": "markdown",
   "id": "4a9294b6",
   "metadata": {},
   "source": [
    "Here we can see that the plot support the fact that rachel is the show protagonist. But we should look at the CI, if the CI are overlapping, the difference is not statistically significant but if they are not overlapping, the difference is statistically significant. \n",
    "\n",
    "However, the difference seems to not be huge between Rachel and Ross "
   ]
  },
  {
   "cell_type": "markdown",
   "id": "94b0e5b3",
   "metadata": {},
   "source": [
    "---\n",
    "\n",
    "**1.7 —** **/True or false:/** Considering your answer in **1.6** are the following statements true or false? Justify your answer. \n",
    "\n",
    "\n",
    "A. \"In season 7, Rachel Green's episode-level PageRank and out-degree centrality are higher than Ross Geller's. This difference is statistically significant at the 0.05 significance level.\"\n",
    "\n",
    "B. \"Phoebe Buffay's out-degree grew between season 1 and season 10; this implies that other characters spoke less than her in season 10.\"\n",
    "\n",
    "C. \"Phoebe Buffay's PageRank was higher in season 10 than in season 1. This difference is statistically significant at the 0.05 significance level and suggests that the character gained importance over the course of the show.\"\n"
   ]
  },
  {
   "cell_type": "markdown",
   "id": "c5fecbfb",
   "metadata": {},
   "source": [
    "#A : True, the rachel curves are higher than the ross curves but to see if the differerence is statistically significant at the 0.05 level, we should examine if the CI are overlapping \n",
    "\n",
    "#B : False, it means she speak more to other character in the season 10 but does not say anything about how much peoples were speaking \n",
    "\n",
    "#C: False ????"
   ]
  },
  {
   "cell_type": "code",
   "execution_count": 366,
   "id": "c251ee65",
   "metadata": {},
   "outputs": [
    {
     "name": "stderr",
     "output_type": "stream",
     "text": [
      "c:\\Users\\Admin\\miniconda3\\envs\\ada\\lib\\site-packages\\scipy\\stats\\_stats_py.py:7030: RuntimeWarning: invalid value encountered in scalar divide\n",
      "  svar = ((n1 - 1) * v1 + (n2 - 1) * v2) / df\n"
     ]
    }
   ],
   "source": [
    "t, pvalue = stats.ttest_ind(1, 5)"
   ]
  },
  {
   "cell_type": "markdown",
   "id": "84866967",
   "metadata": {},
   "source": [
    "## Part 2: The one about text similarity (40 pts)\n",
    "\n",
    "Next, you investigate how unique characters are by analyzing what they said throughout the 10 seasons."
   ]
  },
  {
   "cell_type": "markdown",
   "id": "176a69b8",
   "metadata": {},
   "source": [
    "**2.1 —** Load the dataframe `exam3.jsonl`. This dataframe is similar to `exam1.jsonl`, except:\n",
    "\n",
    "- It has an additional column called `tokens`, containing a sentence list. Each sentence is another list composed of tokens, e.g.,\n",
    "`[['There', \"'s\", 'nothing', 'to', 'tell', '!'], ['He', \"'s\", 'just', 'some', 'guy', 'I', 'work', 'with', '!']]`.\n",
    "- It has an additional column called `episode` containing a unique episode identifier.\n",
    "- It only contains utterances by Phoebe, Rachel, Ross, Joey, Monica, or Chandler (the main characters).\n",
    " \n",
    "Given this dataframe, you will create an episode-level word-frequency matrix for Chandler Bing, one of the main characters.\n"
   ]
  },
  {
   "cell_type": "code",
   "execution_count": 367,
   "id": "aa975d71",
   "metadata": {},
   "outputs": [
    {
     "data": {
      "text/html": [
       "<div>\n",
       "<style scoped>\n",
       "    .dataframe tbody tr th:only-of-type {\n",
       "        vertical-align: middle;\n",
       "    }\n",
       "\n",
       "    .dataframe tbody tr th {\n",
       "        vertical-align: top;\n",
       "    }\n",
       "\n",
       "    .dataframe thead th {\n",
       "        text-align: right;\n",
       "    }\n",
       "</style>\n",
       "<table border=\"1\" class=\"dataframe\">\n",
       "  <thead>\n",
       "    <tr style=\"text-align: right;\">\n",
       "      <th></th>\n",
       "      <th>id</th>\n",
       "      <th>conversation_id</th>\n",
       "      <th>text</th>\n",
       "      <th>speaker</th>\n",
       "      <th>reply-to</th>\n",
       "      <th>tokens</th>\n",
       "      <th>episode</th>\n",
       "    </tr>\n",
       "  </thead>\n",
       "  <tbody>\n",
       "    <tr>\n",
       "      <th>0</th>\n",
       "      <td>s01_e01_c01_u001</td>\n",
       "      <td>s01_e01_c01_u001</td>\n",
       "      <td>There's nothing to tell! He's just some guy I ...</td>\n",
       "      <td>Monica Geller</td>\n",
       "      <td>None</td>\n",
       "      <td>[[there, 's, nothing, to, tell, !], [he, 's, j...</td>\n",
       "      <td>s01_e01</td>\n",
       "    </tr>\n",
       "    <tr>\n",
       "      <th>1</th>\n",
       "      <td>s01_e01_c01_u002</td>\n",
       "      <td>s01_e01_c01_u001</td>\n",
       "      <td>C'mon, you're going out with the guy! There's ...</td>\n",
       "      <td>Joey Tribbiani</td>\n",
       "      <td>s01_e01_c01_u001</td>\n",
       "      <td>[[c'mon, ,, you, 're, going, out, with, the, g...</td>\n",
       "      <td>s01_e01</td>\n",
       "    </tr>\n",
       "    <tr>\n",
       "      <th>2</th>\n",
       "      <td>s01_e01_c01_u003</td>\n",
       "      <td>s01_e01_c01_u001</td>\n",
       "      <td>All right Joey, be nice. So does he have a hum...</td>\n",
       "      <td>Chandler Bing</td>\n",
       "      <td>s01_e01_c01_u002</td>\n",
       "      <td>[[all, right, joey, ,, be, nice, .], [so, does...</td>\n",
       "      <td>s01_e01</td>\n",
       "    </tr>\n",
       "    <tr>\n",
       "      <th>3</th>\n",
       "      <td>s01_e01_c01_u004</td>\n",
       "      <td>s01_e01_c01_u001</td>\n",
       "      <td>Wait, does he eat chalk?</td>\n",
       "      <td>Phoebe Buffay</td>\n",
       "      <td>s01_e01_c01_u003</td>\n",
       "      <td>[[wait, ,, does, he, eat, chalk, ?]]</td>\n",
       "      <td>s01_e01</td>\n",
       "    </tr>\n",
       "    <tr>\n",
       "      <th>4</th>\n",
       "      <td>s01_e01_c01_u006</td>\n",
       "      <td>s01_e01_c01_u001</td>\n",
       "      <td>Just, 'cause, I don't want her to go through w...</td>\n",
       "      <td>Phoebe Buffay</td>\n",
       "      <td>s01_e01_c01_u005</td>\n",
       "      <td>[[just, ,, ', cause, ,, i, do, n't, want, her,...</td>\n",
       "      <td>s01_e01</td>\n",
       "    </tr>\n",
       "  </tbody>\n",
       "</table>\n",
       "</div>"
      ],
      "text/plain": [
       "                 id   conversation_id  \\\n",
       "0  s01_e01_c01_u001  s01_e01_c01_u001   \n",
       "1  s01_e01_c01_u002  s01_e01_c01_u001   \n",
       "2  s01_e01_c01_u003  s01_e01_c01_u001   \n",
       "3  s01_e01_c01_u004  s01_e01_c01_u001   \n",
       "4  s01_e01_c01_u006  s01_e01_c01_u001   \n",
       "\n",
       "                                                text         speaker  \\\n",
       "0  There's nothing to tell! He's just some guy I ...   Monica Geller   \n",
       "1  C'mon, you're going out with the guy! There's ...  Joey Tribbiani   \n",
       "2  All right Joey, be nice. So does he have a hum...   Chandler Bing   \n",
       "3                           Wait, does he eat chalk?   Phoebe Buffay   \n",
       "4  Just, 'cause, I don't want her to go through w...   Phoebe Buffay   \n",
       "\n",
       "           reply-to                                             tokens  \\\n",
       "0              None  [[there, 's, nothing, to, tell, !], [he, 's, j...   \n",
       "1  s01_e01_c01_u001  [[c'mon, ,, you, 're, going, out, with, the, g...   \n",
       "2  s01_e01_c01_u002  [[all, right, joey, ,, be, nice, .], [so, does...   \n",
       "3  s01_e01_c01_u003               [[wait, ,, does, he, eat, chalk, ?]]   \n",
       "4  s01_e01_c01_u005  [[just, ,, ', cause, ,, i, do, n't, want, her,...   \n",
       "\n",
       "   episode  \n",
       "0  s01_e01  \n",
       "1  s01_e01  \n",
       "2  s01_e01  \n",
       "3  s01_e01  \n",
       "4  s01_e01  "
      ]
     },
     "execution_count": 367,
     "metadata": {},
     "output_type": "execute_result"
    }
   ],
   "source": [
    "df2 = pd.read_json(path_exam3, lines = True)\n",
    "df2.head()"
   ]
  },
  {
   "cell_type": "markdown",
   "id": "ec24709e",
   "metadata": {},
   "source": [
    "\n",
    "A. Create a list $L$ containing all distinct tokens uttered by Chandler Bing throughout the 10 seasons, sorted in ascending order. Print the 10 first and last elements of the list. \n"
   ]
  },
  {
   "cell_type": "code",
   "execution_count": 368,
   "id": "32360d1e",
   "metadata": {},
   "outputs": [
    {
     "name": "stdout",
     "output_type": "stream",
     "text": [
      "all distinct tokens uttered by Chandler Bing throughout the 10 seasons sorted in ascending order ['!', '!!', '!!!', '!!!!', '!!!!!', '!!!!!!!', '!..', '!...', '!?', '\"', '$', '%', '&', \"'\", \"'75\", \"'76\", \"'77\", \"'79\", \"'cause\", \"'d\", \"'joincidence\", \"'know\", \"'ll\", \"'m\", \"'re\", \"'s\", \"'s-\", \"'ve\", '(', ')', '*', ',', '-', '--', '.', '..', '...', '...!', '...!?', '....', '.....', '......', '.......', '........', '...?', '...?!', '..?', '/', '0.', '007', '1', '1,000', '1,500', '10', '10-100', '100', '101', '11:30', '12', '1200', '128', '130', '15', '16', '17', \"1800's\", \"1890's\", '18th', '19', '1965', '1979', '1982', '1986', '1a', '2', '20', '200', '2003', '2020', '21', '2300', '25', '253', '25j', '28', '28,000', '29', '2:00', '2:15', '2:30', '3', '30', '300', '31', '32', '34', '3:30', '4', '4-6', '40', '400', '401', '45', '46', '47', '48', '4:00', '5', '5,000', '50', \"50's\", '500', '5:00', '6', '62', '69.95', '6:00', '6:30', '7', '7.', '700', '7143457', '79', '7:15', '8', '8,000', '8.', '80', '800', '865', '8:00', '9', '9.', '90', '900', '95', '97', '98', '98.50', '98.6', '99', '9:00', '9:15', ':', ';', '?', '?!', '?!!', '?!!!', '?!?', '?!?!?', '?.', '?...', '??', '???', 'a', 'a-ah', 'a-gogo', 'a-huh', 'a-s', 'a.', 'a.m.', 'aa', 'aaaaaa', 'aaaaaaaaaaaaaaaaaaaaa', 'aaaaaahhhh', 'aaaaand', 'aaaah', 'aaah', 'aaand', 'aah', 'aahhuuhhh', 'abandoned', 'able', 'aboard', 'about', 'aboutthere', 'above', 'abridgment', 'abs', 'absdolutely', 'absolutely', 'accent', 'accept', 'accepted', 'access', 'accident', 'accidentally', 'account', 'accounts', 'achieved', 'across', 'act', 'acted', 'acting', 'action', 'activity', 'actor', 'actress', 'actual', 'actually', 'actuary', 'ad', 'adams', 'add', 'added', 'addict', 'address', 'adjoining', 'admit', 'admitting', 'adopted', 'adoption', 'adored', 'adrienne', 'adult', 'adultery', 'adults', 'advance', 'advantage', 'adventure', 'advertising', 'advice', 'affair', 'affected', 'afford', 'afr', 'afraid', 'after', 'afternoon', 'again', 'against', 'age', 'agency', 'agent', 'ago', 'agree', 'agreed', 'agreeing', 'ah', 'ahead', 'ahem', 'ahh', 'ahhh', 'ahhhh', 'ahhhhh', 'ai', 'aids', 'air', 'airplane', 'airport', 'aisle', 'al', 'al.', 'alan', 'alarm', 'albany', 'albert', 'album', 'alcoholic', 'alcoholics', 'alexander', 'alexandra', 'algernon', 'algonquin', 'alien', 'alike', 'alison', 'alive', 'all', 'allen', 'allergic', 'allergies', 'allergy', 'allowance', 'allowed', 'allright', 'allways', 'almost', 'aloe', 'alone', 'aloneville', 'along', 'alp', 'alphabetically', 'already', 'alright', 'alrighty', 'also', 'altar', 'altered', 'althea', 'although', 'alverez', 'alvin', 'always', 'am', 'amanda', 'amazing', 'ambiance', 'ambulance', 'amelia', 'america', 'american', 'americans', 'amish', 'ammonia', 'amnesia', 'amount', 'amouz', 'amsterdam', 'amusing', 'amy', 'an', 'and', 'anderson', 'andrea', 'andrew', 'anecdote', 'angela', 'anger', 'angry', 'animal', 'animals', 'ankle', 'ann', 'anna', 'annie', 'anniversary', 'announcement', 'annoying', 'another', 'ansel', 'answer', 'answered', 'answering', 'antacids', 'anti-christ', 'antihistamine', 'anvil', 'anxiety', 'any', 'anybody', 'anymore', 'anyone', 'anything', 'anytime', 'anyway', 'anywhere', 'aortic', 'apart', 'apartment', 'apartments', 'apocalypse', 'apologize', 'apology', 'apothecary', 'apparantly', 'apparently', 'appeal', 'appealing', 'apple', 'apples', 'applying', 'appointment', 'appreciate', 'approach', 'appropriate', 'april', 'apron', 'aptitude', 'arcade', 'archie', 'are', 'area', 'areas', 'argh', 'arghhhhhh', 'arguing', 'arm', 'armadillo', 'armageddon', 'arms', 'army', 'around', 'aroused', 'arousing', 'arranged', 'arrangements', 'arranging', 'arrested', 'arrghh', 'art', 'articles', 'as', 'ashamed', 'ashley', 'asian', 'aside', 'ask', 'asked', 'asking', 'asks', 'asleep', 'ass', 'assign', 'assist', 'assistant', 'assume', 'assumed', 'assure', 'assured', 'asteroids', 'at', 'ate', 'athletic', 'atlantic', 'atm', 'atmosphere', 'atomic', 'atrium', 'attached', 'attack', 'attacked', 'attacks', 'attend', 'attention', 'attitude', 'attracted', 'attractive', 'audience', 'audition', 'auditioning', 'aunt', 'aurora', 'author', 'authority', 'authorization', 'available', 'aver', 'aversary', 'aw', 'awake', 'award', 'awards', 'aware', 'away', 'awesome', 'awful', 'awhile', 'awkward', 'aww', 'awww', 'awwwww', 'awwwwwww', 'b', 'b-a-b', 'b.p.s.', 'ba', 'babbling', 'babe', 'babes', 'babies', 'baby', 'bachelor', 'bachelorette', 'back', 'back-less', 'backfire', 'backfired', 'background', 'backhand', 'backing', 'backpack', 'backup', 'bad', 'bada', 'baddest', 'badge', 'badly', 'bag', 'bagel', 'bagels', 'baggage', 'bagpipes', 'bahama', 'bahhhh', 'baked', 'bakery', 'balance', 'balcony', 'bald', 'baldness', 'bale', 'ball', 'balled', 'ballet', 'balloon', 'bambi', 'bamboozled', 'band', 'bands', 'banging', 'banister', 'bank', 'bankrupt', 'barbados', 'barbara', 'barbecue', 'barbie', 'barcaloungers', 'barely', 'barking', 'barks', 'barley', 'barrel', 'bars', 'bart', 'base', 'baseball', 'based', 'basically', 'basinger', 'basis', 'bask', 'basket', 'basketball', 'bastard', 'bat', 'bates', 'bath', 'bathing', 'bathrobe', 'bathroom', 'baths', 'bathtub', 'batman', 'batmobile', 'bats', 'batteries', 'battling', 'bay', 'baywatch', 'be', 'be-cause', 'be-low', 'beach', 'beads', 'beam', 'beaming', 'bean', 'beans', 'bear', 'bears', 'beat', 'beating', 'beats', 'beautiful', 'beauty', 'became', 'becasue', 'because', 'becker', 'become', 'becomes', 'becoming', 'bed', 'bedroom', 'bedrooms', 'beds', 'bedspread', 'bee', 'beefsteak', 'been', 'beeped', 'beeps', 'beer', 'beers', 'before', 'beg', 'begging', 'begin', 'beginning', 'begins', 'behave', 'behind', 'being', 'believable', 'believe', 'belive', 'bell', 'bellies', 'belly', 'belong', 'belongs', 'below', 'belt', 'ben', 'bend', 'benefit', 'benefits', 'berle', 'bermuda', 'bernie', 'berry', 'bert', 'besides', 'best', 'bet', 'betcha', 'beth', 'betrayal', 'betrothed', 'betroughed', 'better', 'betty', 'between', 'beyonce', 'biblical', 'bicep', 'biceps', 'bidding', 'big', 'bigger', 'biggest', 'bike', 'bikes', 'bikini', 'bill', 'bills', 'billy', 'bind', 'bing', 'bings', 'biology', 'bionic', 'bird', 'birdie', 'birds', 'birth', 'birthday', 'birthmark', 'bit', 'bitch', 'bitches', 'bitchin', 'bite', 'biting', 'bitter', 'bitterest', 'bittersweet', 'black', 'blackjack', 'bladder', 'blah', 'blahebdmsdlkhdyslkd', 'blame', 'blamed', 'blanket', 'blankets', 'blarrglarrghh', 'blast', 'blaster', 'blazer', 'bleeding', 'bleeth', 'blepe', 'blew', 'blimps', 'blind', 'blistered', 'blocks', 'blond', 'blonde', 'bloody', 'bloomers', 'bloomingdale', 'blossom', 'blouse', 'blow', 'blower', 'blowfish', 'blue', 'blueberries', 'blues', 'blurry', 'board', 'boarding', 'boat', 'bob', 'bobby', 'bodes', 'body', 'boff', 'bogota', 'bold', 'boles', 'bolt', 'bond', 'bondage', 'bonding', 'bone', 'boned', 'bong', 'bonus', 'boo', 'boob', 'boobies', 'boobs', 'booger', 'boogie', 'boohaki', 'book', 'bookbinders', 'bookstores', 'boom', 'boot', 'boots', 'bordeaux', 'bored', 'boring', 'born', 'borrow', 'borrowed', 'borrowing', 'boss', 'bosses', 'bossy', 'botanist', 'botchy', 'both', 'bother', 'bothering', 'bottle', 'bottles', 'bottom', 'bouche', 'bought', 'boundary', 'bouquet', 'bout', 'bow', 'bowl', 'box', 'boxer', 'boxes', 'boy', 'boyfriend', 'boyish', 'boys', 'bra', 'brace', 'bracelet', 'braces', 'bracket', 'brag', 'braid', 'brain', 'brains', 'brake', 'brand', 'brandy', 'brave', 'braverman', 'bravo', 'bread', 'break', 'breakfast', 'breaking', 'breaks', 'breast', 'breasts', 'breath', 'breathe', 'breathing', 'brenda', 'brent', 'brian', 'bridal', 'bride', 'bridge', 'brief', 'briefcase', 'bright', 'brighter', 'brilliance', 'brilliant', 'bring', 'bringing', 'british', 'bro.', 'brochures', 'broke', 'broken', 'brolin', 'brooklyn', 'broom', 'brosnan', 'brother', 'brought', 'brown', 'brownies', 'browsing', 'brush', 'brussels', 'brutal', 'btyds', 'bubba', 'bubble', 'bubbling', 'buck', 'bucket', 'bucks', 'buckwheat', 'bud', 'buddy', 'buds', 'buffay', 'buffet', 'bug', 'buh', 'build', 'building', 'buildings', 'built', 'bulbs', 'bulging', 'bulldozer', 'bullet', 'bullets', 'bullfrog', 'bullies', 'bullwinkle', 'bumb', 'bummed', 'bummer', 'bump', 'bumped', 'bumper', 'bumps', 'bunch', 'bunnies', 'bunny', 'burden', 'burger', 'burgers', 'burlesque', 'burn', 'burning', 'burring', 'burrito', 'burritos', 'burst', 'bus', 'business', 'bust', 'busy', 'but', 'butch', 'butler', 'buts', 'butt', 'buttafucco', 'butter', 'butterfly', 'buttock', 'button', 'buttons', 'buy', 'buying', 'buys', 'buzz', 'buzzer', 'by', 'bye', 'c', \"c'mon\", 'ca', 'cab', 'cabinet', 'cable', 'cabs', 'caf', 'cafeteria', 'caitlin', 'cajun', 'cake', 'calculator', 'calendar', 'call', 'called', 'calling', 'calls', 'calm', 'cambodia', 'came', 'camera', 'cameras', 'camoflauge', 'camp', 'camper', 'camping', 'can', 'canadian', 'canadians', 'cancel', 'canceled', 'canceling', 'cancelled', 'cancer', 'candles', 'candy', 'canned', 'canoe', 'canoodling', 'cans', 'cantelope', 'capabilities', 'capable', 'capacity', 'capade', 'capades', 'cape', 'capital', 'caplin', 'cappucino', 'capricorn', 'captain', 'car', 'carcass', 'card', 'cards', 'care', 'cared', 'career', 'careful', 'carefully', 'careless', 'cares', 'caretaker', 'caring', 'carl', 'carmen', 'carol', 'carpet', 'carried', 'carry', 'carrying', 'cars', 'carton', 'cartons', 'cartoon', 'cartoons', 'carve', 'case', 'cases', 'casey', 'cash', 'cast', 'casual', 'casually', 'cat', 'catch', 'catching', 'caterpillar', 'caterpillars', 'cates', 'catfish', 'catholic', 'cathy', 'cats', 'cattle', 'caught', 'cause', 'cave', 'caved', 'cd', 'cds', 'celebrate', 'celebrating', 'celebration', 'celebrities', 'cell', 'cellar', 'center', 'centerpieces', 'central', 'cents', 'century', 'cereal', 'cereals', 'ceremony', 'certain', 'certainly', 'cha', 'chain', 'chair', 'chairs', 'chalk', 'challenge', 'chameleon', 'chamomile', 'champ', 'champagne', 'champs', 'chan', 'chanberries', 'chance', 'chances', 'chand', 'chandelier', 'chandler', 'chandy', 'change', 'changed', 'changes', 'changing', 'channel', 'chap', 'chapel', 'chappy', 'chapter', 'charact', 'character', 'charge', 'charged', 'charity', 'charlie', 'charm', 'charming', 'charms', 'chase', 'chased', 'chasing', 'chat', 'chattering', 'cheaper', 'cheapest', 'cheat', 'cheating', 'check', 'checked', 'checkin', 'checking', 'checks', 'cheddar', 'cheeckbones', 'cheeks', 'cheer', 'cheering', 'cheerleader', 'cheerleaders', 'cheese', 'cheesecake', 'cheesy', 'cheeto', 'chef', 'cheffing', 'chelsea', 'chemistry', 'cheshhh', 'chest', 'chester', 'chew', 'chewing', 'chicago', 'chick', 'chickeeeen', 'chicken', 'chicks', 'chiefs', 'child', 'childhood', 'childless', 'children', 'chin', 'china', 'chinandolor', 'chinese', 'chino', 'chip', 'chips', 'chloe', 'chocolate', 'choice', 'choke', 'choked', 'choking', 'choose', 'choosing', 'chop', 'chopper', 'chose', 'chrissy', 'christmas', 'chrysler', 'chuckles', 'church', 'churo', 'cigarette', 'cigarettes', 'cindy', 'cinemax', 'circled', 'circles', 'city', 'claim', 'claimed', 'clarinet', 'clark', 'class', 'classes', 'claudia', 'claus', 'claw', 'claymation', 'clean', 'cleaned', 'cleaner', 'cleaning', 'clear', 'cleared', 'clearly', 'clench', 'clenches', 'clergy', 'clever', 'click', 'cliff', 'clifford', 'climb', 'climbed', 'climbing', 'clingy', 'clinic', 'clinical', 'clint', 'clock', 'cloned', 'close', 'closed', 'closely', 'closeness', 'closer', 'closes', 'closet', 'closing', 'cloth', 'clothes', 'cloud', 'clown', 'clowns', 'club', 'clubs', 'clumsy', 'clunkers', 'clusters', 'clydesdales', 'co', 'co-captain', 'co-worker', 'coach', 'coast', 'coaster', 'coat', 'coats', 'cocktail', 'coconut', 'code', 'codes', 'coffee', 'coffeehouse', 'coincidence', 'coins', 'coke', 'cold', 'cole', 'collar', 'colleague', 'colleagues', 'collect', 'collection', 'colleen', 'college', 'cologne', 'colony', 'color', 'colored', 'colorful', 'colors', 'colour', 'column', 'combat', 'combination', 'come', 'comedian', 'comedy', 'comes', 'comfort', 'comfortable', 'comic', 'comics', 'coming', 'commencing', 'comment', 'commercial', 'commitment', 'committee', 'common', 'commune', 'community', 'commute', 'companies', 'company', 'compass', 'compete', 'competitive', 'competitor', 'complain', 'complaining', 'complete', 'completely', 'complex', 'complicated', 'compliment', 'comprehend', 'compromise', 'compulsion', 'computer', 'concealed', 'conceived', 'concentrate', 'concept', 'concert', 'condensation', 'condition', 'condolences', 'condom', 'condoms', 'conducting', 'cones', 'conference', 'confess', 'confidant', 'confident', 'confronted', 'confuse', 'confused', 'congeniality', 'conglomerate', 'congratulate', 'congratulations', 'connect', 'connected', 'connecticut', 'connelly', 'cons', 'conscious', 'consider', 'considered', 'considering', 'consolation', 'constant', 'constantly', 'consuming', 'contact', 'contacted', 'contest', 'contestant', 'contestants', 'continue', 'continuum', 'control', 'conventional', 'conversation', 'conversationalist', 'convince', 'convinced', 'convincing', 'cook', 'cooker', 'cookie', 'cookies', 'cooking', 'cool', 'cooler', 'cooling', 'cooperative', 'cop', 'copied', 'copier', 'copies', 'copperfield', 'copy', 'copywriter', 'cord', 'corn', 'corneas', 'corner', 'corny', 'corporation', 'corralled', 'correct', 'cost', 'costs', 'costume', 'costumes', 'cotton', 'couch', 'cough', 'could', \"couldn'ta\", 'counselor', 'count', 'countdown', 'counted', 'country', 'coupla', 'couple', 'couples', 'courage', 'course', 'courthouse', 'courtside', 'cous', 'cousin', 'cousins', 'cover', 'covered', 'covers', 'cow', 'cowboy', 'cowgirl', 'cowlicky', 'cows', 'crack', 'cracked', 'cracker', 'crackers', 'cracking', 'cracks', 'cradle', 'craftsmanship', 'craftsmen', 'cranberries', 'cranberry', 'crankypants', 'crap', 'crapping', 'crappy', 'crash', 'cravings', 'crawford', 'craziest', 'crazy', 'cream', 'create', 'credit', 'credits', 'creep', 'creeps', 'creepy', 'crib', 'crickets', 'cried', 'crime', 'crippled', 'crisp', 'cross', 'crossword', 'crotch', 'cruel', 'cruller', 'crush', 'crushing', 'crust', 'cry', 'crying', 'crystal', 'cub', 'cuba', 'cubes', 'cubicle', 'cuddle', 'cuddlily', 'cuffs', 'culture', 'cultures', 'cup', 'cupping', 'cups', 'curiosity', 'curious', 'current', 'curse', 'curtain', 'cushions', 'custard', 'custer', 'customary', 'customer', 'cut', 'cute', 'cuts', 'cutting', 'cuz', 'cya', 'd', \"d'know\", \"d'ya\", \"d'you\", 'd.', 'daaahhhh', 'daahh', 'dab', 'dad', 'daddy', 'dads', 'damage', 'dammit', 'damn', 'damnit', 'damone', 'dan', 'dana', 'dance', 'dancer', 'dances', 'dancing', 'danger', 'dangerous', 'dangerously', 'danielle', 'dare', 'dark', 'darn', 'data', 'date', 'dated', 'dates', 'dating', 'daughter', 'dave', 'david', 'dawn', 'day', 'days', 'daytime', 'de', 'dead', 'deaf', 'deal', 'dealer', 'dealers', 'dear', 'death', 'deathbeds', 'deaths', 'decaf', 'decent', 'decibel', 'decide', 'decided', 'decimal', 'decision', 'decisions', 'decorations', 'dee', 'deemed', 'deep', 'deer', 'defence', 'defend', 'defended', 'defense', 'definately', 'definite', 'definitely', 'definition', 'degree', 'dehydrated', 'deities', 'delegating', 'delicious', 'delight', 'delightful', 'delivered', 'delivery', 'delvecchio', 'delveccio', 'demma', 'demonstrate', 'den', 'denial', 'denied', 'dennis', 'dentist', 'dentists', 'deny', 'denying', 'department', 'departments', 'depend', 'dependent', 'depends', 'deposit', 'depressed', 'depression', 'derrick', 'desert', 'deserve', 'deserved', 'deserves', 'desk', 'desperate', 'dessert', 'destined', 'destroy', 'destructive', 'detail', 'detroit', 'develop', 'developed', 'device', 'devil', 'devoted', 'dewey', 'diagnostician', 'dial', 'dialect', 'dialer', 'dialogue', 'diamond', 'diana', 'diaper', 'diapering', 'diarrhea', 'diary', 'dicing', 'dick', 'dictionary', 'did', 'didnt', 'die', 'died', 'diego', 'dies', 'diet', 'difference', 'different', 'differently', 'difficult', 'difficulty', 'dignity', 'dilating', 'dillhole', 'dillillio', 'dim', 'dinah', 'ding', 'dining', 'dinner', 'dinosaur', 'dinosaurs', 'direction', 'directly', 'director', 'dirty', 'disagree', 'disappear', 'disappoint', 'disappointed', 'disciplining', 'discover', 'discuss', 'discussion', 'disease', 'disgusting', 'dish', 'dismantle', 'disneyland', 'display', 'disposable', 'disrupts', 'dissolve', 'distance', 'distasteful', 'distinctly', 'distorted', 'distract', 'distraught', 'disturb', 'disturbing', 'ditto', 'division', 'divisional', 'divorce', 'divorced', 'do', 'dock', 'doctor', 'doctors', 'document', 'dodged', 'does', 'doesnt', 'dog', 'dogs', 'doin', 'doing', 'dokay', 'doll', 'dollar', 'dollars', 'dollywood', 'domineering', 'don', 'donald', 'donated', 'done', 'dong', 'dongs', 'donna', 'donors', 'dont', 'donut', 'donuts', 'doody', 'doom', 'doomed', 'door', 'doors', 'doption', 'dora', 'dorf', 'dorky', 'dorothy', 'dots', 'double', 'doubling', 'doubt', 'doubts', 'doug', 'douglas', 'dove', 'down', 'downer', 'downhill', 'downstairs', 'doy', 'dr.', 'draft', 'drag', 'drain', 'drake', 'dramatic', 'drank', 'drapes', 'draw', 'drawer', 'drawing', 'drawings', 'dream', 'dreams', 'dreamt', 'dress', 'dressed', 'dresser', 'dresses', 'drew', 'dried', 'drill', 'drink', 'drinking', 'drinks', 'drippy', 'drive', 'drives', 'driving', 'drooling', 'drop', 'dropped', 'dropper', 'drops', 'drove', 'drowning', 'drum', 'drunk', 'drunken', 'dry', 'drying', 'drywall', 'du', 'du-du', 'du-ude', 'duck', 'ducks', 'dud', 'dude', 'duet', 'dug', 'dull', 'dum', 'dumb', 'dumbest', 'dump', 'dumped', 'during', 'dutch', 'duties', 'duty', 'dwarves', 'dwha', 'dying', 'e-mail', 'e-solutions', 'each', 'ear', 'earhart', 'earlier', 'early', 'earmarked', 'earn', 'earned', 'earner', 'earrings', 'ears', 'earth', 'ease', 'easier', 'easiest', 'easily', 'east', 'easton', 'easy', 'eat', 'eaten', 'eating', 'eats', 'ebola', 'ebony', 'eclipse', 'ectomy', 'eddie', 'edition', 'edna', 'ee', 'eeeshk', 'eel', 'effect', 'effectively', 'effervesce', 'effort', 'egg', 'eggs', 'ego', 'egypt', 'eh', 'ehh', 'ehm', 'eight', 'either', 'elaine', 'elbows', 'eldad', 'electric', 'electromagnetic', 'element', 'elephants', 'elevator', 'eleven', 'eligible', 'elizabeth', 'ell', 'elle', 'eloping', 'else', 'elves', 'em', 'em-i-ly', 'embarrass', 'embarrassed', 'embarrassing', 'embolism', 'embrace', 'emergency', 'emily', 'emma', 'emotion', 'emotional', 'emphysema', 'empty', 'en', 'end', 'ended', 'endless', 'ends', 'energy', 'engage', 'engaged', 'engagement', 'engines', 'england', 'enh', 'enjoy', 'enjoyable', 'enjoyed', 'enjoying', 'enough', 'enron', 'enter', 'entered', 'enterprise', 'entertainment', 'enthusiasm', 'entire', 'entitled', 'entrance', 'entry', 'enunciate', 'environment', 'epic', 'episode', 'equally', 'equipped', 'equity', 'er', 'era', 'erased', 'eric', 'erica', 'ernie', 'err', 'errands', 'errigh', 'errors', 'escape', 'escrow', 'especially', 'espn', 'espresso', 'essence', 'essential', 'established', 'estate', 'estefan', 'estimated', 'ethan', 'eucalyptus', 'europe', 'eve', 'even', 'evening', 'eventually', 'ever', 'everdid', 'everest', 'every', 'everybody', 'everyday', 'everyone', 'everything', 'everythng', 'everywhere', 'evil', 'ew', 'eww', 'ex', 'ex-boyfriend', 'ex-girlfriend', 'ex-wife', 'exaclty', 'exact', 'exactly', 'example', 'excellent', 'except', 'exception', 'exceptionally', 'excessive', 'exchange', 'exchanges', 'excited', 'exciting', 'excuse', 'excuses', 'exercise', 'exhausted', 'exist', 'expect', 'expecting', 'expects', 'expensive', 'experience', 'experiment', 'experiments', 'expertise', 'expired', 'explain', 'explained', 'explaining', 'explanation', 'exposed', 'express', 'expressions', 'extra', 'extreme', 'extremely', 'eye', 'eyebrows', 'eyes', 'eyesore', 'f', 'fa', 'fabric', 'fabulous', 'face', 'faces', 'facilitates', 'facing', 'fact', 'factor', 'factoring', 'factory', 'facts', 'failed', 'fair', 'fairly', 'faithful', 'fake', 'faked', 'faker', 'fall', 'falling', 'falls', 'familiar', 'families', 'family', 'famine', 'famous', 'fan', 'fancier', 'fancy', 'fangled', 'fans', 'fantastic', 'fantastically', 'fantasy', 'far', 'farm', 'farmer', 'farts', 'fascinated', 'fascinating', 'fashion', 'fast', 'faster', 'fat', 'father', 'fatty', 'fault', 'favor', 'favorite', 'favourite', 'fax', 'fbi', 'fear', 'feared', 'fears', 'feed', 'feeding', 'feel', 'feelin', 'feeling', 'feelings', 'feels', 'feet', 'fell', 'fella', 'fellas', 'fellow', 'felt', 'female', 'feminine', 'ferdinad', 'ferrets', 'fest', 'fetch', 'fever', 'few', 'fewer', 'fiancee', 'fiction', 'fictional', 'fiddler', 'field', 'fifteen', 'fifteenth', 'fifth', 'fifties', 'fifty', 'fight', 'fighting', 'figure', 'figured', 'figures', 'file', 'filed', 'filipino', 'filled', 'film', 'filth', 'finally', 'financial', 'financing', 'find', 'finding', 'finds', 'fine', 'finger', 'fingers', 'finish', 'finished', 'finishing', 'fire', 'fired', 'fireman', 'fireplace', 'firm', 'first', 'fish', 'fishing', 'fishnet', 'fishtank', 'fist', 'fit', 'fits', 'fitting', 'five', 'fix', 'fixable', 'fixed', 'fixer', 'fixing', 'flabby', 'flaign', 'flail', 'flames', 'flan', 'flanen', 'flangin', 'flash', 'flashback', 'flashdance', 'flashy', 'flatness', 'flattering', 'flavoured', 'flaw', 'flaws', 'fleischman', 'flennin', 'flew', 'flexed', 'flick', 'flights', 'fling', \"flingin'\", 'flintstones', 'flip', 'flipping', 'flirt', 'flirted', 'flirting', 'floating', 'flock', 'floor', 'flow', 'flower', 'flowers', 'flown', 'floyd', 'fluid', 'fluids', 'fluorescent', 'flush', 'flushed', 'fly', 'flying', 'focus', 'foil', 'fold', 'follow', 'followed', 'following', 'fond', 'fonts', 'fonzie', 'food', 'foods', 'fool', 'fooled', 'fooling', 'foosball', 'foot', 'footage', 'football', 'for', 'forbid', 'force', 'ford', 'fore', 'forefathers', 'foreign', 'foreplay', 'forest', 'forever', 'forgave', 'forget', 'forgetting', 'forgive', 'forgiven', 'forgiving', 'forgot', 'forgotten', 'fork', 'form', 'formal', 'formerly', 'fort', 'forth', 'fortunately', 'forty', 'forward', 'fought', 'found', 'foundation', 'founder', 'four', 'fours', 'fourteen', 'fourth', 'fowl', 'foxhole', 'foxy', 'fr.', 'fraggile', 'frame', 'framed', 'fran', 'france', 'francisco', 'frank', 'frankly', 'frannie', 'frayed', 'freak', 'freaked', 'freaking', 'freakish', 'freakishly', 'freakshow', 'fred', 'free', 'freebie', 'freedom', 'freeze', 'freezer', 'french', 'frenzy', 'fresh', 'freshly', 'freshman', 'freudian', 'fricken', 'friday', 'fridge', 'fried', 'friend', 'friendly', 'friends', 'friendship', 'friggin', 'frightening', 'fringe', 'frizzy', 'from', 'front', 'frozen', 'fruit', 'fruity', 'frying', 'fuel', 'fulfilled', 'fulfilling', 'full', 'fully', 'fun', 'funeral', 'funnier', 'funniest', 'funny', 'furniture', 'future', 'fyi', \"g'night\", 'gaaaahhh', 'gaelic', 'gagging', 'gal', 'galaxies', 'gallivanting', 'gallon', 'gallons', 'gambler', 'game', 'games', 'gandolf', 'gang', 'gangin', 'gap', 'gar', 'garage', 'garbage', 'gary', 'gas', 'gate', 'gave', 'gawd', 'gay', 'gdcr', 'gdcr.', 'gee', 'geek', 'geese', 'geez', 'gel', 'gelatenous', 'geller', 'gellers', 'general', 'generally', 'generosity', 'generous', 'genes', 'genius', 'genre', 'gentle', 'gentleman', 'gentlemen', 'gently', 'george', 'gepeto', 'german', 'gerston', 'gesture', 'get', 'gets', 'gettin', 'getting', 'giant', 'gift', 'gifts', 'gig', 'gim', 'gin', 'ginger', 'gingham', 'gippetto', 'girabaldi', 'girl', 'girlfriend', 'girlfriends', 'girlie', 'girls', 'girth', 'give', 'given', 'gives', 'giving', 'glad', 'gladly', 'glamorous', 'glare', 'glass', 'glasses', 'glenn', 'globe', 'gloria', 'gloves', 'glow', 'glue', 'glued', 'go', 'goal', 'goals', 'god', 'goes', 'goggles', 'gogo', 'goin', 'going', 'gold', 'goldberg', 'golden', 'goldfish', 'goldman', 'golf', 'gon', 'gonad', 'gone', 'good', 'goodacre', 'goodbuy', 'goodbye', 'goodness', 'goodnight', 'goods', 'goofin', 'goofing', 'google', 'gooooood', 'goooooooooo', 'goop', 'goose', 'goralnik', 'gordon', 'gorgeous', 'gorilla', 'gosh', 'got', 'gotcha', 'gotten', 'government', 'governor', 'gr-6', 'grab', 'grabbed', 'grabs', 'grade', 'graduated', 'graduation', 'grandchildren', 'grandfather', 'grandma', 'grandmother', 'granted', 'grape', 'grapes', 'grath', 'grave', 'gravel', 'gravity', 'gray', 'grease', 'great', 'greatest', 'greatness', 'greek', 'green', 'greene', 'greeting', 'greetings', 'grief', 'grievances', 'grinch', 'groin', 'groom', 'grooming', 'groomsman', 'groomsmen', 'gross', 'ground', 'grounded', 'grounds', 'group', 'grow', 'growing', 'grown', 'grows', 'grrreat', 'guard', 'guess', 'guessed', 'guessing', 'guest', 'guestroom', 'guggenheim', 'guild', 'guilt', 'guilty', 'guitar', 'gullible', 'gum', 'gumball', 'gums', 'gun', 'guns', 'gunther', 'gut', 'guts', 'guy', 'guys', 'gym', 'gym.', 'h', 'ha', 'ha-ha', 'haaaan', 'had', 'hah', 'haha', 'hahaha', 'hair', 'haircut', 'hairpiece', 'hairy', 'half', 'hall', 'halle', 'halloween', 'halls', 'hallway', 'ham', 'hammer', 'hammered', 'hand', 'handcuff', 'handcuffs', 'handed', 'handing', 'handle', 'hands', 'handshake', 'handsome', 'handwritten', 'hang', 'hanger', 'hangin', 'hanging', 'hannibal', 'hannigan', 'hanukkah', 'happen', 'happened', 'happening', 'happens', 'happier', 'happiest', 'happily', 'happiness', 'happy', 'harboring', 'hard', 'hardball', 'harder', 'hardest', 'hardly', 'harry', 'has', 'hasselhoff', 'hassidic', 'hat', 'hate', 'hated', 'hates', 'hating', 'hats', 'haunts', 'have', 'havent', 'haveth', 'having', 'hawaii', 'hay', 'hbo', 'he', 'head', 'headdress', 'headed', 'headhunter', 'heading', 'headline', 'headliner', 'heads', 'health', 'healthy', 'hear', 'heard', 'hearing', 'hears', 'heart', 'heartbreaker', 'hearts', 'heat', 'heating', 'heaven', 'heavy', 'heckles', 'hedges', 'heeeiiiiii', 'heh', 'hehheh', 'heightened', 'held', 'heldi', 'helen', 'helium', 'hell', 'hello', 'helmet', 'help', 'helped', 'helping', 'helps', 'hemingway', 'hemorrhoids', 'hence', 'her', 'here', 'heritage', 'hermaphrodite', 'hermit', 'hernia', 'hero', 'hers', 'herself', 'hershey', 'hey', 'heyyyy', 'hhhiiii', 'hi', 'hibachi', 'hid', 'hidden', 'hide', 'hideous', 'hideously', 'hiding', 'high', 'higher', 'hike', 'hillary', 'him', 'himdrink', 'himself', 'hint', 'hip', 'hire', 'hires', 'his', 'hissy', 'history', 'hit', 'hitlers', 'hitting', 'hiya', 'hm', 'hm.', 'hmm', 'hmm.', 'hmmm', 'ho', 'hockey', 'hog', 'hoggin', 'hold', 'holder', 'holdin', 'holding', 'holds', 'hole', 'holiday', 'holidays', 'holland', 'hollow', 'hollywood', 'holocaust', 'holy', 'hombre', 'home', 'homemade', 'homesick', 'homework', 'homo', 'honest', 'honestly', 'honesty', 'honey', 'honeymoon', 'honing', 'honoured', 'hoo', 'hooing', 'hook', 'hooked', 'hooker', 'hookin', 'hoops', 'hoos', 'hoot', 'hootie', 'hop', 'hope', 'hoped', 'hopefully', 'hopeless', 'hopes', 'hoping', 'horn', 'hornswoggle', 'horny', 'horrible', 'horrifying', 'horseback', 'hospital', 'host', 'hot', 'hotbed', 'hotel', 'hotels', 'hotter', 'hottest', 'hotties', 'hour', 'hours', 'house', 'houseboy', 'household', 'houses', 'housetrained', 'how', 'howdy', 'however', 'howie', 'hows', 'hubba', 'huffy', 'hug', 'huge', 'huggin', 'hugging', 'hugs', 'huh', 'human', 'humanity', 'humdinger', 'humid', 'humiliating', 'humor', 'humour', 'hump', 'humping', 'hundred', 'hung', 'hungry', 'hunky', 'hunter', 'hurry', 'hurs', 'hurt', 'hurts', 'husband', 'hut', 'hygienist', 'hymn', 'hyper-organized', 'hypothetically', 'i', 'i-i-i', 'i.', 'i...i', 'ian', 'ice', 'id', 'idea', 'ideally', 'ideas', 'identical', 'idiot', 'idney', 'if', 'iffy', 'ignore', 'ignoring', 'iii', 'iiiii', 'ikea', 'ill', 'illegal', 'illegitimate', 'illness', 'im', 'image', 'images', 'imaginary', 'imagination', 'imagine', 'immediately', 'immodest', 'immunized', 'imp', 'impact', 'impart', 'impending', 'imperial', 'impersonating', 'impish', 'implode', 'important', 'importantly', 'impossible', 'impress', 'impresses', 'impression', 'impressions', 'impressive', 'impulsive', 'in', 'in-intend', 'in.', 'inadequate', 'inappropriate', 'inching', 'incident', 'inclined', 'include', 'including', 'incomptent', 'incorrect', 'incredible', 'incredibly', 'indeedy', 'independent', 'indian', 'indians', 'individual', 'indivisible', 'indoor', 'inexplicable', 'infamous', 'inflatable', 'inflated', 'information', 'informative', 'informed', 'ing', 'ingredient', 'inhospitable', 'initials', 'inlcuding', 'inn', 'innsbruck', 'input', 'inputting', 'insane', 'insanely', 'inseam', 'insects', 'insecure', 'insemination', 'inside', 'insightful', 'insinuation', 'insist', 'insoles', 'inspect', 'instead', 'instincts', 'instruction', 'insulted', 'insurance', 'intelligence', 'intelligent', 'intense', 'intently', 'inter-business', 'interest', 'interested', 'interesting', 'interestingly', 'interests', 'interference', 'intern', 'international', 'internet', 'interns', 'internship', 'interruptions', 'interview', 'intimacy', 'intimidated', 'into', 'intrigued', 'introduce', 'intuitive', 'invade', 'invaders', 'invented', 'inventing', 'inventor', 'investments', 'invisibility', 'invisible', 'invitation', 'invitations', 'invite', 'invited', 'involve', 'involved', 'involves', 'irish', 'ironic', 'irony', 'irrational', 'irreplaceable', 'is', 'isaac', 'ish', 'island', 'isle', 'israeli', 'issac', 'issues', 'it', 'italian', 'italy', 'item', 'its', 'itself', 'ium', 'ive', 'iverson', 'ivory', 'j', 'ja', 'jack', 'jacket', 'jackets', 'jade', 'jaguar', 'jail', 'jalepino', 'jalopy', 'jam', 'jamaican', 'james', 'jamestown', 'jams', 'jan', 'janice', 'janine', 'janitor', 'japanese', 'jar', 'jars', 'jasmine', 'jaw', 'jaws', 'jealous', 'jean', 'jeanette', 'jeannie', 'jeans', 'jeez', 'jell', 'jellies', 'jelly', 'jenny', 'jeremiah', 'jerk', 'jerry', 'jessica', 'jesus', 'jet', 'jewellers', 'jewelry', 'jewish', 'jews', 'jill', 'jillion', 'jll', 'jo', 'joan', 'joanna', 'job', 'jobs', 'joe', 'joey', 'jogging', 'john', 'johnson', 'join', 'joincidence', 'joke', 'jokes', 'jones', 'joseph', 'josephine', 'joshua', 'journal', 'journey', 'joy', 'judd', 'judge', 'judged', 'judgement', 'judging', 'judgment', 'juggling', 'juice', 'juicy', 'julie', 'jump', 'jumped', 'jumping', 'jumps', 'jumpy', 'junction', 'junior', 'jury', 'jus', 'just', 'justice', 'k', 'kangaroo', 'kansas', 'kara', 'karaoke', 'karen', 'karma', 'kate', 'kathy', 'kats', 'kay', 'kea', 'keep', 'keeper', 'keeping', 'keeps', 'ken', 'kennedy', 'kept', 'kerplunk', 'key', 'keys', 'keystone', 'kick', 'kicked', 'kicking', 'kicks', 'kicky', 'kid', 'kidder', 'kidding', 'kiddo', 'kidnap', 'kidney', 'kids', 'kill', 'killed', 'killer', 'killing', 'kills', 'kilmer', 'kim', 'kims', 'kind', 'kinda', 'kindergarten', 'kinds', 'king', 'kingdom', 'kings', 'kinky', 'kip', 'kiss', 'kissed', 'kisser', 'kisses', 'kissing', 'kit', 'kitchen', 'kitty', 'kiwi', 'kl-5', 'knapsack', 'knees', 'knew', 'knicks', 'knights', 'knit', 'knock', 'knocked', 'know', 'knowing', 'knowledge', 'known', 'knows', 'knuckle', 'kori', 'kosher', 'kostelic', 'kournikova', 'krog', 'ku', 'kung', 'l', \"l'\", 'l-o-s-e-r', 'la', 'lab', 'labor', 'lace', 'lad', 'ladder', 'ladies', 'ladle', 'lady', 'laid', 'lamb', 'lambchop', 'lambs', 'lame', 'lamp', 'lamps', 'land', 'lane', 'lap', 'lapse', 'lapsed', 'large', 'larges', 'las', 'lasagne', 'laser', 'last', 'lasted', 'late', 'lately', 'later', 'latte', 'laude', 'laugh', 'laughed', 'laughing', 'laughs', 'laughter', 'laundry', 'lauren', 'laurie', 'law', 'lawn', 'lay', 'layer', 'layers', 'lead', 'leaf', 'league', 'lean', 'leaned', 'leaning', 'learn', 'learned', 'lease', 'least', 'leather', 'leave', 'leaves', 'leaving', 'lecter', 'lecture', 'lee', 'leering', 'leetch', 'left', 'leftover', 'leg', 'legal', 'legitimate', 'legs', 'leia', 'lemon', 'length', 'lenny', 'leon', 'lesbian', 'lesbiani', 'less', 'lesson', 'lessons', 'lest', 'let', 'lets', 'letter', 'letters', 'lettin', 'letting', 'level', 'leyhallalookoos', 'liaisons', 'liar', 'libe', 'liberace', 'liberty', 'library', 'license', 'lick', 'licked', 'licking', 'lie', 'lied', 'lieutenant', 'life', 'lifeguards', 'lifestyle', 'lifetime', 'lift', 'lifted', 'light', 'lighter', 'lighting', 'lightning', 'lights', 'like', 'liked', 'likes', 'liking', 'lilies', 'lima', 'limb', 'lime', 'limericks', 'limps-a-lot', 'linda', 'line', 'lined', 'lines', 'lingerie', 'lingers', 'lining', 'lion', 'lip', 'lips', 'liquor', 'liquored', 'list', 'listen', 'listening', 'listings', 'literally', 'litman', 'littered', 'little', 'live', 'lived', 'livelihood', 'lives', 'living', 'liza', 'lo-o-ong', 'lo...look', 'loaded', 'loan', 'loathe', 'lobster', 'lock', 'locked', 'lodged', 'logic', 'logical', 'london', 'lonely', 'long', 'longer', 'look', 'looked', 'lookin', 'looking', 'looks', 'looong', 'loose', 'loosen', 'lopped', 'lord', 'lose', 'loser', 'losers', 'loses', 'losing', 'lost', 'lot', 'lotion', 'lots', 'lottery', 'loud', 'louder', 'lounge', 'lousy', 'love', 'loveable', 'loved', 'lovely', 'lover', 'loves', 'loving', 'low', 'lowell', 'lower', 'lrr', 'luck', 'luckiest', 'luckily', 'lucky', 'luggage', 'luke', 'lully', 'lumps', 'lunch', 'lunching', 'lung', 'luther', 'luv', 'lycra', 'lying', 'lynn.', 'm', 'm&m', \"ma'am\", 'mac', 'macbeth', 'mached', 'machine', 'macho', 'macpherson', 'macy', 'mad', 'made', 'madge', 'madre', 'magazine', 'magazines', 'magellan', 'magic', 'magical', 'magically', 'magician', 'magma', 'magnetic', 'magnificent', 'magnum', 'maid', 'mail', 'mailbox', 'mailman', 'maintaining', 'maintenance', 'maitre', 'majesty', 'major', 'majored', 'make', 'makes', 'makeup', 'makin', 'making', 'malcom', 'male', 'malfunctioning', 'malpractice', 'mama', 'man', 'manage', 'managed', 'management', 'manchild', 'mangled', 'manheads', 'maniac', 'manipulated', 'manipulative', 'manning', 'manny', 'mantrap', 'manueveored', 'many', 'maple', 'maps', 'mar', 'marceau', 'marcel', 'march', 'maria', 'marilyn', 'marine', 'mark', 'markson', 'marmalades', 'maroon', 'marriage', 'marriages', 'married', 'marry', 'marrying', 'martin', 'martina', 'martini', 'martinis', 'mary', 'mascara', 'masculine', 'massage', 'massaged', 'massages', 'massaging', 'match', 'matches', 'mate', 'material', 'mates', 'math', 'matter', 'mattered', 'matters', 'matthew', 'mattress', 'mature', 'mauled', 'maureen', 'max', 'maxed', 'maxim', 'may', 'maybe', 'mazel', 'mckenna', 'me', 'me-a-heart', 'meadow', 'meal', 'meals', 'mean', 'meaning', 'means', 'meant', 'meanwhile', 'measured', 'measuring', 'meat', 'meatloaf', 'mechanic', 'mechanism', 'medallion', 'meddler', 'medical', 'medicine', 'meeee', 'meet', 'meeting', 'meets', 'megabyte', 'megabytes', 'melba', 'mellow', 'melon', 'melrose', 'member', 'memo', 'memorial', 'memories', 'memorized', 'memos', 'men', 'mental', 'mention', 'mentioned', 'mento', 'merely', 'merge', 'merriment', 'merry', 'mesquite', 'mess', 'message', 'messages', 'messed', 'messers', 'messier', 'messies', 'messing', 'messy', 'met', 'metal', 'metaphorically', 'methods', 'mexican', 'mhum', 'michelle', 'micro-manage', 'microphone', 'middle', 'midgets', 'midnight', 'might', 'mike', 'miles', 'mileu', 'milk', 'milking', 'milkshakes', 'million', 'millionaire', 'millionth', 'milne', 'milton', 'mind', 'mindset', 'mindy', 'mine', 'mineby', 'minelli', 'mingle', 'mini', 'mini-wave', 'minion', 'minions', 'minister', 'minnelli', 'mint', 'minute', 'minutes', 'miracle', 'miranda', 'mirror', 'misery', 'miss', 'missed', 'misses', 'missing', 'missouri', 'missy', 'mistake', 'mister', 'mistress', 'misunderstand', 'misunderstanding', 'misunderstood', 'mix', 'mixed', 'mm', 'mma', 'mmaah', 'mmm', 'mmm.', 'mmmhm', 'mmmm.', 'mock', 'mocking', 'model', 'modeler', 'models', 'modem', 'modern', 'mole', 'molly', 'mom', 'moment', 'moments', 'momi', 'momma', 'mommy', 'moms', 'mon', 'mon.', 'monday', 'money', 'monica', 'monicas', 'monkey', 'monkeys', 'monnnnn', 'montgomery', 'month', 'months', 'monty', 'moo', 'mood', 'moody', 'moon', 'mooning', 'moonlit', 'mooooo', 'mop', 'morale', 'more', 'morning', 'moses', 'moss', 'most', 'mostly', 'mother', 'motility', 'motion', 'motivation', 'motivational', 'mouldings', 'mountain', 'mourning', 'mousse', 'moustache', 'moustaches', 'mouth', 'mouthful', 'move', 'moved', 'movement', 'moves', 'movie', 'movie-e-e', 'movies', 'movin', 'moving', 'mowing', 'mozzarella', 'mr', 'mr.', 'mrs', 'mrs.', 'ms.', 'much', 'mud', 'muffins', 'mug', 'mugful', 'mugsy', 'mulden', 'multinational', 'multiple', 'mumbles', 'muppet', 'muppets', 'muppy', 'murder', 'muriel', 'muscles', 'museum', 'museums', 'music', 'musical', 'musicman', 'muskogee', 'mussberger', 'must', 'mustache', 'mustached', 'mustard', 'mute', 'mwha', 'my', 'myself', 'myth.', 'myyy', 'n', \"n't\", 'na', 'nah', 'nail', 'nailed', 'nails', 'naked', 'name', 'named', 'names', 'naming', 'nancy', 'nanny', 'nap', 'napkin', 'napkins', 'napping', 'narnia', 'narrate', 'narrow', 'narrowed', 'nate', 'nation', 'national', 'nations', 'natural', 'nature', 'ndash', 'ne', 'near', 'nearest', 'neat', 'necessarily', 'necessary', 'neck', 'necklace', 'necklaces', 'ned', 'need', 'needed', 'needs', 'needy', 'negotiation', 'neighbor', 'neighbors', 'neihosenstein', 'neither', 'nen', 'nerve', 'nerves', 'nervous', 'net', 'netherlands', 'network', 'networking', 'nevada', 'never', 'new', 'newfound', 'newman', 'news', 'newspapers', 'newton', 'next', 'ni', 'nice', 'nicely', 'nicer', 'nicest', 'nick', 'nickname', 'night', 'nightmare', 'nights', 'nightstand', 'nighttime', 'nina', 'nine', 'nip', 'nipple', 'nipples', 'nipular', 'nngghhh', 'no', 'no-o-o', 'noble', 'nobody', 'noho', 'noise', 'noises', 'non-smoker', 'non-ugly', 'none', 'nono', 'nonononononnononono', 'nononowaitwaitwaitnono', 'noo', 'noodle', 'noodles', 'nooo', 'nope', 'normal', 'north', 'nose', 'nosing', 'not', 'notch', 'note', 'notes', 'nothin', 'nothing', 'notice', 'noticed', 'notwe', 'nouse', 'nova', 'novels', 'now', 'nowadays', 'nowhere', 'nubbin', 'nuclear', 'nude', 'number', 'numbers', 'nurse', 'nurses', 'nuts', 'ny', 'ny.c', 'o', \"o'clock\", \"o'mally\", 'o-kay', 'o-okay', 'obese', 'obesity', 'obituaries', 'obsessed', 'obsessive', 'obsolete', 'obvious', 'obviously', 'occasion', 'occasionally', 'occupied', 'occurred', 'occurrence', 'odd', 'oddly', 'odds', 'of', 'off', 'offended', 'offer', 'offered', 'offers', 'office', 'officer', 'offices', 'official', 'officially', 'often', 'og', 'oh', 'ohh', 'ohhh', 'ohhhh', 'ohhhhh', 'ohio', 'oi', 'oil', 'oils', 'ok', 'ok.i', 'okaaay', 'okay', 'oklahoma', 'old', 'older', 'oldest', 'olds', 'omnipotent', 'on', 'once', 'one', 'ones', 'only', 'onstage', 'onto', 'ooh', 'oooh', 'oooo', 'ooooh', 'ooooohh', 'oooooooh', 'oop', 'oopsey', 'op', 'open', 'opened', 'opening', 'openness', 'opens', 'operation', 'operations', 'opinion', 'opposite', 'oprah', 'option', 'or', 'orange', 'order', 'ordered', 'ordinary', 'oregon', 'organized', 'orgies', 'original', 'originally', 'orson', 'orthodox', 'os', 'ot', 'other', 'others', 'otherwise', 'our', 'ours', 'ourselves', 'out', 'out-of', 'outlet', 'outloud', 'outside', 'outta', 'oven', 'over', 'over-pronouncing', 'over-the', 'overcoat', 'overdue', 'overly', 'overpriced', 'overreacted', 'overseas', 'overweight', 'overwhelming', 'ovulating', 'ow', 'owe', 'owen', 'owes', 'own', 'owned', 'owww', 'oy', 'pack', 'pack...a...a', 'package', 'packaging', 'packing', 'packs', 'pact', 'pacts', 'pad', 'paddling', 'page', 'pah', 'paid', 'pain', 'painful', 'painkillers', 'paintings', 'paints', 'pair', 'paisan', 'pal', 'palace', 'paleontologist', 'paleontology', 'palmolive', 'palpable', 'pan', 'pancakes', 'panic', 'panicking', 'pant', 'panties', 'pants', 'pantsuit', 'paolo', 'paper', 'papers', 'paperwork', 'parachute', 'parade', 'paranoid', 'pardon', 'parent', 'parents', 'paris', 'park', 'parker', 'parking', 'part', 'part-time', 'particularly', 'parties', 'partner', 'partners', 'parts', 'party', 'partying', 'pass', 'passed', 'passes', 'passing', 'passionate', 'passport', 'past', 'pat', 'patch', 'patent', 'path', 'pathetic', 'patients', 'patio', 'patrick', 'pattern', 'paul', 'pawn', 'pay', 'paycheck', 'paying', 'payout', 'payroll', 'pays', 'peach', 'peacock', 'peanut', 'pearl', 'pearls', 'pecs', 'pedals', 'pedicures', 'pee', 'peehe', 'peeing', 'peep', 'peeves', 'pen', 'penguin', 'penis', 'penn', 'pennies', 'penny', 'pens', 'people', 'pepper', 'pepperidge', 'peppiness', 'pepponi', 'per', 'perceived', 'percent', 'perfect', 'perfection', 'perfectly', 'perform', 'performance', 'perfume', 'period', 'perk', 'perked', 'permission', 'perrr', 'perry', 'person', 'personal', 'personality', 'personally', 'personals', 'persons', 'perspective', 'pet', 'pete', 'peter', 'petite', 'petrie', 'petrified', 'pff', 'pffffffft', 'pffft.', 'pharmacist', 'phase', 'phaybobo', 'phebes', 'pheebs', 'phewbedo', 'phil', 'phlegm', 'phobo', 'phoebe', 'phoebs', 'phone', 'phones', 'photo', 'photographer', 'photography', 'photos', 'phrase', 'phrases', 'physically', 'piano', 'piccata', 'pick', 'picked', 'picking', 'pickings', 'picky', 'picnic', 'pictionary', 'picture', 'pictured', 'pictures', 'picturing', 'pie', 'piece', 'pieces', 'pierce', 'pig', 'piggy', 'pigs', 'pigtails', 'pile', 'pilgrims', 'pillars', 'pillman', 'pillow', 'pillows', 'pimp', 'pimple', 'pin', 'pinchable', 'pinching', 'pink', 'pinned', 'pins', 'pipe', 'piper', 'pirates', 'pissed', 'pitbul', 'pittsburgh', 'pity', 'pivot', 'pizza', 'pizzas', 'pizzeria', 'pl', 'plaaaa', 'place', 'places', 'plan', 'plane', 'planeload', 'planet', 'planned', 'planning', 'plans', 'plants', 'plastic', 'plate', 'plates', 'play', 'playboy', 'played', 'players', 'playing', 'plays', 'playstation', 'playthings', 'pleasant', 'please', 'pleased', 'pleasing', 'pleasure', 'plenty', 'plucking', 'plummet', 'plural', 'plus', 'pocket', 'pockets', 'poem', 'point', 'pointer', 'pointers', 'points', 'poker', 'poking', 'poland', 'pole', 'police', 'policeman', 'policy', 'polite', 'political', 'polo', 'pony', 'poo', 'poodle', 'poofy', 'pool', 'poor', 'poorly', 'pop', 'popcorn', 'popes', 'poppers', 'pops', 'popular', 'porn', 'porno', 'portier', 'portion', 'portuguese', 'poseidon', 'posing', 'position', 'possible', 'possibly', 'post', 'post-apoplectic', 'post-dating', 'posterior', 'postpone', 'pot', 'potato', 'potatoes', 'pottery', 'poughkeepsie', 'poulet', 'poultry', 'pound', 'pounds', 'pow', 'power', 'powerful', 'powers', 'pox', 'practice', 'practicing', 'prague', 'praise', 'prank', 'pre-emptive', 'precious', 'predicament', 'prefer', 'preferred', 'pregnancy', 'pregnant', 'premiere', 'prepared', 'preparing', 'prepossessing', 'prescriptions', 'present', 'presents', 'president', 'press', 'pressed', 'pressing', 'pressure', 'pressures', 'presumably', 'pretend', 'pretending', 'pretentious', 'prettiest', 'pretty', 'pretzel', 'pribe', 'price', 'pricey', 'pricing', 'pride', 'priest', 'primitive', 'princess', 'principles', 'print', 'printed', 'printing', 'privacy', 'private', 'pro', 'probably', 'problem', 'problems', 'proceeds', 'process', 'processing', 'processor', 'producing', 'productive', 'professor', 'profile', 'program', 'programming', 'progress', 'project', 'projectile', 'projects', 'prom', 'promise', 'promised', 'promoted', 'promotion', 'pronounced', 'pronounces', 'pronouncing', 'property', 'proportioned', 'propose', 'proposed', 'proposing', 'pros', 'protected', 'protective', 'protested', 'prototype', 'proud', 'proudly', 'prove', 'proved', 'proven', 'proves', 'provide', 'providing', 'prower', 'psyched', 'psychiatrist', 'psycho', 'psychology', 'psychopath', 'public', 'puck', 'puddle', 'pudo', 'puff', 'pull', 'pulled', 'pulling', 'pulp', 'pump', 'pumpkin', 'pumpkins', 'pumps', 'punch', 'puppet', 'puppies', 'puppy', 'pure', 'purifier', 'purple', 'pursuing', 'push', 'pushed', 'pushing', 'put', 'puts', 'putting', 'pyjama', 'pyramid', 'q', 'quack', 'qualified', 'qualifies', 'quality', 'quarter', 'queen', 'queens', 'question', 'questionable', 'questions', 'quick', 'quicker', 'quickly', 'quiet', 'quietly', 'quilt', 'quipy', 'quit', 'quite', 'quitting', 'quiz', 'r', 'r.g.', 'rabbit', 'rabid', 'race', 'racecar', 'racer', 'rach', 'rachel', 'racist', 'racquet', 'racquetball', 'radiators', 'radio', 'raffia', 'rain', 'rained', 'raise', 'raisins', 'ralph', 'ram', 'rambling', 'ramp', 'ran', 'ranger', 'rangers', 'raquetball', 'rarely', 'rasputin', 'rat', 'rate', 'rather', 'ravioli', 'ray', 'raymond', 're-pack', 'reach', 'reached', 'reaching', 'reacted', 'read', 'reading', 'reads', 'ready', 'real', 'realise', 'realised', 'realize', 'realized', 'realizes', 'realizing', 'really', 'realms', 'realtor', 'reason', 'reasonable', 'reasons', 'recall', 'receipt', 'receive', 'reciept', 'recognize', 'recollection', 'recommendation', 'recommending', 'reconfiguration', 'record', 'recorded', 'red', 'redused', 'referred', 'referring', 'refill', 'reflection', 'refresh', 'refrigerator', 'refundable', 'reggie', 'regimented', 'regional', 'regret', 'regular', 'regularly', 'regulars', 'rehearsal', 'rehearse', 'reject', 'rejected', 'rejecting', 'rejection', 'related', 'relationship', 'relationships', 'relatively', 'relax', 'relaxed', 'relaxes', 'relaxing', 'release', 'relied', 'relief', 'relinquish', 'reliving', 'relocated', 'remaining', 'remarkably', 'remedy', 'remember', 'remembered', 'reminded', 'reminds', 'remore', 'remote', 'remove', 'rent', 'repaired', 'repeated', 'repellant', 'repeller', 'replace', 'replaced', 'report', 'reputation', 'reschedule', 'research', 'resentment', 'reservation', 'reservations', 'resist', 'resistance', 'resolution', 'respect', 'respectfully', 'responded', 'response', 'responsibile', 'responsibility', 'responsible', 'rest', 'restaurant', 'restraining', 'rests', 'results', 'resumes', 'retailers', 'rethink', 'return', 'reunited', 'reverend', 'reverse', 'reward', 'rhyme', 'rhythm', 'rice', 'rich', 'richard', 'rick', 'rid', 'riddler', 'ride', 'ridiculous', 'ridiculously', 'riding', 'right', 'righteous', 'rights', 'ring', 'ringwald', 'rip', 'ripped', 'ripping', 'risk', 'risked', 'risking', 'river', 'road', 'roaming', 'roams', 'rob', 'robbed', 'robbery', 'robert', 'robin', 'robot', 'robots', 'rock', 'rockefeller', 'rocks', 'rode', 'rodrigo', 'rog', 'roger', 'rogue', 'role', 'roll', 'roller', 'rollin', 'rolling', 'rollos', 'rom', 'romantic', 'rome', 'roof', 'rookie', 'room', 'roomie', 'roommate', 'roommates', 'rooms', 'rooosss', 'rooster', 'rooting', 'rope', 'rose', 'roses', 'rosilla', 'rosita', 'ross', 'rough', 'round', 'rounds', 'route', 'routine', 'roy', 'rub', 'rubbing', 'ruben', 'rude', 'rue', 'rued', 'ruin', 'ruined', 'ruining', 'rule', 'rules', 'run', 'runner', 'running', 'runs', 'ruptured', 'ruse', 'rush', 'rushed', 'rushing', 'rushmore', 'russ', 'russian', 'rusty', 's', \"s'no\", \"s'why\", 'sachets', 'sad', 'saddlebags', 'sadly', 'safe', 'safely', 'safety', 'saggy', 'said', 'sake', 'salad', 'saliva', 'salon', 'salt', 'salts', 'salty', 'same', 'sample', 'san', 'sand', 'sandwich', 'sandwiches', 'sanford', 'sang', 'santa', 'santos', 'sapiens', 'sarcastic', 'sat', 'satan', 'sateen', 'satin', 'satisfying', 'saturday', 'sauce', 'saucer', 'saucy', 'save', 'saved', 'saves', 'saving', 'savings', 'savor', 'saw', 'say', 'saying', 'says', 'scale', 'scalp', 'scammed', 'scar', 'scare', 'scared', 'scares', 'scarf', 'scarier', 'scariest', 'scaring', 'scarring', 'scarves', 'scary', 'scenario', 'scene', 'scented', 'scents', 'schedule', 'scheduled', 'schhexy', 'schhteve', 'schmenis', 'scholarship', 'school', 'schoolchildren', 'science', 'scientist', 'scientists', 'scissors', 'scone', 'scoot', 'score', 'scored', 'scores', 'scotch', 'scotia', 'scotland', 'scott', 'scottish', 'scouts', 'scrabble', 'scramble', 'scratch', 'scream', 'screamed', 'screamer', 'screaming', 'screen', 'screening', 'screensaver', 'screw', 'screwed', 'sculpture', 'scuse', 'se', 'sea', 'seagulls', 'seals', 'sean', 'search', 'seasame', 'seashores', 'season', 'seat', 'seats', 'sebastian', 'sec', 'second', 'seconds', 'secret', 'secretary', 'secretly', 'secrets', 'security', 'seduces', 'see', 'seeing', 'seek', 'seem', 'seemed', 'seems', 'seen', 'sees', 'seine', 'selection', 'self', 'self-cleaning', 'self-loathing', 'self-respecting', 'self-sufficient', 'sell', 'selling', 'semi-finals', 'semi-first', 'send', 'sending', 'sends', 'sensation', 'sense', 'sensed', 'sensitive', 'sent', 'sentence', 'sentiment', 'separately', 'sequence', 'serial', 'serious', 'seriously', 'servants', 'serve', 'serves', 'service', 'serviced', 'services', 'serving', 'set', 'sets', 'setting', 'settle', 'settled', 'seven', 'seventh', 'seventy', 'several', 'sewer', 'sex', 'sexual', 'sexy', 'sh', 'sha', 'shabby', 'shake', 'shaker', 'shaking', 'shall', 'shallow', 'shame', 'shampoos', 'shape', 'shaped', 'shapes', 'share', 'sharing', 'sharks', 'sharp', 'sharper', 'shave', 'she', 'shedder', 'sheena', 'sheep', 'sheer', 'sheets', 'shell', 'shelley', 'shelly', 'shelter', 'shes', 'shh', 'shhh', 'shhh.', 'shhhh', 'shhhhh', 'shhhhhhhhh', 'shhing', 'shield', 'shine', 'shiny', 'shirt', 'shirts', 'shocking', 'shoe', 'shoes', 'shooping', 'shoot', 'shootin', 'shooting', 'shop', 'shopping', 'short', 'shorts', 'shot', 'shotgun', 'shots', 'should', 'shoulder', 'shout', 'shovel', 'shovely', 'shoves', 'show', 'showbusiness', 'showed', 'shower', 'showing', 'shows', 'showtime', 'shrew', 'shrieking', 'shrill', 'shrimp', 'shrink', 'shut', 'shy', 'sick', 'sid', 'side', 'sidekick', 'sidestep', 'sidewalk', 'sido', 'sierra', 'sight', 'sign', 'signing', 'signs', 'silence', 'silliness', 'silly', 'silver', 'silverware', 'simian', 'similar', 'simon', 'simple', 'since', 'sing', 'singing', 'single', 'sir', 'sister', 'sisters', 'sit', 'site', 'sits', 'sitting', 'situation', 'six', 'sixth', 'size', 'sized', 'sizes', 'skating', 'skidmark', 'skids', 'skills', 'skinny', 'skins', 'skirt', 'skirts', 'skull', 'slack', 'slam', 'slammed', 'slapping', 'slash', 'slave', 'slaw', 'slays', 'sleazy', 'sleep', 'sleepers', 'sleeping', 'sleeve', 'slept', 'sliced', 'slices', 'slide', 'sliding', 'slight', 'slightly', 'slim', 'slip', 'slippers', 'slippery', 'slit', 'slogans', 'slorps', 'slots', 'slow', 'slower', 'slut', 'slutty', 'smack', 'smacked', 'small', 'smaller', 'smallest', 'smart', 'smell', 'smells', 'smelly', 'smile', 'smiling', 'smoke', 'smoked', 'smokes', 'smokes-a-lot', 'smoking', 'smooth', 'smoother', 'snack', 'snake', 'snakes', 'snaking', 'snapped', 'sneakers', 'sneakin', 'sneaking', 'sneeze', 'sneezed', 'sneezes', 'snooping', 'snoopy', 'snooty', 'snoozing', 'snore', 'snoring', 'snort', 'snow', 'snowing', 'snowman', 'snubbed', 'snug', 'so', 'soaking', 'soap', 'soaps', 'soberly', 'soccer', 'social', 'society', 'sock', 'socket', 'socks', 'soda', 'sodas', 'soft', 'softball', 'softener', 'softest', 'softly', 'software', 'soiled', 'sold', 'sole', 'solid', 'solution', 'solutions', 'some', 'somebody', 'someday', 'somehow', 'someone', 'somethin', 'something', 'sometime', 'sometimes', 'somewhere', 'son', 'song', 'songs', 'sonic', 'sons', 'sony', 'soo', 'soon', 'sooner', 'soooo', 'sophie', 'sophisticated', 'sor', 'sores', 'sorrow', 'sorry', 'sort', 'soul', 'sound', 'sounded', 'sounds', 'soundtrack', 'soup', 'source', 'south', 'southern', 'soviet', 'soy', 'space', 'spaceship', 'spackel', 'spackle', 'spain', 'spandex', 'spanish', 'spare', 'sparked', 'sparky', 'sparrow', 'speacial', 'speak', 'speaker', 'speaking', 'special', 'specials', 'specific', 'specifically', 'specifics', 'specimen', 'speech', 'speed', 'speedily', 'speedo', 'speedoes', 'spell', 'spelled', 'spend', 'spender', 'spending', 'spends', 'spent', 'sperm', 'spermtastic', 'sphinx', 'spider', 'spiderman', 'spike', 'spill', 'spinster', 'spirit', 'spit', 'spite', 'spits', 'spitter', 'spleen', 'split', 'splotch', 'spock', 'spoil', 'sponges', 'spongy', 'spontaneous', 'spoon', 'spoons', 'sport', 'sporting', 'sports', 'spot', 'spotless', 'spotted', 'spotter', 'spray', 'spread', 'spreading', 'spreadsheet', 'spring', 'springing', 'sprinkle', 'sprouts', 'sprung', 'spudnik', 'squad', 'square', 'squared', 'squeeze', 'squeezed', 'squinting', 'squished', 'st.', 'stage', 'staging', 'stain', 'stairs', 'stake', 'stalin', 'stalkers', 'stamps', 'stand', 'standing', 'stands', 'stapler', 'star', 'starch', 'stare', 'starin', 'staring', 'starlet', 'starlight', 'starring', 'stars', 'start', 'started', 'starting', 'starts', 'state', 'statement', 'states', 'station', 'statistical', 'stay', 'stayed', 'staying', 'steak', 'steal', 'stealer', 'stealing', 'steam', 'steamy', 'steel', 'steep', 'stein', 'sten', 'step', 'stephen', 'steps', 'stern', 'steve', 'stevie', 'stew', 'stewing', 'stick', 'sticker', 'sticks', 'still', 'sting', 'stink', 'stinky', 'stir', 'stockings', 'stole', 'stolen', 'stood', 'stop', 'stopped', 'stopping', 'stops', 'storage', 'store', 'stories', 'storm', 'story', 'stove', 'straight', 'straighten', 'strained', 'strange', 'stranger', 'strangers', 'strapping', 'strategy', 'strawberries', 'street', 'streetlight', 'streisand', 'strength', 'stress', 'stressed', 'stretch', 'stretchy', 'strict', 'strictly', 'strike', 'strings', 'strip', 'stripped', 'stripper', 'strippers', 'stripping', 'strong', 'stronger', 'strongly', 'struck', 'structure', 'struggling', 'stuck', 'stud', 'student', 'study', 'stuff', 'stuffing', 'stuffy', 'stumble', 'stunning', 'stupid', 'style', 'subconscious', 'subject', 'subletting', 'submit', 'subtitles', 'subtle', 'subway', 'successful', 'such', 'suck', 'sucked', 'sucks', 'sudden', 'suddenly', 'sue', 'sugar', 'sugarless', 'suggest', 'suggesting', 'suggestion', 'suicide', 'suit', 'suitable', 'suite', 'suited', 'suites', 'suits', 'sullies', 'summer', 'summers', 'sun', 'sunday', 'sundays', 'sung', 'super-compentent', 'superhero', 'superman', 'supermarket', 'superpower', 'supervisor', 'supple', 'support', 'supported', 'supporting', 'supportive', 'supposably', 'suppose', 'supposed', 'sur-surprise', 'sure', 'surface', 'surgery', 'surprise', 'surprised', 'surprises', 'surprisingly', 'surrey', 'surrogacy', 'surrogate', 'surrounded', 'survive', 'survived', 'susan', 'sushi', 'susie', 'suspect', 'swallow', 'swallowed', 'swap', 'sway', 'swear', 'swearing', 'sweat', 'sweater', 'sweating', 'sweats', 'swedish', 'sweeping', 'sweet', 'sweetest', 'sweetheart', 'sweetie', 'sweets', 'sweetums', 'swell', 'swim', 'swimmer', 'swimming', 'swimsuits', 'swing', 'switch', 'switched', 'switching', 'switzerland', 'swoggle', 'swoop', 'sydney', 'symbol', 'synchronized', 'syphilis', 'system', 'systems', 't', \"t'do\", 't-shirt', 'ta', 'table', 'tables', 'tabs', 'tacks', 'tacos', 'tail', 'tailor', 'tailpipe', 'take', 'taken', 'takes', 'takin', 'taking', 'talented', 'talk', 'talked', 'talkin', 'talking', 'talks', 'tall', 'tamer', 'tan', 'tangellon', 'tangle', 'tank', 'tanning', 'tap', 'tape', 'taped', 'taste', 'tasted', 'tastes', 'tasting', 'tasty', 'tat', 'tattoo', 'tattoos', 'taught', 'tax', 'taxi', 'tay', 'taylor', 'tea', 'teach', 'teacher', 'teaching', 'team', 'teams', 'tears', 'technical', 'technically', 'teddy', 'tedlock', 'teeth', 'telephone', 'telescope', 'telethon', 'television', 'tell', 'teller', 'tellin', 'telling', 'tells', 'temp', 'temporarily', 'ten', 'tend', 'tendency', 'tennis', 'tension', 'tepid', 'tequila', 'teramisu', 'term', 'terminal', 'terrible', 'terriffic', 'terrific', 'terrified', 'test', 'testacles', 'testament', 'tests', 'tetanus', 'texas', 'th', 'than', 'thank', 'thanked', 'thankful', 'thanks', 'thanksgiving', 'thanksgivings', 'thankyou', 'tharp', 'that', 'thats', 'the', 'theater', 'theatre', 'their', 'them', 'theme', 'themselves', 'then', 'theodore', 'theoretically', 'therapist', 'there', 'therefore', 'thermometer', 'thesaurus', 'these', 'they', 'theyre', 'thighmaster', 'thin', 'thing', 'things', 'think', 'thinkin', 'thinking', 'thinks', 'third', 'thirtieth', 'thirty', 'this', 'thomas', 'thompson', 'thorough', 'those', 'though', 'thought', 'thoughts', 'thousand', 'thousands', 'threat', 'three', 'threw', 'thrilled', 'throat', 'through', 'throw', 'throwing', 'thrown', 'throws', 'ths', 'thumbs', 'thursday', 'thy', 'tic', 'tick', 'ticket', 'tickets', 'tickling', 'tie', 'ties', 'tiffany', 'tiger', 'tigers', 'tight', 'til', 'tile', 'tiles', 'till', 'time', 'timely', 'timer', 'times', 'timing', 'tin', 'tineals', 'tinsy', 'tiny', 'tip', 'tired', 'tissue', 'tissues', 'titanic', 'to', 'toast', 'toby', 'today', 'toe', 'together', 'toilet', 'told', 'tom', 'tomatoes', 'tommy', 'tomorrow', 'tone', 'tongue', 'tonight', 'tons', 'tonsil', 'tony', 'too', 'took', 'tools', 'toootal', 'tooth', 'toothbrush', 'toothless', 'tooty', 'top', 'topless', 'toppings', 'tops', 'torn', 'tornado', 'tortilla', 'torture', 'torturing', 'toss', 'total', 'totally', 'touch', 'touched', 'touches', 'touchie', 'touching', 'touchy', 'tough', 'tounge', 'touristy', 'tournament', 'tov', 'towel', 'town', 'toy', 'track', 'tracy', 'trade', 'trading', 'tradition', 'traditional', 'traffic', 'tragic', 'trail', 'trained', 'training', 'trains', 'tranquilizer', 'transferred', 'transferring', 'transit', 'transition', 'transmits', 'trapped', 'trash', 'travel', 'treasure', 'treat', 'treated', 'tree', 'treeger', 'trees', 'trek', 'tri-state', 'tribbiani', 'tribbianni', 'tribe', 'triceps', 'trick', 'tricked', 'tricky', 'trident', 'tried', 'trip', 'triplets', 'trips', 'triscadecaphobia', 'triscuts', 'triumph', 'trivias', 'troll', 'troopers', 'troops', 'trouble', 'troubles', 'trppd', 'truck', 'trucks', 'true', 'trump', 'trunk', 'trust', 'trusty', 'truth', 'try', 'tryin', 'trying', 'tso', 'tub', 'tuesday', 'tulsa', 'tuna', 'tunnel', 'turbulences', 'turkey', 'turn', 'turned', 'turner', 'turning', 'turns', 'turtle', 'turtles', 'tux', 'tuxedo', 'tuxes', 'tv', 'tv.', 'twelve', 'twenty', 'twice', 'twila', 'twin', 'twins', 'twist', 'two', 'type', 'types', 'typical', 'typing', 'tyrannosaurus', 'ucch', 'uch', 'uchh', 'ude', 'ugh', 'ugliest', 'ugly', 'uh', 'uh-huh', 'uh-oh', 'uh-uh', 'uhh', 'uhhhaahh', 'uhhuh', 'uhl', 'uhm', 'um', 'umm', 'ummm', 'ummmmmmmm', 'unable', 'unagi', 'unanswerable', 'unattractive', 'unbelievable', 'uncanny', 'uncle', 'uncomfortable', 'unconscious', 'uncovering', 'under', 'underdog', 'undermine', 'underpants', 'understand', 'understandable', 'understanding', 'understands', 'understood', 'underwear', 'underwearyou', 'undo', 'undress', 'unemployed', 'unfair', 'unfortunate', 'unfortunately', 'unfulfilling', 'unhappy', 'union', 'unit', 'universe', 'university', 'unknowable', 'unless', 'unlikely', 'unlock', 'unnatural', 'unnecessary', 'unpack', 'unpacked', 'unpaid', 'unplug', 'unraveled', 'unreasonable', 'unscented', 'unsettling', 'untangle', 'untangled', 'until', 'unusually', 'unwilling', 'unwitting', 'up', 'upbeat', 'uplifted', 'upon', 'upper', 'ups', 'upset', 'upside', 'upstairs', 'ur', 'urgent', 'urine', 'urn', 'ursula', 'us', 'usa', 'usage', 'use', 'used', 'useless', 'uses', 'usher', 'usin', 'using', 'uso', 'usually', 'uterus', 'utilities', 'utility', 'uuuh', 'vacation', 'vagina', 'vague', 'vail', 'val', 'valdez', 'valentine', 'valkyries', 'valuable', 'vampire', 'vanilla', 'vap-o-rub', 'vaporizing', 'varnish', 'varrrrrroom', 'varrrrrrrrroom', 'varrrrrrrrrrom', 'vault', 'vcr', 'veal', 'vegas', 'vegetables', 'veil', 'vein', 'velveteen', 'vending', 'vented', 'vera', 'verbal', 'verbs', 'vermont', 'vernacular', 'veronica', 'verse', 'version', 'very', 'vestibule', 'vests', 'vet', 'vice', 'vice-president', 'victim', 'victor', 'victoria', 'vidal', 'video', 'videos', 'videotape', 'view', 'vigilante', 'vikings', 'vile', 'village', 'violated', 'virginia', 'virginities', 'virtually', 'virus', 'visa', 'visit', 'visited', 'visitors', 'visits', 'vitamins', 'vivian', 'vividly', 'vocal', 'voice', 'volkswagen', 'volleyball', 'volume', 'voluntarily', 'vomit', 'vomiting', 'voted', 'votes', 'vow', 'vows', 'vs.', 'vstbl', 'w', 'wa', 'waaa', 'waaaay', 'wack', 'waffles', 'wage', 'wah', 'waist', 'waistband', 'wait', 'waited', 'waiter', 'waitin', 'waiting', 'waitress', 'wake', 'walk', 'walked', 'walking', 'walkman', 'walks', 'wall', 'wallet', 'wallets', 'walter', 'waltons', 'wan', 'wango', 'wank', 'want', 'wanted', 'wanting', 'wants', 'war', 'warm', 'warmers', 'warn', 'warning', 'was', 'wash', 'washington', 'waste', 'wasted', 'watch', 'watched', 'watching', 'water', 'waterpipes', 'waters', 'wavy', 'wax', 'way', 'ways', 'we', 'weak', 'weapon', 'wear', 'wearin', 'wearing', 'wears', 'weather', 'weave', 'web', 'website', 'websites', 'wedding', 'weddings', 'weddingy', 'wednesday', 'wee', 'weed', 'week', 'weekend', 'weekly', 'weeks', 'weenie', 'wees', 'weight', 'weird', 'weirder', 'weirdest', 'weirdo', 'welcome', 'welder', 'well', 'wellll', 'wells', 'wemma', 'wendy', 'went', 'wenus', 'were', 'west', 'weston', 'wet', 'wetnurse', 'wetter', 'wetting', 'wewee', 'wh', 'wha', 'whack', 'whacked', 'whaddya', 'wham', 'wharms', 'what', 'whatever', 'whats', 'whatsoever', 'wheatsheaf', 'wheels', 'when', 'whenever', 'where', 'wherever', 'whether', 'which', 'while', 'whilst', 'whipped', 'whipping', 'whisper', 'whispering', 'whistle', 'white', 'whiz', 'who', 'whoa', 'whoah', 'whoever', 'whoho', 'whole', 'wholesome', 'whoo', 'whooo', 'whooooaaaa', 'whoops', 'whore', 'whose', 'why', 'wich', 'wicked', 'widowed', 'wielding', 'wife', 'wiggle', 'wild', 'will', 'willing', 'wimp', 'win', 'wind', 'window', 'wine', 'winking', 'winner', 'winners', 'winning', 'wins', 'winter', 'winters', 'wiped', 'wiping', 'wisdom', 'wish', 'wishes', 'wishing', 'with', 'without', 'witnessed', 'witnesses', 'wives', 'wo', 'woah', 'woke', 'woman', 'womanhood', 'women', 'won', 'wonder', 'wondered', 'wonderful', 'wondering', 'woo', 'wood', 'wooden', 'woodford', 'woodsman', 'woooo', 'word', 'words', 'wore', 'work', 'worked', 'worker', 'workers', 'working', 'works', 'world', 'worm', 'worms', 'worried', 'worry', 'worrying', 'worse', 'worship', 'worst', 'worth', 'would', 'wound', 'wow', 'wrapped', 'wrapping', 'wreck', 'wrecking', 'wrestling', 'wrinkle', 'wrist', 'write', 'writers', 'writes', 'writing', 'written', 'wrong', 'wrote', 'wry', 'wth', 'www.hahanotsomuch.com', 'wyoming', 'xerox', 'y', \"y'all\", \"y'do\", \"y'killing\", \"y'know\", \"y'see\", \"y'think\", 'y.', 'ya', 'yah', 'yanking', 'yard', 'yarn', 'yarns', 'yas', 'yasmine', 'yay', 'ye', 'ye-e-es', 'yea', 'yeah', 'yeahhh', 'year', 'yearly', 'years', 'yeeeeahhhh', 'yeeesss', 'yell', 'yelling', 'yellow', 'yells', 'yelps', 'yemen', 'yep', 'yes', 'yesterday', 'yet', 'yippee', 'yknow', 'yo', 'yoga', 'yogurt', 'yore', 'york', 'yorker', 'you', 'youd', 'youger', 'young', 'younger', 'youngest', 'your', 'youre', 'yours', 'yourself', 'yourselves', 'youve', 'yuck', 'yuh', 'yum', 'yummy', 'yup', 'zack', 'zero', 'zip', 'zone', 'zoo', 'zorps', '{', '}']\n"
     ]
    }
   ],
   "source": [
    "# A \n",
    "tempA = df2[df2['speaker'] == 'Chandler Bing']['tokens'].values\n",
    "\n",
    "li = []\n",
    "for te in tempA:\n",
    "        for t in te:\n",
    "            for p in t: \n",
    "                li.append(p) \n",
    "\n",
    "\n",
    "L = []\n",
    "for i in li: \n",
    "     if i not in L:\n",
    "          L.append(i)\n",
    "\n",
    "L = sorted(L)\n",
    "\n",
    "print('all distinct tokens uttered by Chandler Bing throughout the 10 seasons sorted in ascending order', L)"
   ]
  },
  {
   "cell_type": "markdown",
   "id": "496598ad",
   "metadata": {},
   "source": [
    "\n",
    "B. Create a matrix $X$ with $m$ rows and $n$ columns, where: $n$ is the number of tokens in the list $L$ that you just created, and $m$ is the number of episodes (236). Each position $X_{i,j}$ in this matrix should contain the number of times the character uttered the word $j$ in episode $i$. Print how many times Chandler uttered the token `joey` in the first episode of the first season, as well as the shape of the matrix $X$.\n"
   ]
  },
  {
   "cell_type": "code",
   "execution_count": 369,
   "id": "fd231f33",
   "metadata": {},
   "outputs": [
    {
     "name": "stdout",
     "output_type": "stream",
     "text": [
      "(236, 6063)\n"
     ]
    },
    {
     "ename": "TypeError",
     "evalue": "__init__() takes 1 positional argument but 2 were given",
     "output_type": "error",
     "traceback": [
      "\u001b[1;31m---------------------------------------------------------------------------\u001b[0m",
      "\u001b[1;31mTypeError\u001b[0m                                 Traceback (most recent call last)",
      "Cell \u001b[1;32mIn[369], line 8\u001b[0m\n\u001b[0;32m      6\u001b[0m \u001b[38;5;28;01mfor\u001b[39;00m i \u001b[38;5;129;01min\u001b[39;00m \u001b[38;5;28mrange\u001b[39m(m):\n\u001b[0;32m      7\u001b[0m     \u001b[38;5;28;01mfor\u001b[39;00m j \u001b[38;5;129;01min\u001b[39;00m \u001b[38;5;28mrange\u001b[39m(n):\n\u001b[1;32m----> 8\u001b[0m         B[i,j] \u001b[38;5;241m=\u001b[39m \u001b[43mTfidfVectorizer\u001b[49m\u001b[43m(\u001b[49m\u001b[43mli\u001b[49m\u001b[43m)\u001b[49m\n",
      "\u001b[1;31mTypeError\u001b[0m: __init__() takes 1 positional argument but 2 were given"
     ]
    }
   ],
   "source": [
    "m = 236\n",
    "n = len(L)\n",
    "B = np.zeros((m, n))\n",
    "print(B.shape)\n",
    "\n",
    "for i in range(m):\n",
    "    for j in range(n):\n",
    "        B[i,j] = TfidfVectorizer(li)"
   ]
  },
  {
   "cell_type": "markdown",
   "id": "e67006b0",
   "metadata": {},
   "source": [
    "\n",
    "C. Transform the matrix $X$ into a TF-IDF matrix $T$, combining the following formula (as seen in class):\n",
    "\n",
    "$$\\text{TF}(i,j) = \\text{number of times the $j$-th word occurs in the $i$-th episode}$$\n",
    "\n",
    "$$\\text{IDF}(j) =  \\log \\frac{\\text{number of episodes}}{\\text{number of episodes in which the $j$-th word occurs}}$$\n",
    "\n",
    "Print the value in the TF-IDF matrix corresponding to Chandler's utterance of the token `joey` in the first episode of the first season.\n"
   ]
  },
  {
   "cell_type": "code",
   "execution_count": null,
   "id": "8070206c",
   "metadata": {},
   "outputs": [],
   "source": []
  },
  {
   "cell_type": "markdown",
   "id": "9162ba00",
   "metadata": {},
   "source": [
    "\n",
    "D. **/Discuss:/** Some of the tokens (e.g., `joey`) reference other characters. How may these tokens help a classifier predict which character uttered a sentence?"
   ]
  },
  {
   "cell_type": "markdown",
   "id": "945072f4",
   "metadata": {},
   "source": [
    "The classifier can know that a character is not going to pronounce its name, so it can know that if it wants to find out who pronounced joey, there is a very small chance that it will be joey, which helps it to predict which character will pronounce a given sentence."
   ]
  },
  {
   "cell_type": "markdown",
   "id": "9b691ae5",
   "metadata": {},
   "source": [
    "---\n",
    "For the remainder of the task, you will use the TF-IDF matrix that we compute below. Note:\n",
    "- This matrix was calculated in a slightly different way: it considers only the 1000 tokens with the highest term frequency.\n",
    "- We provide three useful variables below (`X`, `y`, and `df_tfidf`). \n",
    "    - `X` is a matrix containing the TF-IDF values for the top 1000 tokens, where each row corresponds to a character in an episode. \n",
    "    - `y` indicates which character is responsible for the utterance. Each character has a corresponding number, e.g., 2 for Monica Geller; see dictionary below. \n",
    "    - `df_tfidf` is a dataframe combining `X` with other episode and utterance-level metadata."
   ]
  },
  {
   "cell_type": "code",
   "execution_count": 370,
   "id": "6e0aebac",
   "metadata": {},
   "outputs": [
    {
     "name": "stdout",
     "output_type": "stream",
     "text": [
      "X shape (51312, 1000)\n",
      "y shape (51312,)\n"
     ]
    },
    {
     "data": {
      "text/html": [
       "<div>\n",
       "<style scoped>\n",
       "    .dataframe tbody tr th:only-of-type {\n",
       "        vertical-align: middle;\n",
       "    }\n",
       "\n",
       "    .dataframe tbody tr th {\n",
       "        vertical-align: top;\n",
       "    }\n",
       "\n",
       "    .dataframe thead th {\n",
       "        text-align: right;\n",
       "    }\n",
       "</style>\n",
       "<table border=\"1\" class=\"dataframe\">\n",
       "  <thead>\n",
       "    <tr style=\"text-align: right;\">\n",
       "      <th></th>\n",
       "      <th>speaker</th>\n",
       "      <th>episode</th>\n",
       "      <th>0</th>\n",
       "      <th>1</th>\n",
       "      <th>2</th>\n",
       "      <th>3</th>\n",
       "      <th>4</th>\n",
       "      <th>5</th>\n",
       "      <th>6</th>\n",
       "      <th>7</th>\n",
       "      <th>...</th>\n",
       "      <th>990</th>\n",
       "      <th>991</th>\n",
       "      <th>992</th>\n",
       "      <th>993</th>\n",
       "      <th>994</th>\n",
       "      <th>995</th>\n",
       "      <th>996</th>\n",
       "      <th>997</th>\n",
       "      <th>998</th>\n",
       "      <th>999</th>\n",
       "    </tr>\n",
       "  </thead>\n",
       "  <tbody>\n",
       "    <tr>\n",
       "      <th>0</th>\n",
       "      <td>Monica Geller</td>\n",
       "      <td>s01_e01</td>\n",
       "      <td>0.0</td>\n",
       "      <td>0.0</td>\n",
       "      <td>0.0</td>\n",
       "      <td>0.0</td>\n",
       "      <td>0.0</td>\n",
       "      <td>0.0</td>\n",
       "      <td>0.0</td>\n",
       "      <td>0.0</td>\n",
       "      <td>...</td>\n",
       "      <td>0.0</td>\n",
       "      <td>0.0</td>\n",
       "      <td>0.0</td>\n",
       "      <td>0.0</td>\n",
       "      <td>0.0</td>\n",
       "      <td>0.0</td>\n",
       "      <td>0.0</td>\n",
       "      <td>0.0</td>\n",
       "      <td>0.0</td>\n",
       "      <td>0.0</td>\n",
       "    </tr>\n",
       "    <tr>\n",
       "      <th>1</th>\n",
       "      <td>Joey Tribbiani</td>\n",
       "      <td>s01_e01</td>\n",
       "      <td>0.0</td>\n",
       "      <td>0.0</td>\n",
       "      <td>0.0</td>\n",
       "      <td>0.0</td>\n",
       "      <td>0.0</td>\n",
       "      <td>0.0</td>\n",
       "      <td>0.0</td>\n",
       "      <td>0.0</td>\n",
       "      <td>...</td>\n",
       "      <td>0.0</td>\n",
       "      <td>0.0</td>\n",
       "      <td>0.0</td>\n",
       "      <td>0.0</td>\n",
       "      <td>0.0</td>\n",
       "      <td>0.0</td>\n",
       "      <td>0.0</td>\n",
       "      <td>0.0</td>\n",
       "      <td>0.0</td>\n",
       "      <td>0.0</td>\n",
       "    </tr>\n",
       "    <tr>\n",
       "      <th>2</th>\n",
       "      <td>Chandler Bing</td>\n",
       "      <td>s01_e01</td>\n",
       "      <td>0.0</td>\n",
       "      <td>0.0</td>\n",
       "      <td>0.0</td>\n",
       "      <td>0.0</td>\n",
       "      <td>0.0</td>\n",
       "      <td>0.0</td>\n",
       "      <td>0.0</td>\n",
       "      <td>0.0</td>\n",
       "      <td>...</td>\n",
       "      <td>0.0</td>\n",
       "      <td>0.0</td>\n",
       "      <td>0.0</td>\n",
       "      <td>0.0</td>\n",
       "      <td>0.0</td>\n",
       "      <td>0.0</td>\n",
       "      <td>0.0</td>\n",
       "      <td>0.0</td>\n",
       "      <td>0.0</td>\n",
       "      <td>0.0</td>\n",
       "    </tr>\n",
       "  </tbody>\n",
       "</table>\n",
       "<p>3 rows × 1002 columns</p>\n",
       "</div>"
      ],
      "text/plain": [
       "          speaker  episode    0    1    2    3    4    5    6    7  ...  990  \\\n",
       "0   Monica Geller  s01_e01  0.0  0.0  0.0  0.0  0.0  0.0  0.0  0.0  ...  0.0   \n",
       "1  Joey Tribbiani  s01_e01  0.0  0.0  0.0  0.0  0.0  0.0  0.0  0.0  ...  0.0   \n",
       "2   Chandler Bing  s01_e01  0.0  0.0  0.0  0.0  0.0  0.0  0.0  0.0  ...  0.0   \n",
       "\n",
       "   991  992  993  994  995  996  997  998  999  \n",
       "0  0.0  0.0  0.0  0.0  0.0  0.0  0.0  0.0  0.0  \n",
       "1  0.0  0.0  0.0  0.0  0.0  0.0  0.0  0.0  0.0  \n",
       "2  0.0  0.0  0.0  0.0  0.0  0.0  0.0  0.0  0.0  \n",
       "\n",
       "[3 rows x 1002 columns]"
      ]
     },
     "execution_count": 370,
     "metadata": {},
     "output_type": "execute_result"
    }
   ],
   "source": [
    "from sklearn.feature_extraction.text import TfidfVectorizer\n",
    "df_tfidf = pd.read_json(\"./data/exam3.jsonl\", lines=True)[[\"speaker\", \"episode\", \"text\"]]\n",
    "\n",
    "vectorizer = TfidfVectorizer(max_features=1000, stop_words=\"english\")\n",
    "X = vectorizer.fit_transform(df_tfidf.text).toarray()\n",
    "print(\"X shape\", X.shape)\n",
    "\n",
    "\n",
    "map_char_to_int = {\n",
    "'Chandler Bing': 0,\n",
    "'Joey Tribbiani': 1,\n",
    "'Monica Geller': 2,\n",
    "'Phoebe Buffay': 3,\n",
    "'Rachel Green': 4,\n",
    "'Ross Geller': 5\n",
    "}\n",
    "\n",
    "\n",
    "y = df_tfidf.speaker.apply(lambda x: map_char_to_int[x]).values\n",
    "print(\"y shape\", y.shape)\n",
    "\n",
    "df_tfidf = pd.concat([df_tfidf[[\"speaker\", \"episode\"]],  pd.DataFrame(X)], axis=1)\n",
    "\n",
    "df_tfidf.head(3)"
   ]
  },
  {
   "cell_type": "markdown",
   "id": "15f01045",
   "metadata": {},
   "source": [
    "--- "
   ]
  },
  {
   "cell_type": "markdown",
   "id": "76d6b6f1",
   "metadata": {},
   "source": [
    "**2.2 —** To compare characters, carry out a classification task. Train a decision tree classifier to predict which main character uttered a sentence..\n",
    "\n",
    "A. Split the dataset into training and test sets using sklearn `sklearn.model_selection.train_test_split` using parameters `test_size=0.3` and `random_state=42`, and using the default values for all other parameters.\n"
   ]
  },
  {
   "cell_type": "code",
   "execution_count": 371,
   "id": "4efa1cb0",
   "metadata": {},
   "outputs": [],
   "source": [
    "X_train, X_test, y_train, y_test = train_test_split(X, y, test_size=0.3, random_state=42)"
   ]
  },
  {
   "cell_type": "markdown",
   "id": "03e40c5a",
   "metadata": {},
   "source": [
    "\n",
    "B. Train a decision tree classifier (`sklearn.tree.DecisionTreeClassifier`) using `random_state=42`, leaving all other parameters as their default.\n"
   ]
  },
  {
   "cell_type": "code",
   "execution_count": 372,
   "id": "9ec15b20",
   "metadata": {},
   "outputs": [
    {
     "data": {
      "text/html": [
       "<style>#sk-container-id-3 {color: black;}#sk-container-id-3 pre{padding: 0;}#sk-container-id-3 div.sk-toggleable {background-color: white;}#sk-container-id-3 label.sk-toggleable__label {cursor: pointer;display: block;width: 100%;margin-bottom: 0;padding: 0.3em;box-sizing: border-box;text-align: center;}#sk-container-id-3 label.sk-toggleable__label-arrow:before {content: \"▸\";float: left;margin-right: 0.25em;color: #696969;}#sk-container-id-3 label.sk-toggleable__label-arrow:hover:before {color: black;}#sk-container-id-3 div.sk-estimator:hover label.sk-toggleable__label-arrow:before {color: black;}#sk-container-id-3 div.sk-toggleable__content {max-height: 0;max-width: 0;overflow: hidden;text-align: left;background-color: #f0f8ff;}#sk-container-id-3 div.sk-toggleable__content pre {margin: 0.2em;color: black;border-radius: 0.25em;background-color: #f0f8ff;}#sk-container-id-3 input.sk-toggleable__control:checked~div.sk-toggleable__content {max-height: 200px;max-width: 100%;overflow: auto;}#sk-container-id-3 input.sk-toggleable__control:checked~label.sk-toggleable__label-arrow:before {content: \"▾\";}#sk-container-id-3 div.sk-estimator input.sk-toggleable__control:checked~label.sk-toggleable__label {background-color: #d4ebff;}#sk-container-id-3 div.sk-label input.sk-toggleable__control:checked~label.sk-toggleable__label {background-color: #d4ebff;}#sk-container-id-3 input.sk-hidden--visually {border: 0;clip: rect(1px 1px 1px 1px);clip: rect(1px, 1px, 1px, 1px);height: 1px;margin: -1px;overflow: hidden;padding: 0;position: absolute;width: 1px;}#sk-container-id-3 div.sk-estimator {font-family: monospace;background-color: #f0f8ff;border: 1px dotted black;border-radius: 0.25em;box-sizing: border-box;margin-bottom: 0.5em;}#sk-container-id-3 div.sk-estimator:hover {background-color: #d4ebff;}#sk-container-id-3 div.sk-parallel-item::after {content: \"\";width: 100%;border-bottom: 1px solid gray;flex-grow: 1;}#sk-container-id-3 div.sk-label:hover label.sk-toggleable__label {background-color: #d4ebff;}#sk-container-id-3 div.sk-serial::before {content: \"\";position: absolute;border-left: 1px solid gray;box-sizing: border-box;top: 0;bottom: 0;left: 50%;z-index: 0;}#sk-container-id-3 div.sk-serial {display: flex;flex-direction: column;align-items: center;background-color: white;padding-right: 0.2em;padding-left: 0.2em;position: relative;}#sk-container-id-3 div.sk-item {position: relative;z-index: 1;}#sk-container-id-3 div.sk-parallel {display: flex;align-items: stretch;justify-content: center;background-color: white;position: relative;}#sk-container-id-3 div.sk-item::before, #sk-container-id-3 div.sk-parallel-item::before {content: \"\";position: absolute;border-left: 1px solid gray;box-sizing: border-box;top: 0;bottom: 0;left: 50%;z-index: -1;}#sk-container-id-3 div.sk-parallel-item {display: flex;flex-direction: column;z-index: 1;position: relative;background-color: white;}#sk-container-id-3 div.sk-parallel-item:first-child::after {align-self: flex-end;width: 50%;}#sk-container-id-3 div.sk-parallel-item:last-child::after {align-self: flex-start;width: 50%;}#sk-container-id-3 div.sk-parallel-item:only-child::after {width: 0;}#sk-container-id-3 div.sk-dashed-wrapped {border: 1px dashed gray;margin: 0 0.4em 0.5em 0.4em;box-sizing: border-box;padding-bottom: 0.4em;background-color: white;}#sk-container-id-3 div.sk-label label {font-family: monospace;font-weight: bold;display: inline-block;line-height: 1.2em;}#sk-container-id-3 div.sk-label-container {text-align: center;}#sk-container-id-3 div.sk-container {/* jupyter's `normalize.less` sets `[hidden] { display: none; }` but bootstrap.min.css set `[hidden] { display: none !important; }` so we also need the `!important` here to be able to override the default hidden behavior on the sphinx rendered scikit-learn.org. See: https://github.com/scikit-learn/scikit-learn/issues/21755 */display: inline-block !important;position: relative;}#sk-container-id-3 div.sk-text-repr-fallback {display: none;}</style><div id=\"sk-container-id-3\" class=\"sk-top-container\"><div class=\"sk-text-repr-fallback\"><pre>DecisionTreeClassifier(random_state=42)</pre><b>In a Jupyter environment, please rerun this cell to show the HTML representation or trust the notebook. <br />On GitHub, the HTML representation is unable to render, please try loading this page with nbviewer.org.</b></div><div class=\"sk-container\" hidden><div class=\"sk-item\"><div class=\"sk-estimator sk-toggleable\"><input class=\"sk-toggleable__control sk-hidden--visually\" id=\"sk-estimator-id-3\" type=\"checkbox\" checked><label for=\"sk-estimator-id-3\" class=\"sk-toggleable__label sk-toggleable__label-arrow\">DecisionTreeClassifier</label><div class=\"sk-toggleable__content\"><pre>DecisionTreeClassifier(random_state=42)</pre></div></div></div></div></div>"
      ],
      "text/plain": [
       "DecisionTreeClassifier(random_state=42)"
      ]
     },
     "execution_count": 372,
     "metadata": {},
     "output_type": "execute_result"
    }
   ],
   "source": [
    "from sklearn.tree import DecisionTreeClassifier\n",
    "\n",
    "clf = DecisionTreeClassifier(random_state = 42)\n",
    "clf.fit(X_train, y_train)"
   ]
  },
  {
   "cell_type": "markdown",
   "id": "05089c1a",
   "metadata": {},
   "source": [
    "\n",
    "C. Compute the accuracy of your classifier and of a random baseline, i.e., a classifier that predicts a character uniformly at random. **/Discuss:/** Compare the two accuracies.\n",
    "\n"
   ]
  },
  {
   "cell_type": "code",
   "execution_count": 373,
   "id": "ec925d4e",
   "metadata": {},
   "outputs": [
    {
     "data": {
      "text/html": [
       "<style>#sk-container-id-4 {color: black;}#sk-container-id-4 pre{padding: 0;}#sk-container-id-4 div.sk-toggleable {background-color: white;}#sk-container-id-4 label.sk-toggleable__label {cursor: pointer;display: block;width: 100%;margin-bottom: 0;padding: 0.3em;box-sizing: border-box;text-align: center;}#sk-container-id-4 label.sk-toggleable__label-arrow:before {content: \"▸\";float: left;margin-right: 0.25em;color: #696969;}#sk-container-id-4 label.sk-toggleable__label-arrow:hover:before {color: black;}#sk-container-id-4 div.sk-estimator:hover label.sk-toggleable__label-arrow:before {color: black;}#sk-container-id-4 div.sk-toggleable__content {max-height: 0;max-width: 0;overflow: hidden;text-align: left;background-color: #f0f8ff;}#sk-container-id-4 div.sk-toggleable__content pre {margin: 0.2em;color: black;border-radius: 0.25em;background-color: #f0f8ff;}#sk-container-id-4 input.sk-toggleable__control:checked~div.sk-toggleable__content {max-height: 200px;max-width: 100%;overflow: auto;}#sk-container-id-4 input.sk-toggleable__control:checked~label.sk-toggleable__label-arrow:before {content: \"▾\";}#sk-container-id-4 div.sk-estimator input.sk-toggleable__control:checked~label.sk-toggleable__label {background-color: #d4ebff;}#sk-container-id-4 div.sk-label input.sk-toggleable__control:checked~label.sk-toggleable__label {background-color: #d4ebff;}#sk-container-id-4 input.sk-hidden--visually {border: 0;clip: rect(1px 1px 1px 1px);clip: rect(1px, 1px, 1px, 1px);height: 1px;margin: -1px;overflow: hidden;padding: 0;position: absolute;width: 1px;}#sk-container-id-4 div.sk-estimator {font-family: monospace;background-color: #f0f8ff;border: 1px dotted black;border-radius: 0.25em;box-sizing: border-box;margin-bottom: 0.5em;}#sk-container-id-4 div.sk-estimator:hover {background-color: #d4ebff;}#sk-container-id-4 div.sk-parallel-item::after {content: \"\";width: 100%;border-bottom: 1px solid gray;flex-grow: 1;}#sk-container-id-4 div.sk-label:hover label.sk-toggleable__label {background-color: #d4ebff;}#sk-container-id-4 div.sk-serial::before {content: \"\";position: absolute;border-left: 1px solid gray;box-sizing: border-box;top: 0;bottom: 0;left: 50%;z-index: 0;}#sk-container-id-4 div.sk-serial {display: flex;flex-direction: column;align-items: center;background-color: white;padding-right: 0.2em;padding-left: 0.2em;position: relative;}#sk-container-id-4 div.sk-item {position: relative;z-index: 1;}#sk-container-id-4 div.sk-parallel {display: flex;align-items: stretch;justify-content: center;background-color: white;position: relative;}#sk-container-id-4 div.sk-item::before, #sk-container-id-4 div.sk-parallel-item::before {content: \"\";position: absolute;border-left: 1px solid gray;box-sizing: border-box;top: 0;bottom: 0;left: 50%;z-index: -1;}#sk-container-id-4 div.sk-parallel-item {display: flex;flex-direction: column;z-index: 1;position: relative;background-color: white;}#sk-container-id-4 div.sk-parallel-item:first-child::after {align-self: flex-end;width: 50%;}#sk-container-id-4 div.sk-parallel-item:last-child::after {align-self: flex-start;width: 50%;}#sk-container-id-4 div.sk-parallel-item:only-child::after {width: 0;}#sk-container-id-4 div.sk-dashed-wrapped {border: 1px dashed gray;margin: 0 0.4em 0.5em 0.4em;box-sizing: border-box;padding-bottom: 0.4em;background-color: white;}#sk-container-id-4 div.sk-label label {font-family: monospace;font-weight: bold;display: inline-block;line-height: 1.2em;}#sk-container-id-4 div.sk-label-container {text-align: center;}#sk-container-id-4 div.sk-container {/* jupyter's `normalize.less` sets `[hidden] { display: none; }` but bootstrap.min.css set `[hidden] { display: none !important; }` so we also need the `!important` here to be able to override the default hidden behavior on the sphinx rendered scikit-learn.org. See: https://github.com/scikit-learn/scikit-learn/issues/21755 */display: inline-block !important;position: relative;}#sk-container-id-4 div.sk-text-repr-fallback {display: none;}</style><div id=\"sk-container-id-4\" class=\"sk-top-container\"><div class=\"sk-text-repr-fallback\"><pre>DummyClassifier(strategy=&#x27;uniform&#x27;)</pre><b>In a Jupyter environment, please rerun this cell to show the HTML representation or trust the notebook. <br />On GitHub, the HTML representation is unable to render, please try loading this page with nbviewer.org.</b></div><div class=\"sk-container\" hidden><div class=\"sk-item\"><div class=\"sk-estimator sk-toggleable\"><input class=\"sk-toggleable__control sk-hidden--visually\" id=\"sk-estimator-id-4\" type=\"checkbox\" checked><label for=\"sk-estimator-id-4\" class=\"sk-toggleable__label sk-toggleable__label-arrow\">DummyClassifier</label><div class=\"sk-toggleable__content\"><pre>DummyClassifier(strategy=&#x27;uniform&#x27;)</pre></div></div></div></div></div>"
      ],
      "text/plain": [
       "DummyClassifier(strategy='uniform')"
      ]
     },
     "execution_count": 373,
     "metadata": {},
     "output_type": "execute_result"
    }
   ],
   "source": [
    "from sklearn.dummy import DummyClassifier\n",
    "dummy_clf = DummyClassifier(strategy=\"uniform\")\n",
    "dummy_clf.fit(X, y)"
   ]
  },
  {
   "cell_type": "code",
   "execution_count": 374,
   "id": "aa28e4fe",
   "metadata": {},
   "outputs": [
    {
     "name": "stdout",
     "output_type": "stream",
     "text": [
      "accuracy of the classifier:  23.833961283616993 %\n",
      "accuray of a random classifier:  16.70131219955827 %\n"
     ]
    }
   ],
   "source": [
    "y_pred = clf.predict(X_test)\n",
    "y_pred_random = dummy_clf.predict(X_test)\n",
    "print('accuracy of the classifier: ', np.mean(y_pred == y_test) * 100, '%')\n",
    "print('accuray of a random classifier: ', np.mean(y_pred_random == y_test) * 100, '%')"
   ]
  },
  {
   "cell_type": "markdown",
   "id": "e717d837",
   "metadata": {},
   "source": [
    "here the accuracy are not really good but we can still see that our classifier performs better than the uniform baseline classifier"
   ]
  },
  {
   "cell_type": "markdown",
   "id": "4015f995",
   "metadata": {},
   "source": [
    "\n",
    "D. Compute the confusion matrix of your classifier using `sklearn.metrics.confusion_matrix`. Normalize the confusion matrix such that all cells sum to 1.\n"
   ]
  },
  {
   "cell_type": "code",
   "execution_count": 375,
   "id": "fed0dce7",
   "metadata": {},
   "outputs": [
    {
     "name": "stdout",
     "output_type": "stream",
     "text": [
      "confusion matrix of my classifier: \n",
      " \n",
      " [[559 394 640 242 381 410]\n",
      " [388 586 499 277 368 396]\n",
      " [391 304 812 256 414 349]\n",
      " [322 313 491 413 370 330]\n",
      " [411 332 600 302 691 411]\n",
      " [433 410 610 276 405 608]]\n",
      "\n",
      " normalized confusion matrix of my classifier: \n",
      " \n",
      " [[0.20835834 0.14685722 0.2385498  0.09020164 0.14201168 0.15282097]\n",
      " [0.14462082 0.21842216 0.1859943  0.10324734 0.13716614 0.14760269]\n",
      " [0.14573902 0.11331116 0.30266006 0.09541992 0.1543119  0.13008419]\n",
      " [0.12002037 0.11666576 0.18301243 0.15393917 0.1379116  0.12300224]\n",
      " [0.1531937  0.12374771 0.22364044 0.11256569 0.25755924 0.1531937 ]\n",
      " [0.16139385 0.15282097 0.22736778 0.1028746  0.1509573  0.22662231]]\n"
     ]
    }
   ],
   "source": [
    "print('confusion matrix of my classifier: \\n \\n', confusion_matrix(y_test, y_pred))\n",
    "norm = np.linalg.norm(confusion_matrix(y_test, y_pred))\n",
    "confusion_matrix_normalized = confusion_matrix(y_test, y_pred) / norm\n",
    "print('\\n normalized confusion matrix of my classifier: \\n \\n' , confusion_matrix_normalized)"
   ]
  },
  {
   "cell_type": "markdown",
   "id": "bdda789e",
   "metadata": {},
   "source": [
    "\n",
    "E. Plot an appropriate graphical representation of the confusion matrix.\n"
   ]
  },
  {
   "cell_type": "code",
   "execution_count": 376,
   "id": "8514d8bb",
   "metadata": {},
   "outputs": [
    {
     "data": {
      "image/png": "[encoded data removed]",
      "text/plain": [
       "<Figure size 750x750 with 1 Axes>"
      ]
     },
     "metadata": {},
     "output_type": "display_data"
    }
   ],
   "source": [
    "fig, ax = plt.subplots(figsize=(7.5, 7.5))\n",
    "ax.matshow(confusion_matrix_normalized, cmap=plt.cm.Blues, alpha=0.3)\n",
    "for i in range(confusion_matrix_normalized.shape[0]):\n",
    "    for j in range(confusion_matrix_normalized.shape[1]):\n",
    "        ax.text(x=j, y=i,s=confusion_matrix_normalized[i, j], va='center', ha='center', size='xx-small')\n",
    " \n",
    "plt.xlabel('Predictions', fontsize=18)\n",
    "plt.ylabel('Actuals', fontsize=18)\n",
    "plt.title('Confusion Matrix', fontsize=18)\n",
    "plt.show()"
   ]
  },
  {
   "cell_type": "code",
   "execution_count": 377,
   "id": "247cfbcf",
   "metadata": {},
   "outputs": [
    {
     "data": {
      "image/png": "[encoded data removed]",
      "text/plain": [
       "<Figure size 640x480 with 2 Axes>"
      ]
     },
     "metadata": {},
     "output_type": "display_data"
    }
   ],
   "source": [
    "from sklearn import metrics\n",
    "cm_display = metrics.ConfusionMatrixDisplay(confusion_matrix = confusion_matrix_normalized)\n",
    "\n",
    "cm_display.plot()\n",
    "plt.show() "
   ]
  },
  {
   "cell_type": "markdown",
   "id": "1687762b",
   "metadata": {},
   "source": [
    "\n",
    "F. **/Discuss:/** Analyzing the confusion matrix, discuss:\n",
    "   - Which character is most distinct in the way they talk?\n",
    "   - Which two characters are the most similar in the way they talk?\n",
    "   - Which two characters are the least similar in the way they talk?\n"
   ]
  },
  {
   "cell_type": "code",
   "execution_count": 378,
   "id": "cf8b9f41",
   "metadata": {},
   "outputs": [],
   "source": [
    "map_char_to_int = {\n",
    "'Chandler Bing': 0,\n",
    "'Joey Tribbiani': 1,\n",
    "'Monica Geller': 2,\n",
    "'Phoebe Buffay': 3,\n",
    "'Rachel Green': 4,\n",
    "'Ross Geller': 5\n",
    "}"
   ]
  },
  {
   "cell_type": "markdown",
   "id": "03c8bf67",
   "metadata": {},
   "source": [
    "character 2, Monica Geller is the most distinct in the way she talk (look at the diagonal)\n",
    "\n",
    "to find which two characters are the most similar in the way they talk we need to not look at the \n",
    "diagonal but to look at the pair (i,j) and (j,i)\n",
    "if (i,j) and (j,i) scores high --> similar characters\n",
    "characters 2 and 0, Chandler Bing and Monica Geller are the most similar characters \n",
    "\n",
    "characters 0 and 3, Chandler Bing and Phoebe Buffay are the least similar in the way they talk \n"
   ]
  },
  {
   "cell_type": "markdown",
   "id": "1a158a88",
   "metadata": {},
   "source": [
    "---\n",
    "\n",
    "**2.3 —** **/Discuss:/** Last, you discuss the results obtained in **2.2** with a friend, who asks you some thought-provoking questions.\n",
    "\n",
    "A. Your friend proposes that you should create a measure of similarity between two characters in a given episode in a more direct way than what you've done in **2.2**.  Propose (but do not implement) said similarity metric.\n",
    "\n",
    "B. Your friend also suggests that your analysis might not truly capture how two characters differ. According to her, if people are in the same conversation, they might speak similarly simply because they are in the same social context. Propose (but do not implement) a way of creating a dataset where this confounder does not exist.\n",
    "\n",
    "C. Last, your friend complains about how you present your (normalized) confusion matrix. According to her, from reading the cells alone, it is unclear if the fraction of occurrences is higher or lower than what a random classifier would yield. Propose (but do not implement) a way of modifying the confusion matrix to address her concern.\n"
   ]
  },
  {
   "cell_type": "markdown",
   "id": "5c8083b4",
   "metadata": {},
   "source": [
    "we would need to have a data set of each character, train them on the whole set and then test them on each character independently. If the score is high in both directions (i for j and j for i), then this means that they speak in the \"same way\" and are therefore similar."
   ]
  },
  {
   "cell_type": "markdown",
   "id": "4b32dc25",
   "metadata": {},
   "source": [
    "We need to remove the capture of the semantic around a world, we need to put in place an algorithm that doesn't capture the semantic, not the meaning of the words but just the words to remove this confounder."
   ]
  },
  {
   "cell_type": "markdown",
   "id": "2be3b595",
   "metadata": {},
   "source": [
    "we could set up a threshold system, in fact we take the accuracy on the random classifier test set as the threshold value and then in the confusion matrix display, we display the cell in red if the value is greater than the threshold and otherwise we display the cell in blue."
   ]
  },
  {
   "cell_type": "markdown",
   "id": "25c65d90",
   "metadata": {},
   "source": [
    "---"
   ]
  }
 ],
 "metadata": {
  "kernelspec": {
   "display_name": "Python 3 (ipykernel)",
   "language": "python",
   "name": "python3"
  },
  "language_info": {
   "codemirror_mode": {
    "name": "ipython",
    "version": 3
   },
   "file_extension": ".py",
   "mimetype": "text/x-python",
   "name": "python",
   "nbconvert_exporter": "python",
   "pygments_lexer": "ipython3",
   "version": "3.9.18"
  }
 },
 "nbformat": 4,
 "nbformat_minor": 5
}
